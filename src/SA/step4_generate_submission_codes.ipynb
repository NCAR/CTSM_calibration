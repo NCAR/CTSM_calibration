{
 "cells": [
  {
   "cell_type": "code",
   "execution_count": 2,
   "id": "fbea99c8-4119-4f5c-a0a0-79dc89947a50",
   "metadata": {},
   "outputs": [],
   "source": [
    "# generate submission codes to submit all parameter set simulations\n",
    "import pandas as pd\n",
    "import numpy as np\n",
    "import os, glob, time, re, sys"
   ]
  },
  {
   "cell_type": "code",
   "execution_count": 6,
   "id": "7d8d92ed-f776-4a55-817b-557ecf3e7437",
   "metadata": {},
   "outputs": [],
   "source": [
    "iterflag = 0 # default\n",
    "path_runmodel = '/glade/campaign/cgd/tss/people/guoqiang/CTSM_CAMELS_proj/SA_HH_allbasins/level1/run_model'\n",
    "path_paramset = '/glade/campaign/cgd/tss/people/guoqiang/CTSM_CAMELS_proj/SA_HH_allbasins/level1/param_sets'\n",
    "path_archive = '/glade/campaign/cgd/tss/people/guoqiang/CTSM_CAMELS_proj/SA_HH_allbasins/level1/ctsm_outputs'\n",
    "\n",
    "script_singlerun = '/glade/u/home/guoqiang/CTSM_repos/CTSM_calibration/src/SA/run_one_paramset_SA.py'\n",
    "script_clone = '/glade/u/home/guoqiang/CTSM_repos/CTSM_hillslope/cime/scripts/create_clone'\n",
    "path_CTSM_base = '/glade/work/guoqiang/CTSM_CAMELS/SA_HH_allbasins/level1'\n",
    "\n",
    "cases_per_submission = 10 # the number of model cases (i.e., parameter sets) per submission (<= 12 hours)\n",
    "\n",
    "derecho_pbs = ['#PBS -N ctsmsa', \n",
    "               '#PBS -A P08010000',\n",
    "               '#PBS -q main', \n",
    "               '#PBS -l job_priority=economy', \n",
    "               '#PBS -l walltime=12:00:00', \n",
    "               '#PBS -l select=3:ncpus=128', \n",
    "               '#PBS -e ./logs/',\n",
    "               '#PBS -o ./logs/',\n",
    "               'module load conda cdo nco', 'conda activate npl-2024a', \n",
    "               'export TMPDIR=/glade/derecho/scratch/$USER/temp', \n",
    "               'mkdir -p $TMPDIR']\n",
    "\n",
    "os.makedirs(f'{path_runmodel}/logs', exist_ok=True)"
   ]
  },
  {
   "cell_type": "code",
   "execution_count": 7,
   "id": "be714ef0-f306-40ce-a0c3-68f18e3a2fd9",
   "metadata": {},
   "outputs": [
    {
     "name": "stdout",
     "output_type": "stream",
     "text": [
      "The number of total parameter sets: 200\n"
     ]
    }
   ],
   "source": [
    "# create command file\n",
    "os.makedirs(path_runmodel, exist_ok=True)\n",
    "\n",
    "pnum = 200\n",
    "print('The number of total parameter sets:', pnum)\n",
    "\n",
    "if np.mod(pnum, cases_per_submission)==0:\n",
    "    subnum = int(pnum/cases_per_submission) \n",
    "else:\n",
    "    subnum = int(pnum/cases_per_submission) + 1\n",
    "\n",
    "for n in range(subnum):\n",
    "    ns = int((n*cases_per_submission))\n",
    "    ne = ns + cases_per_submission\n",
    "    if ne > pnum:\n",
    "        ne = pnum\n",
    "\n",
    "    commands_run_model = f'{path_runmodel}/submit_iter{iterflag}_batch{n}.sh'\n",
    "\n",
    "    with open(commands_run_model, 'w') as f:\n",
    "\n",
    "        for l in derecho_pbs:\n",
    "            _ = f.write(l + '\\n')\n",
    "        \n",
    "        _ = f.write('\\n')\n",
    "        \n",
    "        for i in range(ns, ne):\n",
    "            caseflag = f'iter{iterflag}_trial{i}'\n",
    "            file_parameter_set = f'{path_paramset}/paramset_iter{iterflag}_trial{i}.pkl'\n",
    "            commandi = f\"python {script_singlerun} {script_clone} {path_CTSM_base} {file_parameter_set} {path_archive} {caseflag}\"\n",
    "\n",
    "            _ = f.write('\\n')\n",
    "            _ = f.write(f\"echo 'Processing parameter {file_parameter_set}'\\n\")\n",
    "            _ = f.write(f'{commandi}\\n')\n",
    "\n",
    "        _ = f.write('\\n')"
   ]
  },
  {
   "cell_type": "code",
   "execution_count": null,
   "id": "f3f816c6-0315-4461-8f86-061466391458",
   "metadata": {},
   "outputs": [],
   "source": []
  }
 ],
 "metadata": {
  "kernelspec": {
   "display_name": "NPL 2024a",
   "language": "python",
   "name": "npl-2024a"
  },
  "language_info": {
   "codemirror_mode": {
    "name": "ipython",
    "version": 3
   },
   "file_extension": ".py",
   "mimetype": "text/x-python",
   "name": "python",
   "nbconvert_exporter": "python",
   "pygments_lexer": "ipython3",
   "version": "3.11.6"
  }
 },
 "nbformat": 4,
 "nbformat_minor": 5
}
