{
 "cells": [
  {
   "cell_type": "code",
   "execution_count": null,
   "id": "46fafe51-f569-4f59-b3bb-73bade737d3f",
   "metadata": {},
   "outputs": [],
   "source": [
    "# Check "
   ]
  }
 ],
 "metadata": {
  "kernelspec": {
   "display_name": "NPL 2024a",
   "language": "python",
   "name": "npl-2024a"
  },
  "language_info": {
   "codemirror_mode": {
    "name": "ipython",
    "version": 3
   },
   "file_extension": ".py",
   "mimetype": "text/x-python",
   "name": "python",
   "nbconvert_exporter": "python",
   "pygments_lexer": "ipython3",
   "version": "3.11.6"
  }
 },
 "nbformat": 4,
 "nbformat_minor": 5
}
