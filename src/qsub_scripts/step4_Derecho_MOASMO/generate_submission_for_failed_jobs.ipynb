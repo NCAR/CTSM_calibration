{
 "cells": [
  {
   "cell_type": "code",
   "execution_count": 1,
   "id": "24733fc3-7b27-4710-8113-f224389575e7",
   "metadata": {},
   "outputs": [],
   "source": [
    "import glob, os, sys"
   ]
  },
  {
   "cell_type": "code",
   "execution_count": 3,
   "id": "c9de5810-2180-4d76-b504-6f4f516961af",
   "metadata": {},
   "outputs": [],
   "source": [
    "files = glob.glob('/glade/campaign/cgd/tss/people/guoqiang/CTSM_CAMELS_proj/Calib_HH_MOASMO_bigrange/run_model_mpiserial/iter5/*/*batch*txt')\n",
    "files.sort()"
   ]
  },
  {
   "cell_type": "code",
   "execution_count": 41,
   "id": "32ce1b62-1e88-4f9e-992b-23e2b70b1b49",
   "metadata": {},
   "outputs": [],
   "source": [
    "ff = []\n",
    "ff2 = []\n",
    "for f in files:\n",
    "    with open(f, 'r') as fid:\n",
    "        lines = fid.readlines()\n",
    "    for l in lines:\n",
    "        flag = l.split(' ')[6]\n",
    "        p = l.split(' ')[5]\n",
    "        fcsv = f'{p}/{flag}/evaluation_metric.csv'\n",
    "        if not os.path.isfile(fcsv):\n",
    "            ff.append(l)\n",
    "        else:\n",
    "            ff2.append(l)\n",
    "        "
   ]
  },
  {
   "cell_type": "code",
   "execution_count": 40,
   "id": "febfaf03-937e-4a8a-9726-5c171ee5d2f1",
   "metadata": {},
   "outputs": [],
   "source": [
    "outfile = '/glade/campaign/cgd/tss/people/guoqiang/CTSM_CAMELS_proj/Calib_HH_MOASMO_bigrange/run_model_mpiserial/iter5/rerunfail/batch2.txt'\n",
    "os.makedirs('/glade/campaign/cgd/tss/people/guoqiang/CTSM_CAMELS_proj/Calib_HH_MOASMO_bigrange/run_model_mpiserial/iter5/rerunfail', exist_ok=True)\n",
    "with open(outfile, 'w') as f:\n",
    "    for l in ff:\n",
    "        f.write(l)"
   ]
  },
  {
   "cell_type": "code",
   "execution_count": 42,
   "id": "4fbdf668-a4c0-4f3a-b29a-edf1af9f435b",
   "metadata": {},
   "outputs": [
    {
     "data": {
      "text/plain": [
       "77"
      ]
     },
     "execution_count": 42,
     "metadata": {},
     "output_type": "execute_result"
    }
   ],
   "source": [
    "len(ff)"
   ]
  },
  {
   "cell_type": "code",
   "execution_count": null,
   "id": "c32440a0-9081-44ff-a083-8c01ac6ebcb0",
   "metadata": {},
   "outputs": [],
   "source": []
  }
 ],
 "metadata": {
  "kernelspec": {
   "display_name": "NPL 2024a",
   "language": "python",
   "name": "npl-2024a"
  },
  "language_info": {
   "codemirror_mode": {
    "name": "ipython",
    "version": 3
   },
   "file_extension": ".py",
   "mimetype": "text/x-python",
   "name": "python",
   "nbconvert_exporter": "python",
   "pygments_lexer": "ipython3",
   "version": "3.11.6"
  }
 },
 "nbformat": 4,
 "nbformat_minor": 5
}
