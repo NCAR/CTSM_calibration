{
 "cells": [
  {
   "cell_type": "code",
   "execution_count": 1,
   "id": "1d812c3b-a5e8-41fd-be81-314e283881af",
   "metadata": {},
   "outputs": [],
   "source": []
  },
  {
   "cell_type": "code",
   "execution_count": 5,
   "id": "c575d8d3-def2-45e3-a601-b572edf226f7",
   "metadata": {},
   "outputs": [
    {
     "name": "stdout",
     "output_type": "stream",
     "text": [
      "For level 1, min/max is 0 626\n",
      "/glade/work/guoqiang/CTSM_CAMELS/Calib_HH_MOASMO/level1_4_SpinupFiles\n"
     ]
    },
    {
     "name": "stderr",
     "output_type": "stream",
     "text": [
      "ERROR: Current machine casper does not match case machine derecho.\n",
      "ERROR: Current machine casper does not match case machine derecho.\n"
     ]
    },
    {
     "name": "stdout",
     "output_type": "stream",
     "text": [
      "/glade/work/guoqiang/CTSM_CAMELS/Calib_HH_MOASMO/level1_9_SpinupFiles\n"
     ]
    },
    {
     "name": "stderr",
     "output_type": "stream",
     "text": [
      "ERROR: Current machine casper does not match case machine derecho.\n",
      "ERROR: Current machine casper does not match case machine derecho.\n"
     ]
    },
    {
     "name": "stdout",
     "output_type": "stream",
     "text": [
      "/glade/work/guoqiang/CTSM_CAMELS/Calib_HH_MOASMO/level1_37_SpinupFiles\n"
     ]
    },
    {
     "name": "stderr",
     "output_type": "stream",
     "text": [
      "ERROR: Current machine casper does not match case machine derecho.\n",
      "ERROR: Current machine casper does not match case machine derecho.\n"
     ]
    },
    {
     "name": "stdout",
     "output_type": "stream",
     "text": [
      "/glade/work/guoqiang/CTSM_CAMELS/Calib_HH_MOASMO/level1_40_SpinupFiles\n"
     ]
    },
    {
     "name": "stderr",
     "output_type": "stream",
     "text": [
      "ERROR: Current machine casper does not match case machine derecho.\n",
      "ERROR: Current machine casper does not match case machine derecho.\n"
     ]
    },
    {
     "name": "stdout",
     "output_type": "stream",
     "text": [
      "/glade/work/guoqiang/CTSM_CAMELS/Calib_HH_MOASMO/level1_46_SpinupFiles\n"
     ]
    },
    {
     "name": "stderr",
     "output_type": "stream",
     "text": [
      "ERROR: Current machine casper does not match case machine derecho.\n",
      "ERROR: Current machine casper does not match case machine derecho.\n"
     ]
    },
    {
     "name": "stdout",
     "output_type": "stream",
     "text": [
      "/glade/work/guoqiang/CTSM_CAMELS/Calib_HH_MOASMO/level1_56_SpinupFiles\n"
     ]
    },
    {
     "name": "stderr",
     "output_type": "stream",
     "text": [
      "ERROR: Current machine casper does not match case machine derecho.\n",
      "ERROR: Current machine casper does not match case machine derecho.\n"
     ]
    },
    {
     "name": "stdout",
     "output_type": "stream",
     "text": [
      "/glade/work/guoqiang/CTSM_CAMELS/Calib_HH_MOASMO/level1_57_SpinupFiles\n"
     ]
    },
    {
     "name": "stderr",
     "output_type": "stream",
     "text": [
      "ERROR: Current machine casper does not match case machine derecho.\n",
      "ERROR: Current machine casper does not match case machine derecho.\n"
     ]
    },
    {
     "name": "stdout",
     "output_type": "stream",
     "text": [
      "/glade/work/guoqiang/CTSM_CAMELS/Calib_HH_MOASMO/level1_65_SpinupFiles\n"
     ]
    },
    {
     "name": "stderr",
     "output_type": "stream",
     "text": [
      "ERROR: Current machine casper does not match case machine derecho.\n",
      "ERROR: Current machine casper does not match case machine derecho.\n"
     ]
    },
    {
     "name": "stdout",
     "output_type": "stream",
     "text": [
      "/glade/work/guoqiang/CTSM_CAMELS/Calib_HH_MOASMO/level1_99_SpinupFiles\n"
     ]
    },
    {
     "name": "stderr",
     "output_type": "stream",
     "text": [
      "ERROR: Current machine casper does not match case machine derecho.\n",
      "ERROR: Current machine casper does not match case machine derecho.\n"
     ]
    },
    {
     "name": "stdout",
     "output_type": "stream",
     "text": [
      "/glade/work/guoqiang/CTSM_CAMELS/Calib_HH_MOASMO/level1_502_SpinupFiles\n"
     ]
    },
    {
     "name": "stderr",
     "output_type": "stream",
     "text": [
      "ERROR: Current machine casper does not match case machine derecho.\n"
     ]
    },
    {
     "name": "stdout",
     "output_type": "stream",
     "text": [
      "For level 2, min/max is 0 39\n",
      "For level 3, min/max is 0 3\n"
     ]
    },
    {
     "name": "stderr",
     "output_type": "stream",
     "text": [
      "ERROR: Current machine casper does not match case machine derecho.\n"
     ]
    }
   ],
   "source": [
    "# Find basins that do not correctly generate spin up files\n",
    "# clean those basins and resubmit those basins\n",
    "\n",
    "import os, re, glob\n",
    "\n",
    "# Function to check if a folder contains any .nc files\n",
    "def contains_nc_files(folder):\n",
    "    return any(glob.glob(os.path.join(folder, \"*.nc\")))\n",
    "\n",
    "# Function to remove specified files in a folder\n",
    "def remove_files(folder):\n",
    "    for pattern in [\"*.nc\", \"*log*\", \"init_generated_files/*\"]:\n",
    "        for file in glob.glob(os.path.join(folder, pattern)):\n",
    "            # print(file)\n",
    "            os.remove(file)\n",
    "\n",
    "            \n",
    "# Function to find the range of y for a given x\n",
    "def find_y_range(base_path, x):\n",
    "    pattern = re.compile(f\"level{x}_(\\\\d+)_SpinupFiles\")\n",
    "    y_values = set()\n",
    "\n",
    "    for folder_name in os.listdir(base_path):\n",
    "        match = pattern.match(folder_name)\n",
    "        if match:\n",
    "            y_values.add(int(match.group(1)))\n",
    "    \n",
    "    return min(y_values), max(y_values)\n",
    "\n",
    "\n",
    "# Function to change directory and process 'replay.sh' file\n",
    "def process_replay_script(base_folder, level_x, level_y):\n",
    "    # Change directory\n",
    "    cwd = os.getcwd()\n",
    "    os.chdir(os.path.join(base_folder, f\"level{level_x}_{level_y}\"))\n",
    "\n",
    "    # Read 'replay.sh' and extract required lines\n",
    "    stop_n_line, run_startdate_line = None, None\n",
    "    with open(\"replay.sh\", \"r\") as file:\n",
    "        for line in file:\n",
    "            if line.startswith(\"./xmlchange STOP_N\") and not stop_n_line:\n",
    "                stop_n_line = line.strip()\n",
    "            elif line.startswith(\"./xmlchange RUN_STARTDATE\") and not run_startdate_line:\n",
    "                run_startdate_line = line.strip()\n",
    "\n",
    "            if stop_n_line and run_startdate_line:\n",
    "                break\n",
    "\n",
    "    # Execute extracted lines\n",
    "    if stop_n_line:\n",
    "        _ = os.system(stop_n_line)\n",
    "    if run_startdate_line:\n",
    "        _ = os.system(run_startdate_line)\n",
    "\n",
    "    # Remove the 'spinup_info.csv' file\n",
    "    if os.path.exists(\"spinup_info.csv\"):\n",
    "        _ = os.remove(\"spinup_info.csv\")\n",
    "    \n",
    "    os.chdir(cwd)\n",
    "\n",
    "# Modified function to generate the submission file\n",
    "def generate_submission_file_v2(base_path, submission_file):\n",
    "    with open(submission_file, \"w\") as f:\n",
    "        for x in range(1, 4):  # Assuming range 1-9 for x\n",
    "            y_min, y_max = find_y_range(base_path, x)\n",
    "            print(f'For level {x}, min/max is', y_min, y_max)\n",
    "            \n",
    "            for y in range(y_min, y_max + 1):\n",
    "                level_folder = f\"level{x}_{y}_SpinupFiles\"\n",
    "                folder_path = os.path.join(base_path, level_folder)\n",
    "                if not contains_nc_files(folder_path):\n",
    "                    print(folder_path)\n",
    "                    \n",
    "                    # change dates\n",
    "                    base_folder = \"/glade/work/guoqiang/CTSM_CAMELS/Calib_HH_MOASMO\"\n",
    "                    process_replay_script(base_folder, x, y)\n",
    "                    \n",
    "                    config_file = f\"level{x}-{y}_config.toml\"\n",
    "                    python_command = (\n",
    "                        f\"python /glade/u/home/guoqiang/CTSM_repos/CTSM_calibration/src/calibration/main_CC.py \"\n",
    "                        f\"/glade/work/guoqiang/CTSM_CAMELS/Calib_HH_MOASMO/configuration/{config_file} SpinUp\\n\"\n",
    "                    )\n",
    "                    f.write(python_command)\n",
    "\n",
    "                    # Remove files from the corresponding output folder\n",
    "                    output_folder = f\"/glade/derecho/scratch/guoqiang/CTSM_outputs/CAMELS_Calib/Calib_HH_MOASMO/level{x}_{y}/level{x}_{y}/run\"\n",
    "                    remove_files(output_folder)\n",
    "\n",
    "# Define the base path\n",
    "base_path = \"/glade/work/guoqiang/CTSM_CAMELS/Calib_HH_MOASMO\"\n",
    "submission_file = os.path.join(base_path, \"submission\", \"spinup_rerun_failed.txt\")\n",
    "\n",
    "# Generate the submission file with dynamic ranges for x and y\n",
    "generate_submission_file_v2(base_path, submission_file)\n"
   ]
  },
  {
   "cell_type": "code",
   "execution_count": null,
   "id": "7b5ed684-23ad-4928-928e-d4f25dd96047",
   "metadata": {},
   "outputs": [],
   "source": []
  }
 ],
 "metadata": {
  "kernelspec": {
   "display_name": "NPL 2023b",
   "language": "python",
   "name": "npl-2023b"
  },
  "language_info": {
   "codemirror_mode": {
    "name": "ipython",
    "version": 3
   },
   "file_extension": ".py",
   "mimetype": "text/x-python",
   "name": "python",
   "nbconvert_exporter": "python",
   "pygments_lexer": "ipython3",
   "version": "3.10.12"
  }
 },
 "nbformat": 4,
 "nbformat_minor": 5
}
