{
 "cells": [
  {
   "cell_type": "markdown",
   "id": "48e44128-9260-4f57-82d9-df588d20fb24",
   "metadata": {},
   "source": [
    "# Load input data"
   ]
  },
  {
   "cell_type": "code",
   "execution_count": 1,
   "id": "1ca6ce60-e895-48ab-a620-e46d864d6875",
   "metadata": {},
   "outputs": [
    {
     "name": "stdout",
     "output_type": "stream",
     "text": [
      "##################################################\n",
      "Start iterattion 0. Total iteration number: 16\n",
      "Mean KGE Score: 0.8449021254293367\n",
      "Load default parameter values from: /glade/campaign/cgd/tss/people/guoqiang/CTSM_CAMELS_proj/Calib_HH_MOASMO/level1_0_MOASMOcalib/param_sets/all_default_parameters.pkl\n",
      "Generating parameter file: /glade/campaign/cgd/tss/people/guoqiang/CTSM_CAMELS_proj/Calib_HH_MOASMO/level1_0_MOASMOcalib/param_sets/paramset_iter1_trial0.pkl\n",
      "Generating parameter file: /glade/campaign/cgd/tss/people/guoqiang/CTSM_CAMELS_proj/Calib_HH_MOASMO/level1_0_MOASMOcalib/param_sets/paramset_iter1_trial1.pkl\n",
      "Generating parameter file: /glade/campaign/cgd/tss/people/guoqiang/CTSM_CAMELS_proj/Calib_HH_MOASMO/level1_0_MOASMOcalib/param_sets/paramset_iter1_trial2.pkl\n",
      "Generating parameter file: /glade/campaign/cgd/tss/people/guoqiang/CTSM_CAMELS_proj/Calib_HH_MOASMO/level1_0_MOASMOcalib/param_sets/paramset_iter1_trial3.pkl\n",
      "Generating parameter file: /glade/campaign/cgd/tss/people/guoqiang/CTSM_CAMELS_proj/Calib_HH_MOASMO/level1_0_MOASMOcalib/param_sets/paramset_iter1_trial4.pkl\n",
      "Generating parameter file: /glade/campaign/cgd/tss/people/guoqiang/CTSM_CAMELS_proj/Calib_HH_MOASMO/level1_0_MOASMOcalib/param_sets/paramset_iter1_trial5.pkl\n",
      "Generating parameter file: /glade/campaign/cgd/tss/people/guoqiang/CTSM_CAMELS_proj/Calib_HH_MOASMO/level1_0_MOASMOcalib/param_sets/paramset_iter1_trial6.pkl\n",
      "Generating parameter file: /glade/campaign/cgd/tss/people/guoqiang/CTSM_CAMELS_proj/Calib_HH_MOASMO/level1_0_MOASMOcalib/param_sets/paramset_iter1_trial7.pkl\n",
      "Generating parameter file: /glade/campaign/cgd/tss/people/guoqiang/CTSM_CAMELS_proj/Calib_HH_MOASMO/level1_0_MOASMOcalib/param_sets/paramset_iter1_trial8.pkl\n",
      "Generating parameter file: /glade/campaign/cgd/tss/people/guoqiang/CTSM_CAMELS_proj/Calib_HH_MOASMO/level1_0_MOASMOcalib/param_sets/paramset_iter1_trial9.pkl\n",
      "Generating parameter file: /glade/campaign/cgd/tss/people/guoqiang/CTSM_CAMELS_proj/Calib_HH_MOASMO/level1_0_MOASMOcalib/param_sets/paramset_iter1_trial10.pkl\n",
      "Generating parameter file: /glade/campaign/cgd/tss/people/guoqiang/CTSM_CAMELS_proj/Calib_HH_MOASMO/level1_0_MOASMOcalib/param_sets/paramset_iter1_trial11.pkl\n",
      "Generating parameter file: /glade/campaign/cgd/tss/people/guoqiang/CTSM_CAMELS_proj/Calib_HH_MOASMO/level1_0_MOASMOcalib/param_sets/paramset_iter1_trial12.pkl\n",
      "Generating parameter file: /glade/campaign/cgd/tss/people/guoqiang/CTSM_CAMELS_proj/Calib_HH_MOASMO/level1_0_MOASMOcalib/param_sets/paramset_iter1_trial13.pkl\n",
      "Generating parameter file: /glade/campaign/cgd/tss/people/guoqiang/CTSM_CAMELS_proj/Calib_HH_MOASMO/level1_0_MOASMOcalib/param_sets/paramset_iter1_trial14.pkl\n",
      "Generating parameter file: /glade/campaign/cgd/tss/people/guoqiang/CTSM_CAMELS_proj/Calib_HH_MOASMO/level1_0_MOASMOcalib/param_sets/paramset_iter1_trial15.pkl\n",
      "Generating parameter file: /glade/campaign/cgd/tss/people/guoqiang/CTSM_CAMELS_proj/Calib_HH_MOASMO/level1_0_MOASMOcalib/param_sets/paramset_iter1_trial16.pkl\n",
      "Generating parameter file: /glade/campaign/cgd/tss/people/guoqiang/CTSM_CAMELS_proj/Calib_HH_MOASMO/level1_0_MOASMOcalib/param_sets/paramset_iter1_trial17.pkl\n",
      "Generating parameter file: /glade/campaign/cgd/tss/people/guoqiang/CTSM_CAMELS_proj/Calib_HH_MOASMO/level1_0_MOASMOcalib/param_sets/paramset_iter1_trial18.pkl\n",
      "Generating parameter file: /glade/campaign/cgd/tss/people/guoqiang/CTSM_CAMELS_proj/Calib_HH_MOASMO/level1_0_MOASMOcalib/param_sets/paramset_iter1_trial19.pkl\n",
      "Iteration 0 is complete. Time cost (s) is 159.68707871437073\n"
     ]
    }
   ],
   "source": [
    "# functions needed for MO-ASMO calibration for one basin\n",
    "# Gong et al., (2015) Multiobjective adaptive surrogate modeling-based optimization for parameter estimation of large, complex geophysical models, WRR\n",
    "# https://github.com/gongw03/MO-ASMO\n",
    "\n",
    "# The Derecho version can run many cases within one node to be efficient, but manual submission is needed\n",
    "\n",
    "# generate new parameter sets by using MO-ASMO algorithms\n",
    "\n",
    "\n",
    "import os, sys, subprocess, time, toml\n",
    "import pandas as pd\n",
    "from MOASMO_parameters import generate_initial_parameter_sets, surrogate_model_train_and_pareto_points\n",
    "import run_multiple_paramsets_Derecho\n",
    "\n",
    "########################################################################################################################\n",
    "# load configurations\n",
    "\n",
    "#config_file = '/glade/u/home/guoqiang/CTSM_repos/CTSM_calibration/src/config_templates/_example.MO_ASMO.config_MOASMO.toml'\n",
    "config_file = '/glade/work/guoqiang/CTSM_CAMELS/Calib_HH_MOASMO/configuration/_level1-0_config_MOASMO.toml'\n",
    "config = toml.load(config_file)\n",
    "\n",
    "iter_end = 1\n",
    "\n",
    "# inputs\n",
    "file_parameter_list = config['file_calib_param']\n",
    "path_CTSM_base = config['path_CTSM_case']\n",
    "path_script_MOASMO = config['path_script_MOASMO']\n",
    "path_CTSM_source = config['path_CTSM_source']\n",
    "ref_streamflow = config['file_Qobs']\n",
    "\n",
    "if 'add_flow_file' in config:\n",
    "    add_flow_file = config['add_flow_file']\n",
    "else:\n",
    "    add_flow_file = 'NA'\n",
    "\n",
    "script_singlerun = f'{path_script_MOASMO}/run_one_paramset_Derecho.py'\n",
    "script_clone = f'{path_CTSM_source}/cime/scripts/create_clone'\n",
    "\n",
    "\n",
    "# outputs\n",
    "if config['path_calib'] == 'NA':\n",
    "    path_MOASMOcalib = f'{path_CTSM_base}_MOASMOcalib'\n",
    "else:\n",
    "    path_MOASMOcalib = config['path_calib']\n",
    "    \n",
    "path_paramset = f'{path_MOASMOcalib}/param_sets'\n",
    "path_submit = f'{path_MOASMOcalib}/run_model'\n",
    "path_archive = f'{path_MOASMOcalib}/ctsm_outputs'\n",
    "os.makedirs(path_MOASMOcalib, exist_ok=True)\n",
    "\n",
    "\n",
    "# MO-ASMO parameters\n",
    "sampling_method = config['sampling_method']\n",
    "num_init = config['num_init'] # initial number of samples\n",
    "num_per_iter = config['num_per_iter'] # number of selected pareto parameter sets for each iteration\n",
    "num_iter = config['num_iter'] # including the initial iteration\n",
    "\n",
    "# evaluation period\n",
    "RUN_STARTDATE = config['RUN_STARTDATE']\n",
    "ignore_month = config['ignore_month']\n",
    "STOP_OPTION = config['STOP_OPTION']\n",
    "STOP_N = config['STOP_N']\n",
    "\n",
    "if 'nonstandard_evaluation' in config:\n",
    "    nonstandard_evaluation = config['nonstandard_evaluation']\n",
    "else:\n",
    "    nonstandard_evaluation = 'NA'\n",
    "\n",
    "# HPC job settings\n",
    "job_mode = config['job_mode']\n",
    "job_CTSMiteration = config['job_CTSMiteration']\n",
    "# job_controlMOASMO = config['job_controlMOASMO'] # not needed here\n",
    "\n",
    "date_start = (pd.Timestamp(RUN_STARTDATE) + pd.offsets.DateOffset(months=ignore_month)).strftime('%Y-%m-%d') # ignor the first year when evaluating model\n",
    "if STOP_OPTION == 'nyears':\n",
    "    date_end = (pd.Timestamp(RUN_STARTDATE) + pd.offsets.DateOffset(years=STOP_N)).strftime('%Y-%m-%d')\n",
    "elif STOP_OPTION == 'nmonths':\n",
    "    date_end = (pd.Timestamp(RUN_STARTDATE) + pd.offsets.DateOffset(months=STOP_N)).strftime('%Y-%m-%d')\n",
    "else:\n",
    "    sys.exit(f'STOP_OPTION must be nyears or nmonths. {STOP_OPTION} is not accepted.')\n",
    "\n",
    "########################################################################################################################\n",
    "# MO-ASMO main\n",
    "\n",
    "file_metric_all = []\n",
    "file_param_all = []\n",
    "\n",
    "t1 = time.time()\n",
    "for it in range(0, iter_end):\n",
    "    print('#'*50)\n",
    "    print(f'Start iterattion {it}. Total iteration number: {num_iter}')\n",
    "    \n",
    "\n",
    "    iterflag = it\n",
    "\n",
    "    if it == 0:\n",
    "        sample_num = num_init\n",
    "    else:\n",
    "        sample_num = num_per_iter\n",
    "\n",
    "    file_metric_iter, file_param_iter = run_multiple_paramsets_Derecho.check_if_all_runs_are_finsihed(path_archive, iterflag, sample_num)\n",
    "    file_metric_all.append(file_metric_iter)\n",
    "    file_param_all.append(file_param_iter)\n",
    "\n",
    "# train a surrogate model and select pareto parameter sets\n",
    "surrogate_model_train_and_pareto_points(file_parameter_list, file_param_all, file_metric_all, path_paramset, iterflag, num_per_iter, path_CTSM_base)\n",
    "\n",
    "# generate submission commands (note, this won't submit a real job on Derecho)\n",
    "run_multiple_paramsets_Derecho.generate_and_submit_multi_CTSM_runs(iter_end, path_submit, path_paramset, path_CTSM_base, \n",
    "                                                                   path_archive, script_singlerun, script_clone, \n",
    "                                                                   date_start, date_end, ref_streamflow, add_flow_file,\n",
    "                                                                   job_CTSMiteration, job_mode)\n",
    "\n",
    "\n",
    "t2 = time.time()\n",
    "print(f'Iteration {it} is complete. Time cost (s) is {t2 - t1}')\n",
    "\n",
    "########################################################################################################################\n",
    "# Main loop: running following trials\n"
   ]
  },
  {
   "cell_type": "code",
   "execution_count": 2,
   "id": "5daea430-aeda-408c-8ec8-3a58eac1fdd3",
   "metadata": {},
   "outputs": [],
   "source": [
    "        from MOASMO_parameters import *\n",
    "        param_infofile, param_filelist, metric_filelist, outpath, iterflag, num_per_iter, path_CTSM_case = file_parameter_list, file_param_all, file_metric_all, path_paramset, iterflag, num_per_iter, path_CTSM_base\n",
    "\n",
    "        # input data x (parameter sets) and output data y (objective function values)\n",
    "        df_param = pd.concat(map(pd.read_csv, param_filelist))\n",
    "        df_metric = pd.concat(map(pd.read_csv, metric_filelist))\n",
    "        df_info = read_parameter_csv(param_infofile)\n",
    "\n",
    "        param_names = df_info['Parameter'].values # exclude binded parameters\n",
    "        df_param = df_param[param_names]\n",
    "\n",
    "        xlb_mean = np.array([np.nanmean(v) for v in df_info['Lower']])\n",
    "        xub_mean = np.array([np.nanmean(v) for v in df_info['Upper']])\n",
    "\n",
    "        x = df_param.to_numpy()\n",
    "        y = df_metric.to_numpy()\n",
    "\n",
    "        ind = ~np.isnan( np.sum(x,axis=1) + np.sum(y,axis=1))\n",
    "        x, y = x[ind, :], y[ind, :]"
   ]
  },
  {
   "cell_type": "code",
   "execution_count": null,
   "id": "6cdc93c0-185a-4e54-bc1e-20f4dbffb5d4",
   "metadata": {},
   "outputs": [],
   "source": []
  },
  {
   "cell_type": "markdown",
   "id": "e8cb9699-ac2a-485e-971d-cb32fd5d7145",
   "metadata": {},
   "source": [
    "# MO-ASMO GPR"
   ]
  },
  {
   "cell_type": "code",
   "execution_count": 3,
   "id": "e9c01be6-f5ba-4bb1-903d-70d71112c161",
   "metadata": {},
   "outputs": [],
   "source": [
    "\n",
    "    # path_CTSM_case must be provided if there are any binded parameters for calibration\n",
    "    \n",
    "    # check whether files have been generated\n",
    "    flag = False\n",
    "    for i in range(num_per_iter):\n",
    "        outfile = f'{outpath}/paramset_iter{iterflag+1}_trial{i}.csv'\n",
    "        if not os.path.isfile(outfile):\n",
    "            flag = True\n",
    "            break\n",
    "            \n",
    "    if flag == False:\n",
    "        print('All parameter csv files have been generated. Skip this step')\n",
    "    else:\n",
    "        # define hyper parameters\n",
    "        pop = 100\n",
    "        gen = 100\n",
    "        crossover_rate = 0.9\n",
    "        mu = 20\n",
    "        mum = 20\n",
    "\n",
    "        # define hyperparameter\n",
    "        alpha = 1e-3\n",
    "        leng_lb = 1e-3\n",
    "        leng_ub = 1e3\n",
    "        nu = 2.5\n",
    "\n",
    "        n_sample = num_per_iter # number of selected optimal points\n",
    "\n",
    "        nInput = x.shape[1]\n",
    "        nOutput = y.shape[1]\n",
    "\n",
    "        # train the surrogate model\n",
    "        #### GPR method\n",
    "        # https://github.com/NCAR/ctsm_optz/blob/89e3689e73180574c62d1f5aa555a57e886a7cec/workflow/scripts/MOASMO_onestep.pe_basin.py#LL311C1-L315C41\n",
    "        sm = gp.GPR_Matern(x, y, nInput, nOutput, x.shape[0], xlb_mean, xub_mean, alpha=alpha, leng_sb=[leng_lb, leng_ub], nu=nu)\n",
    "        os.makedirs(outpath, exist_ok=True)\n",
    "        sm_filename = f'{outpath}/surrogate_model_for_iter{iterflag}'\n",
    "        pickle.dump(sm, open(sm_filename, 'wb'))\n",
    "\n",
    "\n",
    "        # # cross-validation to obtain the accuracy of the emulator\n",
    "        # kf = KFold(n_splits=5, shuffle=True, random_state=42)  # 5-fold cross-validation\n",
    "        # kge_scores = []\n",
    "        \n",
    "        # for train_index, test_index in kf.split(x):\n",
    "        #     x_train, x_test = x[train_index], x[test_index]\n",
    "        #     y_train, y_test = y[train_index], y[test_index]\n",
    "            \n",
    "        #     # Initialize and train your GPR model here; adjust parameters as needed\n",
    "        #     # (length_scale=1.0, length_scale_bounds=(1e-1, 10.0), nu=1.5)\n",
    "        #     # sm = gp.GPR_Matern(x_train, y_train, nInput, nOutput, x_train.shape[1], xlb_mean, xub_mean, alpha=1e-10, leng_sb=[0.1, 10], nu=1.5)\n",
    "        #     sm = gp.GPR_Matern(x_train, y_train, nInput, nOutput, x_train.shape[0], xlb_mean, xub_mean, alpha=alpha, leng_sb=[leng_lb, leng_ub], nu=nu)\n",
    "        #     # sm = gp.GPR_Matern(x_train, y_train, nInput, nOutput, x_train.shape[0], xlb_mean, xub_mean)\n",
    "            \n",
    "        #     # Predict using the trained model\n",
    "        #     y_pred = sm.predict(x_test)  # Adjust this method call based on your model's API\n",
    "            \n",
    "        #     # Evaluate the model using KGE\n",
    "        #     kge_score = [get_modified_KGE(y_test[:, i], y_pred[:, i]) for i in range(y_test.shape[1])]\n",
    "        #     kge_scores.append(np.mean(kge_score))\n",
    "        \n",
    "        # # Calculate the mean KGE score across all folds\n",
    "        # mean_kge_score = np.nanmean(kge_scores)\n",
    "        # print(\"Mean KGE Score:\", mean_kge_score)\n",
    "\n",
    "        \n",
    "        # # Convert the list of KGE scores into a pandas DataFrame\n",
    "        # kge_scores_df = pd.DataFrame({'Fold': range(1, len(kge_scores) + 1), 'KGE_Score': kge_scores})\n",
    "        # mean_score_df = pd.DataFrame({'Fold': ['Mean'], 'KGE_Score': [mean_kge_score]})\n",
    "        # kge_scores_df = pd.concat([kge_scores_df, mean_score_df], ignore_index=True)\n",
    "        # csv_file_path =  f'{outpath}/surrogate_model_for_iter{iterflag}_CV_kge.csv'\n",
    "        # # kge_scores_df.to_csv(csv_file_path, index=False)\n",
    "        \n",
    "        # # #### GPR method\n",
    "\n",
    "        # print(kge_scores_df)"
   ]
  },
  {
   "cell_type": "code",
   "execution_count": 4,
   "id": "83febf36-4454-474b-9b00-65b28034216d",
   "metadata": {},
   "outputs": [],
   "source": [
    "        bestx_sm, besty_sm, x_sm, y_sm = NSGA2.optimization(sm, nInput, nOutput, xlb_mean, xub_mean, pop, gen, crossover_rate, mu, mum)\n",
    "        D = NSGA2.crowding_distance(besty_sm)\n",
    "        idxr = D.argsort()[::-1][:n_sample]\n",
    "        x_resample = bestx_sm[idxr, :]\n",
    "        y_resample = besty_sm[idxr, :]"
   ]
  },
  {
   "cell_type": "code",
   "execution_count": 6,
   "id": "2f1fe7e9-4d46-4ee5-941b-1c7ef1e823a9",
   "metadata": {},
   "outputs": [
    {
     "data": {
      "text/plain": [
       "<matplotlib.collections.PathCollection at 0x14ef8e4c4460>"
      ]
     },
     "execution_count": 6,
     "metadata": {},
     "output_type": "execute_result"
    },
    {
     "data": {
      "image/png": "[encoded data removed]",
      "text/plain": [
       "<Figure size 432x288 with 1 Axes>"
      ]
     },
     "metadata": {
      "needs_background": "light"
     },
     "output_type": "display_data"
    }
   ],
   "source": [
    "import matplotlib.pyplot as plt\n",
    "plt.scatter(y_resample[:,0], y_resample[:,1])"
   ]
  },
  {
   "cell_type": "code",
   "execution_count": 7,
   "id": "159e2818-73c4-41cc-8330-ad1e54b86b00",
   "metadata": {},
   "outputs": [
    {
     "data": {
      "text/plain": [
       "<matplotlib.collections.PathCollection at 0x14ef8e3d6f10>"
      ]
     },
     "execution_count": 7,
     "metadata": {},
     "output_type": "execute_result"
    },
    {
     "data": {
      "image/png": "[encoded data removed]",
      "text/plain": [
       "<Figure size 432x288 with 1 Axes>"
      ]
     },
     "metadata": {
      "needs_background": "light"
     },
     "output_type": "display_data"
    }
   ],
   "source": [
    "plt.scatter(y_sm[:,0], y_sm[:,1])"
   ]
  },
  {
   "cell_type": "code",
   "execution_count": null,
   "id": "f2b0d152-9a61-4a02-912e-456c5fe2c8a7",
   "metadata": {},
   "outputs": [],
   "source": [
    "plt.scatter(y[:,0], y[:,1])"
   ]
  },
  {
   "cell_type": "markdown",
   "id": "1cfc9af1-734f-4fc2-96b5-3378890f113b",
   "metadata": {},
   "source": [
    "# Sklearn \n",
    "MinMaxScaler for each CV batch"
   ]
  },
  {
   "cell_type": "code",
   "execution_count": 78,
   "id": "fd80be81-ff07-4632-815c-da45ac6dfa70",
   "metadata": {},
   "outputs": [
    {
     "name": "stdout",
     "output_type": "stream",
     "text": [
      "Processing...\n",
      "Mean KGE score for GPR: 0.7538556554164657\n"
     ]
    }
   ],
   "source": [
    "# sklean using MinMaxScaler\n",
    "from sklearn.preprocessing import MinMaxScaler\n",
    "from sklearn.gaussian_process import GaussianProcessRegressor\n",
    "from sklearn.gaussian_process.kernels import ConstantKernel as C, Matern\n",
    "from sklearn.model_selection import KFold\n",
    "import numpy as np\n",
    "\n",
    "\n",
    "def train_and_evaluate_with_predictions_gpr(params, metrics_use):\n",
    "    print('Processing...')\n",
    "\n",
    "    cv = KFold(n_splits=5, shuffle=True, random_state=42)\n",
    "    kge_scores = []  # To store the KGE score for each fold\n",
    "\n",
    "    # Define the kernel with Matern function\n",
    "    kernel = C(1.0, (1e-3, 1e3)) * Matern(length_scale=1.0, length_scale_bounds=(1e-1, 10.0), nu=1.5)\n",
    "\n",
    "    # Initialize the GPR model\n",
    "    model = GaussianProcessRegressor(kernel=kernel, n_restarts_optimizer=10, normalize_y=True, random_state=42)\n",
    "\n",
    "    for train_idx, test_idx in cv.split(params):\n",
    "        X_train, X_test = params[train_idx], params[test_idx]\n",
    "        y_train, y_test = metrics_use[train_idx], metrics_use[test_idx]\n",
    "\n",
    "        # Normalize features\n",
    "        scaler = MinMaxScaler().fit(X_train)\n",
    "        X_train_scaled = scaler.transform(X_train)\n",
    "        X_test_scaled = scaler.transform(X_test)\n",
    "    \n",
    "        model.fit(X_train_scaled, y_train)  # Fit the model on the training data\n",
    "        y_pred = model.predict(X_test_scaled)  # Predict on the test set\n",
    "\n",
    "        if y_pred.ndim==1:\n",
    "            y_pred = y_pred[:,np.newaxis]\n",
    "    \n",
    "        # Calculate KGE for each column (target) and take the mean\n",
    "        fold_kge_scores = [get_modified_KGE(y_test[:, i], y_pred[:, i]) for i in range(y_test.shape[1])]\n",
    "        fold_mean_kge = np.nanmean(fold_kge_scores)  # Compute the mean KGE score for this fold, ignoring any NaN values\n",
    "        kge_scores.append(fold_mean_kge)\n",
    "    \n",
    "    \n",
    "    mean_kge_score = np.mean(kge_scores)  # Calculate the mean KGE score across all folds\n",
    "    \n",
    "    return mean_kge_score\n",
    "\n",
    "# Execute the function with your data\n",
    "mean_kge_score_gpr = train_and_evaluate_with_predictions_gpr(x, y)\n",
    "print('Mean KGE score for GPR:', mean_kge_score_gpr)"
   ]
  },
  {
   "cell_type": "markdown",
   "id": "9345db9b-a32f-4069-8341-3828b96b4f8c",
   "metadata": {},
   "source": [
    "# Sklearn\n",
    "minmax using xlb and xub before CV"
   ]
  },
  {
   "cell_type": "code",
   "execution_count": 13,
   "id": "3efaa8ad-40ad-42ff-abda-e39ee0fdc8ab",
   "metadata": {},
   "outputs": [
    {
     "name": "stdout",
     "output_type": "stream",
     "text": [
      "Processing...\n",
      "Mean KGE score for GPR: 0.6781306958730251\n"
     ]
    }
   ],
   "source": [
    "# sklean using self defined minmax\n",
    "\n",
    "from sklearn.preprocessing import MinMaxScaler\n",
    "from sklearn.gaussian_process import GaussianProcessRegressor\n",
    "from sklearn.gaussian_process.kernels import ConstantKernel as C, Matern\n",
    "from sklearn.model_selection import KFold\n",
    "import numpy as np\n",
    "\n",
    "\n",
    "def train_and_evaluate_with_predictions_gpr(params, metrics_use):\n",
    "    print('Processing...')\n",
    "\n",
    "    cv = KFold(n_splits=5, shuffle=True, random_state=42)\n",
    "    kge_scores = []  # To store the KGE score for each fold\n",
    "\n",
    "    # Define the kernel with Matern function\n",
    "    kernel = C(1.0, (1e-3, 1e3)) * Matern(length_scale=1.0, length_scale_bounds=(1e-1, 10.0), nu=1.5)\n",
    "\n",
    "    # Initialize the GPR model\n",
    "    model = GaussianProcessRegressor(kernel=kernel, n_restarts_optimizer=10, normalize_y=True, random_state=42)\n",
    "\n",
    "    for train_idx, test_idx in cv.split(params):\n",
    "        X_train, X_test = params[train_idx], params[test_idx]\n",
    "        y_train, y_test = metrics_use[train_idx], metrics_use[test_idx]\n",
    "\n",
    "        # Normalize features\n",
    "        X_train_scaled = X_train\n",
    "        X_test_scaled = X_test\n",
    "    \n",
    "        model.fit(X_train_scaled, y_train)  # Fit the model on the training data\n",
    "        y_pred = model.predict(X_test_scaled)  # Predict on the test set\n",
    "\n",
    "        if y_pred.ndim==1:\n",
    "            y_pred = y_pred[:,np.newaxis]\n",
    "    \n",
    "        # Calculate KGE for each column (target) and take the mean\n",
    "        fold_kge_scores = [get_modified_KGE(y_test[:, i], y_pred[:, i]) for i in range(y_test.shape[1])]\n",
    "        fold_mean_kge = np.nanmean(fold_kge_scores)  # Compute the mean KGE score for this fold, ignoring any NaN values\n",
    "        kge_scores.append(fold_mean_kge)\n",
    "    \n",
    "    \n",
    "    mean_kge_score = np.mean(kge_scores)  # Calculate the mean KGE score across all folds\n",
    "    \n",
    "    return mean_kge_score\n",
    "\n",
    "# Execute the function with your data\n",
    "x_scaled = (x - xlb_mean) / (xub_mean - xlb_mean)\n",
    "\n",
    "mean_kge_score_gpr = train_and_evaluate_with_predictions_gpr(x_scaled, y[:, 1][:, np.newaxis])\n",
    "print('Mean KGE score for GPR:', mean_kge_score_gpr)"
   ]
  },
  {
   "cell_type": "code",
   "execution_count": null,
   "id": "6332b1bd-b012-4ee6-8489-2732832bafa5",
   "metadata": {},
   "outputs": [],
   "source": []
  }
 ],
 "metadata": {
  "kernelspec": {
   "display_name": "NPL 2022b",
   "language": "python",
   "name": "npl-2022b"
  },
  "language_info": {
   "codemirror_mode": {
    "name": "ipython",
    "version": 3
   },
   "file_extension": ".py",
   "mimetype": "text/x-python",
   "name": "python",
   "nbconvert_exporter": "python",
   "pygments_lexer": "ipython3",
   "version": "3.8.13"
  }
 },
 "nbformat": 4,
 "nbformat_minor": 5
}
