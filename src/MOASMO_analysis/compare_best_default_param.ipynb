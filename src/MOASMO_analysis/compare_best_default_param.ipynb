{
 "cells": [
  {
   "cell_type": "code",
   "execution_count": 3,
   "id": "bb38fb64-a6c8-4e65-8795-f4901887159f",
   "metadata": {},
   "outputs": [],
   "source": [
    "# Get the best and default metric value\n",
    "\n",
    "import numpy as np\n",
    "import os, glob, sys, toml\n",
    "import pandas as pd\n",
    "import matplotlib.pyplot as plt\n",
    "import matplotlib\n",
    "from itertools import combinations\n",
    "from matplotlib.backends.backend_pdf import PdfPages\n",
    "from matplotlib.colors import Normalize\n",
    "import matplotlib.cm as cm\n"
   ]
  },
  {
   "cell_type": "code",
   "execution_count": 17,
   "id": "6ef52d74-3c19-42af-a638-36f3fa46803f",
   "metadata": {},
   "outputs": [],
   "source": [
    "\n",
    "# iteration range (start from 0)\n",
    "istart = 0\n",
    "iend = 8\n",
    "\n",
    "path0 = f'/glade/campaign/cgd/tss/people/guoqiang/CTSM_CAMELS_proj/Calib_HH_MOASMO'\n",
    "\n",
    "\n",
    "metcomp = np.nan * np.zeros([627, 2])\n",
    "\n",
    "for b in range(627):\n",
    "    # load basin metrics\n",
    "    df_met = pd.DataFrame()\n",
    "    minobjfuncs = []\n",
    "    emulator_metric = []\n",
    "    for i in range(istart, iend + 1):\n",
    "        # evaluation metric\n",
    "        filemet = f'{path0}/level1_{b}_MOASMOcalib/ctsm_outputs/iter{i}_all_metric.csv'\n",
    "        dfi = pd.read_csv(filemet)\n",
    "        dfi['iter'] = i\n",
    "\n",
    "        df_met = pd.concat([df_met, dfi])\n",
    "\n",
    "    metricmean = (df_met['metric1'].values+df_met['metric2'].values)/2\n",
    "    metcomp[b, 0] = metricmean[0]\n",
    "    metcomp[b, 1] = np.nanmin(metricmean)\n",
    "\n",
    "        "
   ]
  },
  {
   "cell_type": "code",
   "execution_count": 23,
   "id": "0defbdc2-d6fa-45db-95f4-8315e145b121",
   "metadata": {},
   "outputs": [
    {
     "name": "stdout",
     "output_type": "stream",
     "text": [
      "[627 627]\n",
      "[9.2578507  5.44677208]\n",
      "[2.97975123 2.47691811]\n"
     ]
    }
   ],
   "source": [
    "print(np.sum(~np.isnan(metcomp),axis=0))\n",
    "print(np.nanmean(metcomp,axis=0))\n",
    "print(metcomp[97,:])"
   ]
  },
  {
   "cell_type": "code",
   "execution_count": 18,
   "id": "1a525040-f151-404d-a4cc-db627b9e0c43",
   "metadata": {},
   "outputs": [
    {
     "data": {
      "image/png": "[encoded data removed]",
      "text/plain": [
       "<Figure size 640x480 with 1 Axes>"
      ]
     },
     "metadata": {},
     "output_type": "display_data"
    }
   ],
   "source": [
    "d2 = metcomp[:,1]\n",
    "d1 = metcomp[:,0]\n",
    "plt.hist( (d2-d1)/d1, np.arange(-1, 0.1, 0.05))\n",
    "plt.show()"
   ]
  },
  {
   "cell_type": "code",
   "execution_count": null,
   "id": "5bea2518-7798-4079-926e-26ef6df41a47",
   "metadata": {},
   "outputs": [],
   "source": []
  }
 ],
 "metadata": {
  "kernelspec": {
   "display_name": "NPL 2024a",
   "language": "python",
   "name": "npl-2024a"
  },
  "language_info": {
   "codemirror_mode": {
    "name": "ipython",
    "version": 3
   },
   "file_extension": ".py",
   "mimetype": "text/x-python",
   "name": "python",
   "nbconvert_exporter": "python",
   "pygments_lexer": "ipython3",
   "version": "3.11.6"
  }
 },
 "nbformat": 4,
 "nbformat_minor": 5
}
