{
 "cells": [
  {
   "cell_type": "code",
   "execution_count": 1,
   "id": "8fdaaff7-0305-4730-bb70-7d52d21fcd4f",
   "metadata": {},
   "outputs": [],
   "source": [
    "# Load many metrics evaluated"
   ]
  },
  {
   "cell_type": "code",
   "execution_count": 1,
   "id": "a00282a5-4f1e-4256-8589-698a937b02a7",
   "metadata": {},
   "outputs": [],
   "source": [
    "import numpy as np\n",
    "import os, glob, sys, toml\n",
    "import pandas as pd\n",
    "import matplotlib.pyplot as plt\n",
    "import matplotlib\n",
    "from itertools import combinations\n",
    "from matplotlib.backends.backend_pdf import PdfPages\n",
    "from matplotlib.colors import Normalize\n",
    "import matplotlib.cm as cm"
   ]
  },
  {
   "cell_type": "code",
   "execution_count": 2,
   "id": "94892cf8-3eb4-4401-9d1b-304153301c1c",
   "metadata": {},
   "outputs": [],
   "source": [
    "# serial version\n",
    "# # read all evaluation results\n",
    "# basinnum = 627\n",
    "# iternum = 8\n",
    "\n",
    "# inpath = '/glade/campaign/cgd/tss/people/guoqiang/CTSM_CAMELS_proj/Calib_HH_MOASMO/level1_250_MOASMOcalib/ctsm_outputs/iter1_trial10/evaluation_many_metrics.csv'\n",
    "\n",
    "# initflag = True\n",
    "\n",
    "# for b in range(basinnum):\n",
    "#     for i in range(iternum):\n",
    "#         for t in range(400):\n",
    "#             file = f'/glade/campaign/cgd/tss/people/guoqiang/CTSM_CAMELS_proj/Calib_HH_MOASMO/level1_{b}_MOASMOcalib/ctsm_outputs/iter{i}_trial{t}/evaluation_many_metrics.csv'\n",
    "#             if os.path.isfile(file):\n",
    "#                 df1 = pd.DataFrame({'basin':[b], 'iter':[i], 'trial':[t]})\n",
    "#                 df2 = pd.read_csv(file)\n",
    "#                 df3 = pd.concat([df1, df2], axis=1)\n",
    "#                 if initflag:\n",
    "#                     df_all = df3\n",
    "#                     initflag = False\n",
    "#                 else:\n",
    "#                     df_all = pd.concat([df_all, df3])\n",
    "\n",
    "# df_all.head()"
   ]
  },
  {
   "cell_type": "code",
   "execution_count": 4,
   "id": "42526744-e613-4477-b9a4-f1856e3f1a8b",
   "metadata": {},
   "outputs": [
    {
     "name": "stderr",
     "output_type": "stream",
     "text": [
      "\n",
      "KeyboardInterrupt\n",
      "\n"
     ]
    }
   ],
   "source": [
    "import pandas as pd\n",
    "import os\n",
    "from concurrent.futures import ThreadPoolExecutor\n",
    "\n",
    "# Define the number of basins, iterations, and trials\n",
    "basinnum = 627\n",
    "iternum = 8\n",
    "trialnum = 400\n",
    "\n",
    "# Function to read and concatenate a single file\n",
    "def process_file(b, i, t):\n",
    "    file = f'/glade/campaign/cgd/tss/people/guoqiang/CTSM_CAMELS_proj/Calib_HH_MOASMO/level1_{b}_MOASMOcalib/ctsm_outputs/iter{i}_trial{t}/evaluation_many_metrics.csv'\n",
    "    if os.path.isfile(file):\n",
    "        df1 = pd.DataFrame({'basin': [b], 'iter': [i], 'trial': [t]})\n",
    "        df2 = pd.read_csv(file)\n",
    "        return pd.concat([df1, df2], axis=1)\n",
    "    return None\n",
    "\n",
    "# Collect all DataFrames in a list\n",
    "df_list = []\n",
    "\n",
    "# Use ThreadPoolExecutor for parallel processing\n",
    "with ThreadPoolExecutor(max_workers=36) as executor:\n",
    "    futures = []\n",
    "    for b in range(basinnum):\n",
    "        for i in range(iternum):\n",
    "            for t in range(trialnum):\n",
    "                futures.append(executor.submit(process_file, b, i, t))\n",
    "    \n",
    "    for future in futures:\n",
    "        result = future.result()\n",
    "        if result is not None:\n",
    "            df_list.append(result)\n",
    "\n",
    "# Concatenate all DataFrames at once\n",
    "df_all = pd.concat(df_list, ignore_index=True)\n",
    "\n",
    "# Display the first few rows of the final DataFrame\n",
    "print(df_all.head())"
   ]
  },
  {
   "cell_type": "code",
   "execution_count": 5,
   "id": "80984fb6-6db0-49e4-81d5-79a2771460d6",
   "metadata": {},
   "outputs": [
    {
     "ename": "NameError",
     "evalue": "name 'df_all' is not defined",
     "output_type": "error",
     "traceback": [
      "\u001b[0;31m---------------------------------------------------------------------------\u001b[0m",
      "\u001b[0;31mNameError\u001b[0m                                 Traceback (most recent call last)",
      "Cell \u001b[0;32mIn[5], line 9\u001b[0m\n\u001b[1;32m      5\u001b[0m max_mon_abs_err \u001b[38;5;241m=\u001b[39m np\u001b[38;5;241m.\u001b[39mnan \u001b[38;5;241m*\u001b[39m np\u001b[38;5;241m.\u001b[39mnan \u001b[38;5;241m*\u001b[39m np\u001b[38;5;241m.\u001b[39mzeros([basinnum, iternum\u001b[38;5;241m+\u001b[39m\u001b[38;5;241m1\u001b[39m])\n\u001b[1;32m      7\u001b[0m \u001b[38;5;28;01mfor\u001b[39;00m b \u001b[38;5;129;01min\u001b[39;00m \u001b[38;5;28mrange\u001b[39m(basinnum):\n\u001b[0;32m----> 9\u001b[0m     df_tar \u001b[38;5;241m=\u001b[39m \u001b[43mdf_all\u001b[49m\u001b[38;5;241m.\u001b[39mloc[df_all[\u001b[38;5;124m'\u001b[39m\u001b[38;5;124mbasin\u001b[39m\u001b[38;5;124m'\u001b[39m]\u001b[38;5;241m==\u001b[39mb]\n\u001b[1;32m     11\u001b[0m     \u001b[38;5;28;01mfor\u001b[39;00m i \u001b[38;5;129;01min\u001b[39;00m \u001b[38;5;28mrange\u001b[39m(iternum):\n\u001b[1;32m     12\u001b[0m         \u001b[38;5;28;01mif\u001b[39;00m i \u001b[38;5;241m==\u001b[39m \u001b[38;5;241m0\u001b[39m:\n",
      "\u001b[0;31mNameError\u001b[0m: name 'df_all' is not defined"
     ]
    }
   ],
   "source": [
    "# plot metric with iterations\n",
    "\n",
    "kge = np.nan * np.zeros([basinnum, iternum+1])\n",
    "mae = np.nan * np.zeros([basinnum, iternum+1])\n",
    "max_mon_abs_err = np.nan * np.nan * np.zeros([basinnum, iternum+1])\n",
    "\n",
    "for b in range(basinnum):\n",
    "\n",
    "    df_tar = df_all.loc[df_all['basin']==b]\n",
    "    \n",
    "    for i in range(iternum):\n",
    "        if i == 0:\n",
    "            kge[b, 0] = df_tar['kge'].values[0] # default\n",
    "            mae[b, 0] = df_tar['mae'].values[0] # default\n",
    "            max_mon_abs_err[b, 0] = df_tar['max_mon_abs_err'].values[0] # default\n",
    "\n",
    "        kge[b, i+1] = np.nanmax(df_tar.loc[df_tar['iter']==i]['kge'].values)\n",
    "        mae[b, i+1] = np.nanmin(df_tar.loc[df_tar['iter']==i]['mae'].values)\n",
    "        max_mon_abs_err[b, i+1] = np.nanmin(df_tar.loc[df_tar['iter']==i]['max_mon_abs_err'].values)\n"
   ]
  },
  {
   "cell_type": "code",
   "execution_count": null,
   "id": "17c595de-f14f-4661-adf3-fe446b838396",
   "metadata": {},
   "outputs": [],
   "source": [
    "# plt.plot(np.nanmedian(kge,axis=0), 'o-')\n",
    "# plt.plot(np.nanmean(mae,axis=0), 'o-')\n",
    "plt.plot(np.nanmean(max_mon_abs_err,axis=0), 'o-')"
   ]
  },
  {
   "cell_type": "code",
   "execution_count": null,
   "id": "4f64b965-d0ef-4923-a109-43406ad086ce",
   "metadata": {},
   "outputs": [],
   "source": []
  }
 ],
 "metadata": {
  "kernelspec": {
   "display_name": "NPL 2024a",
   "language": "python",
   "name": "npl-2024a"
  },
  "language_info": {
   "codemirror_mode": {
    "name": "ipython",
    "version": 3
   },
   "file_extension": ".py",
   "mimetype": "text/x-python",
   "name": "python",
   "nbconvert_exporter": "python",
   "pygments_lexer": "ipython3",
   "version": "3.11.6"
  }
 },
 "nbformat": 4,
 "nbformat_minor": 5
}
