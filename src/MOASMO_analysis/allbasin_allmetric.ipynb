{
 "cells": [
  {
   "cell_type": "code",
   "execution_count": 1,
   "id": "8fdaaff7-0305-4730-bb70-7d52d21fcd4f",
   "metadata": {},
   "outputs": [],
   "source": [
    "# Load many metrics evaluated"
   ]
  },
  {
   "cell_type": "code",
   "execution_count": 2,
   "id": "a00282a5-4f1e-4256-8589-698a937b02a7",
   "metadata": {},
   "outputs": [],
   "source": [
    "import numpy as np\n",
    "import os, glob, sys, toml\n",
    "import pandas as pd\n",
    "import matplotlib.pyplot as plt\n",
    "import matplotlib\n",
    "from itertools import combinations\n",
    "from matplotlib.backends.backend_pdf import PdfPages\n",
    "from matplotlib.colors import Normalize\n",
    "import matplotlib.cm as cm"
   ]
  },
  {
   "cell_type": "code",
   "execution_count": 3,
   "id": "94892cf8-3eb4-4401-9d1b-304153301c1c",
   "metadata": {},
   "outputs": [],
   "source": [
    "# serial version\n",
    "# # read all evaluation results\n",
    "# basinnum = 627\n",
    "# iternum = 8\n",
    "\n",
    "# inpath = '/glade/campaign/cgd/tss/people/guoqiang/CTSM_CAMELS_proj/Calib_HH_MOASMO/level1_250_MOASMOcalib/ctsm_outputs/iter1_trial10/evaluation_many_metrics.csv'\n",
    "\n",
    "# initflag = True\n",
    "\n",
    "# for b in range(basinnum):\n",
    "#     for i in range(iternum):\n",
    "#         for t in range(400):\n",
    "#             file = f'/glade/campaign/cgd/tss/people/guoqiang/CTSM_CAMELS_proj/Calib_HH_MOASMO/level1_{b}_MOASMOcalib/ctsm_outputs/iter{i}_trial{t}/evaluation_many_metrics.csv'\n",
    "#             if os.path.isfile(file):\n",
    "#                 df1 = pd.DataFrame({'basin':[b], 'iter':[i], 'trial':[t]})\n",
    "#                 df2 = pd.read_csv(file)\n",
    "#                 df3 = pd.concat([df1, df2], axis=1)\n",
    "#                 if initflag:\n",
    "#                     df_all = df3\n",
    "#                     initflag = False\n",
    "#                 else:\n",
    "#                     df_all = pd.concat([df_all, df3])\n",
    "\n",
    "# df_all.head()"
   ]
  },
  {
   "cell_type": "code",
   "execution_count": 4,
   "id": "42526744-e613-4477-b9a4-f1856e3f1a8b",
   "metadata": {},
   "outputs": [
    {
     "name": "stdout",
     "output_type": "stream",
     "text": [
      "   basin  iter  trial       kge        mae       nse        cc        rmse  \\\n",
      "0      0     0      0 -0.158664  55.688609 -3.336715  0.381564  103.915075   \n",
      "1      0     0      1 -0.033472  64.070481 -3.364477  0.301541  113.232977   \n",
      "2      0     0      2 -0.195106  72.901145 -5.264780  0.477925  139.595536   \n",
      "3      0     0      3 -0.059784  52.276246 -2.897793  0.404191  100.561927   \n",
      "4      0     0      4 -0.106549  60.308160 -3.595270  0.377303  112.199346   \n",
      "\n",
      "   max_mon_abs_err     q90_mae  ...  kge_winter  kge_spring  kge_autumn  \\\n",
      "0       122.261683  149.512866  ...   -1.595937   -0.142621   -0.326314   \n",
      "1        89.350981  151.225302  ...   -0.197479   -0.146189   -0.603522   \n",
      "2       177.925541  208.485838  ...   -0.635510   -0.244927   -0.804226   \n",
      "3       123.210603  167.630329  ...    0.071418   -0.196334   -0.101228   \n",
      "4       133.774077  175.052305  ...   -0.131363   -0.280465   -0.207256   \n",
      "\n",
      "   mae_summer  mae_winter  mae_spring  mae_autumn  ge_q25_mae  ge_q50_mae  \\\n",
      "0   46.206573   26.028766  106.270407   40.478451   65.363535   79.118760   \n",
      "1   56.582834   32.428419  108.050380   54.120857   74.445245   87.743302   \n",
      "2   35.380616   47.199040  138.357712   39.213122   89.695746  117.134622   \n",
      "3   36.484642   21.242502  109.868005   36.555189   61.989912   79.186276   \n",
      "4   38.320058   28.442968  125.900872   40.849825   69.865127   88.469730   \n",
      "\n",
      "   ge_q75_mae  \n",
      "0  107.173802  \n",
      "1  112.120124  \n",
      "2  163.480409  \n",
      "3  114.633976  \n",
      "4  122.148801  \n",
      "\n",
      "[5 rows x 25 columns]\n"
     ]
    }
   ],
   "source": [
    "import pandas as pd\n",
    "import os\n",
    "from concurrent.futures import ThreadPoolExecutor\n",
    "\n",
    "# Define the number of basins, iterations, and trials\n",
    "basinnum = 627\n",
    "iternum = 8\n",
    "trialnum = 400\n",
    "\n",
    "# Function to read and concatenate a single file\n",
    "def process_file(b, i, t):\n",
    "    file = f'/glade/campaign/cgd/tss/people/guoqiang/CTSM_CAMELS_proj/Calib_HH_MOASMO/level1_{b}_MOASMOcalib/ctsm_outputs/iter{i}_trial{t}/evaluation_many_metrics.csv'\n",
    "    if os.path.isfile(file):\n",
    "        df1 = pd.DataFrame({'basin': [b], 'iter': [i], 'trial': [t]})\n",
    "        df2 = pd.read_csv(file)\n",
    "        return pd.concat([df1, df2], axis=1)\n",
    "    return None\n",
    "\n",
    "# Collect all DataFrames in a list\n",
    "df_list = []\n",
    "\n",
    "# Use ThreadPoolExecutor for parallel processing\n",
    "with ThreadPoolExecutor(max_workers=36) as executor:\n",
    "    futures = []\n",
    "    for b in range(basinnum):\n",
    "        for i in range(iternum):\n",
    "            for t in range(trialnum):\n",
    "                futures.append(executor.submit(process_file, b, i, t))\n",
    "    \n",
    "    for future in futures:\n",
    "        result = future.result()\n",
    "        if result is not None:\n",
    "            df_list.append(result)\n",
    "\n",
    "# Concatenate all DataFrames at once\n",
    "df_all = pd.concat(df_list, ignore_index=True)\n",
    "\n",
    "# Display the first few rows of the final DataFrame\n",
    "print(df_all.head())"
   ]
  },
  {
   "cell_type": "code",
   "execution_count": 13,
   "id": "80984fb6-6db0-49e4-81d5-79a2771460d6",
   "metadata": {},
   "outputs": [],
   "source": [
    "# plot metric with iterations\n",
    "\n",
    "kge = np.nan * np.zeros([basinnum, iternum+1])\n",
    "mae = np.nan * np.zeros([basinnum, iternum+1])\n",
    "max_mon_abs_err = np.nan * np.nan * np.zeros([basinnum, iternum+1])\n",
    "\n",
    "for b in range(basinnum):\n",
    "\n",
    "    df_tar = df_all.loc[df_all['basin']==b]\n",
    "    \n",
    "    for i in range(iternum):\n",
    "        if i == 0:\n",
    "            kge[b, 0] = df_tar['kge'].values[0] # default\n",
    "            mae[b, 0] = df_tar['mae'].values[0] # default\n",
    "            max_mon_abs_err[b, 0] = df_tar['max_mon_abs_err'].values[0] # default\n",
    "\n",
    "        kge[b, i+1] = np.nanmax(df_tar.loc[df_tar['iter']==i]['kge'].values)\n",
    "        mae[b, i+1] = np.nanmin(df_tar.loc[df_tar['iter']==i]['mae'].values)\n",
    "        max_mon_abs_err[b, i+1] = np.nanmin(df_tar.loc[df_tar['iter']==i]['max_mon_abs_err'].values)\n"
   ]
  },
  {
   "cell_type": "code",
   "execution_count": 16,
   "id": "17c595de-f14f-4661-adf3-fe446b838396",
   "metadata": {},
   "outputs": [
    {
     "data": {
      "text/plain": [
       "[<matplotlib.lines.Line2D at 0x148a36fe8ad0>]"
      ]
     },
     "execution_count": 16,
     "metadata": {},
     "output_type": "execute_result"
    },
    {
     "data": {
      "image/png": "[encoded data removed]",
      "text/plain": [
       "<Figure size 640x480 with 1 Axes>"
      ]
     },
     "metadata": {},
     "output_type": "display_data"
    }
   ],
   "source": [
    "# plt.plot(np.nanmedian(kge,axis=0), 'o-')\n",
    "# plt.plot(np.nanmean(mae,axis=0), 'o-')\n",
    "plt.plot(np.nanmean(max_mon_abs_err,axis=0), 'o-')"
   ]
  },
  {
   "cell_type": "code",
   "execution_count": null,
   "id": "4f64b965-d0ef-4923-a109-43406ad086ce",
   "metadata": {},
   "outputs": [],
   "source": []
  }
 ],
 "metadata": {
  "kernelspec": {
   "display_name": "NPL 2024a",
   "language": "python",
   "name": "npl-2024a"
  },
  "language_info": {
   "codemirror_mode": {
    "name": "ipython",
    "version": 3
   },
   "file_extension": ".py",
   "mimetype": "text/x-python",
   "name": "python",
   "nbconvert_exporter": "python",
   "pygments_lexer": "ipython3",
   "version": "3.11.6"
  }
 },
 "nbformat": 4,
 "nbformat_minor": 5
}
