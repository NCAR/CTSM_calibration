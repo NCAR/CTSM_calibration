{
 "cells": [
  {
   "cell_type": "code",
   "execution_count": 1,
   "id": "bfee9d1d-bc75-4bb9-92bb-b53fea937c95",
   "metadata": {},
   "outputs": [
    {
     "name": "stdout",
     "output_type": "stream",
     "text": [
      "Processing basin: level1_1\n",
      "copying /glade/work/guoqiang/CTSM_cases/CAMELS_Calib/Calib_all_HH_Ostrich/level1_1/env_case.xml -> /glade/work/guoqiang/CTSM_cases/CAMELS_Calib/Calib_all_HH_Ostrich/level1_1_DefaultSimu\n",
      "copying /glade/work/guoqiang/CTSM_cases/CAMELS_Calib/Calib_all_HH_Ostrich/level1_1/env_run.xml -> /glade/work/guoqiang/CTSM_cases/CAMELS_Calib/Calib_all_HH_Ostrich/level1_1_DefaultSimu\n",
      "copying /glade/work/guoqiang/CTSM_cases/CAMELS_Calib/Calib_all_HH_Ostrich/level1_1/env_build.xml -> /glade/work/guoqiang/CTSM_cases/CAMELS_Calib/Calib_all_HH_Ostrich/level1_1_DefaultSimu\n",
      "copying /glade/work/guoqiang/CTSM_cases/CAMELS_Calib/Calib_all_HH_Ostrich/level1_1/env_mach_pes.xml -> /glade/work/guoqiang/CTSM_cases/CAMELS_Calib/Calib_all_HH_Ostrich/level1_1_DefaultSimu\n",
      "copying /glade/work/guoqiang/CTSM_cases/CAMELS_Calib/Calib_all_HH_Ostrich/level1_1/env_batch.xml -> /glade/work/guoqiang/CTSM_cases/CAMELS_Calib/Calib_all_HH_Ostrich/level1_1_DefaultSimu\n",
      "copying /glade/work/guoqiang/CTSM_cases/CAMELS_Calib/Calib_all_HH_Ostrich/level1_1/env_workflow.xml -> /glade/work/guoqiang/CTSM_cases/CAMELS_Calib/Calib_all_HH_Ostrich/level1_1_DefaultSimu\n",
      "copying /glade/work/guoqiang/CTSM_cases/CAMELS_Calib/Calib_all_HH_Ostrich/level1_1/env_mach_specific.xml -> /glade/work/guoqiang/CTSM_cases/CAMELS_Calib/Calib_all_HH_Ostrich/level1_1_DefaultSimu\n",
      "copying /glade/work/guoqiang/CTSM_cases/CAMELS_Calib/Calib_all_HH_Ostrich/level1_1/env_archive.xml -> /glade/work/guoqiang/CTSM_cases/CAMELS_Calib/Calib_all_HH_Ostrich/level1_1_DefaultSimu\n",
      "copying /glade/work/guoqiang/CTSM_cases/CAMELS_Calib/Calib_all_HH_Ostrich/level1_1/user_nl_datm_streams -> /glade/work/guoqiang/CTSM_cases/CAMELS_Calib/Calib_all_HH_Ostrich/level1_1_DefaultSimu\n",
      "copying /glade/work/guoqiang/CTSM_cases/CAMELS_Calib/Calib_all_HH_Ostrich/level1_1/user_nl_clm -> /glade/work/guoqiang/CTSM_cases/CAMELS_Calib/Calib_all_HH_Ostrich/level1_1_DefaultSimu\n",
      "copying /glade/work/guoqiang/CTSM_cases/CAMELS_Calib/Calib_all_HH_Ostrich/level1_1/user_nl_mosart -> /glade/work/guoqiang/CTSM_cases/CAMELS_Calib/Calib_all_HH_Ostrich/level1_1_DefaultSimu\n",
      "copying /glade/work/guoqiang/CTSM_cases/CAMELS_Calib/Calib_all_HH_Ostrich/level1_1/user_nl_datm_streams-backup -> /glade/work/guoqiang/CTSM_cases/CAMELS_Calib/Calib_all_HH_Ostrich/level1_1_DefaultSimu\n",
      "copying /glade/work/guoqiang/CTSM_cases/CAMELS_Calib/Calib_all_HH_Ostrich/level1_1/user_nl_datm -> /glade/work/guoqiang/CTSM_cases/CAMELS_Calib/Calib_all_HH_Ostrich/level1_1_DefaultSimu\n",
      "copying /glade/work/guoqiang/CTSM_cases/CAMELS_Calib/Calib_all_HH_Ostrich/level1_1/user_nl_cpl -> /glade/work/guoqiang/CTSM_cases/CAMELS_Calib/Calib_all_HH_Ostrich/level1_1_DefaultSimu\n",
      "copying /glade/work/guoqiang/CTSM_cases/CAMELS_Calib/Calib_all_HH_Ostrich/level1_1_DefaultSimu/env_case.xml -> /glade/work/guoqiang/CTSM_cases/CAMELS_Calib/Calib_all_HH_Ostrich/level1_1_DefaultSimu/LockedFiles\n",
      " Successfully created new case level1_1_DefaultSimu from clone case level1_1 \n",
      "Setting resource.RLIMIT_STACK to -1 from (307200000, -1)\n",
      "copying /glade/u/home/guoqiang/CTSM_repos/CTSM_hillslope/cime/../ccs_config/machines/cmake_macros/Macros.cmake -> /glade/work/guoqiang/CTSM_cases/CAMELS_Calib/Calib_all_HH_Ostrich/level1_1_DefaultSimu\n",
      "copying /glade/u/home/guoqiang/CTSM_repos/CTSM_hillslope/cime/../ccs_config/machines/Depends.intel -> /glade/work/guoqiang/CTSM_cases/CAMELS_Calib/Calib_all_HH_Ostrich/level1_1_DefaultSimu\n",
      "job is case.run USER_REQUESTED_WALLTIME None USER_REQUESTED_QUEUE None WALLTIME_FORMAT %H:%M:%S\n",
      "Creating batch scripts\n",
      "Writing case.run script from input template /glade/u/home/guoqiang/CTSM_repos/CTSM_hillslope/ccs_config/machines/template.case.run\n",
      "Creating file .case.run\n",
      "Writing case.st_archive script from input template /glade/u/home/guoqiang/CTSM_repos/CTSM_hillslope/ccs_config/machines/template.st_archive\n",
      "Creating file case.st_archive\n",
      "copying /glade/work/guoqiang/CTSM_cases/CAMELS_Calib/Calib_all_HH_Ostrich/level1_1_DefaultSimu/env_mach_pes.xml -> /glade/work/guoqiang/CTSM_cases/CAMELS_Calib/Calib_all_HH_Ostrich/level1_1_DefaultSimu/LockedFiles\n",
      "copying /glade/work/guoqiang/CTSM_cases/CAMELS_Calib/Calib_all_HH_Ostrich/level1_1_DefaultSimu/env_batch.xml -> /glade/work/guoqiang/CTSM_cases/CAMELS_Calib/Calib_all_HH_Ostrich/level1_1_DefaultSimu/LockedFiles\n",
      "If an old case build already exists, might want to run 'case.build --clean' before building\n",
      "You can now run './preview_run' to get more info on how your case will be run\n"
     ]
    }
   ],
   "source": [
    "# after calibration, using the optimal parameter to force the model and perform the simulation\n",
    "import glob, os, sys, subprocess\n",
    "\n",
    "\n",
    "# inputs\n",
    "basinnum = 1\n",
    "# basins = [f'level1_{i}' for i in range(627)] + [f'level2_{i}' for i in range(40)] + [f'level3_{i}' for i in range(4)]\n",
    "\n",
    "if basinnum > len(basins)-1:\n",
    "    sys.exit(f'{basinnum} is larger than {len(basins)}')\n",
    "\n",
    "basinuse = basins[basinnum]\n",
    "print('Processing basin:', basinuse)\n",
    "\n",
    "# basic settings\n",
    "path_CTSM_repo = '/glade/u/home/guoqiang/CTSM_repos/CTSM_hillslope'\n",
    "path_CTSM_source = f'/glade/work/guoqiang/CTSM_cases/CAMELS_Calib/Calib_all_HH_Ostrich/{basinuse}'\n",
    "path_archive0 = f'/glade/campaign/cgd/tss/people/guoqiang/CTSMcases/CAMELS_Calib/Calib_all_HH_Ostrich/{basinuse}_Ostrich/archive/'\n",
    "file_rawnlclm = f'/glade/campaign/cgd/tss/people/guoqiang/CTSMcases/CAMELS_Calib/Calib_all_HH_Ostrich/{basinuse}_Ostrich/parameters/base_user_nl_clm'\n",
    "file_rawparam = f'/glade/campaign/cgd/tss/people/guoqiang/CTSMcases/CAMELS_Calib/Calib_all_HH_Ostrich/{basinuse}_Ostrich/parameters/base_parameters.nc'\n",
    "file_rawsurf = f'/glade/campaign/cgd/tss/people/guoqiang/CTSMcases/CAMELS_Calib/Calib_all_HH_Ostrich/{basinuse}_Ostrich/parameters/base_surfdata.nc'\n",
    "file_rawlndin = f'/glade/campaign/cgd/tss/people/guoqiang/CTSMcases/CAMELS_Calib/Calib_all_HH_Ostrich/{basinuse}_Ostrich/parameters/base_lnd_in'\n",
    "\n",
    "if not os.path.isdir(path_CTSM_source):\n",
    "    sys.exit(f'Error! {path_CTSM_source} does not exist!')\n",
    "    \n",
    "suffix = 'DefaultSimu'\n",
    "run_startdate = '2008-10-01'\n",
    "run_enddate = '2014-10-01'\n",
    "stop_n = 72\n",
    "\n",
    "path_CTSM_target = f'{path_CTSM_source}_{suffix}'\n",
    "path_archive = f'{path_archive0}/{suffix}'\n",
    "clonescript = f'{path_CTSM_repo}/cime/scripts/create_clone'\n",
    "\n",
    "# clone a case for simulation\n",
    "if os.path.isdir(path_CTSM_target):\n",
    "    _ = os.system(f'rm -r {path_CTSM_target}')\n",
    "    \n",
    "_ = subprocess.run(f'{clonescript} --case {path_CTSM_target} --clone {path_CTSM_source} --keepexe', shell=True)\n",
    "cwd = os.getcwd()\n",
    "os.chdir(path_CTSM_target)\n",
    "\n",
    "_ = subprocess.run(f'./xmlchange RUN_STARTDATE={run_startdate}', shell=True)\n",
    "_ = subprocess.run(f'./xmlchange STOP_N={stop_n}', shell=True)"
   ]
  },
  {
   "cell_type": "code",
   "execution_count": 2,
   "id": "10fcc784-72d4-4bc9-b127-6796d21b99de",
   "metadata": {},
   "outputs": [],
   "source": [
    "# change user_nl_clm\n",
    "_ = os.system('mv user_nl_clm user_nl_clm-fromclone')\n",
    "_ = os.system(f'cp {file_rawnlclm} user_nl_clm')\n",
    "with open('user_nl_clm', 'a') as f:\n",
    "    _ = f.write(f\"fsurdat='{file_rawsurf}'\\n\")\n",
    "    _ = f.write(f\"paramfile='{file_rawparam}'\\n\")\n",
    "        \n",
    "# change lnd_in\n",
    "_ = os.system('mv Buildconf/clmconf/lnd_in Buildconf/clmconf/lnd_in-fromclone')\n",
    "_ = os.system(f'cp {file_rawlndin} Buildconf/clmconf/lnd_in')\n",
    "        "
   ]
  },
  {
   "cell_type": "code",
   "execution_count": 4,
   "id": "a127dce2-2d0c-4676-af7f-ee2a56a741f2",
   "metadata": {},
   "outputs": [],
   "source": [
    "# archive results\n",
    "archive_keyword = \"clm2*.nc\" # what archive files to be saved? only for PreserveBestModel\n",
    "out = subprocess.run('./xmlquery DOUT_S_ROOT', shell=True, capture_output=True)\n",
    "out = out.stdout.decode().strip()\n",
    "patharchive = out.split(':')[1].strip()\n",
    "filelist_simulations = glob.glob(f'{patharchive}/lnd/hist/*{archive_keyword}*')\n",
    "filelist_simulations.sort()\n",
    "\n",
    "out = subprocess.run('./xmlquery RUNDIR', shell=True, capture_output=True)\n",
    "out = out.stdout.decode().strip()\n",
    "patharchive = out.split(':')[1].strip()\n",
    "filelist_rest = glob.glob(f'{patharchive}/*clm2.r.*.nc')\n",
    "filelist_rest.sort()\n",
    "\n",
    "filelist = filelist_simulations + filelist_rest\n",
    "\n",
    "if len(filelist) == 0:\n",
    "    print(f'Do not find model output files! Check {patharchive}/lnd/hist/*{archive_keyword}*')\n",
    "else:\n",
    "    for f in filelist:\n",
    "        # print('Archive best model output:', f)\n",
    "        os.makedirs(path_archive, exist_ok=True)\n",
    "        _ = subprocess.run(f'mv {f} {path_archive}', shell=True)\n",
    "        \n"
   ]
  },
  {
   "cell_type": "code",
   "execution_count": 5,
   "id": "aefa912f-c68b-4d75-bbc4-f1a6dba3b97f",
   "metadata": {},
   "outputs": [
    {
     "data": {
      "text/plain": [
       "'/glade/campaign/cgd/tss/people/guoqiang/CTSMcases/CAMELS_Calib/Calib_all_HH_Ostrich/level1_1_Ostrich/archive//DefaultSimu'"
      ]
     },
     "execution_count": 5,
     "metadata": {},
     "output_type": "execute_result"
    }
   ],
   "source": [
    "path_archive"
   ]
  },
  {
   "cell_type": "code",
   "execution_count": null,
   "id": "cc709238-40d3-4aa2-8229-841ead2d0e4a",
   "metadata": {},
   "outputs": [],
   "source": []
  }
 ],
 "metadata": {
  "kernelspec": {
   "display_name": "NPL 2023b",
   "language": "python",
   "name": "npl-2023b"
  },
  "language_info": {
   "codemirror_mode": {
    "name": "ipython",
    "version": 3
   },
   "file_extension": ".py",
   "mimetype": "text/x-python",
   "name": "python",
   "nbconvert_exporter": "python",
   "pygments_lexer": "ipython3",
   "version": "3.10.12"
  }
 },
 "nbformat": 4,
 "nbformat_minor": 5
}
