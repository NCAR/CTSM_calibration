{
 "cells": [
  {
   "cell_type": "code",
   "execution_count": 57,
   "id": "e96885dc-262f-4371-81f0-48be7fe3ceba",
   "metadata": {},
   "outputs": [
    {
     "name": "stdout",
     "output_type": "stream",
     "text": [
      "Settings are read from ./cstm.config.toml\n"
     ]
    }
   ],
   "source": [
    "\n",
    "import pandas as pd\n",
    "import numpy as np\n",
    "import os, sys, subprocess\n",
    "import toml\n",
    "import decide_CalibValid_periods as decidePeriod\n",
    "\n",
    "config_file = './cstm.config.toml'\n",
    "# config_file = sys.argv[1]\n",
    "\n",
    "print(f\"Settings are read from {config_file}\")\n",
    "config = toml.load(config_file)\n"
   ]
  },
  {
   "cell_type": "code",
   "execution_count": 46,
   "id": "4fee012a-ea2e-4b6a-b59c-c01c68f0d9fc",
   "metadata": {},
   "outputs": [
    {
     "data": {
      "text/plain": [
       "{'user_nl_datm_streams': ['topo.observed:meshfile=/glade/work/swensosc/topo_data/ESMFmesh_ctsm_elev_Conus_0.125d_210810.cdf5.nc',\n",
       "  'topo.observed:datafiles=/glade/work/swensosc/topo_data/ctsm_elev_Conus_0.125d.cdf5.nc'],\n",
       " 'user_nl_datm': [''],\n",
       " 'user_nl_clm': ['']}"
      ]
     },
     "execution_count": 46,
     "metadata": {},
     "output_type": "execute_result"
    }
   ],
   "source": [
    "di = config['CTSM']['AddToNamelist']\n",
    "di"
   ]
  },
  {
   "cell_type": "code",
   "execution_count": 54,
   "id": "732e58ec-35f1-407d-92b2-bd94b0b04e8a",
   "metadata": {},
   "outputs": [
    {
     "name": "stdout",
     "output_type": "stream",
     "text": [
      "user_nl_datm_streams\n",
      "['topo.observed:meshfile=/glade/work/swensosc/topo_data/ESMFmesh_ctsm_elev_Conus_0.125d_210810.cdf5.nc', 'topo.observed:datafiles=/glade/work/swensosc/topo_data/ctsm_elev_Conus_0.125d.cdf5.nc']\n"
     ]
    }
   ],
   "source": [
    "key, value = list(di.items())[0]\n",
    "print(key)\n",
    "print(value)"
   ]
  },
  {
   "cell_type": "code",
   "execution_count": 60,
   "id": "d79b1e96-4571-46b6-8506-2b4717de8ab1",
   "metadata": {},
   "outputs": [
    {
     "data": {
      "text/plain": [
       "True"
      ]
     },
     "execution_count": 60,
     "metadata": {},
     "output_type": "execute_result"
    }
   ],
   "source": [
    "config['spinup']['force_Jan_start'] == True"
   ]
  },
  {
   "cell_type": "code",
   "execution_count": 3,
   "id": "04c62aae-beac-4f4e-89d0-faabf7d4d9e8",
   "metadata": {},
   "outputs": [],
   "source": [
    "\n",
    "config_CTSMcase = {'path_CTSM_source': config['CTSM']['files']['path_CTSM_source'],\n",
    "             'path_CTSM_case': config['CTSM']['files']['path_CTSM_case'],\n",
    "             'path_CTSM_CIMEout': config['CTSM']['files']['path_CTSM_CIMEout'],\n",
    "             'file_CTSM_mesh': config['CTSM']['files']['file_CTSM_mesh'],\n",
    "             'file_CTSM_surfdata': config['CTSM']['files']['file_CTSM_surfdata'],\n",
    "             'RUN_STARTDATE': config['CTSM']['settings']['RUN_STARTDATE'],\n",
    "             'STOP_N': config['CTSM']['settings']['STOP_N'],\n",
    "             'STOP_OPTION': config['CTSM']['settings']['STOP_OPTION'],\n",
    "             'NTASKS': config['CTSM']['settings']['NTASKS'],\n",
    "             'casebuild': config['CTSM']['settings']['casebuild'],\n",
    "             'projectCode': config['HPC']['projectCode'],\n",
    "             }\n",
    "config_file_CTSMcase = './_cstm.config_CTMScase.toml'\n",
    "with open(config_file_CTSMcase, 'w') as f:\n",
    "    toml.dump(config_CTSMcase, f)"
   ]
  },
  {
   "cell_type": "code",
   "execution_count": 4,
   "id": "b8448dd1-72ff-404f-9d2c-d0aa6ccab153",
   "metadata": {},
   "outputs": [
    {
     "data": {
      "text/plain": [
       "{'path_CTSM_source': '/glade/u/home/guoqiang/CTSM_repos/CTSM',\n",
       " 'path_CTSM_case': '/glade/work/guoqiang/CTSM_cases/CAMELS_Calib/Lump_calib/CAMELS_10',\n",
       " 'path_CTSM_CIMEout': '/glade/scratch/guoqiang/CTSM_outputs/CAMELS_Calib/Lump_calib/CAMELS_10',\n",
       " 'file_CTSM_mesh': '/glade/work/guoqiang/CTSM_cases/CAMELS_Calib/Lump_basin_mask/ESMFmesh_ctsm_HCDN_nhru_final_671_v0_8e-3_basin{bnum}.nc',\n",
       " 'file_CTSM_surfdata': '/glade/work/guoqiang/CTSM_cases/CAMELS_Calib/shared_data_Sean/surfdata_CAMELS_hist_78pfts_CMIP6_simyr2000_c221004.nc',\n",
       " 'RUN_STARTDATE': '2000-01-01',\n",
       " 'STOP_N': 36,\n",
       " 'STOP_OPTION': 'nmonths',\n",
       " 'NTASKS': 1,\n",
       " 'casebuild': 'direct',\n",
       " 'projectCode': 'P08010000'}"
      ]
     },
     "execution_count": 4,
     "metadata": {},
     "output_type": "execute_result"
    }
   ],
   "source": [
    "config_CTSMcase"
   ]
  },
  {
   "cell_type": "code",
   "execution_count": 9,
   "id": "4ce19e3b-6a9e-4732-bee3-50f9d927da3a",
   "metadata": {},
   "outputs": [
    {
     "data": {
      "text/plain": [
       "array([[0., 0.],\n",
       "       [0., 0.],\n",
       "       [0., 0.],\n",
       "       [0., 0.],\n",
       "       [0., 0.],\n",
       "       [0., 0.]])"
      ]
     },
     "execution_count": 9,
     "metadata": {},
     "output_type": "execute_result"
    }
   ],
   "source": [
    "a = np.zeros([0, 2])\n",
    "b = np.zeros([3, 2])\n",
    "np.vstack((a,b,b))"
   ]
  },
  {
   "cell_type": "code",
   "execution_count": 12,
   "id": "a2a3f6b4-7951-4f7c-a97c-5a5d290ee119",
   "metadata": {},
   "outputs": [
    {
     "data": {
      "text/plain": [
       "['a1', 'a2']"
      ]
     },
     "execution_count": 12,
     "metadata": {},
     "output_type": "execute_result"
    }
   ],
   "source": [
    "config['test']"
   ]
  },
  {
   "cell_type": "code",
   "execution_count": null,
   "id": "1ec22655-a56f-448e-a851-57619ea4eaa5",
   "metadata": {},
   "outputs": [],
   "source": []
  },
  {
   "cell_type": "code",
   "execution_count": null,
   "id": "3464c405-a5f0-4306-a195-a9a487b2c711",
   "metadata": {},
   "outputs": [],
   "source": []
  }
 ],
 "metadata": {
  "kernelspec": {
   "display_name": "Python [conda env:general]",
   "language": "python",
   "name": "conda-env-general-py"
  },
  "language_info": {
   "codemirror_mode": {
    "name": "ipython",
    "version": 3
   },
   "file_extension": ".py",
   "mimetype": "text/x-python",
   "name": "python",
   "nbconvert_exporter": "python",
   "pygments_lexer": "ipython3",
   "version": "3.9.13"
  }
 },
 "nbformat": 4,
 "nbformat_minor": 5
}
