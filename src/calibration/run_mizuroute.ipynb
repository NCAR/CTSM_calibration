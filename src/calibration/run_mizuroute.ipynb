{
 "cells": [
  {
   "cell_type": "code",
   "execution_count": 21,
   "id": "6e0bf029-1488-4355-acb1-2e0c4ea21e9d",
   "metadata": {},
   "outputs": [],
   "source": [
    "# run mizuroute model as a post-processing step to CTSM\n",
    "\n",
    "import pandas as pd\n",
    "import numpy as np\n",
    "import os, sys, glob, shutil\n",
    "import matplotlib.pyplot as plt\n",
    "import xarray as xr\n",
    "\n",
    "\n",
    "def change_text_value(file, newsettings, separator, comment):\n",
    "    # file: target file\n",
    "    # start: start string (note for mizuroute.control file, this should be \"<name\" because mizuroute settings are within \"<>\")\n",
    "    # newsettings: dict contain target variables and values\n",
    "    # separator: character separating variables and values (e.g., \"=\" for variable=value)\n",
    "    # comment: character used as character\n",
    "\n",
    "    # separator, and comment are '\\'', and ! for summa fileManager.txt\n",
    "    # separator, and comment are ' ', and ! for mizuroute control file\n",
    "    # separator, and comment are ' ', and # for ostIn.txt\n",
    "    # separator, and comment are '=', and # for run_trial.sh\n",
    "\n",
    "    # example:\n",
    "    # summa_setting = {}\n",
    "    # summa_setting['settingsPath'] = '/the/path/'\n",
    "    # summa_setting['simStartTime'] = '2009-07-01 00:00'\n",
    "    # change_text_value('summa_fileManager.txt', summa_setting, separator='\\'', comment='!')\n",
    "\n",
    "    if (len(newsettings) > 0) and os.path.isfile(file):\n",
    "        # read raw data\n",
    "        with open(file) as f:\n",
    "            contents = f.readlines()\n",
    "        # save a new file\n",
    "        file_new = file + '-temp'\n",
    "        with open(file_new, 'w') as f:\n",
    "            for line in contents:\n",
    "                for name, value in newsettings.items():\n",
    "                    if line.startswith(name):\n",
    "                        line2 = line.split(comment)[0].strip()\n",
    "                        if line2.count(separator) == 2: # format: xxx_sep_value_sep (only summa fileManager.txt)\n",
    "                            oldvalue = line2.split(separator)[1].strip()\n",
    "                        else:\n",
    "                            oldvalue = line2.split(separator)[-1].strip()\n",
    "                        if not isinstance(value, str):\n",
    "                            value = str(value)\n",
    "                        line = line.replace(oldvalue, value)\n",
    "                f.write(line)\n",
    "        # replace old file\n",
    "        os.remove(file)\n",
    "        shutil.move(file_new, file)\n",
    "\n",
    "\n",
    "########\n",
    "# input arguments\n",
    "\n",
    "infilelist_CTSM = glob.glob(f'/glade/campaign/cgd/tss/people/guoqiang/CTSM_CAMELS_proj/Calib_HH_emulator/level1_0_calib/ctsm_outputs/iter0_trial0/lnd/hist/level1_*.clm2.h1.*.nc')\n",
    "inpath_mizusetting = '/glade/work/guoqiang/CTSM_CAMELS/mizuroute_settings/level1_0/'\n",
    "outpath = f'/glade/campaign/cgd/tss/people/guoqiang/CTSM_CAMELS_proj/Calib_HH_emulator/level1_0_calib/ctsm_outputs/iter0_trial0/mizuroute/'\n",
    "mizuEXE = '/glade/u/home/mizukami/model/mizuRoute/route/bin/route_runoff.intel.cesm-coupling.n02_v2.1.4-standalone'\n",
    "caseflag = 'iter0_trial0'\n",
    "basinID = 1013500\n",
    "\n",
    "infilelist_CTSM.sort()\n",
    "os.makedirs(outpath, exist_ok=True)\n"
   ]
  },
  {
   "cell_type": "code",
   "execution_count": 9,
   "id": "2a6207f0-ae67-44c5-8596-bb1efabd8f2e",
   "metadata": {},
   "outputs": [
    {
     "name": "stdout",
     "output_type": "stream",
     "text": [
      "extracting clm outputs to: /glade/campaign/cgd/tss/people/guoqiang/CTSM_CAMELS_proj/Calib_HH_emulator/level1_0_calib/ctsm_outputs/iter0_trial0/mizuroute/CTSM_runoff_2008-10-01-to-2014-10-01.nc\n"
     ]
    }
   ],
   "source": [
    "########\n",
    "# prepare mizuroute runoff input\n",
    "\n",
    "# Extract the dates from the file paths\n",
    "dates = [path.split('.')[-2] for path in file_paths]\n",
    "start_date = dates[0][:-6]\n",
    "end_date = dates[-1][:-6]\n",
    "\n",
    "outfile_clmrunoff = f'{outpath}/CTSM_runoff_{start_date}-to-{end_date}.nc'\n",
    "\n",
    "if os.path.isfile(outfile_clmrunoff):\n",
    "    print('clm runoff file exists:', outfile_clmrunoff)\n",
    "else:\n",
    "    print('extracting clm outputs to:', outfile_clmrunoff)\n",
    "    ds_clm = xr.open_mfdataset(infilelist_CTSM)\n",
    "    ds_clm_out = ds_clm[['QRUNOFF']].load()\n",
    "    ds_clm_out = ds_clm_out.rename({'lndgrid':'gru'})\n",
    "    ds_clm_out.coords['gru'] = [basinID]\n",
    "    ds_clm_out['gruId'] = xr.DataArray([basinID], dims=('gru'))\n",
    "    ds_clm_out.to_netcdf(outfile_clmrunoff)\n",
    "\n"
   ]
  },
  {
   "cell_type": "code",
   "execution_count": 23,
   "id": "d5ac13b1-92b4-48f7-beb5-2216ea8c0087",
   "metadata": {},
   "outputs": [],
   "source": [
    "########\n",
    "# copy mizuroute param\n",
    "os.system(f'cp {inpath_mizusetting}/param.nml.default {outpath}')\n",
    "\n",
    "# create a control file for this routing\n",
    "\n",
    "file_control = f'{outpath}/{caseflag}_control.txt'\n",
    "os.system(f'cp {inpath_mizusetting}/control.txt {file_control}')\n",
    "\n",
    "newsettings = { '<input_dir>': outpath, \n",
    "                '<output_dir>': outpath,\n",
    "                '<sim_start>': start_date,\n",
    "                '<sim_end>': end_date,\n",
    "                '<fname_qsim>': f'CTSM_runoff_{start_date}-to-{end_date}.nc'\n",
    "                }\n",
    "change_text_value(file_control, newsettings, ' ', '!')\n"
   ]
  },
  {
   "cell_type": "code",
   "execution_count": 22,
   "id": "619b5c46-8ced-42d1-a639-b299b96e6d87",
   "metadata": {},
   "outputs": [
    {
     "data": {
      "text/plain": [
       "'/glade/u/home/mizukami/model/mizuRoute/route/bin/route_runoff.intel.cesm-coupling.n02_v2.1.4-standalone /glade/campaign/cgd/tss/people/guoqiang/CTSM_CAMELS_proj/Calib_HH_emulator/level1_0_calib/ctsm_outputs/iter0_trial0/mizuroute//iter0_trial0_control.txt'"
      ]
     },
     "execution_count": 22,
     "metadata": {},
     "output_type": "execute_result"
    }
   ],
   "source": [
    "########\n",
    "# run mizuroute\n",
    "os.system(f'{mizuEXE} {file_control}')"
   ]
  },
  {
   "cell_type": "code",
   "execution_count": null,
   "id": "58414eee-9cbf-4224-8f9c-38da9777f561",
   "metadata": {},
   "outputs": [],
   "source": []
  }
 ],
 "metadata": {
  "kernelspec": {
   "display_name": "NPL 2024b",
   "language": "python",
   "name": "npl-2024b"
  },
  "language_info": {
   "codemirror_mode": {
    "name": "ipython",
    "version": 3
   },
   "file_extension": ".py",
   "mimetype": "text/x-python",
   "name": "python",
   "nbconvert_exporter": "python",
   "pygments_lexer": "ipython3",
   "version": "3.11.9"
  }
 },
 "nbformat": 4,
 "nbformat_minor": 5
}
