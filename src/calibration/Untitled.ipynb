{
 "cells": [
  {
   "cell_type": "code",
   "execution_count": 1,
   "id": "5a4e2fcb-a5f3-4a0f-bcc5-91cec16a0a49",
   "metadata": {},
   "outputs": [],
   "source": [
    "import toml"
   ]
  },
  {
   "cell_type": "code",
   "execution_count": 2,
   "id": "1800d3cb-3631-473c-b140-3420f157082a",
   "metadata": {},
   "outputs": [],
   "source": [
    "config = toml.load('./example.cstm.config.toml')"
   ]
  },
  {
   "cell_type": "code",
   "execution_count": 3,
   "id": "4c66e7b0-70f9-4ca5-b657-597009980269",
   "metadata": {},
   "outputs": [],
   "source": [
    "    config_CTSMcase = {'files': config['CTSM']['files'],\n",
    "                       'settings': config['CTSM']['settings'],\n",
    "                       'projectCode': config['HPC']['projectCode'],\n",
    "                       }"
   ]
  },
  {
   "cell_type": "code",
   "execution_count": 5,
   "id": "89243deb-ba6d-486e-8653-3c4cac757cdc",
   "metadata": {},
   "outputs": [],
   "source": [
    "with open('test.toml','w') as f:\n",
    "    toml.dump(config_CTSMcase, f)"
   ]
  },
  {
   "cell_type": "code",
   "execution_count": null,
   "id": "bd2b85a2-3235-4168-a639-74143117760b",
   "metadata": {},
   "outputs": [],
   "source": []
  }
 ],
 "metadata": {
  "kernelspec": {
   "display_name": "Python [conda env:general]",
   "language": "python",
   "name": "conda-env-general-py"
  },
  "language_info": {
   "codemirror_mode": {
    "name": "ipython",
    "version": 3
   },
   "file_extension": ".py",
   "mimetype": "text/x-python",
   "name": "python",
   "nbconvert_exporter": "python",
   "pygments_lexer": "ipython3",
   "version": "3.9.13"
  }
 },
 "nbformat": 4,
 "nbformat_minor": 5
}
