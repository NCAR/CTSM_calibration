{
 "cells": [
  {
   "cell_type": "markdown",
   "id": "9602d329-cfd2-4b78-95bf-286032149aae",
   "metadata": {},
   "source": [
    "# MERIT river/basin area may not be correct\n",
    "We can scale that to the real area"
   ]
  },
  {
   "cell_type": "code",
   "execution_count": 1,
   "id": "96e9c651-c4db-4d49-815c-9a03219bf162",
   "metadata": {},
   "outputs": [],
   "source": [
    "import pandas as pd\n",
    "import numpy as np\n",
    "import os, sys, glob, shutil\n",
    "import matplotlib.pyplot as plt\n",
    "import xarray as xr\n"
   ]
  },
  {
   "cell_type": "code",
   "execution_count": 2,
   "id": "6511470c-9492-4ed2-8bbf-6a1da1f8dd53",
   "metadata": {},
   "outputs": [],
   "source": [
    "# basin info\n",
    "file = '/glade/work/guoqiang/CTSM_CAMELS/data_mesh_surf/HillslopeHydrology/CAMELS_level1_basin_info.csv'\n",
    "df_info = pd.read_csv(file)"
   ]
  },
  {
   "cell_type": "code",
   "execution_count": 5,
   "id": "898f0548-42f8-45b8-ae30-4fd5d1dddcac",
   "metadata": {},
   "outputs": [],
   "source": [
    "ratio = []\n",
    "path = '/glade/work/guoqiang/CTSM_CAMELS/mizuroute_settings'\n",
    "for i in range(len(df_info)):\n",
    "    idi = df_info.iloc[i]['hru_id']\n",
    "    areai = df_info.iloc[i]['areaUSGS'] * 1e6\n",
    "    filei = glob.glob(f'{path}/level1_{i}/ntopo_MERIT_*.nc-RawBasinArea')[0]\n",
    "    ds=xr.open_dataset(filei)\n",
    "    area2 = ds.Basin_Area.sum().values\n",
    "    ratio.append(areai/area2)\n",
    "    "
   ]
  },
  {
   "cell_type": "code",
   "execution_count": 6,
   "id": "cc81ca25-6e5a-45d2-ac6e-9781d7ae4355",
   "metadata": {},
   "outputs": [],
   "source": [
    "ratio = []\n",
    "path = '/glade/work/guoqiang/CTSM_CAMELS/mizuroute_settings'\n",
    "for i in range(len(df_info)):\n",
    "    idi = df_info.iloc[i]['hru_id']\n",
    "    areai = df_info.iloc[i]['areaUSGS'] * 1e6\n",
    "    filei = glob.glob(f'{path}/level1_{i}/ntopo_MERIT_Hy*.nc')[0]\n",
    "    ds=xr.load_dataset(filei)\n",
    "    os.system(f'mv {filei} {filei}-RawBasinArea')\n",
    "    area2 = ds.Basin_Area.sum().values\n",
    "    \n",
    "    ds['Basin_Area'].values = ds['Basin_Area'].values * areai / area2\n",
    "    ds.to_netcdf(filei)\n",
    "    "
   ]
  },
  {
   "cell_type": "code",
   "execution_count": 15,
   "id": "31748b3d-3b46-4fd0-9990-fc0c075d02ce",
   "metadata": {},
   "outputs": [
    {
     "data": {
      "image/png": "[encoded data removed]",
      "text/plain": [
       "<Figure size 640x480 with 1 Axes>"
      ]
     },
     "metadata": {},
     "output_type": "display_data"
    },
    {
     "name": "stdout",
     "output_type": "stream",
     "text": [
      "0.16905901116427433\n"
     ]
    }
   ],
   "source": [
    "ratio = np.array(ratio)\n",
    "# plt.hist(ratio - 1, np.arange(-1, 1, 0.1))\n",
    "# plt.xlabel('Area bias')\n",
    "plt.plot(np.arange(len(ratio))/len(ratio), np.sort(np.abs(ratio-1)))\n",
    "plt.grid('on')\n",
    "plt.xlabel('F(x)')\n",
    "plt.ylabel('Area bias')\n",
    "plt.show()\n",
    "print(np.sum(np.abs(ratio-1)>0.25)/len(ratio))"
   ]
  },
  {
   "cell_type": "code",
   "execution_count": null,
   "id": "52f522f8-6b31-4a52-9fb7-fc8b8ffe220c",
   "metadata": {},
   "outputs": [],
   "source": []
  }
 ],
 "metadata": {
  "kernelspec": {
   "display_name": "NPL 2024a",
   "language": "python",
   "name": "npl-2024a"
  },
  "language_info": {
   "codemirror_mode": {
    "name": "ipython",
    "version": 3
   },
   "file_extension": ".py",
   "mimetype": "text/x-python",
   "name": "python",
   "nbconvert_exporter": "python",
   "pygments_lexer": "ipython3",
   "version": "3.11.6"
  }
 },
 "nbformat": 4,
 "nbformat_minor": 5
}
