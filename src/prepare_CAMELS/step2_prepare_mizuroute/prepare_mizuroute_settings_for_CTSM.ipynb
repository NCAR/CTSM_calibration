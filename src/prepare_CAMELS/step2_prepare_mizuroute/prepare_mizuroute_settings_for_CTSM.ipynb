{
 "cells": [
  {
   "cell_type": "code",
   "execution_count": 1,
   "id": "0b7563b1-842d-43dd-8ea0-f1c5f6feaa71",
   "metadata": {},
   "outputs": [],
   "source": [
    "# based SUMMA-mizuroute settings, create settings for CTSM\n",
    "# copy files and change a few settings"
   ]
  },
  {
   "cell_type": "code",
   "execution_count": 14,
   "id": "0a149d32-4a2e-4857-bf66-268428db0fe7",
   "metadata": {},
   "outputs": [],
   "source": [
    "import pandas as pd\n",
    "import numpy as np\n",
    "import os, sys, glob, shutil\n",
    "import matplotlib.pyplot as plt\n",
    "import xarray as xr\n",
    "\n",
    "\n",
    "def change_text_value(file, newsettings, separator, comment):\n",
    "    # file: target file\n",
    "    # start: start string (note for mizuroute.control file, this should be \"<name\" because mizuroute settings are within \"<>\")\n",
    "    # newsettings: dict contain target variables and values\n",
    "    # separator: character separating variables and values (e.g., \"=\" for variable=value)\n",
    "    # comment: character used as character\n",
    "\n",
    "    # separator, and comment are '\\'', and ! for summa fileManager.txt\n",
    "    # separator, and comment are ' ', and ! for mizuroute control file\n",
    "    # separator, and comment are ' ', and # for ostIn.txt\n",
    "    # separator, and comment are '=', and # for run_trial.sh\n",
    "\n",
    "    # example:\n",
    "    # summa_setting = {}\n",
    "    # summa_setting['settingsPath'] = '/the/path/'\n",
    "    # summa_setting['simStartTime'] = '2009-07-01 00:00'\n",
    "    # change_text_value('summa_fileManager.txt', summa_setting, separator='\\'', comment='!')\n",
    "\n",
    "    if (len(newsettings) > 0) and os.path.isfile(file):\n",
    "        # read raw data\n",
    "        with open(file) as f:\n",
    "            contents = f.readlines()\n",
    "        # save a new file\n",
    "        file_new = file + '-temp'\n",
    "        with open(file_new, 'w') as f:\n",
    "            for line in contents:\n",
    "                for name, value in newsettings.items():\n",
    "                    if line.startswith(name):\n",
    "                        line2 = line.split(comment)[0].strip()\n",
    "                        if line2.count(separator) == 2: # format: xxx_sep_value_sep (only summa fileManager.txt)\n",
    "                            oldvalue = line2.split(separator)[1].strip()\n",
    "                        else:\n",
    "                            oldvalue = line2.split(separator)[-1].strip()\n",
    "                        if not isinstance(value, str):\n",
    "                            value = str(value)\n",
    "                        line = line.replace(oldvalue, value)\n",
    "                f.write(line)\n",
    "        # replace old file\n",
    "        os.remove(file)\n",
    "        shutil.move(file_new, file)\n"
   ]
  },
  {
   "cell_type": "code",
   "execution_count": 15,
   "id": "04567f4c-f0eb-4964-b4fe-7334168ef101",
   "metadata": {},
   "outputs": [],
   "source": [
    "file = '/glade/work/guoqiang/CTSM_CAMELS/data_mesh_surf/HillslopeHydrology/CAMELS_level1_basin_info.csv'\n",
    "df_info = pd.read_csv(file)"
   ]
  },
  {
   "cell_type": "code",
   "execution_count": 16,
   "id": "3a40f3dc-f1cb-45f5-bb1d-33942400ebd2",
   "metadata": {},
   "outputs": [],
   "source": [
    "inpath = ' /glade/campaign/cgd/tss/people/mozhgana/projects/routing/camels'\n",
    "outpath = '/glade/work/guoqiang/CTSM_CAMELS/mizuroute_settings'"
   ]
  },
  {
   "cell_type": "code",
   "execution_count": 20,
   "id": "5e73b4fd-6ec0-4da8-8898-a423f8cdf715",
   "metadata": {},
   "outputs": [],
   "source": [
    "for i in range(len(df_info)):\n",
    "    basinid = df_info.iloc[i]['hru_id']\n",
    "    inpathi = f'{inpath}/{basinid:08}/route_settings/'\n",
    "    outpathi = f'{outpath}/level1_{i}/'\n",
    "    os.makedirs(outpathi, exist_ok=True)\n",
    "    os.system(f'cp {inpathi}/* {outpathi}')\n",
    "    os.system(f'cp param.nml.default {outpathi}')\n",
    "    os.system(f'cp control.txt {outpathi}')\n",
    "\n",
    "    outfile = f'{outpathi}/control.txt'\n",
    "\n",
    "    newsettings = {'<ancil_dir>': outpathi, \n",
    "                   '<input_dir>': 'to_be_changed', \n",
    "                   '<output_dir>': 'to_be_changed',\n",
    "                   '<fname_ntopOld>': f'ntopo_MERIT_Hydro_v1_{basinid:08}.nc', \n",
    "                  }\n",
    "    change_text_value(outfile, newsettings, ' ', '!')"
   ]
  },
  {
   "cell_type": "code",
   "execution_count": null,
   "id": "b380db08-0583-43b3-b4aa-adcf31364bdd",
   "metadata": {},
   "outputs": [],
   "source": []
  }
 ],
 "metadata": {
  "kernelspec": {
   "display_name": "NPL 2024b",
   "language": "python",
   "name": "npl-2024b"
  },
  "language_info": {
   "codemirror_mode": {
    "name": "ipython",
    "version": 3
   },
   "file_extension": ".py",
   "mimetype": "text/x-python",
   "name": "python",
   "nbconvert_exporter": "python",
   "pygments_lexer": "ipython3",
   "version": "3.11.9"
  }
 },
 "nbformat": 4,
 "nbformat_minor": 5
}
