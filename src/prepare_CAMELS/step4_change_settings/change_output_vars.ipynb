{
 "cells": [
  {
   "cell_type": "code",
   "execution_count": 1,
   "id": "254aea09-2e6e-4141-aa5d-4342c0777001",
   "metadata": {},
   "outputs": [],
   "source": [
    "# change the parameter in the configuration toml file\n",
    "import glob, sys, toml, os"
   ]
  },
  {
   "cell_type": "code",
   "execution_count": 10,
   "id": "a1a44bf2-a90f-4f09-9b62-e34a887e59c3",
   "metadata": {},
   "outputs": [
    {
     "name": "stdout",
     "output_type": "stream",
     "text": [
      "['use_hillslope = .true.', 'use_hillslope_routing = .true.', 'n_dom_pfts = 2', 'hist_nhtfrq = 0,-24', 'hist_mfilt = 1,365', \"hist_fincl2 = 'QRUNOFF','QDRAI','QOVER','QH2OSFC','QINFL','H2OSNO','QFLX_SNOW_DRAIN','QFLX_SOLIDEVAP_FROM_TOP_LAYER','SNOW_DEPTH','SNOWDP','SNO_T','SNO_Z','SNO_MELT','QSNOMELT','SOILICE','SOILLIQ','TOTSOILICE','TOTSOILLIQ','SOILWATER_10CM','TWS','ZWT','QINTR','LIQCAN','SNOCAN','QVEGE','QSOIL','QVEGT','FSH','EFLX_LH_TOT','Rnet','RAIN','SNOW','TBOT'\"]\n"
     ]
    }
   ],
   "source": [
    "new_add_to_user_nl_clm = [ \"use_hillslope = .true.\", \"use_hillslope_routing = .true.\", \n",
    "                          \"n_dom_pfts = 2\", \"hist_nhtfrq = 0,-24\", \"hist_mfilt = 1,365\", \n",
    "                          \"hist_fincl2 = 'QRUNOFF','QDRAI','QOVER','QH2OSFC','QINFL','H2OSNO','QFLX_SNOW_DRAIN','QFLX_SOLIDEVAP_FROM_TOP_LAYER','SNOW_DEPTH','SNOWDP','SNO_T','SNO_Z','SNO_MELT','QSNOMELT','SOILICE','SOILLIQ','TOTSOILICE','TOTSOILLIQ','SOILWATER_10CM','TWS','ZWT','QINTR','LIQCAN','SNOCAN','QVEGE','QSOIL','QVEGT','FSH','EFLX_LH_TOT','Rnet','RAIN','SNOW','TBOT'\",]\n",
    "print(new_add_to_user_nl_clm)"
   ]
  },
  {
   "cell_type": "code",
   "execution_count": 16,
   "id": "c9faf47c-ff2c-4d9e-8d8b-046501573890",
   "metadata": {},
   "outputs": [],
   "source": [
    "# change configuration files\n",
    "\n",
    "for i in range(627):\n",
    "    files = [f'/glade/work/guoqiang/CTSM_CAMELS/Calib_HH_MOASMO/configuration/_level1-{i}_config_namelist.toml', \n",
    "             f'/glade/work/guoqiang/CTSM_CAMELS/Calib_HH_MOASMO/configuration/level1-{i}_config.toml']\n",
    "    \n",
    "    for file in files:\n",
    "        dtmp = toml.load(file)\n",
    "\n",
    "        if 'AddToNamelist' in dtmp:\n",
    "            # print(dtmp['AddToNamelist']['user_nl_clm'])\n",
    "            dtmp['AddToNamelist']['user_nl_clm'] = new_add_to_user_nl_clm\n",
    "\n",
    "        if 'CTSM' in dtmp:\n",
    "            # print(dtmp['CTSM']['AddToNamelist']['user_nl_clm'])\n",
    "            dtmp['CTSM']['AddToNamelist']['user_nl_clm'] = new_add_to_user_nl_clm\n",
    "        \n",
    "        with open(file, 'w') as f:\n",
    "            toml.dump(dtmp, f)"
   ]
  },
  {
   "cell_type": "code",
   "execution_count": 20,
   "id": "0f76aff1-7968-4807-952d-6e95d961c3dd",
   "metadata": {},
   "outputs": [],
   "source": [
    "# change existing namelist files\n",
    "\n",
    "newline = \"hist_fincl2 = 'QRUNOFF','QDRAI','QOVER','QH2OSFC','QINFL','H2OSNO','QFLX_SNOW_DRAIN','QFLX_SOLIDEVAP_FROM_TOP_LAYER','SNOW_DEPTH','SNOWDP','SNO_T','SNO_Z','SNO_MELT','QSNOMELT','SOILICE','SOILLIQ','TOTSOILICE','TOTSOILLIQ','SOILWATER_10CM','TWS','ZWT','QINTR','LIQCAN','SNOCAN','QVEGE','QSOIL','QVEGT','FSH','EFLX_LH_TOT','Rnet','RAIN','SNOW','TBOT'\"\n",
    "\n",
    "for i in range(627):\n",
    "    file = f'/glade/work/guoqiang/CTSM_CAMELS/Calib_HH_MOASMO/level1_{i}/user_nl_clm'\n",
    "\n",
    "    with open(file, 'r') as f:\n",
    "        lines = f.readlines()\n",
    "\n",
    "    with open(file, 'w') as f:\n",
    "        for l in lines:\n",
    "            if not l.startswith('hist_fincl2'):\n",
    "                f.write(l)\n",
    "        f.write(newline+'\\n')"
   ]
  },
  {
   "cell_type": "code",
   "execution_count": null,
   "id": "70b7fbb6-a82d-40ba-b2cd-e02477926c82",
   "metadata": {},
   "outputs": [],
   "source": []
  }
 ],
 "metadata": {
  "kernelspec": {
   "display_name": "NPL 2024a",
   "language": "python",
   "name": "npl-2024a"
  },
  "language_info": {
   "codemirror_mode": {
    "name": "ipython",
    "version": 3
   },
   "file_extension": ".py",
   "mimetype": "text/x-python",
   "name": "python",
   "nbconvert_exporter": "python",
   "pygments_lexer": "ipython3",
   "version": "3.11.6"
  }
 },
 "nbformat": 4,
 "nbformat_minor": 5
}
