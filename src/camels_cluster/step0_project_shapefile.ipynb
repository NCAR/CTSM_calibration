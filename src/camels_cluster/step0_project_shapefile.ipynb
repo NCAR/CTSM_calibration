{
 "cells": [
  {
   "cell_type": "code",
   "execution_count": 1,
   "id": "3759a11d-9f1c-41f8-bc87-a121de2d6443",
   "metadata": {},
   "outputs": [],
   "source": [
    "import geopandas as gpd"
   ]
  },
  {
   "cell_type": "code",
   "execution_count": 2,
   "id": "4206bbbe-248a-42a0-a812-73aa6d76b55a",
   "metadata": {},
   "outputs": [],
   "source": [
    "file = 'HCDN_nhru_final_671.buff_fix_holes.CAMELSandTDX_areabias_fix.simp.001.level1.gpkg'\n",
    "shp = gpd.read_file(file)"
   ]
  },
  {
   "cell_type": "code",
   "execution_count": 7,
   "id": "f801e1b2-600d-49ed-b110-079e503efc79",
   "metadata": {},
   "outputs": [],
   "source": [
    "shp2 = shp.to_crs('EPSG:4326')"
   ]
  },
  {
   "cell_type": "code",
   "execution_count": 10,
   "id": "78c4b035-915e-4a50-9a25-bd7b8638c655",
   "metadata": {},
   "outputs": [
    {
     "name": "stderr",
     "output_type": "stream",
     "text": [
      "/var/folders/pf/n30tfn0j0n93dr81jm369hyc0000gp/T/ipykernel_14432/20178779.py:1: UserWarning: Column names longer than 10 characters will be truncated when saved to ESRI Shapefile.\n",
      "  shp2.to_file('projected_camels_level1.shp')\n"
     ]
    }
   ],
   "source": [
    "shp2.to_file('projected_camels_level1.shp')"
   ]
  },
  {
   "cell_type": "code",
   "execution_count": null,
   "id": "3a260c15-1dc0-45c2-93ff-c8f11b6387a6",
   "metadata": {},
   "outputs": [],
   "source": []
  }
 ],
 "metadata": {
  "kernelspec": {
   "display_name": "NPL 2024a",
   "language": "python",
   "name": "npl-2024a"
  },
  "language_info": {
   "codemirror_mode": {
    "name": "ipython",
    "version": 3
   },
   "file_extension": ".py",
   "mimetype": "text/x-python",
   "name": "python",
   "nbconvert_exporter": "python",
   "pygments_lexer": "ipython3",
   "version": "3.11.6"
  }
 },
 "nbformat": 4,
 "nbformat_minor": 5
}
