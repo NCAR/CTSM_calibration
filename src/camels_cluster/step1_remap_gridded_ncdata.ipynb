{
 "cells": [
  {
   "cell_type": "code",
   "execution_count": null,
   "id": "48f15116-f25e-41c4-b6bd-0042fa9578e3",
   "metadata": {},
   "outputs": [],
   "source": [
    "# loading EASYMORE\n",
    "#from easymore import easymore # for version 1 and below\n",
    "from easymore import Easymore # for version 2 and above\n",
    "\n",
    "# initializing EASYMORE object\n",
    "# esmr = easymore() # for version 1 and below\n",
    "esmr = Easymore() # for version 2 and above\n",
    "\n",
    "# specifying EASYMORE objects\n",
    "# name of the case; the temporary, remapping and remapped file names include case name\n",
    "esmr.case_name = 'climate_indice'\n",
    "# temporary path that the EASYMORE generated GIS files and remapped file will be saved\n",
    "esmr.temp_dir = './esmr_temporary/'\n",
    "# name of target shapefile that the source netcdf files should be remapped to\n",
    "esmr.target_shp = 'projected_camels_level1.shp'\n",
    "# name of netCDF file(s); multiple files can be specified with *\n",
    "esmr.source_nc = 'Grid_climate_indices.nc'\n",
    "# name of variables from source netCDF file(s) to be remapped\n",
    "esmr.var_names = ['grid_aridity_Im', 'grid_seasonalityOfAridity_Imr', 'grid_annualSnowFraction_fs']\n",
    "# rename the variables from source netCDF file(s) in the remapped files;\n",
    "# it will be the same as source if not provided\n",
    "esmr.var_names_remapped = ['aridity_Im', 'seasonalityOfAridity_Imr', 'annualSnowFraction_fs']\n",
    "# name of variable longitude in source netCDF files\n",
    "esmr.var_lon = 'lon'\n",
    "# name of variable latitude in source netCDF files\n",
    "esmr.var_lat = 'lat'\n",
    "# name of variable time in source netCDF file; should be always time\n",
    "esmr.var_time = 'time'\n",
    "# location where the remapped netCDF file will be saved\n",
    "esmr.output_dir               = './output/'\n",
    "# format of the variables to be saved in remapped files,\n",
    "# if one format provided it will be expanded to other variables\n",
    "esmr.format_list              = ['f4']\n",
    "# fill values of the variables to be saved in remapped files,\n",
    "# if one value provided it will be expanded to other variables\n",
    "esmr.fill_value_list          = ['-9999.00']\n",
    "# if required that the remapped values to be saved as csv as well\n",
    "esmr.save_csv                 = True\n",
    "esmr.complevel                = 9\n",
    "# if uncommented EASYMORE will use this and skip GIS tasks, attributes are only to be checked with remapped so can be assured\n",
    "#esmr.remap_nc                = esmr.temp_dir+esmr.case_name +'_remapping.nc'\n",
    "#esmr.attr_nc                 = esmr.temp_dir+esmr.case_name +'_attributes.nc'\n",
    "\n",
    "# execute EASYMORE\n",
    "esmr.nc_remapper()"
   ]
  }
 ],
 "metadata": {
  "kernelspec": {
   "display_name": "Python [conda env:geo_esmr]",
   "language": "python",
   "name": "conda-env-geo_esmr-py"
  },
  "language_info": {
   "codemirror_mode": {
    "name": "ipython",
    "version": 3
   },
   "file_extension": ".py",
   "mimetype": "text/x-python",
   "name": "python",
   "nbconvert_exporter": "python",
   "pygments_lexer": "ipython3",
   "version": "3.11.0"
  }
 },
 "nbformat": 4,
 "nbformat_minor": 5
}
