{
 "cells": [
  {
   "cell_type": "code",
   "execution_count": null,
   "id": "153784b0-94ef-405a-9d0a-635c520705d6",
   "metadata": {},
   "outputs": [],
   "source": [
    "import os, sys, subprocess, time, toml\n",
    "import pandas as pd\n",
    "import numpy as np\n",
    "from MOASMO_parameter_allbasin_emulator import allbasin_emulator_train_and_optimize, allbasin_emulator_CV_traintest_and_optimize\n",
    "import run_multiple_paramsets_Derecho\n",
    "from multiprocessing import Pool\n",
    "\n",
    "iter_end = int(sys.argv[1]) # e.g., iter_end=2 means outputs from iter0 and iter1 will be used to generate new paprameters for iter 2\n",
    "ncpus = int(sys.argv[2]) \n",
    "# ncpus = 20\n",
    "# iterend = 1\n",
    "numruns = 100\n",
    "\n",
    "only_checkruns = False\n",
    "\n",
    "infile_basin_info = f\"/glade/work/guoqiang/CTSM_CAMELS/data_mesh_surf/HillslopeHydrology/CAMELS_level1_basin_info.csv\"\n",
    "infile_param_info = '/glade/u/home/guoqiang/CTSM_repos/CTSM_calibration/src/parameter/CTSM_CAMELS_SA_param_240202.csv'\n",
    "infile_attr_foruse = '/glade/u/home/guoqiang/CTSM_repos/CTSM_calibration/data/camels_attributes_table_TrainModel.csv'\n",
    "inpath_moasmo = \"/glade/campaign/cgd/tss/people/guoqiang/CTSM_CAMELS_proj/Calib_HH_MOASMO_bigrange\"\n",
    "path_CTSM_case_all = f'/glade/work/guoqiang/CTSM_CAMELS/Calib_HH_MOASMO_bigrange'\n",
    "\n",
    "# trainmode = 'trainbasin' # allbasin; trainbasin\n",
    "# trainmode = 'allbasin_2err'\n",
    "# trainmode = 'spaceCV'\n",
    "# trainmode = 'allbasin_50iter0'\n",
    "trainmode = 'allbasin'\n"
   ]
  }
 ],
 "metadata": {
  "kernelspec": {
   "display_name": "Python [conda env:npl-2024a-tgq]",
   "language": "python",
   "name": "conda-env-npl-2024a-tgq-py"
  },
  "language_info": {
   "codemirror_mode": {
    "name": "ipython",
    "version": 3
   },
   "file_extension": ".py",
   "mimetype": "text/x-python",
   "name": "python",
   "nbconvert_exporter": "python",
   "pygments_lexer": "ipython3",
   "version": "3.11.6"
  }
 },
 "nbformat": 4,
 "nbformat_minor": 5
}
