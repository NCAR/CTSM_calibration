{
 "cells": [
  {
   "cell_type": "code",
   "execution_count": null,
   "id": "28d38ce9-c721-40d9-8126-f9efd18439dd",
   "metadata": {},
   "outputs": [],
   "source": []
  }
 ],
 "metadata": {
  "kernelspec": {
   "display_name": "NPL 2024a",
   "language": "python",
   "name": "npl-2024a"
  },
  "language_info": {
   "name": ""
  }
 },
 "nbformat": 4,
 "nbformat_minor": 5
}
