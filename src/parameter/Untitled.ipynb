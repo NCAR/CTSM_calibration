{
 "cells": [
  {
   "cell_type": "code",
   "execution_count": 5,
   "id": "2c797d4b-d9a0-482b-8fdb-2890a594ee79",
   "metadata": {},
   "outputs": [],
   "source": [
    "import pandas as pd\n",
    "import numpy as np"
   ]
  },
  {
   "cell_type": "code",
   "execution_count": 94,
   "id": "39405db0-4345-41ae-9c47-dbef84ac17ec",
   "metadata": {},
   "outputs": [
    {
     "data": {
      "text/plain": [
       "array([array([250000.]), array([2.]), array([-0.5]), array([10.]),\n",
       "       array([8.]), array([4.]), array([0.1]), array([0.8]), array([9.]),\n",
       "       array([0.0e+00, 2.5e-10, 2.9e-10, 1.6e-10, 1.9e-08, 5.1e-10, 1.0e-08,\n",
       "              1.6e-10, 2.1e-10, 1.7e-09, 1.1e-07, 1.5e-10, 1.9e-10, 5.9e-08,\n",
       "              1.0e-07, 3.8e-09, 3.8e-09, 3.8e-09, 3.8e-09, 3.8e-09, 3.8e-09,\n",
       "              3.8e-09, 3.8e-09, 3.8e-09, 3.8e-09, 3.8e-09, 3.8e-09, 3.8e-09,\n",
       "              3.8e-09, 3.8e-09, 3.8e-09, 3.8e-09, 3.8e-09, 3.8e-09, 3.8e-09,\n",
       "              3.8e-09, 3.8e-09, 3.8e-09, 3.8e-09, 3.8e-09, 3.8e-09, 3.8e-09,\n",
       "              3.8e-09, 3.8e-09, 3.8e-09, 3.8e-09, 3.8e-09, 3.8e-09, 3.8e-09,\n",
       "              3.8e-09, 3.8e-09, 3.8e-09, 3.8e-09, 3.8e-09, 3.8e-09, 3.8e-09,\n",
       "              3.8e-09, 3.8e-09, 3.8e-09, 3.8e-09, 3.8e-09, 3.8e-09, 3.8e-09,\n",
       "              3.8e-09, 3.8e-09, 3.8e-09, 3.8e-09, 3.8e-09, 3.8e-09, 3.8e-09,\n",
       "              3.8e-09, 3.8e-09, 3.8e-09, 3.8e-09, 3.8e-09, 3.8e-09, 3.8e-09,\n",
       "              3.8e-09, 3.8e-09])                                            ,\n",
       "       array([100.]), array([2.]), array([0.04]), array([0.15]),\n",
       "       array([500.]), array([600.]), array([20000.]), array([4.])],\n",
       "      dtype=object)"
      ]
     },
     "execution_count": 94,
     "metadata": {},
     "output_type": "execute_result"
    }
   ],
   "source": [
    "def read_parameter_csv(file_parameter_list):\n",
    "    df_calibparam = pd.read_csv(file_parameter_list)\n",
    "\n",
    "    if isinstance(df_calibparam.iloc[0]['Upper'], str):\n",
    "        for c in ['Upper', 'Lower']:\n",
    "            arr = []\n",
    "            for i in range(len(df_calibparam)):\n",
    "                vi = df_calibparam.iloc[i][c]\n",
    "                if ',' in vi:\n",
    "                    arr.append(np.array(vi.split(',')).astype(np.float64))\n",
    "                else:\n",
    "                    arr.append(np.array([np.float64(vi)]))\n",
    "            df_calibparam[c] = arr\n",
    "    return df_calibparam\n",
    "\n",
    "df = read_parameter_csv('param_ASG_20221206_moasmo.csv')\n",
    "df['Upper'].values"
   ]
  },
  {
   "cell_type": "code",
   "execution_count": 108,
   "id": "f743013c-1fec-4a07-831c-9ac085e1e466",
   "metadata": {},
   "outputs": [
    {
     "data": {
      "text/plain": [
       "18"
      ]
     },
     "execution_count": 108,
     "metadata": {},
     "output_type": "execute_result"
    }
   ],
   "source": [
    "len(df['Upper'].values)"
   ]
  },
  {
   "cell_type": "code",
   "execution_count": 90,
   "id": "12eb002a-ec7b-4e79-a371-690536bdfeb0",
   "metadata": {},
   "outputs": [
    {
     "data": {
      "text/plain": [
       "array([0.0e+00, 2.3e-11, 2.6e-11, 2.8e-11, 1.1e-10, 5.4e-11, 8.0e-11,\n",
       "       6.9e-11, 9.3e-11, 4.5e-11, 7.4e-11, 2.2e-11, 1.0e-11, 4.7e-11,\n",
       "       8.2e-11, 6.0e-11, 6.0e-11, 6.0e-11, 6.0e-11, 6.0e-11, 6.0e-11,\n",
       "       6.0e-11, 6.0e-11, 6.0e-11, 6.0e-11, 6.0e-11, 6.0e-11, 6.0e-11,\n",
       "       6.0e-11, 6.0e-11, 6.0e-11, 6.0e-11, 6.0e-11, 6.0e-11, 6.0e-11,\n",
       "       6.0e-11, 6.0e-11, 6.0e-11, 6.0e-11, 6.0e-11, 6.0e-11, 6.0e-11,\n",
       "       6.0e-11, 6.0e-11, 6.0e-11, 6.0e-11, 6.0e-11, 6.0e-11, 6.0e-11,\n",
       "       6.0e-11, 6.0e-11, 6.0e-11, 6.0e-11, 6.0e-11, 6.0e-11, 6.0e-11,\n",
       "       6.0e-11, 6.0e-11, 6.0e-11, 6.0e-11, 6.0e-11, 6.0e-11, 6.0e-11,\n",
       "       6.0e-11, 6.0e-11, 6.0e-11, 6.0e-11, 6.0e-11, 6.0e-11, 6.0e-11,\n",
       "       6.0e-11, 6.0e-11, 6.0e-11, 6.0e-11, 6.0e-11, 6.0e-11, 6.0e-11,\n",
       "       6.0e-11, 6.0e-11])"
      ]
     },
     "execution_count": 90,
     "metadata": {},
     "output_type": "execute_result"
    }
   ],
   "source": [
    "df.loc[df['Parameter']=='krmax']['Lower'].iloc[0]"
   ]
  },
  {
   "cell_type": "code",
   "execution_count": 109,
   "id": "b9167b9a-dbdf-4d0c-953b-2a42d98ab149",
   "metadata": {},
   "outputs": [],
   "source": [
    "a = {'a': 12, 'b': np.array([12, 31212])}"
   ]
  },
  {
   "cell_type": "code",
   "execution_count": 117,
   "id": "2460d98e-228c-44f9-b0a1-6fc742323dc8",
   "metadata": {},
   "outputs": [],
   "source": [
    "np.savez_compressed('test.npz',a=a)"
   ]
  },
  {
   "cell_type": "code",
   "execution_count": 134,
   "id": "8770c26a-2ea5-4c5e-900a-7567f7b8d943",
   "metadata": {},
   "outputs": [],
   "source": [
    "s=pd.read_csv('test.csv').iloc[9]['Upper']"
   ]
  },
  {
   "cell_type": "code",
   "execution_count": 143,
   "id": "0345c597-0958-43c5-8853-6346a309f1a7",
   "metadata": {},
   "outputs": [
    {
     "data": {
      "text/plain": [
       "'[0.0e+00 2.5e-10 2.9e-10 1.6e-10 1.9e-08 5.1e-10 1.0e-08 1.6e-10 2.1e-10 1.7e-09 1.1e-07 1.5e-10 1.9e-10 5.9e-08 1.0e-07 3.8e-09 3.8e-09 3.8e-09 3.8e-09 3.8e-09 3.8e-09 3.8e-09 3.8e-09 3.8e-09 3.8e-09 3.8e-09 3.8e-09 3.8e-09 3.8e-09 3.8e-09 3.8e-09 3.8e-09 3.8e-09 3.8e-09 3.8e-09 3.8e-09 3.8e-09 3.8e-09 3.8e-09 3.8e-09 3.8e-09 3.8e-09 3.8e-09 3.8e-09 3.8e-09 3.8e-09 3.8e-09 3.8e-09 3.8e-09 3.8e-09 3.8e-09 3.8e-09 3.8e-09 3.8e-09 3.8e-09 3.8e-09 3.8e-09 3.8e-09 3.8e-09 3.8e-09 3.8e-09 3.8e-09 3.8e-09 3.8e-09 3.8e-09 3.8e-09 3.8e-09 3.8e-09 3.8e-09 3.8e-09 3.8e-09 3.8e-09 3.8e-09 3.8e-09 3.8e-09 3.8e-09 3.8e-09 3.8e-09 3.8e-09]'"
      ]
     },
     "execution_count": 143,
     "metadata": {},
     "output_type": "execute_result"
    }
   ],
   "source": [
    "s.replace('\\n', '')"
   ]
  },
  {
   "cell_type": "code",
   "execution_count": 140,
   "id": "84d44b85-8e81-4340-9dea-4663d610049b",
   "metadata": {},
   "outputs": [],
   "source": [
    "elements = s.strip('[]').split()\n",
    "\n",
    "# Convert elements to float and create a NumPy array\n",
    "array = np.array(elements, dtype=float)"
   ]
  },
  {
   "cell_type": "code",
   "execution_count": 141,
   "id": "4a77b92b-82f0-4315-8c24-adad100c7057",
   "metadata": {},
   "outputs": [
    {
     "data": {
      "text/plain": [
       "array([0.0e+00, 2.5e-10, 2.9e-10, 1.6e-10, 1.9e-08, 5.1e-10, 1.0e-08,\n",
       "       1.6e-10, 2.1e-10, 1.7e-09, 1.1e-07, 1.5e-10, 1.9e-10, 5.9e-08,\n",
       "       1.0e-07, 3.8e-09, 3.8e-09, 3.8e-09, 3.8e-09, 3.8e-09, 3.8e-09,\n",
       "       3.8e-09, 3.8e-09, 3.8e-09, 3.8e-09, 3.8e-09, 3.8e-09, 3.8e-09,\n",
       "       3.8e-09, 3.8e-09, 3.8e-09, 3.8e-09, 3.8e-09, 3.8e-09, 3.8e-09,\n",
       "       3.8e-09, 3.8e-09, 3.8e-09, 3.8e-09, 3.8e-09, 3.8e-09, 3.8e-09,\n",
       "       3.8e-09, 3.8e-09, 3.8e-09, 3.8e-09, 3.8e-09, 3.8e-09, 3.8e-09,\n",
       "       3.8e-09, 3.8e-09, 3.8e-09, 3.8e-09, 3.8e-09, 3.8e-09, 3.8e-09,\n",
       "       3.8e-09, 3.8e-09, 3.8e-09, 3.8e-09, 3.8e-09, 3.8e-09, 3.8e-09,\n",
       "       3.8e-09, 3.8e-09, 3.8e-09, 3.8e-09, 3.8e-09, 3.8e-09, 3.8e-09,\n",
       "       3.8e-09, 3.8e-09, 3.8e-09, 3.8e-09, 3.8e-09, 3.8e-09, 3.8e-09,\n",
       "       3.8e-09, 3.8e-09])"
      ]
     },
     "execution_count": 141,
     "metadata": {},
     "output_type": "execute_result"
    }
   ],
   "source": [
    "array"
   ]
  },
  {
   "cell_type": "code",
   "execution_count": 158,
   "id": "c04623e0-3262-4bcf-918c-4807ea13d804",
   "metadata": {},
   "outputs": [
    {
     "data": {
      "text/html": [
       "<div>\n",
       "<style scoped>\n",
       "    .dataframe tbody tr th:only-of-type {\n",
       "        vertical-align: middle;\n",
       "    }\n",
       "\n",
       "    .dataframe tbody tr th {\n",
       "        vertical-align: top;\n",
       "    }\n",
       "\n",
       "    .dataframe thead th {\n",
       "        text-align: right;\n",
       "    }\n",
       "</style>\n",
       "<table border=\"1\" class=\"dataframe\">\n",
       "  <thead>\n",
       "    <tr style=\"text-align: right;\">\n",
       "      <th></th>\n",
       "      <th>m1</th>\n",
       "      <th>m2</th>\n",
       "    </tr>\n",
       "  </thead>\n",
       "  <tbody>\n",
       "    <tr>\n",
       "      <th>0</th>\n",
       "      <td>1</td>\n",
       "      <td>2</td>\n",
       "    </tr>\n",
       "  </tbody>\n",
       "</table>\n",
       "</div>"
      ],
      "text/plain": [
       "   m1  m2\n",
       "0   1   2"
      ]
     },
     "execution_count": 158,
     "metadata": {},
     "output_type": "execute_result"
    }
   ],
   "source": [
    "df = pd.DataFrame([[1,2]], columns=['m1','m2'])\n",
    "# df.to_csv('test.csv')\n",
    "df"
   ]
  },
  {
   "cell_type": "code",
   "execution_count": 150,
   "id": "552f2ff7-da94-45de-94c2-470f967264d0",
   "metadata": {},
   "outputs": [
    {
     "data": {
      "text/html": [
       "<div>\n",
       "<style scoped>\n",
       "    .dataframe tbody tr th:only-of-type {\n",
       "        vertical-align: middle;\n",
       "    }\n",
       "\n",
       "    .dataframe tbody tr th {\n",
       "        vertical-align: top;\n",
       "    }\n",
       "\n",
       "    .dataframe thead th {\n",
       "        text-align: right;\n",
       "    }\n",
       "</style>\n",
       "<table border=\"1\" class=\"dataframe\">\n",
       "  <thead>\n",
       "    <tr style=\"text-align: right;\">\n",
       "      <th></th>\n",
       "      <th>Unnamed: 0</th>\n",
       "      <th>metric</th>\n",
       "    </tr>\n",
       "  </thead>\n",
       "  <tbody>\n",
       "    <tr>\n",
       "      <th>0</th>\n",
       "      <td>kge_q</td>\n",
       "      <td>0.1</td>\n",
       "    </tr>\n",
       "    <tr>\n",
       "      <th>1</th>\n",
       "      <td>rmse_q</td>\n",
       "      <td>0.2</td>\n",
       "    </tr>\n",
       "  </tbody>\n",
       "</table>\n",
       "</div>"
      ],
      "text/plain": [
       "  Unnamed: 0  metric\n",
       "0      kge_q     0.1\n",
       "1     rmse_q     0.2"
      ]
     },
     "execution_count": 150,
     "metadata": {},
     "output_type": "execute_result"
    }
   ],
   "source": [
    "pd.read_csv('test.csv')"
   ]
  },
  {
   "cell_type": "code",
   "execution_count": 33,
   "id": "5696804c-d8d1-413b-a999-a83c939e3d68",
   "metadata": {},
   "outputs": [],
   "source": [
    "d = df['Lower'].values"
   ]
  },
  {
   "cell_type": "code",
   "execution_count": 34,
   "id": "da462a5c-9185-4622-ab51-6423ae605a53",
   "metadata": {},
   "outputs": [
    {
     "data": {
      "text/plain": [
       "array([20000.])"
      ]
     },
     "execution_count": 34,
     "metadata": {},
     "output_type": "execute_result"
    }
   ],
   "source": [
    "np.array(d[0].split(',')).astype(np.float64)"
   ]
  },
  {
   "cell_type": "code",
   "execution_count": 70,
   "id": "257d322d-0a61-4212-b0ea-f157f120fa9d",
   "metadata": {},
   "outputs": [],
   "source": [
    "# Create a dictionary with sample data\n",
    "data = {\n",
    "    'Name': ['John', 'Emily', 'Ryan', 'Sophia'],\n",
    "    'Age': [ [1], [2], [3], [4]],\n",
    "    'City': ['New York', 'Paris', 'London', 'Tokyo'],\n",
    "    'Salary': [50000, 60000, 70000, 55000]\n",
    "}\n",
    "\n",
    "# Create the DataFrame\n",
    "df = pd.DataFrame(data)"
   ]
  },
  {
   "cell_type": "code",
   "execution_count": 71,
   "id": "2dbb4e4a-6850-4719-94ef-3564384c6f23",
   "metadata": {},
   "outputs": [
    {
     "data": {
      "text/html": [
       "<div>\n",
       "<style scoped>\n",
       "    .dataframe tbody tr th:only-of-type {\n",
       "        vertical-align: middle;\n",
       "    }\n",
       "\n",
       "    .dataframe tbody tr th {\n",
       "        vertical-align: top;\n",
       "    }\n",
       "\n",
       "    .dataframe thead th {\n",
       "        text-align: right;\n",
       "    }\n",
       "</style>\n",
       "<table border=\"1\" class=\"dataframe\">\n",
       "  <thead>\n",
       "    <tr style=\"text-align: right;\">\n",
       "      <th></th>\n",
       "      <th>Name</th>\n",
       "      <th>Age</th>\n",
       "      <th>City</th>\n",
       "      <th>Salary</th>\n",
       "    </tr>\n",
       "  </thead>\n",
       "  <tbody>\n",
       "    <tr>\n",
       "      <th>0</th>\n",
       "      <td>John</td>\n",
       "      <td>[1]</td>\n",
       "      <td>New York</td>\n",
       "      <td>50000</td>\n",
       "    </tr>\n",
       "    <tr>\n",
       "      <th>1</th>\n",
       "      <td>Emily</td>\n",
       "      <td>[2]</td>\n",
       "      <td>Paris</td>\n",
       "      <td>60000</td>\n",
       "    </tr>\n",
       "    <tr>\n",
       "      <th>2</th>\n",
       "      <td>Ryan</td>\n",
       "      <td>[3]</td>\n",
       "      <td>London</td>\n",
       "      <td>70000</td>\n",
       "    </tr>\n",
       "    <tr>\n",
       "      <th>3</th>\n",
       "      <td>Sophia</td>\n",
       "      <td>[4]</td>\n",
       "      <td>Tokyo</td>\n",
       "      <td>55000</td>\n",
       "    </tr>\n",
       "  </tbody>\n",
       "</table>\n",
       "</div>"
      ],
      "text/plain": [
       "     Name  Age      City  Salary\n",
       "0    John  [1]  New York   50000\n",
       "1   Emily  [2]     Paris   60000\n",
       "2    Ryan  [3]    London   70000\n",
       "3  Sophia  [4]     Tokyo   55000"
      ]
     },
     "execution_count": 71,
     "metadata": {},
     "output_type": "execute_result"
    }
   ],
   "source": [
    "df"
   ]
  },
  {
   "cell_type": "code",
   "execution_count": 159,
   "id": "1817100e-63fe-427f-916a-89227c811426",
   "metadata": {},
   "outputs": [
    {
     "ename": "NameError",
     "evalue": "name 'df_info' is not defined",
     "output_type": "error",
     "traceback": [
      "\u001b[0;31m---------------------------------------------------------------------------\u001b[0m",
      "\u001b[0;31mNameError\u001b[0m                                 Traceback (most recent call last)",
      "\u001b[0;32m/var/folders/pf/n30tfn0j0n93dr81jm369hyc0000gp/T/ipykernel_20851/4223536260.py\u001b[0m in \u001b[0;36m<module>\u001b[0;34m\u001b[0m\n\u001b[0;32m----> 1\u001b[0;31m \u001b[0mdf_info\u001b[0m\u001b[0;34m\u001b[0m\u001b[0;34m\u001b[0m\u001b[0m\n\u001b[0m",
      "\u001b[0;31mNameError\u001b[0m: name 'df_info' is not defined"
     ]
    }
   ],
   "source": [
    "df_info"
   ]
  },
  {
   "cell_type": "code",
   "execution_count": 162,
   "id": "0950006c-1375-4163-a939-d8b081f54986",
   "metadata": {},
   "outputs": [
    {
     "name": "stderr",
     "output_type": "stream",
     "text": [
      "/var/folders/pf/n30tfn0j0n93dr81jm369hyc0000gp/T/ipykernel_20851/2933082444.py:1: RuntimeWarning: divide by zero encountered in log\n",
      "  np.log(0)\n"
     ]
    },
    {
     "data": {
      "text/plain": [
       "-inf"
      ]
     },
     "execution_count": 162,
     "metadata": {},
     "output_type": "execute_result"
    }
   ],
   "source": [
    "np.log(0)"
   ]
  },
  {
   "cell_type": "code",
   "execution_count": 77,
   "id": "d5fda3ee-1f2c-4224-ae8d-b2afe51ff710",
   "metadata": {},
   "outputs": [
    {
     "data": {
      "text/html": [
       "<div>\n",
       "<style scoped>\n",
       "    .dataframe tbody tr th:only-of-type {\n",
       "        vertical-align: middle;\n",
       "    }\n",
       "\n",
       "    .dataframe tbody tr th {\n",
       "        vertical-align: top;\n",
       "    }\n",
       "\n",
       "    .dataframe thead th {\n",
       "        text-align: right;\n",
       "    }\n",
       "</style>\n",
       "<table border=\"1\" class=\"dataframe\">\n",
       "  <thead>\n",
       "    <tr style=\"text-align: right;\">\n",
       "      <th></th>\n",
       "      <th>Name</th>\n",
       "      <th>Age</th>\n",
       "      <th>City</th>\n",
       "      <th>Salary</th>\n",
       "      <th>as</th>\n",
       "    </tr>\n",
       "  </thead>\n",
       "  <tbody>\n",
       "    <tr>\n",
       "      <th>0</th>\n",
       "      <td>John</td>\n",
       "      <td>[1]</td>\n",
       "      <td>New York</td>\n",
       "      <td>50000</td>\n",
       "      <td>1</td>\n",
       "    </tr>\n",
       "    <tr>\n",
       "      <th>1</th>\n",
       "      <td>Emily</td>\n",
       "      <td>[2]</td>\n",
       "      <td>Paris</td>\n",
       "      <td>60000</td>\n",
       "      <td>1</td>\n",
       "    </tr>\n",
       "    <tr>\n",
       "      <th>2</th>\n",
       "      <td>Ryan</td>\n",
       "      <td>[3]</td>\n",
       "      <td>London</td>\n",
       "      <td>70000</td>\n",
       "      <td>1</td>\n",
       "    </tr>\n",
       "    <tr>\n",
       "      <th>3</th>\n",
       "      <td>Sophia</td>\n",
       "      <td>[4]</td>\n",
       "      <td>Tokyo</td>\n",
       "      <td>55000</td>\n",
       "      <td>1</td>\n",
       "    </tr>\n",
       "  </tbody>\n",
       "</table>\n",
       "</div>"
      ],
      "text/plain": [
       "     Name  Age      City  Salary  as\n",
       "0    John  [1]  New York   50000   1\n",
       "1   Emily  [2]     Paris   60000   1\n",
       "2    Ryan  [3]    London   70000   1\n",
       "3  Sophia  [4]     Tokyo   55000   1"
      ]
     },
     "execution_count": 77,
     "metadata": {},
     "output_type": "execute_result"
    }
   ],
   "source": []
  },
  {
   "cell_type": "code",
   "execution_count": null,
   "id": "cb4ae0ab-0f41-4071-80d3-386f71597e6a",
   "metadata": {},
   "outputs": [],
   "source": []
  }
 ],
 "metadata": {
  "kernelspec": {
   "display_name": "Python [conda env:general]",
   "language": "python",
   "name": "conda-env-general-py"
  },
  "language_info": {
   "codemirror_mode": {
    "name": "ipython",
    "version": 3
   },
   "file_extension": ".py",
   "mimetype": "text/x-python",
   "name": "python",
   "nbconvert_exporter": "python",
   "pygments_lexer": "ipython3",
   "version": "3.9.13"
  }
 },
 "nbformat": 4,
 "nbformat_minor": 5
}
