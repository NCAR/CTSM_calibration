{
 "cells": [
  {
   "cell_type": "code",
   "execution_count": 1,
   "id": "e3b32772-67de-435c-aaea-085756f13f55",
   "metadata": {},
   "outputs": [],
   "source": [
    "# Build an emulator based on data from all basins\n",
    "# Investigate different emulator set up and methods\n",
    "# spatial CV"
   ]
  },
  {
   "cell_type": "code",
   "execution_count": null,
   "id": "02d55bdb-8481-4161-a3e3-d37dfb02a62b",
   "metadata": {},
   "outputs": [],
   "source": []
  }
 ],
 "metadata": {
  "kernelspec": {
   "display_name": "NPL 2024a",
   "language": "python",
   "name": "npl-2024a"
  },
  "language_info": {
   "codemirror_mode": {
    "name": "ipython",
    "version": 3
   },
   "file_extension": ".py",
   "mimetype": "text/x-python",
   "name": "python",
   "nbconvert_exporter": "python",
   "pygments_lexer": "ipython3",
   "version": "3.11.6"
  }
 },
 "nbformat": 4,
 "nbformat_minor": 5
}
