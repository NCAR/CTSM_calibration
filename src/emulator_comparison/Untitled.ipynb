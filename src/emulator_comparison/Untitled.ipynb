{
 "cells": [
  {
   "cell_type": "code",
   "execution_count": 3,
   "id": "9dadb8bd-d242-4d33-b2f9-e5cab8779c0e",
   "metadata": {},
   "outputs": [
    {
     "name": "stdout",
     "output_type": "stream",
     "text": [
      "File CAMELS_4model_emulator_metric_502.npz not found, inserting NaNs for index 502.\n"
     ]
    }
   ],
   "source": [
    "# ## combine scripts\n",
    "import numpy as np\n",
    "import os\n",
    "\n",
    "# Determine the shape of metric_out from one of the files to know how many columns are needed\n",
    "# For demonstration, let's assume it's already known, e.g., 10 columns\n",
    "num_columns = 4  # Adjust based on the actual shape of metric_out in your files\n",
    "\n",
    "# Initialize an array full of NaNs to hold the combined metrics\n",
    "# Assuming the shape of metric_out is known or can be inferred from the first available file\n",
    "combined_metrics = np.full((627, num_columns), np.nan)\n",
    "\n",
    "# Loop through the file indices\n",
    "for i in range(627):  # Assuming files are numbered from 0 to 626\n",
    "    # Construct the file name based on the current index\n",
    "    file_name = f'CAMELS_4model_emulator_metric_{i}.npz'\n",
    "    \n",
    "    # Check if the file exists\n",
    "    if os.path.exists(file_name):\n",
    "        # Load the .npz file\n",
    "        data = np.load(file_name)\n",
    "        \n",
    "        # Extract the metric_out variable\n",
    "        metric_out = data['metric_out']\n",
    "        \n",
    "        # Assuming metric_out is a 2D array and you need to extract the row corresponding to the file index\n",
    "        relevant_row = metric_out[i, :]\n",
    "        \n",
    "        # Place the relevant row into the combined_metrics array at the correct position\n",
    "        combined_metrics[i, :] = relevant_row\n",
    "    else:\n",
    "        print(f\"File {file_name} not found, inserting NaNs for index {i}.\")\n",
    "\n",
    "# combined_metrics now contains data from all files, with NaNs for any missing files\n",
    "\n",
    "# Save the combined metrics array for future use\n",
    "np.savez_compressed('CAMELS_4model_emulator_metric.npz', metric_out=combined_metrics)"
   ]
  },
  {
   "cell_type": "code",
   "execution_count": 8,
   "id": "211afcaa-9c1c-467d-86ce-55c1be6ee4e0",
   "metadata": {},
   "outputs": [
    {
     "data": {
      "text/plain": [
       "array([0.64986189, 0.71998874, 0.43982881, 0.35922942])"
      ]
     },
     "execution_count": 8,
     "metadata": {},
     "output_type": "execute_result"
    }
   ],
   "source": [
    "np.nanmean(combined_metrics,axis=0)"
   ]
  },
  {
   "cell_type": "code",
   "execution_count": 9,
   "id": "a5ce5e18-b0ab-42ae-aeff-03a3d90eafc3",
   "metadata": {},
   "outputs": [
    {
     "data": {
      "text/plain": [
       "array([0.64602481, 0.77125969, 0.4969365 , 0.51967606])"
      ]
     },
     "execution_count": 9,
     "metadata": {},
     "output_type": "execute_result"
    }
   ],
   "source": [
    "np.nanmedian(combined_metrics,axis=0)"
   ]
  },
  {
   "cell_type": "code",
   "execution_count": null,
   "id": "a1cb046e-555b-471d-b5c3-690e410fafda",
   "metadata": {},
   "outputs": [],
   "source": []
  }
 ],
 "metadata": {
  "kernelspec": {
   "display_name": "NPL 2024a",
   "language": "python",
   "name": "npl-2024a"
  },
  "language_info": {
   "codemirror_mode": {
    "name": "ipython",
    "version": 3
   },
   "file_extension": ".py",
   "mimetype": "text/x-python",
   "name": "python",
   "nbconvert_exporter": "python",
   "pygments_lexer": "ipython3",
   "version": "3.11.6"
  }
 },
 "nbformat": 4,
 "nbformat_minor": 5
}
