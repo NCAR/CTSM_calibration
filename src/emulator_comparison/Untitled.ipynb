{
 "cells": [
  {
   "cell_type": "code",
   "execution_count": 3,
   "id": "9dadb8bd-d242-4d33-b2f9-e5cab8779c0e",
   "metadata": {},
   "outputs": [
    {
     "name": "stdout",
     "output_type": "stream",
     "text": [
      "File CAMELS_4model_emulator_metric_502.npz not found, inserting NaNs for index 502.\n"
     ]
    }
   ],
   "source": [
    "# ## combine scripts\n",
    "import numpy as np\n",
    "import os\n",
    "\n",
    "# Determine the shape of metric_out from one of the files to know how many columns are needed\n",
    "# For demonstration, let's assume it's already known, e.g., 10 columns\n",
    "num_columns = 4  # Adjust based on the actual shape of metric_out in your files\n",
    "\n",
    "# Initialize an array full of NaNs to hold the combined metrics\n",
    "# Assuming the shape of metric_out is known or can be inferred from the first available file\n",
    "combined_metrics = np.full((627, num_columns), np.nan)\n",
    "\n",
    "# Loop through the file indices\n",
    "for i in range(627):  # Assuming files are numbered from 0 to 626\n",
    "    # Construct the file name based on the current index\n",
    "    file_name = f'CAMELS_4model_emulator_metric_{i}.npz'\n",
    "    \n",
    "    # Check if the file exists\n",
    "    if os.path.exists(file_name):\n",
    "        # Load the .npz file\n",
    "        data = np.load(file_name)\n",
    "        \n",
    "        # Extract the metric_out variable\n",
    "        metric_out = data['metric_out']\n",
    "        \n",
    "        # Assuming metric_out is a 2D array and you need to extract the row corresponding to the file index\n",
    "        relevant_row = metric_out[i, :]\n",
    "        \n",
    "        # Place the relevant row into the combined_metrics array at the correct position\n",
    "        combined_metrics[i, :] = relevant_row\n",
    "    else:\n",
    "        print(f\"File {file_name} not found, inserting NaNs for index {i}.\")\n",
    "\n",
    "# combined_metrics now contains data from all files, with NaNs for any missing files\n",
    "\n",
    "# Save the combined metrics array for future use\n",
    "np.savez_compressed('CAMELS_4model_emulator_metric.npz', metric_out=combined_metrics)"
   ]
  },
  {
   "cell_type": "code",
   "execution_count": 2,
   "id": "211afcaa-9c1c-467d-86ce-55c1be6ee4e0",
   "metadata": {},
   "outputs": [
    {
     "ename": "NameError",
     "evalue": "name 'kge_q' is not defined",
     "output_type": "error",
     "traceback": [
      "\u001b[0;31m---------------------------------------------------------------------------\u001b[0m",
      "\u001b[0;31mNameError\u001b[0m                                 Traceback (most recent call last)",
      "Cell \u001b[0;32mIn[2], line 2\u001b[0m\n\u001b[1;32m      1\u001b[0m \u001b[38;5;28;01mimport\u001b[39;00m \u001b[38;5;21;01mnumpy\u001b[39;00m \u001b[38;5;28;01mas\u001b[39;00m \u001b[38;5;21;01mnp\u001b[39;00m\n\u001b[0;32m----> 2\u001b[0m stat_lins \u001b[38;5;241m=\u001b[39m np\u001b[38;5;241m.\u001b[39marray([\u001b[38;5;124mf\u001b[39m\u001b[38;5;124m'\u001b[39m\u001b[38;5;132;01m{\u001b[39;00m\u001b[43mkge_q\u001b[49m\u001b[38;5;132;01m:\u001b[39;00m\u001b[38;5;124m.6f\u001b[39m\u001b[38;5;132;01m}\u001b[39;00m\u001b[38;5;130;01m\\t\u001b[39;00m\u001b[38;5;124m#streamflow_KGE\u001b[39m\u001b[38;5;130;01m\\n\u001b[39;00m\u001b[38;5;124m'\u001b[39m, \n\u001b[1;32m      3\u001b[0m                   \u001b[38;5;124mf\u001b[39m\u001b[38;5;124m'\u001b[39m\u001b[38;5;132;01m{\u001b[39;00mrmse_q\u001b[38;5;132;01m:\u001b[39;00m\u001b[38;5;124m.6f\u001b[39m\u001b[38;5;132;01m}\u001b[39;00m\u001b[38;5;130;01m\\t\u001b[39;00m\u001b[38;5;124m#streamflow_RMSE\u001b[39m\u001b[38;5;130;01m\\n\u001b[39;00m\u001b[38;5;124m'\u001b[39m, \n\u001b[1;32m      4\u001b[0m                   \u001b[38;5;124mf\u001b[39m\u001b[38;5;124m'\u001b[39m\u001b[38;5;132;01m{\u001b[39;00mabs_err\u001b[38;5;132;01m:\u001b[39;00m\u001b[38;5;124m.6f\u001b[39m\u001b[38;5;132;01m}\u001b[39;00m\u001b[38;5;130;01m\\t\u001b[39;00m\u001b[38;5;124m#streamflow_abserr\u001b[39m\u001b[38;5;130;01m\\n\u001b[39;00m\u001b[38;5;124m'\u001b[39m, \n\u001b[1;32m      5\u001b[0m                   \u001b[38;5;124mf\u001b[39m\u001b[38;5;124m'\u001b[39m\u001b[38;5;132;01m{\u001b[39;00mmaxabserror_q\u001b[38;5;132;01m:\u001b[39;00m\u001b[38;5;124m.6f\u001b[39m\u001b[38;5;132;01m}\u001b[39;00m\u001b[38;5;130;01m\\t\u001b[39;00m\u001b[38;5;124m#streamflow_maxmontherr\u001b[39m\u001b[38;5;130;01m\\n\u001b[39;00m\u001b[38;5;124m'\u001b[39m,\n\u001b[1;32m      6\u001b[0m                   \u001b[38;5;124mf\u001b[39m\u001b[38;5;124m'\u001b[39m\u001b[38;5;132;01m{\u001b[39;00mmean_error\u001b[38;5;132;01m:\u001b[39;00m\u001b[38;5;124m.6f\u001b[39m\u001b[38;5;132;01m}\u001b[39;00m\u001b[38;5;130;01m\\t\u001b[39;00m\u001b[38;5;124m#streamflow_meanerr\u001b[39m\u001b[38;5;130;01m\\n\u001b[39;00m\u001b[38;5;124m'\u001b[39m])\n",
      "\u001b[0;31mNameError\u001b[0m: name 'kge_q' is not defined"
     ]
    }
   ],
   "source": [
    "    import numpy as np\n",
    "    stat_lins = np.array([f'{kge_q:.6f}\\t#streamflow_KGE\\n', \n",
    "                      f'{rmse_q:.6f}\\t#streamflow_RMSE\\n', \n",
    "                      f'{abs_err:.6f}\\t#streamflow_abserr\\n', \n",
    "                      f'{maxabserror_q:.6f}\\t#streamflow_maxmontherr\\n',\n",
    "                      f'{mean_error:.6f}\\t#streamflow_meanerr\\n'])"
   ]
  },
  {
   "cell_type": "code",
   "execution_count": null,
   "id": "000bbc36-4134-4c2a-97b6-cdc4d0945986",
   "metadata": {},
   "outputs": [],
   "source": []
  }
 ],
 "metadata": {
  "kernelspec": {
   "display_name": "NPL 2024a",
   "language": "python",
   "name": "npl-2024a"
  },
  "language_info": {
   "codemirror_mode": {
    "name": "ipython",
    "version": 3
   },
   "file_extension": ".py",
   "mimetype": "text/x-python",
   "name": "python",
   "nbconvert_exporter": "python",
   "pygments_lexer": "ipython3",
   "version": "3.11.6"
  }
 },
 "nbformat": 4,
 "nbformat_minor": 5
}
