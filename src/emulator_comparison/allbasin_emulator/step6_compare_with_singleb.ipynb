{
 "cells": [
  {
   "cell_type": "code",
   "execution_count": null,
   "id": "bc9abe44-f043-4bb6-ab81-870ce03eb07f",
   "metadata": {},
   "outputs": [],
   "source": []
  }
 ],
 "metadata": {
  "kernelspec": {
   "display_name": "",
   "name": ""
  },
  "language_info": {
   "name": ""
  }
 },
 "nbformat": 4,
 "nbformat_minor": 5
}
