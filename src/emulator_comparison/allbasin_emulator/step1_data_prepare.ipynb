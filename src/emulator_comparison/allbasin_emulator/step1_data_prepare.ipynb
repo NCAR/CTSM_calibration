{
 "cells": [
  {
   "cell_type": "code",
   "execution_count": 1,
   "id": "e3b32772-67de-435c-aaea-085756f13f55",
   "metadata": {},
   "outputs": [],
   "source": [
    "# read / save model data"
   ]
  },
  {
   "cell_type": "code",
   "execution_count": 2,
   "id": "02d55bdb-8481-4161-a3e3-d37dfb02a62b",
   "metadata": {},
   "outputs": [],
   "source": [
    "\n",
    "import glob\n",
    "import os\n",
    "import sys\n",
    "\n",
    "import pickle\n",
    "import matplotlib.pyplot as plt\n",
    "import numpy as np\n",
    "import pandas as pd\n",
    "\n",
    "sys.path.append(\"../../MOASMO_support\")\n",
    "from MOASMO_parameters import *\n",
    "\n",
    "def read_ctsm_default_parameters(param_names, param_sources, path_CTSM_case):\n",
    "    # use functions from MOASMO_parameters\n",
    "    param0 = []\n",
    "    for j in range(len(param_names)):\n",
    "        param0.append(get_parameter_value_from_CTSM_case(param_names[j], param_sources[j], path_CTSM_case))\n",
    "    \n",
    "    return param0"
   ]
  },
  {
   "cell_type": "markdown",
   "id": "8f7ddd0d-675c-4c0d-8398-2ede4ce697da",
   "metadata": {},
   "source": [
    "# Load data for all basins"
   ]
  },
  {
   "cell_type": "code",
   "execution_count": 3,
   "id": "8a5bb508-307d-4acd-bcc0-91d374188d08",
   "metadata": {},
   "outputs": [
    {
     "name": "stdout",
     "output_type": "stream",
     "text": [
      "Dataframes loaded from outfile.\n"
     ]
    }
   ],
   "source": [
    "outfile = 'camels_627basin_allinfo.pkl'\n",
    "\n",
    "if os.path.exists(outfile):\n",
    "    # Load dataframes from the outfile\n",
    "    with pd.HDFStore(outfile, 'r') as store:\n",
    "        df_basin_info = store['df_basin_info']\n",
    "        df_param_info = store['df_param_info']\n",
    "        df_att = store['df_att']\n",
    "    print(\"Dataframes loaded from outfile.\")\n",
    "else:\n",
    "    # Load basin info\n",
    "    infile_basin_info = f\"/glade/work/guoqiang/CTSM_CAMELS/data_mesh_surf/HillslopeHydrology/CAMELS_level1_basin_info.csv\"\n",
    "    df_basin_info = pd.read_csv(infile_basin_info)\n",
    "\n",
    "    # Note that only some are used for specific basins\n",
    "    infile_param_info = '/glade/u/home/guoqiang/CTSM_repos/CTSM_calibration/src/parameter/CTSM_CAMELS_SA_param_240202.csv'\n",
    "    df_param_info = pd.read_csv(infile_param_info)\n",
    "\n",
    "    # Load basin attributes for this cluster\n",
    "    attfiles = [\n",
    "        \"/glade/campaign/ral/hap/common/camels/camels_geol.txt\",\n",
    "        \"/glade/campaign/ral/hap/common/camels/camels_hydro.txt\",\n",
    "        \"/glade/campaign/ral/hap/common/camels/camels_clim.txt\",\n",
    "        \"/glade/campaign/ral/hap/common/camels/camels_loc_topo.txt\",\n",
    "        \"/glade/campaign/ral/hap/common/camels/camels_soil.txt\",\n",
    "        \"/glade/campaign/ral/hap/common/camels/camels_vege.txt\",\n",
    "    ]\n",
    "\n",
    "    for i in range(len(attfiles)):\n",
    "        dfi = pd.read_csv(attfiles[i], delimiter=\";\")\n",
    "        if i == 0:\n",
    "            df_att = dfi\n",
    "        else:\n",
    "            df_att = pd.merge(df_att, dfi, on=\"gauge_id\")\n",
    "\n",
    "    df_att = df_att.loc[df_att[\"gauge_id\"].isin(df_basin_info[\"hru_id\"].values)]\n",
    "    df_att.sel_index = np.arange(len(df_att))\n",
    "    if np.any(df_att[\"gauge_id\"].values != df_basin_info[\"hru_id\"].values):\n",
    "        sys.exit(\"Mismatch between att and info ids\")\n",
    "    else:\n",
    "        print(\"att and info ids match\")\n",
    "        df_att[\"hru_id\"] = df_basin_info[\"hru_id\"].values\n",
    "\n",
    "    # Save dataframes to the outfile\n",
    "    with pd.HDFStore(outfile, 'w') as store:\n",
    "        store['df_basin_info'] = df_basin_info\n",
    "        store['df_param_info'] = df_param_info\n",
    "        store['df_att'] = df_att\n",
    "    print(\"Dataframes saved to outfile.\")"
   ]
  },
  {
   "cell_type": "code",
   "execution_count": 4,
   "id": "99fa57cf-b5b9-493c-9d99-baaa992b3406",
   "metadata": {},
   "outputs": [
    {
     "name": "stdout",
     "output_type": "stream",
     "text": [
      "All columns are\n",
      "Index(['gauge_id', 'geol_1st_class', 'glim_1st_class_frac', 'geol_2nd_class',\n",
      "       'glim_2nd_class_frac', 'carbonate_rocks_frac', 'geol_porostiy',\n",
      "       'geol_permeability', 'q_mean', 'runoff_ratio', 'slope_fdc',\n",
      "       'baseflow_index', 'stream_elas', 'q5', 'q95', 'high_q_freq',\n",
      "       'high_q_dur', 'low_q_freq', 'low_q_dur', 'zero_q_freq', 'hfd_mean',\n",
      "       'p_mean', 'pet_mean', 'p_seasonality', 'frac_snow', 'aridity',\n",
      "       'high_prec_freq', 'high_prec_dur', 'high_prec_timing', 'low_prec_freq',\n",
      "       'low_prec_dur', 'low_prec_timing', 'huc_02', 'gauge_name', 'gauge_lat',\n",
      "       'gauge_lon', 'mean_elev', 'mean_slope', 'area_gauges2',\n",
      "       'area_geospa_fabric', 'abs_rel_error_area', 'soil_depth_pelletier',\n",
      "       'soil_depth_statsgo', 'soil_porosity', 'soil_conductivity',\n",
      "       'max_water_content', 'sand_frac', 'silt_frac', 'clay_frac',\n",
      "       'water_frac', 'organic_frac', 'other_frac', 'frac_forest', 'lai_max',\n",
      "       'lai_diff', 'gvf_max', 'gvf_diff', 'dom_land_cover_frac',\n",
      "       'dom_land_cover', 'root_depth_50', 'root_depth_99', 'hru_id'],\n",
      "      dtype='object')\n"
     ]
    }
   ],
   "source": [
    "print(\"All columns are\")\n",
    "print(df_att.columns)"
   ]
  },
  {
   "cell_type": "markdown",
   "id": "319d5bc9-defa-4f67-a519-788e7fd86bc0",
   "metadata": {},
   "source": [
    "# Load MO-ASMO outputs (metrics and parameters)\n",
    "Iteration-0"
   ]
  },
  {
   "cell_type": "code",
   "execution_count": 5,
   "id": "137f8acd-88d3-41c2-89c7-bf940860e30e",
   "metadata": {},
   "outputs": [],
   "source": [
    "inpath_moasmo = \"/glade/campaign/cgd/tss/people/guoqiang/CTSM_CAMELS_proj/Calib_HH_MOASMO_bigrange\""
   ]
  },
  {
   "cell_type": "code",
   "execution_count": 6,
   "id": "38165fed-3e8a-476b-b9f6-d5614ac0fc26",
   "metadata": {},
   "outputs": [],
   "source": [
    "# load default parameters for each basin\n",
    "param_names = df_param_info['Parameter'].values\n",
    "param_sources = df_param_info['Source'].values\n",
    "\n",
    "file_defa_param = 'camels_627basin_ctsm_defa_param.csv'\n",
    "\n",
    "if os.path.isfile(file_defa_param):\n",
    "    df_param_defa = pd.read_csv(file_defa_param)\n",
    "else:\n",
    "    pathctsm = '/glade/work/guoqiang/CTSM_CAMELS/Calib_HH_MOASMO_bigrange'\n",
    "    param_defa = np.nan * np.zeros([len(df_basin_info), len(df_param_info)])\n",
    "    for i in range(len(df_basin_info)):\n",
    "        path_CTSM_case = f'{pathctsm}/level1_{i}'\n",
    "        parami_all = read_ctsm_default_parameters(param_names, param_sources, path_CTSM_case)\n",
    "        parami_mean = [np.mean(p) for p in parami_all]\n",
    "        param_defa[i, :] = parami_mean\n",
    "    \n",
    "    df_param_defa = pd.DataFrame(param_defa, columns=param_names)\n",
    "    df_param_defa.to_csv(file_defa_param, index=False)"
   ]
  },
  {
   "cell_type": "code",
   "execution_count": 7,
   "id": "579db97e-15db-49b2-a183-8265f3774848",
   "metadata": {},
   "outputs": [],
   "source": [
    "# load parameter values from all basins\n",
    "\n",
    "file_all_param = 'camels_627basin_ctsm_all_param.csv.gz'\n",
    "\n",
    "if os.path.isfile(file_all_param):\n",
    "    df_param = pd.read_csv(file_all_param, compression='gzip')\n",
    "\n",
    "else:\n",
    "\n",
    "    df_param = pd.DataFrame()\n",
    "    \n",
    "    flag = 0\n",
    "    for i in range(len(df_basin_info)):\n",
    "        file_param = f\"{inpath_moasmo}/level1_{i}_MOASMOcalib/ctsm_outputs/iter0_all_meanparam.csv\"\n",
    "        df1 = pd.read_csv(file_param)\n",
    "      \n",
    "        parami = np.tile(df_param_defa.iloc[i].values, (len(df1), 1))\n",
    "        for j in range(len(df1.columns)):\n",
    "            if df1.columns[j] in param_names: # skip binded parameters\n",
    "                indj = np.where(param_names==df1.columns[j])[0][0]\n",
    "                parami[:,indj] = df1.values[:,j]\n",
    "    \n",
    "        df1 = pd.DataFrame(parami, columns=param_names)\n",
    "        \n",
    "    \n",
    "        if len(df_param) == 0:\n",
    "            df_param = df1\n",
    "        else:\n",
    "            df_param = pd.concat([df_param, df1])\n",
    "    \n",
    "        flag = flag + 1\n",
    "    \n",
    "    \n",
    "    df_param.index = np.arange(len(df_param))\n",
    "    df_param.to_csv(file_all_param, index=False, compression='gzip')\n"
   ]
  },
  {
   "cell_type": "code",
   "execution_count": 8,
   "id": "6ed5d6ce-50d6-4903-8d51-f84b9e24ea2b",
   "metadata": {},
   "outputs": [],
   "source": [
    "# load parameter upper/lower bounds for all basins\n",
    "\n",
    "file_param_lb = 'camels_627basin_ctsm_all_param_lb.csv.gz'\n",
    "file_param_ub = 'camels_627basin_ctsm_all_param_ub.csv.gz'\n",
    "\n",
    "if os.path.isfile(file_param_lb):\n",
    "    df_param_lb = pd.read_csv(file_param_lb, compression='gzip')\n",
    "    df_param_ub = pd.read_csv(file_param_ub, compression='gzip')\n",
    "\n",
    "else:\n",
    "    \n",
    "    param_lb_values = df_param_defa.values.copy()\n",
    "    param_ub_values = df_param_defa.values.copy()\n",
    "    \n",
    "    for i in range(len(df_basin_info)):\n",
    "        file = f\"{inpath_moasmo}/level1_{i}_MOASMOcalib/param_sets/all_default_parameters.pkl\"\n",
    "        dfi = pd.read_pickle(file)\n",
    "    \n",
    "        for j in range(len(dfi['Parameter'].values)):\n",
    "            indj = np.where(df_param_defa.columns.values==dfi['Parameter'].values[j])[0][0]\n",
    "            param_lb_values[i, indj] = dfi['Lower'].values[j]\n",
    "            param_ub_values[i, indj] = dfi['Upper'].values[j]\n",
    "    \n",
    "    df_param_lb = pd.DataFrame(param_lb_values, columns=df_param_defa.columns.values)\n",
    "    df_param_ub = pd.DataFrame(param_ub_values, columns=df_param_defa.columns.values)\n",
    "    \n",
    "    df_param_lb.to_csv(file_param_lb, index=False, compression='gzip')\n",
    "    df_param_ub.to_csv(file_param_ub, index=False, compression='gzip')"
   ]
  },
  {
   "cell_type": "code",
   "execution_count": 9,
   "id": "0623f9ba-6c3e-46d2-86f7-826edca23262",
   "metadata": {},
   "outputs": [],
   "source": [
    "# load metric values from all basins\n",
    "\n",
    "file_all_metric = 'camels_627basin_ctsm_all_metric.csv.gz'\n",
    "file_all_basinid = 'camels_627basin_ctsm_all_basinid.csv.gz'\n",
    "\n",
    "if os.path.isfile(file_all_param):\n",
    "    df_metric = pd.read_csv(file_all_metric, compression='gzip')\n",
    "    df_basinid = pd.read_csv(file_all_basinid, compression='gzip')\n",
    "\n",
    "else:\n",
    "\n",
    "    df_metric = pd.DataFrame()\n",
    "    \n",
    "    flag = 0\n",
    "    for i in range(len(df_basin_info)):\n",
    "        # file_metric = f\"{inpath_moasmo}/level1_{i}_MOASMOcalib/ctsm_outputs/iter0_all_metric.csv\"\n",
    "        \n",
    "        file_metric = f\"{inpath_moasmo}/level1_{i}_MOASMOcalib/ctsm_outputs/iter0_many_metric.csv\"\n",
    "        df2 = pd.read_csv(file_metric)\n",
    "        metnames = df2.columns\n",
    "    \n",
    "        df2[\"basin_num\"] = flag\n",
    "        df2[\"basin_id\"] = i\n",
    "        df2[\"hru_id\"] = df_basin_info[\"hru_id\"].values[flag]\n",
    "    \n",
    "        if len(df_metric) == 0:\n",
    "            df_metric = df2\n",
    "        else:\n",
    "            df_metric = pd.concat([df_metric, df2])\n",
    "    \n",
    "        flag = flag + 1\n",
    "\n",
    "    df_metric.index = np.arange(len(df_metric))\n",
    "    \n",
    "    df_basinid = df_metric[[\"basin_num\", \"basin_id\", \"hru_id\"]]\n",
    "    # df_metric = df_metric[[\"metric1\", \"metric2\"]]\n",
    "    # df_metric = df_metric[metnames]\n",
    "    selected_met =['kge', 'mae', 'n_mae', 'nse', 'cc', 'rmse', 'max_mon_abs_err', 'n_max_mon_abs_err',  'kge_log_q']\n",
    "    df_metric = df_metric[selected_met]\n",
    "    df_metric.to_csv(file_all_metric, index=False, compression='gzip')\n",
    "    df_basinid.to_csv(file_all_basinid, index=False, compression='gzip')"
   ]
  },
  {
   "cell_type": "code",
   "execution_count": null,
   "id": "cc1957b3-6c84-4aaa-82bb-43a80766492d",
   "metadata": {},
   "outputs": [],
   "source": []
  },
  {
   "cell_type": "code",
   "execution_count": null,
   "id": "603825e6-ec02-42a2-aa8e-01ee8b3a366b",
   "metadata": {},
   "outputs": [],
   "source": []
  }
 ],
 "metadata": {
  "kernelspec": {
   "display_name": "NPL 2024a",
   "language": "python",
   "name": "npl-2024a"
  },
  "language_info": {
   "codemirror_mode": {
    "name": "ipython",
    "version": 3
   },
   "file_extension": ".py",
   "mimetype": "text/x-python",
   "name": "python",
   "nbconvert_exporter": "python",
   "pygments_lexer": "ipython3",
   "version": "3.11.6"
  }
 },
 "nbformat": 4,
 "nbformat_minor": 5
}
