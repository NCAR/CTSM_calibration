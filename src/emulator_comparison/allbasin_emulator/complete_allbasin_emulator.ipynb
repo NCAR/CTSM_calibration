{
 "cells": [
  {
   "cell_type": "code",
   "execution_count": 1,
   "id": "196c6aa7-21de-4f05-8998-97c9581978f3",
   "metadata": {},
   "outputs": [],
   "source": [
    "# everything is included in one notebook, so this one can be integrated into the workflow\n",
    "# data read, emulator training, and outpujt optmz parameters\n",
    "# some steps in this notebook will be slow\n",
    "# some steps can be parallelized using >1 CPUs"
   ]
  },
  {
   "cell_type": "code",
   "execution_count": null,
   "id": "d2bd7929-8578-42d7-9f8a-87b8558bb9e7",
   "metadata": {},
   "outputs": [],
   "source": []
  }
 ],
 "metadata": {
  "kernelspec": {
   "display_name": "Python [conda env:npl-2024a-tgq]",
   "language": "python",
   "name": "conda-env-npl-2024a-tgq-py"
  },
  "language_info": {
   "codemirror_mode": {
    "name": "ipython",
    "version": 3
   },
   "file_extension": ".py",
   "mimetype": "text/x-python",
   "name": "python",
   "nbconvert_exporter": "python",
   "pygments_lexer": "ipython3",
   "version": "3.11.6"
  }
 },
 "nbformat": 4,
 "nbformat_minor": 5
}
