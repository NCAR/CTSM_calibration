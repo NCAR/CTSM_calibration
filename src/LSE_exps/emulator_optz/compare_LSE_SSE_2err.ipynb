{
 "cells": [
  {
   "cell_type": "code",
   "execution_count": 1,
   "id": "8f458dd6-2d8b-483f-9748-593f5bd71c6c",
   "metadata": {},
   "outputs": [],
   "source": [
    "# NSGA-II two-error-metric optimization"
   ]
  },
  {
   "cell_type": "code",
   "execution_count": 2,
   "id": "ed2aa34b-3b77-4aae-93ca-9baf0eaccfd6",
   "metadata": {},
   "outputs": [],
   "source": [
    "import sys, os, glob, pickle, toml, json\n",
    "import pickle\n",
    "import matplotlib.pyplot as plt\n",
    "import numpy as np\n",
    "import pandas as pd\n",
    "import seaborn as sns\n",
    "\n",
    "import cartopy.crs as ccrs\n",
    "import cartopy.feature as cfeature\n",
    "\n",
    "def set_background(ax):\n",
    "    ax.set_extent([-121, -72, 25, 50])\n",
    "\n",
    "    # Background boundaries\n",
    "    # ax.add_feature(cfeature.LAND)\n",
    "    ax.add_feature(cfeature.COASTLINE)\n",
    "    ax.add_feature(cfeature.BORDERS)\n",
    "    states_provinces = cfeature.NaturalEarthFeature(\n",
    "        category='cultural',\n",
    "        name='admin_1_states_provinces_lines',\n",
    "        scale='50m',\n",
    "        facecolor='none')\n",
    "    ax.add_feature(states_provinces, edgecolor='gray')\n",
    "    \n",
    "    return ax\n",
    "\n",
    "\n",
    "sys.path.append('/glade/u/home/guoqiang/CTSM_repos/ctsm_optz/MO-ASMO/src')\n",
    "import NSGA2"
   ]
  },
  {
   "cell_type": "markdown",
   "id": "324e9e0c-1a69-4d0d-b2cb-daece1d52680",
   "metadata": {},
   "source": [
    "# load data and calculate rank"
   ]
  },
  {
   "cell_type": "code",
   "execution_count": 3,
   "id": "90817ca9-1739-42b1-936b-28197eab5867",
   "metadata": {},
   "outputs": [],
   "source": [
    "outfile = '/glade/campaign/cgd/tss/people/guoqiang/CTSM_CAMELS_proj/Calib_HH_MOASMO_bigrange/LSE_spaceCV_PredictParam/spaceCV_iter0_iter1_eval.npz'\n",
    "\n",
    "if os.path.isfile(outfile):\n",
    "    dtmp = np.load(outfile)\n",
    "    rank_sse_iter0=dtmp['rank_sse_iter0']\n",
    "    rank_lse_iter0=dtmp['rank_lse_iter0']\n",
    "    rank_sse_iter1=dtmp['rank_sse_iter1']\n",
    "    rank_lse_iter1=dtmp['rank_lse_iter1']\n",
    "    met_iter0 = dtmp['met_iter0']\n",
    "    met_sse_iter1=dtmp['met_sse_iter1']\n",
    "    met_lse_iter1=dtmp['met_lse_iter1']\n",
    "\n",
    "else:\n",
    "\n",
    "    rank_sse_iter0 = np.nan * np.zeros([627, 400])\n",
    "    rank_lse_iter0 = np.nan * np.zeros([627, 400])\n",
    "    rank_sse_iter1 = np.nan * np.zeros([627, 40])\n",
    "    rank_lse_iter1 = np.nan * np.zeros([627, 40])\n",
    "    met_iter0 = np.nan * np.zeros([627, 400, 2])\n",
    "    met_sse_iter1 = np.nan * np.zeros([627, 40, 2])\n",
    "    met_lse_iter1 = np.nan * np.zeros([627, 40, 2])\n",
    "    \n",
    "    \n",
    "    for b in range (627):\n",
    "\n",
    "        file = f'/glade/campaign/cgd/tss/people/guoqiang/CTSM_CAMELS_proj/Calib_HH_MOASMO_bigrange/level1_{b}_MOASMOcalib/ctsm_outputs_LSEall2err/iter0_many_metric.csv'\n",
    "        met_iter0[b,:,:] = pd.read_csv(file)[['mae', 'max_mon_abs_err']].values\n",
    "    \n",
    "        # met_sse_iter1 = []\n",
    "        # file = f'/glade/campaign/cgd/tss/people/guoqiang/CTSM_CAMELS_proj/Calib_HH_MOASMO_bigrange/level1_{b}_MOASMOcalib/ctsm_outputs_norm2err/iter1_many_metric.csv'\n",
    "        # met_sse_iter1 = pd.read_csv(file)[['mae', 'max_mon_abs_err']].values\n",
    "        file = f'/glade/campaign/cgd/tss/people/guoqiang/CTSM_CAMELS_proj/Calib_HH_MOASMO_bigrange/level1_{b}_MOASMOcalib/ctsm_outputs/iter1_all_metric.csv'\n",
    "        met_sse_iter1[b, :, :] = pd.read_csv(file).values\n",
    "    \n",
    "        file = f'/glade/campaign/cgd/tss/people/guoqiang/CTSM_CAMELS_proj/Calib_HH_MOASMO_bigrange/level1_{b}_MOASMOcalib/ctsm_outputs_LSEall2err/iter1_many_metric.csv'\n",
    "        met_lse_iter1[b, :, :] = pd.read_csv(file)[['mae', 'max_mon_abs_err']].values\n",
    "    \n",
    "        \n",
    "        dtmp = np.vstack([met_iter0[b,:,:], met_sse_iter1[b, :, :]])\n",
    "        if np.any(np.isnan(dtmp)):\n",
    "            print('nan warning', b)\n",
    "            # break\n",
    "        rank, dom = NSGA2.fast_non_dominated_sort(dtmp)\n",
    "        rank[np.isnan(np.sum(dtmp,axis=1))]=np.nan\n",
    "        rank_sse_iter0[b, :] = rank[:400]\n",
    "        rank_sse_iter1[b, :] = rank[400:]\n",
    "    \n",
    "        dtmp = np.vstack([met_iter0[b,:,:], met_lse_iter1[b, :, :]])\n",
    "        if np.any(np.isnan(dtmp)):\n",
    "            print('nan warning', b)\n",
    "            # break\n",
    "        rank, dom = NSGA2.fast_non_dominated_sort(dtmp)\n",
    "        rank[np.isnan(np.sum(dtmp,axis=1))]=np.nan\n",
    "        rank_lse_iter0[b, :] = rank[:400]\n",
    "        rank_lse_iter1[b, :] = rank[400:]\n",
    "        \n",
    "        # plt.figure()\n",
    "        # plt.scatter(met_iter0[:,0], met_iter0[:,1], label='iter0')\n",
    "        # plt.scatter(met_lse_iter1[:,0], met_lse_iter1[:,1], label='lse iter1')\n",
    "        # plt.scatter(met_sse_iter1[:,0], met_sse_iter1[:,1], label='sse iter2')\n",
    "        # plt.legend()\n",
    "        # plt.show()\n",
    "    \n",
    "        # plt.figure()\n",
    "        # plt.hist(rank_sse_iter1, alpha=0.5, label='sse iter1')\n",
    "        # plt.hist(rank_lse_iter1, alpha=0.5, label='lse iter1')\n",
    "        # plt.legend()\n",
    "        # plt.show()\n",
    "\n",
    "    np.savez_compressed(outfile, rank_sse_iter0=rank_sse_iter0, rank_lse_iter0=rank_lse_iter0, \n",
    "                        rank_sse_iter1=rank_sse_iter1, rank_lse_iter1=rank_lse_iter1, \n",
    "                        met_iter0 = met_iter0, met_sse_iter1=met_sse_iter1, met_lse_iter1=met_lse_iter1)"
   ]
  },
  {
   "cell_type": "markdown",
   "id": "b42f3085-5ead-48d6-be93-d9b313fbe97d",
   "metadata": {},
   "source": [
    "# Comparison plot"
   ]
  },
  {
   "cell_type": "code",
   "execution_count": 4,
   "id": "a6591056-ef6c-4d1e-96df-8ba6d529e54e",
   "metadata": {},
   "outputs": [
    {
     "name": "stdout",
     "output_type": "stream",
     "text": [
      "(627, 400)\n",
      "0.4609250398724083\n",
      "1.3413078149920254\n",
      "24.261562998405104\n",
      "23.339712918660286\n"
     ]
    }
   ],
   "source": [
    "print(rank_lse_iter0.shape)\n",
    "print(np.mean(np.nanmin(rank_lse_iter1,axis=1)))\n",
    "print(np.mean(np.nanmin(rank_sse_iter1,axis=1)))\n",
    "print(np.mean(rank_lse_iter0[:,0]))\n",
    "print(np.mean(rank_sse_iter0[:,0]))"
   ]
  },
  {
   "cell_type": "code",
   "execution_count": 7,
   "id": "b5336438-3d96-48d8-b8d8-3472e5b18940",
   "metadata": {},
   "outputs": [
    {
     "data": {
      "image/png": "[encoded data removed]",
      "text/plain": [
       "<Figure size 600x700 with 2 Axes>"
      ]
     },
     "metadata": {},
     "output_type": "display_data"
    }
   ],
   "source": [
    "fig = plt.figure(figsize=[6, 7])\n",
    "\n",
    "fig.add_subplot(2, 1, 1)\n",
    "d1 = np.nanmin(rank_lse_iter1,axis=1)\n",
    "d2 = np.nanmin(rank_sse_iter1,axis=1)\n",
    "plt.hist(d1, np.arange(0, 10, 1), alpha=0.3, edgecolor='w', label='LSE')\n",
    "plt.hist(d2, np.arange(0, 10, 1), alpha=0.3, edgecolor='w', label='SSE')\n",
    "plt.grid('on')\n",
    "# plt.yscale('log')\n",
    "plt.xlabel('Rank')\n",
    "plt.ylabel('Basin number')\n",
    "plt.legend()\n",
    "plt.title('(a) Minimum rank')\n",
    "\n",
    "fig.add_subplot(2, 1, 2)\n",
    "d1 = np.nanmean(rank_lse_iter1,axis=1)\n",
    "d2 = np.nanmean(rank_sse_iter1,axis=1)\n",
    "# d1 = np.nanmedian(rank_lse_iter1,axis=1)\n",
    "# d2 = np.nanmedian(rank_sse_iter1,axis=1)\n",
    "plt.hist(d1, np.arange(0, 25, 1), alpha=0.4, edgecolor='w', label='LSE')\n",
    "plt.hist(d2, np.arange(0, 25, 1), alpha=0.4, edgecolor='w', label='SSE')\n",
    "plt.grid('on')\n",
    "plt.xlabel('Rank')\n",
    "plt.ylabel('Basin number')\n",
    "# plt.yscale('log')\n",
    "plt.legend()\n",
    "plt.title('(b) Mean rank')\n",
    "\n",
    "plt.tight_layout()\n",
    "plt.savefig('LSE_SEE_2err_iter1_ParetoRank.png', dpi=600, bbox_inches='tight', pad_inches=0)\n",
    "plt.show()"
   ]
  },
  {
   "cell_type": "code",
   "execution_count": null,
   "id": "836f9fe5-d840-45e7-994f-c249b78d0a08",
   "metadata": {},
   "outputs": [],
   "source": []
  }
 ],
 "metadata": {
  "kernelspec": {
   "display_name": "NPL 2024b",
   "language": "python",
   "name": "npl-2024b"
  },
  "language_info": {
   "codemirror_mode": {
    "name": "ipython",
    "version": 3
   },
   "file_extension": ".py",
   "mimetype": "text/x-python",
   "name": "python",
   "nbconvert_exporter": "python",
   "pygments_lexer": "ipython3",
   "version": "3.11.9"
  }
 },
 "nbformat": 4,
 "nbformat_minor": 5
}
