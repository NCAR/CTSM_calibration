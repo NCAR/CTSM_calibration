{
 "cells": [
  {
   "cell_type": "code",
   "execution_count": 1,
   "id": "8f458dd6-2d8b-483f-9748-593f5bd71c6c",
   "metadata": {},
   "outputs": [],
   "source": [
    "# NSGA-II two-error-metric optimization"
   ]
  },
  {
   "cell_type": "code",
   "execution_count": 2,
   "id": "90817ca9-1739-42b1-936b-28197eab5867",
   "metadata": {},
   "outputs": [],
   "source": [
    "import os\n",
    "import numpy as np\n",
    "import pandas as pd\n",
    "\n",
    "outfile = '/glade/campaign/cgd/tss/people/guoqiang/CTSM_CAMELS_proj/Calib_HH_MOASMO_bigrange/LSE_spaceCV_PredictParam/spaceCV_iter0_To_iter3_eval.npz'\n",
    "\n",
    "# Initialize dimensions\n",
    "n_basins = 627\n",
    "n_iter0 = 400\n",
    "n_iter_rest = 40\n",
    "n_metrics = 2  # Assuming two metrics: ['mae', 'max_mon_abs_err']\n",
    "n_total_samples = n_iter0 + 3 * n_iter_rest  # 400 + 40 + 40 + 40 = 520\n",
    "\n",
    "if os.path.isfile(outfile):\n",
    "    dtmp = np.load(outfile)\n",
    "    merged_array = dtmp['merged_array']\n",
    "else:\n",
    "    # Initialize an array to hold merged data\n",
    "    merged_array = np.nan * np.zeros([n_basins, n_total_samples, n_metrics])\n",
    "\n",
    "    for b in range(n_basins):\n",
    "        # Read data for iter0 (400 samples)\n",
    "        file = f'/glade/campaign/cgd/tss/people/guoqiang/CTSM_CAMELS_proj/Calib_HH_MOASMO_bigrange/level1_{b}_MOASMOcalib/ctsm_outputs_LSEall2err/iter0_many_metric.csv'\n",
    "        merged_array[b, :n_iter0, :] = pd.read_csv(file)[['mae', 'max_mon_abs_err']].values\n",
    "\n",
    "        # Read data for iter1 (40 samples)\n",
    "        file = f'/glade/campaign/cgd/tss/people/guoqiang/CTSM_CAMELS_proj/Calib_HH_MOASMO_bigrange/level1_{b}_MOASMOcalib/ctsm_outputs/iter1_all_metric.csv'\n",
    "        merged_array[b, n_iter0:n_iter0 + n_iter_rest, :] = pd.read_csv(file).values\n",
    "\n",
    "        # Read data for iter2 (40 samples)\n",
    "        file = f'/glade/campaign/cgd/tss/people/guoqiang/CTSM_CAMELS_proj/Calib_HH_MOASMO_bigrange/level1_{b}_MOASMOcalib/ctsm_outputs/iter2_all_metric.csv'\n",
    "        merged_array[b, n_iter0 + n_iter_rest:n_iter0 + 2 * n_iter_rest, :] = pd.read_csv(file).values\n",
    "\n",
    "        # Read data for iter3 (40 samples)\n",
    "        file = f'/glade/campaign/cgd/tss/people/guoqiang/CTSM_CAMELS_proj/Calib_HH_MOASMO_bigrange/level1_{b}_MOASMOcalib/ctsm_outputs/iter3_all_metric.csv'\n",
    "        merged_array[b, n_iter0 + 2 * n_iter_rest:, :] = pd.read_csv(file).values\n",
    "\n",
    "    # Save the merged data\n",
    "    np.savez_compressed(outfile, merged_array=merged_array)\n",
    "\n",
    "print(\"Data for iter0 to iter3 has been successfully merged and saved.\")\n"
   ]
  },
  {
   "cell_type": "code",
   "execution_count": 9,
   "id": "96f4dc68-c693-4b4f-b7f0-98706f144a7a",
   "metadata": {},
   "outputs": [
    {
     "name": "stdout",
     "output_type": "stream",
     "text": [
      "[2.37083359 2.5088676 ]\n",
      "[2.27761412 2.38720291]\n"
     ]
    }
   ],
   "source": [
    "print(np.median(np.nanmin(met_sse_iter1,axis=1),axis=0))\n",
    "print(np.median(np.nanmin(met_lse_iter1,axis=1),axis=0))\n"
   ]
  }
 ],
 "metadata": {
  "kernelspec": {
   "display_name": "NPL 2024b",
   "language": "python",
   "name": "npl-2024b"
  },
  "language_info": {
   "codemirror_mode": {
    "name": "ipython",
    "version": 3
   },
   "file_extension": ".py",
   "mimetype": "text/x-python",
   "name": "python",
   "nbconvert_exporter": "python",
   "pygments_lexer": "ipython3",
   "version": "3.11.9"
  }
 },
 "nbformat": 4,
 "nbformat_minor": 5
}
