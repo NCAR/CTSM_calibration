{
 "cells": [
  {
   "cell_type": "code",
   "execution_count": null,
   "id": "c0cbdd48-ad6c-4899-9eae-83828733b2da",
   "metadata": {},
   "outputs": [],
   "source": []
  }
 ],
 "metadata": {
  "kernelspec": {
   "display_name": "",
   "name": ""
  },
  "language_info": {
   "name": ""
  }
 },
 "nbformat": 4,
 "nbformat_minor": 5
}
