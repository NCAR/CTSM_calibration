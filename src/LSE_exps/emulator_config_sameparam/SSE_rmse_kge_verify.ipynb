{
 "cells": [
  {
   "cell_type": "code",
   "execution_count": 12,
   "id": "6b2e3c1c-b1ba-4b98-a3e7-0e7e68825527",
   "metadata": {},
   "outputs": [],
   "source": [
    "# previous emulator selection is based on normKGE but rmse should be used\n",
    "# this notebook shows using kge or rmse obtains quite different results"
   ]
  },
  {
   "cell_type": "code",
   "execution_count": 3,
   "id": "4b60dd82-5f07-475d-83f9-5b490a47cbe5",
   "metadata": {},
   "outputs": [],
   "source": [
    "import sys, os, glob, pickle, toml, json, pickle, random\n",
    "import matplotlib.pyplot as plt\n",
    "import numpy as np\n",
    "import pandas as pd\n",
    "import seaborn as sns\n",
    "import multiprocessing\n",
    "\n",
    "sys.path.append('../../MOASMO_support')\n",
    "from mo_evaluation import get_modified_KGE"
   ]
  },
  {
   "cell_type": "code",
   "execution_count": 2,
   "id": "45aeff14-8d50-4169-b232-165665572296",
   "metadata": {},
   "outputs": [],
   "source": [
    "inpath_moasmo = '/glade/campaign/cgd/tss/people/guoqiang/CTSM_CAMELS_proj/Calib_HH_MOASMO_bigrange'\n",
    "outpath_all = f'{inpath_moasmo}/LargeSampleEmulator_exps_out'\n",
    "\n",
    "outfile = f'{outpath_all}/SSE_GPR_normKGE_CV_estimates.pkl'\n",
    "\n",
    "if os.path.isfile(outfile):\n",
    "    with open(outfile, 'rb') as file:\n",
    "        gpr_cv_results = pickle.load(file)"
   ]
  },
  {
   "cell_type": "code",
   "execution_count": 6,
   "id": "cf8029f3-6104-4b65-ae68-6eff0a8f95df",
   "metadata": {},
   "outputs": [
    {
     "name": "stdout",
     "output_type": "stream",
     "text": [
      "CPU times: user 1.57 s, sys: 10.3 ms, total: 1.58 s\n",
      "Wall time: 3.3 s\n"
     ]
    }
   ],
   "source": [
    "%%time\n",
    "\n",
    "# evaluate GPR CV\n",
    "def evaluate_cv(cv_results):\n",
    "    # evaluation\n",
    "    rmse_test = np.nan * np.zeros(len(cv_results))\n",
    "    rmse_train = np.nan * np.zeros(len(cv_results))\n",
    "    cc_test = np.nan * np.zeros(len(cv_results))\n",
    "    cc_train = np.nan * np.zeros(len(cv_results))\n",
    "    kge_test = np.nan * np.zeros(len(cv_results))\n",
    "    kge_train = np.nan * np.zeros(len(cv_results))\n",
    "    \n",
    "    for fold in range(1, len(cv_results)+1):\n",
    "        y_train, y_test, y_train_pred, y_test_pred = cv_results[fold]['y_train'], cv_results[fold]['y_test'], cv_results[fold]['y_train_pred'], cv_results[fold]['y_test_pred']\n",
    "        \n",
    "        # Evaluate the model using \n",
    "        rmse_test[fold - 1] = get_rmse(y_test, y_test_pred)\n",
    "        rmse_train[fold - 1] = get_rmse(y_train, y_train_pred)\n",
    "        cc_test[fold - 1] = get_cc(y_test, y_test_pred)\n",
    "        cc_train[fold - 1] = get_cc(y_train, y_train_pred)\n",
    "        \n",
    "        kge_test[fold - 1] = get_modified_KGE(y_test, y_test_pred)\n",
    "        kge_train[fold - 1] = get_modified_KGE(y_train, y_train_pred)\n",
    "            \n",
    "    return rmse_test, rmse_train, cc_test, cc_train, kge_train, kge_test\n",
    "\n",
    "\n",
    "def get_rmse(d1, d2):\n",
    "    return ( np.nanmean( (d1-d2)**2 ) ) ** 0.5\n",
    "\n",
    "def get_cc(d1, d2):\n",
    "    ind = ~np.isnan(d1+d2)\n",
    "    return np.corrcoef(d1[ind], d2[ind])[0,1]\n",
    "\n",
    "\n",
    "outfile = f'{outpath_all}/SSE_GPR_normKGE_CV_evaluation.npz'\n",
    "\n",
    "numbasin = 627\n",
    "\n",
    "if True:\n",
    "    gpr_rmse_train = np.nan * np.zeros([numbasin, 5])\n",
    "    gpr_rmse_test = np.nan * np.zeros([numbasin, 5])\n",
    "    gpr_cc_train = np.nan * np.zeros([numbasin, 5])\n",
    "    gpr_cc_test = np.nan * np.zeros([numbasin, 5])    \n",
    "    gpr_kge_train = np.nan * np.zeros([numbasin, 5])\n",
    "    gpr_kge_test = np.nan * np.zeros([numbasin, 5])    \n",
    "    for i in range(len(gpr_cv_results)):\n",
    "        gpr_rmse_test[i, :], gpr_rmse_train[i, :], gpr_cc_test[i, :], gpr_cc_train[i, :], gpr_kge_test[i, :], gpr_kge_train[i, :] = evaluate_cv(gpr_cv_results[i])\n"
   ]
  },
  {
   "cell_type": "code",
   "execution_count": 7,
   "id": "458c2577-3439-4d76-a576-28fbd8e46c35",
   "metadata": {},
   "outputs": [],
   "source": [
    "outfile = f'{outpath_all}/SSE_RF_normKGE_CV_estimates.pkl'\n",
    "\n",
    "if os.path.isfile(outfile):\n",
    "    with open(outfile, 'rb') as file:\n",
    "        rf_cv_results = pickle.load(file)\n",
    "\n",
    "if True:\n",
    "    rf_rmse_train = np.nan * np.zeros([numbasin, 5])\n",
    "    rf_rmse_test = np.nan * np.zeros([numbasin, 5])\n",
    "    rf_cc_train = np.nan * np.zeros([numbasin, 5])\n",
    "    rf_cc_test = np.nan * np.zeros([numbasin, 5])    \n",
    "\n",
    "    rf_kge_train = np.nan * np.zeros([numbasin, 5])\n",
    "    rf_kge_test = np.nan * np.zeros([numbasin, 5])    \n",
    "    for i in range(len(rf_cv_results)):\n",
    "        rf_rmse_test[i, :], rf_rmse_train[i, :], rf_cc_test[i, :], rf_cc_train[i, :], rf_kge_test[i, :], rf_kge_train[i, :] = evaluate_cv(rf_cv_results[i])"
   ]
  },
  {
   "cell_type": "code",
   "execution_count": 8,
   "id": "6753a89f-423e-4243-96d8-4197281b88de",
   "metadata": {},
   "outputs": [
    {
     "name": "stdout",
     "output_type": "stream",
     "text": [
      "330\n",
      "483\n"
     ]
    }
   ],
   "source": [
    "gpr_rmse_m = np.nanmean(gpr_rmse_test, axis=1)\n",
    "rf_rmse_m = np.nanmean(rf_rmse_test, axis=1)\n",
    "\n",
    "gpr_kge_m = np.nanmean(gpr_kge_test, axis=1)\n",
    "rf_kge_m = np.nanmean(rf_kge_test, axis=1)\n",
    "\n",
    "print(np.sum(gpr_rmse_m<rf_rmse_m))\n",
    "print(np.sum(gpr_kge_m>rf_kge_m))"
   ]
  },
  {
   "cell_type": "code",
   "execution_count": 11,
   "id": "a3a965a7-e33e-4fd2-ae96-ecdf58f36fa5",
   "metadata": {},
   "outputs": [
    {
     "data": {
      "text/plain": [
       "(array([ 66., 147., 141.,  99.,  55.,  41.,  32.,  23.,  15.,   8.]),\n",
       " array([0.01040867, 0.02973694, 0.0490652 , 0.06839347, 0.08772173,\n",
       "        0.10704999, 0.12637826, 0.14570652, 0.16503479, 0.18436305,\n",
       "        0.20369131]),\n",
       " <BarContainer object of 10 artists>)"
      ]
     },
     "execution_count": 11,
     "metadata": {},
     "output_type": "execute_result"
    },
    {
     "data": {
      "image/png": "[encoded data removed]",
      "text/plain": [
       "<Figure size 640x480 with 1 Axes>"
      ]
     },
     "metadata": {},
     "output_type": "display_data"
    }
   ],
   "source": [
    "plt.hist(gpr_rmse_m)\n",
    "plt.hist(rf_rmse_m)"
   ]
  },
  {
   "cell_type": "code",
   "execution_count": null,
   "id": "6b99f020-070e-41f0-beaa-e0c32af4eafd",
   "metadata": {},
   "outputs": [],
   "source": []
  }
 ],
 "metadata": {
  "kernelspec": {
   "display_name": "NPL 2024b",
   "language": "python",
   "name": "npl-2024b"
  },
  "language_info": {
   "codemirror_mode": {
    "name": "ipython",
    "version": 3
   },
   "file_extension": ".py",
   "mimetype": "text/x-python",
   "name": "python",
   "nbconvert_exporter": "python",
   "pygments_lexer": "ipython3",
   "version": "3.11.9"
  }
 },
 "nbformat": 4,
 "nbformat_minor": 5
}
