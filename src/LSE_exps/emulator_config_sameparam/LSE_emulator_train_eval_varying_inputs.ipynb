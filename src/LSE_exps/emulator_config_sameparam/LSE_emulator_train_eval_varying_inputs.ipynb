{
 "cells": [
  {
   "cell_type": "code",
   "execution_count": 4,
   "id": "557065db-678d-479b-bcbf-422c1c1a922d",
   "metadata": {},
   "outputs": [],
   "source": [
    "# CV of LSE\n",
    "# varying input basin numbers\n",
    "\n",
    "import sys, os, glob, pickle, toml, json, pickle\n",
    "import matplotlib.pyplot as plt\n",
    "import numpy as np\n",
    "import pandas as pd\n",
    "import seaborn as sns\n",
    "from sklearn.ensemble import RandomForestRegressor\n",
    "from sklearn.model_selection import GroupKFold,  KFold\n",
    "from multiprocessing import Pool, cpu_count\n",
    "from sklearn.neural_network import MLPRegressor\n",
    "from sklearn.preprocessing import StandardScaler\n",
    "from sklearn.neural_network import MLPRegressor\n",
    "\n",
    "sys.path.append('../../MOASMO_support')\n",
    "from MOASMO_parameter_allbasin_emulator import *"
   ]
  },
  {
   "cell_type": "code",
   "execution_count": 5,
   "id": "c1b3f1b7-729a-41d1-beee-62efbda5bf0f",
   "metadata": {},
   "outputs": [],
   "source": [
    "# evaluation functions\n",
    "# evaluate\n",
    "\n",
    "def evaluate_cv(cv_results):\n",
    "    # evaluation\n",
    "    rmse_test = np.nan * np.zeros(len(cv_results))\n",
    "    rmse_train = np.nan * np.zeros(len(cv_results))\n",
    "    cc_test = np.nan * np.zeros(len(cv_results))\n",
    "    cc_train = np.nan * np.zeros(len(cv_results))\n",
    "    \n",
    "    for fold in range(len(cv_results)):\n",
    "        y_train, y_test, y_train_pred, y_test_pred = cv_results[fold]['y_train'], cv_results[fold]['y_test'], cv_results[fold]['y_train_pred'], cv_results[fold]['y_test_pred']\n",
    "        \n",
    "        # Evaluate the model using \n",
    "        rmse_test[fold] = get_rmse(y_test, y_test_pred)\n",
    "        rmse_train[fold] = get_rmse(y_train, y_train_pred)\n",
    "        cc_test[fold] = get_cc(y_test, y_test_pred)\n",
    "        cc_train[fold] = get_cc(y_train, y_train_pred)\n",
    "            \n",
    "    return rmse_test, rmse_train, cc_test, cc_train\n",
    "\n",
    "\n",
    "def get_rmse(d1, d2):\n",
    "    return ( np.nanmean( (d1-d2)**2 ) ) ** 0.5\n",
    "\n",
    "def get_cc(d1, d2):\n",
    "    ind = ~np.isnan(d1+d2)\n",
    "    return np.corrcoef(d1[ind], d2[ind])[0,1]\n",
    "\n",
    "\n"
   ]
  },
  {
   "cell_type": "markdown",
   "id": "b37c646b-006d-46fa-8d64-e115609798dc",
   "metadata": {},
   "source": [
    "# Load data"
   ]
  },
  {
   "cell_type": "code",
   "execution_count": 6,
   "id": "932884ac-c09b-4af6-95c9-e98ec04f0317",
   "metadata": {},
   "outputs": [],
   "source": [
    "# load data function, taken from ~/CTSM_repos/CTSM_calibration/src/MOASMO_support/MOASMO_parameter_allbasin_emulator.py\n",
    "def load_basin_data():\n",
    "    infile_basin_info = f\"/glade/work/guoqiang/CTSM_CAMELS/data_mesh_surf/HillslopeHydrology/CAMELS_level1_basin_info.csv\"\n",
    "    infile_param_info = '/glade/u/home/guoqiang/CTSM_repos/CTSM_calibration/src/parameter/CTSM_CAMELS_calibparam_2410.csv'\n",
    "    infile_attr_foruse = '/glade/u/home/guoqiang/CTSM_repos/CTSM_calibration/data/camels_attributes_table_TrainModel.csv'\n",
    "    inpath_moasmo = \"/glade/campaign/cgd/tss/people/guoqiang/CTSM_CAMELS_proj/Calib_HH_emulator\"\n",
    "    path_CTSM_case = f'/glade/work/guoqiang/CTSM_CAMELS/Calib_HH_emulator'\n",
    "    iterend = 1 # only read data from iter-0\n",
    "    suffix = 'LSEnormKGE'\n",
    "    \n",
    "    outpath = f\"{inpath_moasmo}/LSE_allbasin\"\n",
    "    os.makedirs(outpath, exist_ok=True)\n",
    "    \n",
    "    # Load data: same for all iterations\n",
    "    df_basin_info = pd.read_csv(infile_basin_info)\n",
    "    df_param_info = pd.read_csv(infile_param_info)\n",
    "\n",
    "    all_index = np.arange(len(df_basin_info))\n",
    "    \n",
    "    file_defa_param = f'{outpath}/camels_627basin_ctsm_defa_param.csv'\n",
    "    df_param_defa = read_allbasin_defa_params(path_CTSM_case, infile_param_info, file_defa_param, len(df_basin_info))\n",
    "\n",
    "    file_param_lb = f'{outpath}/camels_627basin_ctsm_all_param_lb.gz'\n",
    "    file_param_ub = f'{outpath}/camels_627basin_ctsm_all_param_ub.gz'\n",
    "    df_param_lb, df_param_ub = load_basin_param_bounds(inpath_moasmo, df_param_defa, file_param_lb, file_param_ub, all_index, suffix)\n",
    "\n",
    "    file_camels_attribute = f'{outpath}/camels_627basin_attribute.pkl'\n",
    "    df_att = read_camels_attributes(infile_basin_info, file_camels_attribute, all_index)\n",
    "    \n",
    "    df_att_foruse = pd.read_csv(infile_attr_foruse)\n",
    "    useattrs = list(df_att_foruse[df_att_foruse['att_Xie2021'].values]['Attribute_text'].values)\n",
    "    print(\"The number of attributes used:\", len(useattrs))\n",
    "    print(useattrs)\n",
    "\n",
    "    # Load data: outputs from each iteration\n",
    "    for iter in range(0, iterend):\n",
    "        file_all_param = f'{outpath}/camels_627basin_ctsm_all_param_iter{iter}.gz'\n",
    "        file_all_metric = f'{outpath}/camels_627basin_ctsm_all_metric_iter{iter}.gz'\n",
    "        file_all_basinid = f'{outpath}/camels_627basin_ctsm_all_basinid_iter{iter}.gz'\n",
    "        \n",
    "        df_param_i, df_metric_i, df_basinid_i = load_all_basin_params_metrics(inpath_moasmo, df_param_defa, df_basin_info, iter, file_all_param, file_all_metric, file_all_basinid, all_index, suffix)\n",
    "        \n",
    "        df_basinid_i['iter'] = iter\n",
    "        \n",
    "        if iter == 0:\n",
    "            df_param = df_param_i\n",
    "            df_metric = df_metric_i\n",
    "            df_basinid = df_basinid_i\n",
    "        else:\n",
    "            df_param = pd.concat([df_param, df_param_i])\n",
    "            df_metric = pd.concat([df_metric, df_metric_i])\n",
    "            df_basinid = pd.concat([df_basinid, df_basinid_i])\n",
    "    \n",
    "    df_param.index = np.arange(len(df_param))\n",
    "    df_metric.index = np.arange(len(df_metric))\n",
    "    df_basinid.index = np.arange(len(df_basinid))\n",
    "\n",
    "    index = np.isnan(np.sum(df_metric.values, axis=1))\n",
    "    df_param = df_param[~index]\n",
    "    df_metric = df_metric[~index]\n",
    "    df_basinid = df_basinid[~index]\n",
    "    \n",
    "    df_param.index = np.arange(len(df_param))\n",
    "    df_metric.index = np.arange(len(df_metric))\n",
    "    df_basinid.index = np.arange(len(df_basinid))\n",
    "    \n",
    "    print('Number of nan samples:', np.sum(index))\n",
    "    print(\"Number of original parameter sets:\", len(index))\n",
    "    print(\"Number of final parameter sets:\", len(df_param))\n",
    "\n",
    "    return df_basin_info, df_param_info, df_param_defa, df_param_lb, df_param_ub, df_att, df_att_foruse, df_param, df_metric, df_basinid"
   ]
  },
  {
   "cell_type": "code",
   "execution_count": 7,
   "id": "6764208f-c807-4f84-aef3-cf8f08f481c5",
   "metadata": {},
   "outputs": [
    {
     "name": "stdout",
     "output_type": "stream",
     "text": [
      "File exists: /glade/campaign/cgd/tss/people/guoqiang/CTSM_CAMELS_proj/Calib_HH_emulator/LSE_allbasin/camels_627basin_attribute.pkl\n",
      "The number of attributes used: 27\n",
      "['mean_elev', 'mean_slope', 'area_gauges2', 'p_mean', 'pet_mean', 'aridity', 'p_seasonality', 'frac_snow', 'high_prec_freq', 'high_prec_dur', 'low_prec_freq', 'low_prec_dur', 'frac_forest', 'lai_max', 'lai_diff', 'dom_land_cover', 'dom_land_cover_frac', 'soil_depth_pelletier', 'soil_depth_statsgo', 'soil_porosity', 'soil_conductivity', 'max_water_content', 'sand_frac', 'silt_frac', 'clay_frac', 'carbonate_rocks_frac', 'geol_permeability']\n",
      "Number of nan samples: 1363\n",
      "Number of original parameter sets: 125400\n",
      "Number of final parameter sets: 124037\n",
      "Number of basins: 627\n",
      "Number of all parameters: 16\n",
      "Number of all attributes: 62\n"
     ]
    }
   ],
   "source": [
    "df_basin_info, df_param_info, df_param_defa, df_param_lb, df_param_ub, df_att, df_att_foruse, df_param, df_metric, df_basinid = load_basin_data()\n",
    "print('Number of basins:', len(df_basin_info))\n",
    "print('Number of all parameters:', len(df_param_info))\n",
    "print('Number of all attributes:', len(df_att.columns))"
   ]
  },
  {
   "cell_type": "code",
   "execution_count": 8,
   "id": "6796d972-16c5-4fcf-88ef-ff078b035011",
   "metadata": {},
   "outputs": [],
   "source": [
    "# just generate a file for use in other scripts\n",
    "file = '/glade/campaign/cgd/tss/people/guoqiang/CTSM_CAMELS_proj/Calib_HH_emulator/LargeSampleEmulator_exps_out/basin_id_forinput.gz'\n",
    "if not os.path.isfile(file):\n",
    "    df_basinid.to_csv(file, compression='gzip')"
   ]
  },
  {
   "cell_type": "code",
   "execution_count": 9,
   "id": "429317d4-cf40-4730-810e-7a6cc28a1a47",
   "metadata": {},
   "outputs": [],
   "source": [
    "inpath_moasmo = '/glade/campaign/cgd/tss/people/guoqiang/CTSM_CAMELS_proj/Calib_HH_emulator'\n",
    "outpath_all = f'{inpath_moasmo}/LargeSampleEmulator_exps_out'\n",
    "os.makedirs(outpath_all, exist_ok=True)\n",
    "numbasin = len(df_basin_info)"
   ]
  },
  {
   "cell_type": "code",
   "execution_count": 10,
   "id": "54f6b86a-7bca-4488-af74-d7fd2e25a37f",
   "metadata": {},
   "outputs": [],
   "source": [
    "num_cpus = 10  # Example: Use 4 CPUs"
   ]
  },
  {
   "cell_type": "markdown",
   "id": "47bdff81-67a1-49a6-b83b-9206e3aee514",
   "metadata": {},
   "source": [
    "# create model input / output"
   ]
  },
  {
   "cell_type": "code",
   "execution_count": 11,
   "id": "d5efbf06-a328-4b2f-ad7e-90842388c341",
   "metadata": {},
   "outputs": [
    {
     "name": "stdout",
     "output_type": "stream",
     "text": [
      "convert dom_land_cover to one-hot encoding\n",
      "new columns: ['dom_land_cover_0', 'dom_land_cover_1', 'dom_land_cover_2', 'dom_land_cover_3', 'dom_land_cover_4', 'dom_land_cover_5', 'dom_land_cover_6', 'dom_land_cover_7', 'dom_land_cover_8', 'dom_land_cover_9', 'dom_land_cover_10', 'dom_land_cover_11']\n",
      "Input shape: (124037, 54)\n"
     ]
    }
   ],
   "source": [
    "# Prepare model input and output\n",
    "useattrs = list(df_att_foruse[df_att_foruse['att_Xie2021'].values]['Attribute_text'].values)\n",
    "\n",
    "df_input = df_param.copy()\n",
    "df_input[\"hru_id\"] = df_basinid[\"hru_id\"]\n",
    "df_input = df_input.merge(df_att[useattrs + [\"hru_id\"]], on=\"hru_id\", how=\"left\")\n",
    "df_input = df_input.drop([\"hru_id\"], axis=1)\n",
    "\n",
    "inputnames = list(df_param.columns) + useattrs\n",
    "# print(\"Input parameters:\", list(df_param.columns))\n",
    "# print(\"Input attribuets:\",  useattrs)\n",
    "\n",
    "# if there is string attributes in the input, convert them to one-hot encoding\n",
    "for att in useattrs:\n",
    "    if df_input[att].dtype == \"object\":\n",
    "        print('convert', att, 'to one-hot encoding')\n",
    "        enc = OneHotEncoder(sparse=False)\n",
    "        enc.fit(df_input[[att]])\n",
    "        encnames = [att + \"_\" + str(i) for i in range(len(enc.categories_[0]))]\n",
    "        print('new columns:', encnames)\n",
    "        df_enc = pd.DataFrame(enc.transform(df_input[[att]]), columns=encnames)\n",
    "        df_input = pd.concat([df_input, df_enc], axis=1)\n",
    "        df_input = df_input.drop([att], axis=1)\n",
    "        inputnames = [i for i in inputnames if i != att] + encnames\n",
    "\n",
    "\n",
    "# convert to numpy array for training / testing\n",
    "# print(\"Input parameters after adjustment:\", list(df_param.columns))\n",
    "# print(\"Input attribuets after adjustment:\",  useattrs)\n",
    "\n",
    "x_all = df_input[inputnames].values.copy()\n",
    "print(\"Input shape:\", x_all.shape)"
   ]
  },
  {
   "cell_type": "code",
   "execution_count": 12,
   "id": "f6dee9f1-ad44-40b1-bd30-2e573af634ee",
   "metadata": {},
   "outputs": [
    {
     "name": "stdout",
     "output_type": "stream",
     "text": [
      "Output shape: (124037, 1)\n"
     ]
    }
   ],
   "source": [
    "# use normalized kge as output\n",
    "\n",
    "df_output = df_metric.copy()\n",
    "y_all = df_output[[\"kge\"]].values.copy()\n",
    "y_all = y_all / (2 - y_all) # normalize KGE\n",
    "\n",
    "print(\"Output shape:\", y_all.shape)"
   ]
  },
  {
   "cell_type": "markdown",
   "id": "3b3a1005-1f40-4585-bda4-d325d99f886b",
   "metadata": {},
   "source": [
    "# Group K-Fold cross validation\n",
    "Randomly split basins into different folds"
   ]
  },
  {
   "cell_type": "code",
   "execution_count": 13,
   "id": "8a0b1771-4542-4cdd-a30b-72b783a4e992",
   "metadata": {},
   "outputs": [
    {
     "data": {
      "image/png": "[encoded data removed]",
      "text/plain": [
       "<Figure size 640x480 with 1 Axes>"
      ]
     },
     "metadata": {},
     "output_type": "display_data"
    },
    {
     "data": {
      "image/png": "[encoded data removed]",
      "text/plain": [
       "<Figure size 600x300 with 1 Axes>"
      ]
     },
     "metadata": {},
     "output_type": "display_data"
    }
   ],
   "source": [
    "def get_group_cv_indices(df_basinid, nfold=5,  excludeindices=[], rndseed=1234567890):\n",
    "\n",
    "    random.seed(rndseed)\n",
    "    np.random.seed(rndseed)\n",
    "\n",
    "    rawnum = df_basinid['basin_num'].values.copy()\n",
    "    for i in excludeindices:\n",
    "        rawnum[rawnum==i] = -1\n",
    "    rawnum = rawnum[rawnum>=0]\n",
    "    \n",
    "    # Initialize GroupKFold\n",
    "    group_kfold = GroupKFold(n_splits=nfold)\n",
    "\n",
    "    # Dictionary to store train and test indices\n",
    "    group_cv_indices = {}\n",
    "\n",
    "    # Cross-validation process to save indices\n",
    "    # does not depend on random seeds\n",
    "    for fold, (train_index, test_index) in enumerate(group_kfold.split(rawnum, groups=rawnum)):\n",
    "\n",
    "        # train_index, test_index = rawnum[train_index], rawnum[test_index]\n",
    "        train_basin = np.unique(rawnum[train_index])\n",
    "        test_basin = np.unique(rawnum[test_index])\n",
    "\n",
    "        train_index = df_basinid[df_basinid['basin_num'].isin(train_basin)].index.values\n",
    "        test_index = df_basinid[df_basinid['basin_num'].isin(test_basin)].index.values\n",
    "\n",
    "        group_cv_indices[fold] = {'train_index': train_index, 'test_index': test_index, 'train_basin': train_basin, 'test_basin': test_basin} \n",
    "    return group_cv_indices\n",
    "\n",
    "rndseed=1234567890\n",
    "random.seed(rndseed)\n",
    "np.random.seed(rndseed)\n",
    "excluderatio = 0.2\n",
    "sample_size = int(excluderatio * len(df_basin_info)) \n",
    "excludeindices = np.random.choice(len(df_basin_info), sample_size, replace=False) \n",
    "# print('exclude', excludeindices)\n",
    "plt.scatter(df_basin_info['lon_cen'].values[excludeindices], df_basin_info['lat_cen'].values[excludeindices])\n",
    "plt.show()\n",
    "\n",
    "# Get the indices\n",
    "nfold = 5\n",
    "group_cv_indices = get_group_cv_indices(df_basinid, nfold, excludeindices)\n",
    "\n",
    "# plot test basin batches\n",
    "fig = plt.figure(figsize=(6, 3))\n",
    "for fold in range(len(group_cv_indices)):\n",
    "    test_basin = group_cv_indices[fold]['test_basin']\n",
    "    lat = df_basin_info.iloc[test_basin]['lat_cen'].values\n",
    "    lon = df_basin_info.iloc[test_basin]['lon_cen'].values\n",
    "    plt.scatter(lon, lat, 15, label=f'fold {fold}')\n",
    "\n",
    "plt.legend()\n",
    "plt.show()"
   ]
  },
  {
   "cell_type": "markdown",
   "id": "786891d1-82ef-44c6-8c13-f6b9668e1861",
   "metadata": {},
   "source": [
    "## Random Forest"
   ]
  },
  {
   "cell_type": "code",
   "execution_count": 14,
   "id": "b73f3a18-0d16-4458-9cf5-79d00b974159",
   "metadata": {},
   "outputs": [],
   "source": [
    "# train the model\n",
    "def rf_run_cross_validation_parallel(cv_indices, x_all, y_all, ncpus, modelconfig={'n_estimators': 100, 'random_state': 42}):\n",
    "\n",
    "    if True:\n",
    "\n",
    "        rf_cv_results = {}\n",
    "        \n",
    "        # Cross-validation loop\n",
    "        for fold, indices in cv_indices.items():\n",
    "        \n",
    "            # print(f\"RF Fold {fold}\")\n",
    "        \n",
    "            train_index = indices['train_index']\n",
    "            test_index = indices['test_index']\n",
    "            \n",
    "            x_train, x_test = x_all[train_index], x_all[test_index]\n",
    "            y_train, y_test = y_all[train_index], y_all[test_index]\n",
    "            \n",
    "            # Initialize a new RandomForestRegressor for each fold\n",
    "            rf_model = RandomForestRegressor(**modelconfig, n_jobs=ncpus)\n",
    "            \n",
    "            # Train the model\n",
    "            rf_model.fit(x_train, y_train)\n",
    "        \n",
    "            # Predict on the test set\n",
    "            y_test_pred = rf_model.predict(x_test)\n",
    "            y_train_pred = rf_model.predict(x_train)\n",
    "\n",
    "            if y_test_pred.ndim == 1 and y_test.ndim == 2:\n",
    "                y_test_pred = y_test_pred[:, np.newaxis]\n",
    "                y_train_pred = y_train_pred[:, np.newaxis]\n",
    "            \n",
    "            \n",
    "            # Store results\n",
    "            rf_cv_results[fold] = {\n",
    "                # 'model': rf_model,\n",
    "                'train_index': train_index,\n",
    "                'test_index': test_index,\n",
    "                'y_train': y_train,\n",
    "                'y_test': y_test,\n",
    "                'y_test_pred': y_test_pred,\n",
    "                'y_train_pred': y_train_pred,\n",
    "            }\n",
    "        \n",
    "    return rf_cv_results\n"
   ]
  },
  {
   "cell_type": "code",
   "execution_count": 15,
   "id": "e6d1b539-10af-4425-8ae5-a0914c8cf21b",
   "metadata": {},
   "outputs": [],
   "source": [
    "outfile = f'{outpath_all}/LSE_RF_normKGE_groupCV_estimates_exclude{excluderatio}.pkl.npz'\n",
    "\n",
    "if os.path.isfile(outfile):\n",
    "    with open(outfile, 'rb') as file:\n",
    "        rf_group_cv_results = pickle.load(file)    \n",
    "else:\n",
    "    modelconfig = {'n_estimators': 100, 'random_state': 42, 'max_depth': 40}\n",
    "    rf_group_cv_results = rf_run_cross_validation_parallel(group_cv_indices, x_all, y_all, num_cpus, modelconfig)\n",
    "    with open(outfile, 'wb') as file:\n",
    "        pickle.dump(rf_group_cv_results, file)"
   ]
  },
  {
   "cell_type": "code",
   "execution_count": 16,
   "id": "6a58c905-74e5-4b76-a9f3-1c4f249284a7",
   "metadata": {},
   "outputs": [
    {
     "name": "stdout",
     "output_type": "stream",
     "text": [
      "0.1754275615720898 0.0429022801145975 0.791059454163987 0.9900783187306695\n"
     ]
    }
   ],
   "source": [
    "outfile = f'{outpath_all}/LSE_RF_normKGE_groupCV_evaluation_exclude{excluderatio}.pkl.npz'\n",
    "\n",
    "if os.path.isfile(outfile):\n",
    "    dtmp = np.load(outfile)\n",
    "    rf_group_rmse_train = dtmp['rf_group_rmse_train']\n",
    "    rf_group_rmse_test = dtmp['rf_group_rmse_test']\n",
    "    rf_group_cc_train = dtmp['rf_group_cc_train']\n",
    "    rf_group_cc_test = dtmp['rf_group_cc_test']\n",
    "\n",
    "else:\n",
    "    rf_group_rmse_test, rf_group_rmse_train, rf_group_cc_test, rf_group_cc_train = evaluate_cv(rf_group_cv_results)\n",
    "    np.savez_compressed(outfile, rf_group_rmse_train=rf_group_rmse_train, rf_group_rmse_test=rf_group_rmse_test, rf_group_cc_train=rf_group_cc_train, rf_group_cc_test=rf_group_cc_test)\n",
    "\n",
    "print(np.mean(rf_group_rmse_test), np.mean(rf_group_rmse_train), np.mean(rf_group_cc_test), np.mean(rf_group_cc_train))"
   ]
  },
  {
   "cell_type": "code",
   "execution_count": 17,
   "id": "2f7e86a2-ea21-4ce4-85af-a67ff8d3f7ab",
   "metadata": {},
   "outputs": [
    {
     "name": "stdout",
     "output_type": "stream",
     "text": [
      "0.1754275615720898 0.0429022801145975 0.791059454163987 0.9900783187306695\n",
      "0.1754275615720898 0.0429022801145975 0.791059454163987 0.9900783187306695\n",
      "0.1754275615720898 0.0429022801145975 0.791059454163987 0.9900783187306695\n",
      "0.1754275615720898 0.0429022801145975 0.791059454163987 0.9900783187306695\n",
      "0.1754275615720898 0.0429022801145975 0.791059454163987 0.9900783187306695\n"
     ]
    }
   ],
   "source": [
    "for i in [0.1, 0.2, 0.3, 0.4, 0.5]:\n",
    "    outfile = f'{outpath_all}/LSE_RF_normKGE_groupCV_evaluation_exclude{i}.pkl.npz'\n",
    "    \n",
    "    if os.path.isfile(outfile):\n",
    "        dtmp = np.load(outfile)\n",
    "        rf_group_rmse_train = dtmp['rf_group_rmse_train']\n",
    "        rf_group_rmse_test = dtmp['rf_group_rmse_test']\n",
    "        rf_group_cc_train = dtmp['rf_group_cc_train']\n",
    "        rf_group_cc_test = dtmp['rf_group_cc_test']\n",
    "    \n",
    "    print(np.mean(rf_group_rmse_test), np.mean(rf_group_rmse_train), np.mean(rf_group_cc_test), np.mean(rf_group_cc_train))"
   ]
  },
  {
   "cell_type": "code",
   "execution_count": null,
   "id": "433ba613-dad5-448e-9d8e-087d76a2ae51",
   "metadata": {},
   "outputs": [],
   "source": []
  },
  {
   "cell_type": "code",
   "execution_count": null,
   "id": "14f69d33-bead-4227-a4c7-692f97e1041b",
   "metadata": {},
   "outputs": [],
   "source": []
  },
  {
   "cell_type": "code",
   "execution_count": null,
   "id": "79c38d0e-d261-4744-96ce-25c340948f7e",
   "metadata": {},
   "outputs": [],
   "source": []
  },
  {
   "cell_type": "code",
   "execution_count": null,
   "id": "8c3648ba-a485-4ef9-a252-becead0d9714",
   "metadata": {},
   "outputs": [],
   "source": []
  },
  {
   "cell_type": "code",
   "execution_count": null,
   "id": "216bfbed-a330-4342-9932-20a60294ecb8",
   "metadata": {},
   "outputs": [],
   "source": []
  }
 ],
 "metadata": {
  "kernelspec": {
   "display_name": "Python [conda env:npl-2024a-tgq]",
   "language": "python",
   "name": "conda-env-npl-2024a-tgq-py"
  },
  "language_info": {
   "codemirror_mode": {
    "name": "ipython",
    "version": 3
   },
   "file_extension": ".py",
   "mimetype": "text/x-python",
   "name": "python",
   "nbconvert_exporter": "python",
   "pygments_lexer": "ipython3",
   "version": "3.11.6"
  }
 },
 "nbformat": 4,
 "nbformat_minor": 5
}
