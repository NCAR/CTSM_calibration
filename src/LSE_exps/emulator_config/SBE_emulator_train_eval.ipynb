{
 "cells": [
  {
   "cell_type": "code",
   "execution_count": 1,
   "id": "557065db-678d-479b-bcbf-422c1c1a922d",
   "metadata": {},
   "outputs": [],
   "source": [
    "# CV of SBE: similarity based emulator\n",
    "\n",
    "import sys, os, glob, pickle, toml, json, pickle\n",
    "import matplotlib.pyplot as plt\n",
    "import numpy as np\n",
    "import pandas as pd\n",
    "import seaborn as sns\n",
    "from sklearn.ensemble import RandomForestRegressor\n",
    "from sklearn.model_selection import GroupKFold,  KFold\n",
    "from multiprocessing import Pool, cpu_count\n",
    "from sklearn.neural_network import MLPRegressor\n",
    "from sklearn.preprocessing import StandardScaler\n",
    "from sklearn.neural_network import MLPRegressor\n",
    "\n",
    "sys.path.append('../../MOASMO_support')\n",
    "from MOASMO_parameter_allbasin_emulator import *"
   ]
  },
  {
   "cell_type": "code",
   "execution_count": 2,
   "id": "c1b3f1b7-729a-41d1-beee-62efbda5bf0f",
   "metadata": {},
   "outputs": [],
   "source": [
    "# evaluation functions\n",
    "# evaluate\n",
    "\n",
    "def evaluate_cv(cv_results):\n",
    "    # evaluation\n",
    "    rmse_test = np.nan * np.zeros(len(cv_results))\n",
    "    rmse_train = np.nan * np.zeros(len(cv_results))\n",
    "    cc_test = np.nan * np.zeros(len(cv_results))\n",
    "    cc_train = np.nan * np.zeros(len(cv_results))\n",
    "    \n",
    "    for fold in range(len(cv_results)):\n",
    "        y_train, y_test, y_train_pred, y_test_pred = cv_results[fold]['y_train'], cv_results[fold]['y_test'], cv_results[fold]['y_train_pred'], cv_results[fold]['y_test_pred']\n",
    "        \n",
    "        # Evaluate the model using \n",
    "        rmse_test[fold] = get_rmse(y_test, y_test_pred)\n",
    "        rmse_train[fold] = get_rmse(y_train, y_train_pred)\n",
    "        cc_test[fold] = get_cc(y_test, y_test_pred)\n",
    "        cc_train[fold] = get_cc(y_train, y_train_pred)\n",
    "            \n",
    "    return rmse_test, rmse_train, cc_test, cc_train\n",
    "\n",
    "\n",
    "def get_rmse(d1, d2):\n",
    "    return ( np.nanmean( (d1-d2)**2 ) ) ** 0.5\n",
    "\n",
    "def get_cc(d1, d2):\n",
    "    ind = ~np.isnan(d1+d2)\n",
    "    return np.corrcoef(d1[ind], d2[ind])[0,1]\n"
   ]
  },
  {
   "cell_type": "code",
   "execution_count": 3,
   "id": "f1c4c99d-d738-46dd-bdcb-9a0a8452adf5",
   "metadata": {},
   "outputs": [],
   "source": [
    "# train the model\n",
    "def rf_run_cross_validation_parallel(cv_indices, x_all, y_all, ncpus, modelconfig={'n_estimators': 100, 'random_state': 42}):\n",
    "\n",
    "    if True:\n",
    "\n",
    "        rf_cv_results = {}\n",
    "        \n",
    "        # Cross-validation loop\n",
    "        for fold, indices in cv_indices.items():\n",
    "        \n",
    "            # print(f\"RF Fold {fold}\")\n",
    "        \n",
    "            train_index = indices['train_index']\n",
    "            test_index = indices['test_index']\n",
    "            \n",
    "            x_train, x_test = x_all[train_index], x_all[test_index]\n",
    "            y_train, y_test = y_all[train_index], y_all[test_index]\n",
    "            \n",
    "            # Initialize a new RandomForestRegressor for each fold\n",
    "            rf_model = RandomForestRegressor(**modelconfig, n_jobs=ncpus)\n",
    "            \n",
    "            # Train the model\n",
    "            rf_model.fit(x_train, y_train)\n",
    "        \n",
    "            # Predict on the test set\n",
    "            y_test_pred = rf_model.predict(x_test)\n",
    "            y_train_pred = rf_model.predict(x_train)\n",
    "\n",
    "            if y_test_pred.ndim == 1 and y_test.ndim == 2:\n",
    "                y_test_pred = y_test_pred[:, np.newaxis]\n",
    "                y_train_pred = y_train_pred[:, np.newaxis]\n",
    "            \n",
    "            \n",
    "            # Store results\n",
    "            rf_cv_results[fold] = {\n",
    "                # 'model': rf_model,\n",
    "                'train_index': train_index,\n",
    "                'test_index': test_index,\n",
    "                'y_train': y_train,\n",
    "                'y_test': y_test,\n",
    "                'y_test_pred': y_test_pred,\n",
    "                'y_train_pred': y_train_pred,\n",
    "            }\n",
    "        \n",
    "    return rf_cv_results\n",
    "\n",
    "\n",
    "\n",
    "def bpnn_train_and_evaluate_fold(args):\n",
    "    fold, indices, x_all, y_all, modelconfig = args\n",
    "    \n",
    "    train_index = indices['train_index']\n",
    "    test_index = indices['test_index']\n",
    "    \n",
    "    x_train, x_test = x_all[train_index], x_all[test_index]\n",
    "    y_train, y_test = y_all[train_index], y_all[test_index]\n",
    "    \n",
    "    # Initialize scalers\n",
    "    x_scaler = StandardScaler()\n",
    "    y_scaler = StandardScaler()\n",
    "\n",
    "    # Normalize the input features\n",
    "    x_train_scaled = x_scaler.fit_transform(x_train)\n",
    "    x_test_scaled = x_scaler.transform(x_test)\n",
    "    \n",
    "    # Normalize the target values\n",
    "    y_train_scaled = y_scaler.fit_transform(y_train.reshape(-1, 1)).flatten()\n",
    "    y_test_scaled = y_scaler.transform(y_test.reshape(-1, 1)).flatten()\n",
    "\n",
    "    # Initialize a new MLPRegressor for each fold\n",
    "    bp_model = MLPRegressor(**modelconfig)\n",
    "    \n",
    "    # Train the model\n",
    "    bp_model.fit(x_train_scaled, y_train_scaled)\n",
    "\n",
    "    # Predict on the test set\n",
    "    y_test_pred_scaled = bp_model.predict(x_test_scaled)\n",
    "    y_train_pred_scaled = bp_model.predict(x_train_scaled)\n",
    "\n",
    "    # Inverse transform the predicted outputs\n",
    "    y_test_pred = y_scaler.inverse_transform(y_test_pred_scaled.reshape(-1, 1)).flatten()\n",
    "    y_train_pred = y_scaler.inverse_transform(y_train_pred_scaled.reshape(-1, 1)).flatten()\n",
    "\n",
    "    if y_test_pred.ndim == 1 and y_test.ndim == 2:\n",
    "        y_test_pred = y_test_pred[:, np.newaxis]\n",
    "        y_train_pred = y_train_pred[:, np.newaxis]\n",
    "    \n",
    "\n",
    "    # Store results\n",
    "    fold_result = {\n",
    "        'train_index': train_index,\n",
    "        'test_index': test_index,\n",
    "        'y_train': y_train,\n",
    "        'y_test': y_test,\n",
    "        'y_test_pred': y_test_pred,\n",
    "        'y_train_pred': y_train_pred,\n",
    "    }\n",
    "\n",
    "    return fold, fold_result\n",
    "\n",
    "\n",
    "\n",
    "def bpnn_run_cross_validation_parallel(cv_indices, x_all, y_all, ncpus, modelconfig={'hidden_layer_sizes': (100,), 'max_iter': 2000, 'alpha': 0.001, 'random_state': 42, 'early_stopping': True}):\n",
    "\n",
    "    with Pool(processes=ncpus) as pool:\n",
    "        # Prepare arguments for each fold\n",
    "        args = [(fold, indices, x_all, y_all, modelconfig) for fold, indices in cv_indices.items()]\n",
    "            \n",
    "        # Parallelize the cross-validation loop\n",
    "        results = pool.map(bpnn_train_and_evaluate_fold, args)\n",
    "        \n",
    "        # Collect results\n",
    "        ann_cv_results = {fold: result for fold, result in results}\n",
    "\n",
    "    return ann_cv_results\n"
   ]
  },
  {
   "cell_type": "markdown",
   "id": "b37c646b-006d-46fa-8d64-e115609798dc",
   "metadata": {},
   "source": [
    "# Load data"
   ]
  },
  {
   "cell_type": "code",
   "execution_count": 4,
   "id": "932884ac-c09b-4af6-95c9-e98ec04f0317",
   "metadata": {},
   "outputs": [],
   "source": [
    "# load data function, taken from ~/CTSM_repos/CTSM_calibration/src/MOASMO_support/MOASMO_parameter_allbasin_emulator.py\n",
    "def load_basin_data():\n",
    "    infile_basin_info = f\"/glade/work/guoqiang/CTSM_CAMELS/data_mesh_surf/HillslopeHydrology/CAMELS_level1_basin_info.csv\"\n",
    "    infile_param_info = '/glade/u/home/guoqiang/CTSM_repos/CTSM_calibration/src/parameter/CTSM_CAMELS_SA_param_240202.csv'\n",
    "    infile_attr_foruse = '/glade/u/home/guoqiang/CTSM_repos/CTSM_calibration/data/camels_attributes_table_TrainModel.csv'\n",
    "    inpath_moasmo = \"/glade/campaign/cgd/tss/people/guoqiang/CTSM_CAMELS_proj/Calib_HH_MOASMO_bigrange\"\n",
    "    path_CTSM_case = f'/glade/work/guoqiang/CTSM_CAMELS/Calib_HH_MOASMO_bigrange'\n",
    "    iterend = 1 # only read data from iter-0\n",
    "\n",
    "    outpath = f\"{inpath_moasmo}/allbasin_emulator\"\n",
    "    os.makedirs(outpath, exist_ok=True)\n",
    "    \n",
    "    # Load data: same for all iterations\n",
    "    df_basin_info = pd.read_csv(infile_basin_info)\n",
    "    df_param_info = pd.read_csv(infile_param_info)\n",
    "    \n",
    "    file_defa_param = f'{outpath}/camels_627basin_ctsm_defa_param.csv'\n",
    "    df_param_defa = read_allbasin_defa_params(path_CTSM_case, infile_param_info, file_defa_param, len(df_basin_info))\n",
    "\n",
    "    file_param_lb = f'{outpath}/camels_627basin_ctsm_all_param_lb.gz'\n",
    "    file_param_ub = f'{outpath}/camels_627basin_ctsm_all_param_ub.gz'\n",
    "    df_param_lb, df_param_ub = load_basin_param_bounds(inpath_moasmo, df_param_defa, file_param_lb, file_param_ub)\n",
    "\n",
    "    file_camels_attribute = f'{outpath}/camels_627basin_attribute.pkl'\n",
    "    df_att = read_camels_attributes(infile_basin_info, file_camels_attribute)\n",
    "    \n",
    "    df_att_foruse = pd.read_csv(infile_attr_foruse)\n",
    "    useattrs = list(df_att_foruse[df_att_foruse['att_Xie2021'].values]['Attribute_text'].values)\n",
    "    print(\"The number of attributes used:\", len(useattrs))\n",
    "    print(useattrs)\n",
    "\n",
    "    # Load data: outputs from each iteration\n",
    "    for iter in range(0, iterend):\n",
    "        file_all_param = f'{outpath}/camels_627basin_ctsm_all_param_iter{iter}.gz'\n",
    "        file_all_metric = f'{outpath}/camels_627basin_ctsm_all_metric_iter{iter}.gz'\n",
    "        file_all_basinid = f'{outpath}/camels_627basin_ctsm_all_basinid_iter{iter}.gz'\n",
    "        \n",
    "        df_param_i, df_metric_i, df_basinid_i = load_all_basin_params_metrics(inpath_moasmo, df_param_defa, df_basin_info, iter, file_all_param, file_all_metric, file_all_basinid)\n",
    "        \n",
    "        df_basinid_i['iter'] = iter\n",
    "        \n",
    "        if iter == 0:\n",
    "            df_param = df_param_i\n",
    "            df_metric = df_metric_i\n",
    "            df_basinid = df_basinid_i\n",
    "        else:\n",
    "            df_param = pd.concat([df_param, df_param_i])\n",
    "            df_metric = pd.concat([df_metric, df_metric_i])\n",
    "            df_basinid = pd.concat([df_basinid, df_basinid_i])\n",
    "    \n",
    "    df_param.index = np.arange(len(df_param))\n",
    "    df_metric.index = np.arange(len(df_metric))\n",
    "    df_basinid.index = np.arange(len(df_basinid))\n",
    "\n",
    "    index = np.isnan(np.sum(df_metric.values, axis=1))\n",
    "    df_param = df_param[~index]\n",
    "    df_metric = df_metric[~index]\n",
    "    df_basinid = df_basinid[~index]\n",
    "    \n",
    "    df_param.index = np.arange(len(df_param))\n",
    "    df_metric.index = np.arange(len(df_metric))\n",
    "    df_basinid.index = np.arange(len(df_basinid))\n",
    "    \n",
    "    print('Number of nan samples:', np.sum(index))\n",
    "    print(\"Number of original parameter sets:\", len(index))\n",
    "    print(\"Number of final parameter sets:\", len(df_param))\n",
    "\n",
    "    return df_basin_info, df_param_info, df_param_defa, df_param_lb, df_param_ub, df_att, df_att_foruse, df_param, df_metric, df_basinid"
   ]
  },
  {
   "cell_type": "code",
   "execution_count": 5,
   "id": "6764208f-c807-4f84-aef3-cf8f08f481c5",
   "metadata": {},
   "outputs": [
    {
     "name": "stdout",
     "output_type": "stream",
     "text": [
      "File exists: /glade/campaign/cgd/tss/people/guoqiang/CTSM_CAMELS_proj/Calib_HH_MOASMO_bigrange/allbasin_emulator/camels_627basin_attribute.pkl\n",
      "The number of attributes used: 27\n",
      "['mean_elev', 'mean_slope', 'area_gauges2', 'p_mean', 'pet_mean', 'aridity', 'p_seasonality', 'frac_snow', 'high_prec_freq', 'high_prec_dur', 'low_prec_freq', 'low_prec_dur', 'frac_forest', 'lai_max', 'lai_diff', 'dom_land_cover', 'dom_land_cover_frac', 'soil_depth_pelletier', 'soil_depth_statsgo', 'soil_porosity', 'soil_conductivity', 'max_water_content', 'sand_frac', 'silt_frac', 'clay_frac', 'carbonate_rocks_frac', 'geol_permeability']\n",
      "Number of nan samples: 3309\n",
      "Number of original parameter sets: 250800\n",
      "Number of final parameter sets: 247491\n",
      "Number of basins: 627\n",
      "Number of all parameters: 27\n",
      "Number of all attributes: 62\n"
     ]
    }
   ],
   "source": [
    "df_basin_info, df_param_info, df_param_defa, df_param_lb, df_param_ub, df_att, df_att_foruse, df_param, df_metric, df_basinid = load_basin_data()\n",
    "print('Number of basins:', len(df_basin_info))\n",
    "print('Number of all parameters:', len(df_param_info))\n",
    "print('Number of all attributes:', len(df_att.columns))"
   ]
  },
  {
   "cell_type": "code",
   "execution_count": 6,
   "id": "429317d4-cf40-4730-810e-7a6cc28a1a47",
   "metadata": {},
   "outputs": [],
   "source": [
    "inpath_moasmo = '/glade/campaign/cgd/tss/people/guoqiang/CTSM_CAMELS_proj/Calib_HH_MOASMO_bigrange'\n",
    "outpath_all = f'{inpath_moasmo}/LargeSampleEmulator_exps_out'\n",
    "os.makedirs(outpath_all, exist_ok=True)\n",
    "numbasin = len(df_basin_info)"
   ]
  },
  {
   "cell_type": "code",
   "execution_count": 7,
   "id": "54f6b86a-7bca-4488-af74-d7fd2e25a37f",
   "metadata": {},
   "outputs": [],
   "source": [
    "num_cpus = 5  # Example: Use 4 CPUs"
   ]
  },
  {
   "cell_type": "code",
   "execution_count": 234,
   "id": "7083c438-92e4-4add-9841-c13b5b6daf82",
   "metadata": {},
   "outputs": [],
   "source": [
    "usecluster = 14 # 0-14: 15 clusters"
   ]
  },
  {
   "cell_type": "markdown",
   "id": "33499946-8d7e-44d9-9a8c-155c89a2d334",
   "metadata": {},
   "source": [
    "# Load cluster information and extract all data corresponding to the cluster"
   ]
  },
  {
   "cell_type": "code",
   "execution_count": 235,
   "id": "218d5a1f-7161-46ea-9e0c-edb32f88ef6c",
   "metadata": {},
   "outputs": [
    {
     "name": "stdout",
     "output_type": "stream",
     "text": [
      "basins and clusters match\n"
     ]
    }
   ],
   "source": [
    "# load cluster information\n",
    "infile = \"../../camels_cluster/Manuela_Brunner_2020/flood_cluster_memberships_CAMELS.txt\"\n",
    "df_cluster = pd.read_csv(infile)\n",
    "df_cluster = df_cluster.rename(\n",
    "    columns={\"Camels_IDs\": \"hru_id\", \"flood_cluster\": \"clusters\"}\n",
    ")\n",
    "df_cluster2 = pd.DataFrame()\n",
    "\n",
    "for id in df_basin_info[\"hru_id\"].values:\n",
    "    dfi = df_cluster.loc[df_cluster[\"hru_id\"] == id]\n",
    "    df_cluster2 = pd.concat([df_cluster2, dfi])\n",
    "\n",
    "df_cluster2.sel_index = np.arange(len(df_cluster2))\n",
    "df_cluster = df_cluster2\n",
    "del df_cluster2\n",
    "df_cluster[\"clusters\"] = df_cluster[\"clusters\"] - 1  # starting from 0\n",
    "\n",
    "if np.any(df_basin_info[\"hru_id\"].values - df_cluster['hru_id'].values != 0):\n",
    "    print(\"Mistmatch between basins and clusters\")\n",
    "else:\n",
    "    print(\"basins and clusters match\")\n",
    "\n",
    "clusters = np.nan * np.zeros(len(df_basinid))\n",
    "for i in range(numbasin):\n",
    "    indi = df_basinid['basin_id'].values == i\n",
    "    clusters[indi] = df_cluster.iloc[i]['clusters']"
   ]
  },
  {
   "cell_type": "markdown",
   "id": "89d1e0c7-0372-4448-a851-46929d1d9096",
   "metadata": {},
   "source": [
    "## extract data for the cluster"
   ]
  },
  {
   "cell_type": "code",
   "execution_count": 236,
   "id": "1e77b751-8da9-4ad3-84ba-581b1b63e7f7",
   "metadata": {},
   "outputs": [],
   "source": [
    "ind1 = df_cluster['clusters'].values==usecluster\n",
    "df_basin_info_c = df_basin_info[ind1]\n",
    "df_param_defa_c = df_param_defa[ind1]\n",
    "df_param_lb_c = df_param_lb[ind1]\n",
    "df_param_ub_c = df_param_ub[ind1]\n",
    "df_att_c = df_att[ind1]\n",
    "\n",
    "ind2 = clusters == usecluster\n",
    "df_param_c = df_param[ind2]\n",
    "df_metric_c = df_metric[ind2]\n",
    "df_basinid_c = df_basinid[ind2]\n",
    "\n",
    "df_param_info_c = df_param_info\n",
    "df_att_foruse_c = df_att_foruse\n",
    "\n",
    "numbasin_c = len(df_basin_info_c)"
   ]
  },
  {
   "cell_type": "markdown",
   "id": "4d1f24f9-0a7e-4318-8320-8c7a91a4bab7",
   "metadata": {},
   "source": [
    "## remove parameters that are not useful for this cluster"
   ]
  },
  {
   "cell_type": "code",
   "execution_count": 237,
   "id": "268b78f3-b3c1-4ba3-91a5-40f3e57c71f3",
   "metadata": {},
   "outputs": [
    {
     "name": "stdout",
     "output_type": "stream",
     "text": [
      "use param ['fff', 'd_max', 'FMAX', 'interception_fraction', 'watsat_sf', 'sucsat_sf', 'bsw_sf', 'hksat_sf', 'liq_canopy_storage_scalar', 'zsno', 'medlynslope', 'jmaxb0', 'kmax', 'cv']\n"
     ]
    }
   ],
   "source": [
    "index_useparam = df_param_lb_c.values[0,:] != df_param_ub_c.values[0,:]\n",
    "print('use param', list(df_param_c.columns[index_useparam]))"
   ]
  },
  {
   "cell_type": "markdown",
   "id": "47bdff81-67a1-49a6-b83b-9206e3aee514",
   "metadata": {},
   "source": [
    "# create model input / output"
   ]
  },
  {
   "cell_type": "code",
   "execution_count": 238,
   "id": "d5efbf06-a328-4b2f-ad7e-90842388c341",
   "metadata": {},
   "outputs": [
    {
     "name": "stdout",
     "output_type": "stream",
     "text": [
      "convert dom_land_cover to one-hot encoding\n",
      "new columns: ['dom_land_cover_0', 'dom_land_cover_1', 'dom_land_cover_2', 'dom_land_cover_3', 'dom_land_cover_4']\n",
      "Input shape: (14000, 45)\n"
     ]
    }
   ],
   "source": [
    "# Prepare model input and output\n",
    "useattrs = list(df_att_foruse_c[df_att_foruse_c['att_Xie2021'].values]['Attribute_text'].values)\n",
    "\n",
    "df_input = df_param_c.copy()\n",
    "df_input[\"hru_id\"] = df_basinid_c[\"hru_id\"]\n",
    "df_input = df_input.merge(df_att_c[useattrs + [\"hru_id\"]], on=\"hru_id\", how=\"left\")\n",
    "df_input = df_input.drop([\"hru_id\"], axis=1)\n",
    "\n",
    "inputnames = list(df_param_c.columns[index_useparam]) + useattrs\n",
    "# print(\"Input parameters:\", list(df_param.columns))\n",
    "# print(\"Input attribuets:\",  useattrs)\n",
    "\n",
    "# if there is string attributes in the input, convert them to one-hot encoding\n",
    "for att in useattrs:\n",
    "    if df_input[att].dtype == \"object\":\n",
    "        print('convert', att, 'to one-hot encoding')\n",
    "        enc = OneHotEncoder(sparse=False)\n",
    "        enc.fit(df_input[[att]])\n",
    "        encnames = [att + \"_\" + str(i) for i in range(len(enc.categories_[0]))]\n",
    "        print('new columns:', encnames)\n",
    "        df_enc = pd.DataFrame(enc.transform(df_input[[att]]), columns=encnames)\n",
    "        df_input = pd.concat([df_input, df_enc], axis=1)\n",
    "        df_input = df_input.drop([att], axis=1)\n",
    "        inputnames = [i for i in inputnames if i != att] + encnames\n",
    "\n",
    "x_all = df_input[inputnames].values.copy()\n",
    "print(\"Input shape:\", x_all.shape)"
   ]
  },
  {
   "cell_type": "code",
   "execution_count": 239,
   "id": "f6dee9f1-ad44-40b1-bd30-2e573af634ee",
   "metadata": {},
   "outputs": [
    {
     "name": "stdout",
     "output_type": "stream",
     "text": [
      "Output shape: (14000, 1)\n"
     ]
    }
   ],
   "source": [
    "# use normalized kge as output\n",
    "\n",
    "df_output = df_metric_c.copy()\n",
    "y_all = df_output[[\"kge\"]].values.copy()\n",
    "y_all = y_all / (2 - y_all) # normalize KGE\n",
    "\n",
    "print(\"Output shape:\", y_all.shape)"
   ]
  },
  {
   "cell_type": "markdown",
   "id": "b06a63aa-8d91-4de4-9ddb-9bf4751da19f",
   "metadata": {},
   "source": [
    "# Standard / Random K-Fold cross validation\n",
    "Randomly split all samples from all basins into different folds"
   ]
  },
  {
   "cell_type": "code",
   "execution_count": 240,
   "id": "7e758969-2bab-43c2-9c89-575ebafdf6a9",
   "metadata": {},
   "outputs": [],
   "source": [
    "def get_cv_indices(df_basinid, nfold=5, rndseed=1234567890):\n",
    "\n",
    "    random.seed(rndseed)\n",
    "    np.random.seed(rndseed)\n",
    "\n",
    "    # Initialize KFold\n",
    "    kfold = KFold(n_splits=nfold, shuffle=True, random_state=rndseed)\n",
    "\n",
    "    # Dictionary to store train and test indices\n",
    "    cv_indices = {}\n",
    "\n",
    "    # Cross-validation process to save indices\n",
    "    for fold, (train_index, test_index) in enumerate(kfold.split(df_basinid)):\n",
    "        \n",
    "        train_basin = np.unique(df_basinid.iloc[train_index]['basin_id'].values)\n",
    "        test_basin = np.unique(df_basinid.iloc[test_index]['basin_id'].values)\n",
    "\n",
    "        cv_indices[fold] = {'train_index': train_index, 'test_index': test_index, 'train_basin': train_basin, 'test_basin': test_basin}\n",
    "    \n",
    "    return cv_indices\n",
    "\n",
    "# Get the indices\n",
    "nfold = 5\n",
    "cv_indices = get_cv_indices(df_basinid_c, nfold)"
   ]
  },
  {
   "cell_type": "markdown",
   "id": "4245a0f5-b964-4b0e-b2c3-692c3ded88fb",
   "metadata": {},
   "source": [
    "## Random Forest"
   ]
  },
  {
   "cell_type": "code",
   "execution_count": 241,
   "id": "b56881bc-00f5-4323-a229-b3c8a68a53f9",
   "metadata": {},
   "outputs": [],
   "source": [
    "outfile = f'{outpath_all}/SBE_cluster{usecluster}_RF_normKGE_standardCV_estimates.pkl'\n",
    "\n",
    "if os.path.isfile(outfile):\n",
    "    with open(outfile, 'rb') as file:\n",
    "        rf_cv_results = pickle.load(file)    \n",
    "else:\n",
    "    modelconfig = {'n_estimators': 100, 'random_state': 42, 'max_depth': 40}\n",
    "    rf_cv_results = rf_run_cross_validation_parallel(cv_indices, x_all, y_all, num_cpus, modelconfig)\n",
    "    with open(outfile, 'wb') as file:\n",
    "        pickle.dump(rf_cv_results, file)"
   ]
  },
  {
   "cell_type": "code",
   "execution_count": 242,
   "id": "329d85e2-db51-4f94-82df-59955b69eaad",
   "metadata": {},
   "outputs": [
    {
     "name": "stdout",
     "output_type": "stream",
     "text": [
      "0.1279688890901693 0.04801980452195267 0.8692668581551578 0.9853841540579482\n"
     ]
    }
   ],
   "source": [
    "outfile = f'{outpath_all}/SBE_cluster{usecluster}_RF_normKGE_standardCV_evaluation.npz'\n",
    "\n",
    "if os.path.isfile(outfile):\n",
    "    dtmp = np.load(outfile)\n",
    "    rf_rmse_train = dtmp['rf_rmse_train']\n",
    "    rf_rmse_test = dtmp['rf_rmse_test']\n",
    "    rf_cc_train = dtmp['rf_cc_train']\n",
    "    rf_cc_test = dtmp['rf_cc_test']\n",
    "\n",
    "else:\n",
    "    rf_rmse_test, rf_rmse_train, rf_cc_test, rf_cc_train = evaluate_cv(rf_cv_results)\n",
    "    np.savez_compressed(outfile, rf_rmse_train=rf_rmse_train, rf_rmse_test=rf_rmse_test, rf_cc_train=rf_cc_train, rf_cc_test=rf_cc_test)\n",
    "\n",
    "print(np.mean(rf_rmse_test), np.mean(rf_rmse_train), np.mean(rf_cc_test), np.mean(rf_cc_train))"
   ]
  },
  {
   "cell_type": "markdown",
   "id": "58738448-ff62-42f1-a8af-d9a3967c862c",
   "metadata": {},
   "source": [
    "## MLP"
   ]
  },
  {
   "cell_type": "code",
   "execution_count": 243,
   "id": "b6946449-a4ef-46e0-968b-543067adf5ed",
   "metadata": {},
   "outputs": [],
   "source": [
    "outfile = f'{outpath_all}/SBE_cluster{usecluster}_MLP_normKGE_standardCV_estimates.pkl'\n",
    "\n",
    "if os.path.isfile(outfile):\n",
    "# if False:\n",
    "    with open(outfile, 'rb') as file:\n",
    "        mlp_cv_results = pickle.load(file)\n",
    "else:\n",
    "    modelconfig = {'hidden_layer_sizes': (200,), 'max_iter': 1000, 'alpha': 0.0001, 'random_state': 42, 'early_stopping': True}\n",
    "    mlp_cv_results = bpnn_run_cross_validation_parallel(cv_indices, x_all, y_all, 5, modelconfig)\n",
    "    with open(outfile, 'wb') as file:\n",
    "        pickle.dump(mlp_cv_results, file)\n"
   ]
  },
  {
   "cell_type": "code",
   "execution_count": 244,
   "id": "10549bd0-5c4b-4fef-9af2-3f72b137f98d",
   "metadata": {},
   "outputs": [
    {
     "name": "stdout",
     "output_type": "stream",
     "text": [
      "0.1092457524812888 0.08289807887542149 0.906094702823862 0.9469758782767504\n"
     ]
    }
   ],
   "source": [
    "outfile = f'{outpath_all}/SBE_cluster{usecluster}_MLP_normKGE_standardCV_evaluation.npz'\n",
    "\n",
    "if os.path.isfile(outfile):\n",
    "    dtmp = np.load(outfile)\n",
    "    mlp_rmse_train = dtmp['mlp_rmse_train']\n",
    "    mlp_rmse_test = dtmp['mlp_rmse_test']\n",
    "    mlp_cc_train = dtmp['mlp_cc_train']\n",
    "    mlp_cc_test = dtmp['mlp_cc_test']\n",
    "\n",
    "else:\n",
    "    mlp_rmse_test, mlp_rmse_train, mlp_cc_test, mlp_cc_train = evaluate_cv(mlp_cv_results)\n",
    "    np.savez_compressed(outfile, mlp_rmse_train=mlp_rmse_train, mlp_rmse_test=mlp_rmse_test, mlp_cc_train=mlp_cc_train, mlp_cc_test=mlp_cc_test)\n",
    "\n",
    "print(np.mean(mlp_rmse_test), np.mean(mlp_rmse_train), np.mean(mlp_cc_test), np.mean(mlp_cc_train))\n"
   ]
  },
  {
   "cell_type": "markdown",
   "id": "3b3a1005-1f40-4585-bda4-d325d99f886b",
   "metadata": {},
   "source": [
    "# Group K-Fold cross validation\n",
    "Randomly split basins into different folds"
   ]
  },
  {
   "cell_type": "code",
   "execution_count": 245,
   "id": "8a0b1771-4542-4cdd-a30b-72b783a4e992",
   "metadata": {},
   "outputs": [
    {
     "data": {
      "image/png": "[encoded data removed]",
      "text/plain": [
       "<Figure size 600x300 with 1 Axes>"
      ]
     },
     "metadata": {},
     "output_type": "display_data"
    }
   ],
   "source": [
    "def get_group_cv_indices(df_basinid, nfold=5, rndseed=1234567890):\n",
    "\n",
    "    random.seed(rndseed)\n",
    "    np.random.seed(rndseed)\n",
    "\n",
    "    # Initialize GroupKFold\n",
    "    group_kfold = GroupKFold(n_splits=nfold)\n",
    "\n",
    "    # Dictionary to store train and test indices\n",
    "    group_cv_indices = {}\n",
    "\n",
    "    # Cross-validation process to save indices\n",
    "    # does not depend on random seeds\n",
    "    for fold, (train_index, test_index) in enumerate(group_kfold.split(df_basinid, groups=df_basinid['basin_num'])):\n",
    "        \n",
    "        train_basin = np.unique(df_basinid.iloc[train_index]['basin_id'].values)\n",
    "        test_basin = np.unique(df_basinid.iloc[test_index]['basin_id'].values)\n",
    "\n",
    "        group_cv_indices[fold] = {'train_index': train_index, 'test_index': test_index, 'train_basin': train_basin, 'test_basin': test_basin} \n",
    "    return group_cv_indices\n",
    "\n",
    "# Get the indices\n",
    "nfold = 5\n",
    "group_cv_indices = get_group_cv_indices(df_basinid_c, nfold)\n",
    "\n",
    "# plot test basin batches\n",
    "fig = plt.figure(figsize=(6, 3))\n",
    "for fold in range(len(group_cv_indices)):\n",
    "    test_basin = group_cv_indices[fold]['test_basin']\n",
    "    lat = df_basin_info.iloc[test_basin]['lat_cen'].values\n",
    "    lon = df_basin_info.iloc[test_basin]['lon_cen'].values\n",
    "    plt.scatter(lon, lat, 15, label=f'fold {fold}')\n",
    "\n",
    "plt.legend()\n",
    "plt.show()"
   ]
  },
  {
   "cell_type": "markdown",
   "id": "786891d1-82ef-44c6-8c13-f6b9668e1861",
   "metadata": {},
   "source": [
    "## Random Forest"
   ]
  },
  {
   "cell_type": "code",
   "execution_count": 246,
   "id": "e6d1b539-10af-4425-8ae5-a0914c8cf21b",
   "metadata": {},
   "outputs": [],
   "source": [
    "outfile = f'{outpath_all}/SBE_cluster{usecluster}_RF_normKGE_groupCV_estimates.pkl'\n",
    "\n",
    "if os.path.isfile(outfile):\n",
    "    with open(outfile, 'rb') as file:\n",
    "        rf_group_cv_results = pickle.load(file)    \n",
    "else:\n",
    "    modelconfig = {'n_estimators': 100, 'random_state': 42, 'max_depth': 40}\n",
    "    rf_group_cv_results = rf_run_cross_validation_parallel(group_cv_indices, x_all, y_all, num_cpus, modelconfig)\n",
    "    with open(outfile, 'wb') as file:\n",
    "        pickle.dump(rf_group_cv_results, file)"
   ]
  },
  {
   "cell_type": "code",
   "execution_count": 247,
   "id": "6a58c905-74e5-4b76-a9f3-1c4f249284a7",
   "metadata": {},
   "outputs": [
    {
     "name": "stdout",
     "output_type": "stream",
     "text": [
      "0.2757555749885857 0.046678612643294676 0.2553709116317552 0.9859695485414701\n"
     ]
    }
   ],
   "source": [
    "outfile = f'{outpath_all}/SBE_cluster{usecluster}_RF_normKGE_groupCV_evaluation.npz'\n",
    "\n",
    "if os.path.isfile(outfile):\n",
    "    dtmp = np.load(outfile)\n",
    "    rf_group_rmse_train = dtmp['rf_group_rmse_train']\n",
    "    rf_group_rmse_test = dtmp['rf_group_rmse_test']\n",
    "    rf_group_cc_train = dtmp['rf_group_cc_train']\n",
    "    rf_group_cc_test = dtmp['rf_group_cc_test']\n",
    "\n",
    "else:\n",
    "    rf_group_rmse_test, rf_group_rmse_train, rf_group_cc_test, rf_group_cc_train = evaluate_cv(rf_group_cv_results)\n",
    "    np.savez_compressed(outfile, rf_group_rmse_train=rf_group_rmse_train, rf_group_rmse_test=rf_group_rmse_test, rf_group_cc_train=rf_group_cc_train, rf_group_cc_test=rf_group_cc_test)\n",
    "\n",
    "print(np.mean(rf_group_rmse_test), np.mean(rf_group_rmse_train), np.mean(rf_group_cc_test), np.mean(rf_group_cc_train))"
   ]
  },
  {
   "cell_type": "markdown",
   "id": "7cd42156-c7a2-4f4e-b33c-556ec636e67e",
   "metadata": {},
   "source": [
    "## MLP"
   ]
  },
  {
   "cell_type": "code",
   "execution_count": 248,
   "id": "2f9523a9-ec31-475d-a529-166b07acc1fa",
   "metadata": {},
   "outputs": [],
   "source": [
    "outfile = f'{outpath_all}/SBE_cluster{usecluster}_MLP_normKGE_groupCV_estimates.pkl'\n",
    "\n",
    "if os.path.isfile(outfile):\n",
    "    with open(outfile, 'rb') as file:\n",
    "        mlp_group_cv_results = pickle.load(file)\n",
    "else:\n",
    "    modelconfig = {'hidden_layer_sizes': (200,), 'max_iter': 1000, 'alpha': 0.0001, 'random_state': 42, 'early_stopping': True}\n",
    "    mlp_group_cv_results = bpnn_run_cross_validation_parallel(group_cv_indices, x_all, y_all, 5, modelconfig)\n",
    "    with open(outfile, 'wb') as file:\n",
    "        pickle.dump(mlp_group_cv_results, file)\n"
   ]
  },
  {
   "cell_type": "code",
   "execution_count": 249,
   "id": "1410489d-9d3b-456a-8ae1-fd2baa78cf14",
   "metadata": {},
   "outputs": [
    {
     "name": "stdout",
     "output_type": "stream",
     "text": [
      "0.42519469134984 0.0827671872228605 0.35179178659331817 0.946759666745925\n"
     ]
    }
   ],
   "source": [
    "outfile = f'{outpath_all}/SBE_cluster{usecluster}_MLP_normKGE_groupCV_evaluation.npz'\n",
    "\n",
    "if os.path.isfile(outfile):\n",
    "    dtmp = np.load(outfile)\n",
    "    mlp_group_rmse_train = dtmp['mlp_group_rmse_train']\n",
    "    mlp_group_rmse_test = dtmp['mlp_group_rmse_test']\n",
    "    mlp_group_cc_train = dtmp['mlp_group_cc_train']\n",
    "    mlp_group_cc_test = dtmp['mlp_group_cc_test']\n",
    "\n",
    "else:\n",
    "    mlp_group_rmse_test, mlp_group_rmse_train, mlp_group_cc_test, mlp_group_cc_train = evaluate_cv(mlp_group_cv_results)\n",
    "    np.savez_compressed(outfile, mlp_group_rmse_train=mlp_group_rmse_train, mlp_group_rmse_test=mlp_group_rmse_test, mlp_group_cc_train=mlp_group_cc_train, mlp_group_cc_test=mlp_group_cc_test)\n",
    "\n",
    "print(np.mean(mlp_group_rmse_test), np.mean(mlp_group_rmse_train), np.mean(mlp_group_cc_test), np.mean(mlp_group_cc_train))"
   ]
  },
  {
   "cell_type": "code",
   "execution_count": null,
   "id": "fbdb58bc-39d5-447a-b7d5-b79fe60782c0",
   "metadata": {},
   "outputs": [],
   "source": []
  },
  {
   "cell_type": "code",
   "execution_count": null,
   "id": "6e515204-c6de-4e6f-b782-c35f18d74dbf",
   "metadata": {},
   "outputs": [],
   "source": []
  },
  {
   "cell_type": "code",
   "execution_count": null,
   "id": "867b68aa-35e0-4b0b-86ba-f29bf505a851",
   "metadata": {},
   "outputs": [],
   "source": []
  },
  {
   "cell_type": "code",
   "execution_count": null,
   "id": "e8ea178c-3e55-4cae-acf2-5503705554f7",
   "metadata": {},
   "outputs": [],
   "source": []
  },
  {
   "cell_type": "code",
   "execution_count": null,
   "id": "eb1c9ba5-8878-4aae-a7cb-dd59bc0a0da8",
   "metadata": {},
   "outputs": [],
   "source": []
  },
  {
   "cell_type": "code",
   "execution_count": null,
   "id": "c81b3508-2c17-4276-8353-de9ccdef872b",
   "metadata": {},
   "outputs": [],
   "source": []
  },
  {
   "cell_type": "code",
   "execution_count": null,
   "id": "c241dd6d-5fea-48f7-9903-2beb02f28b9e",
   "metadata": {},
   "outputs": [],
   "source": []
  }
 ],
 "metadata": {
  "kernelspec": {
   "display_name": "Python [conda env:npl-2024a-tgq]",
   "language": "python",
   "name": "conda-env-npl-2024a-tgq-py"
  },
  "language_info": {
   "codemirror_mode": {
    "name": "ipython",
    "version": 3
   },
   "file_extension": ".py",
   "mimetype": "text/x-python",
   "name": "python",
   "nbconvert_exporter": "python",
   "pygments_lexer": "ipython3",
   "version": "3.11.6"
  }
 },
 "nbformat": 4,
 "nbformat_minor": 5
}
