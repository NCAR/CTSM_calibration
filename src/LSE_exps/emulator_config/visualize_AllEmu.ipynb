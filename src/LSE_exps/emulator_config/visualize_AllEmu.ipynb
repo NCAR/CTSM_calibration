{
 "cells": [
  {
   "cell_type": "markdown",
   "id": "f7a0f79a-a44a-4356-a539-a0e65cf29ae4",
   "metadata": {},
   "source": [
    "# compare All Emulators: SSE; SBE and SSE"
   ]
  },
  {
   "cell_type": "code",
   "execution_count": 10,
   "id": "61b25080-a286-4e3b-a61f-6be8ca6bebf3",
   "metadata": {},
   "outputs": [],
   "source": [
    "import sys, os, glob, pickle, toml, json, pickle, random\n",
    "import matplotlib.pyplot as plt\n",
    "import numpy as np\n",
    "import pandas as pd\n",
    "import seaborn as sns\n",
    "import cartopy.crs as ccrs\n",
    "import cartopy.feature as cfeature\n",
    "from sklearn.model_selection import GroupKFold,  KFold\n",
    "\n",
    "def get_rmse(d1, d2):\n",
    "    return ( np.nanmean( (d1-d2)**2 ) ) ** 0.5\n",
    "\n",
    "def get_cc(d1, d2):\n",
    "    ind = ~np.isnan(d1+d2)\n",
    "    return np.corrcoef(d1[ind], d2[ind])[0,1]\n",
    "\n",
    "def combine_cv_test(cv_result):\n",
    "    dataplot = []\n",
    "    dinput = np.array([])\n",
    "    dest = np.array([])\n",
    "    dindex = np.array([])\n",
    "    for i in range(len(cv_result)):\n",
    "        dinput = np.hstack([dinput, np.squeeze(cv_result[i]['y_test'])])\n",
    "        dest = np.hstack([dest,  np.squeeze(cv_result[i]['y_test_pred'])])\n",
    "        dindex = np.hstack([dindex,  np.squeeze(cv_result[i]['test_index'])])\n",
    "    \n",
    "    dd = np.vstack([dindex, dinput, dest]).T\n",
    "    return dd"
   ]
  },
  {
   "cell_type": "markdown",
   "id": "a4759e08-4da2-42e1-8907-e8f66c27fb31",
   "metadata": {},
   "source": [
    "# Load data and calculate metric for each basin"
   ]
  },
  {
   "cell_type": "code",
   "execution_count": 11,
   "id": "c1a35c38-100a-4b1c-b02e-93c9d7e1041d",
   "metadata": {},
   "outputs": [],
   "source": [
    "# load info\n",
    "infile_basin_info = f\"/glade/work/guoqiang/CTSM_CAMELS/data_mesh_surf/HillslopeHydrology/CAMELS_level1_basin_info.csv\"\n",
    "df_info = pd.read_csv(infile_basin_info)"
   ]
  },
  {
   "cell_type": "markdown",
   "id": "ac308e2f-4868-452f-861d-6229127914d3",
   "metadata": {},
   "source": [
    "## SSE"
   ]
  },
  {
   "cell_type": "code",
   "execution_count": 37,
   "id": "0e60efdb-f1ab-4728-8008-897df2fe185f",
   "metadata": {},
   "outputs": [
    {
     "name": "stdout",
     "output_type": "stream",
     "text": [
      "(627, 2, 2, 3)\n"
     ]
    }
   ],
   "source": [
    "# load data\n",
    "\n",
    "path = '/glade/campaign/cgd/tss/people/guoqiang/CTSM_CAMELS_proj/Calib_HH_MOASMO_bigrange/LargeSampleEmulator_exps_out'\n",
    "\n",
    "methods1 = ['gpr', 'rf', 'mlp']\n",
    "methods2 = ['GPR', 'RF' , 'MLP']\n",
    "\n",
    "cv_est_sse = []\n",
    "\n",
    "numbasin = 627\n",
    "cv_eval_sse = np.nan * np.zeros([numbasin, 5, 2, 2, 3]) # numbasin; 5 fold; rmse/cc; train/testl; gpr/rf/mlp\n",
    "\n",
    "for i in range(3):\n",
    "\n",
    "    file = f'{path}/SSE_{methods2[i]}_normKGE_CV_estimates.pkl'\n",
    "    with open(file, 'rb') as file:\n",
    "        cv_est_sse.append( pickle.load(file) )\n",
    "\n",
    "    file =  f'{path}/SSE_{methods2[i]}_normKGE_CV_evaluation.npz'\n",
    "    dtmp = np.load(file)\n",
    "    cv_eval_sse[:,:,0,0,i] = dtmp[f'{methods1[i]}_rmse_train']\n",
    "    cv_eval_sse[:,:,0,1,i] = dtmp[f'{methods1[i]}_rmse_test']\n",
    "    cv_eval_sse[:,:,1,0,i] = dtmp[f'{methods1[i]}_cc_train']\n",
    "    cv_eval_sse[:,:,1,1,i] = dtmp[f'{methods1[i]}_cc_test']\n",
    "\n",
    "cv_eval_sse = np.nanmean(cv_eval_sse, axis=1)\n",
    "print(cv_eval_sse.shape)"
   ]
  },
  {
   "cell_type": "markdown",
   "id": "1f749070-4b39-470b-aea3-e5029005340b",
   "metadata": {},
   "source": [
    "## LSE"
   ]
  },
  {
   "cell_type": "code",
   "execution_count": 27,
   "id": "2bbc6e98-963e-448d-94b0-ab24d8af18a1",
   "metadata": {},
   "outputs": [
    {
     "name": "stdout",
     "output_type": "stream",
     "text": [
      "['RF standard', 'RF group', 'RF cluster', 'MLP standard', 'MLP group', 'MLP cluster']\n"
     ]
    }
   ],
   "source": [
    "path = '/glade/campaign/cgd/tss/people/guoqiang/CTSM_CAMELS_proj/Calib_HH_MOASMO_bigrange/LargeSampleEmulator_exps_out'\n",
    "\n",
    "methods1 = ['rf', 'mlp']\n",
    "methods2 = ['RF', 'MLP']\n",
    "metprefix = [ ['rf', 'rf_group',  'rf_cluster'], \n",
    "             ['mlp', 'mlp_group',  'mlp_cluster']]\n",
    "types = ['standard', 'group', 'cluster']\n",
    "\n",
    "cv_est_lse = []\n",
    "\n",
    "lab = []\n",
    "\n",
    "for i in range(2):\n",
    "    for j in range(3):\n",
    "        lab.append(f'{methods2[i]} {types[j]}')\n",
    "        \n",
    "        file = f'{path}/LSE_{methods2[i]}_normKGE_{types[j]}CV_estimates.pkl'\n",
    "        with open(file, 'rb') as file:\n",
    "            cv_est_lse.append(pickle.load(file))\n",
    "        \n",
    "# cv_est_lse = np.array(cv_est_lse)\n",
    "# print(cv_est_lse.shape)\n",
    "print(lab)"
   ]
  },
  {
   "cell_type": "code",
   "execution_count": 28,
   "id": "6955ad2e-b0cb-4ca1-8b71-da8d4c0f1e63",
   "metadata": {},
   "outputs": [],
   "source": [
    "file = '/glade/campaign/cgd/tss/people/guoqiang/CTSM_CAMELS_proj/Calib_HH_MOASMO_bigrange/LargeSampleEmulator_exps_out/basin_id_forinput.gz'\n",
    "df_basinid = pd.read_csv(file, compression='gzip')\n",
    "\n",
    "cv_eval_lse = np.nan * np.zeros([len(df_info), 2, len(cv_est_lse)]) # rmse/cc; ['RF standard', 'RF group', 'RF cluster', 'MLP standard', 'MLP group', 'MLP cluster']\n",
    "\n",
    "for cc in range(len(cv_est_lse)):\n",
    "    cvi = cv_est_lse[cc]\n",
    "    \n",
    "    dataplot = []\n",
    "    dinput = np.array([])\n",
    "    dest = np.array([])\n",
    "    dindex = np.array([])\n",
    "    for i in range(len(cvi)):\n",
    "        dinput = np.hstack([dinput, np.squeeze(cvi[i]['y_test'])])\n",
    "        dest = np.hstack([dest,  np.squeeze(cvi[i]['y_test_pred'])])\n",
    "        dindex = np.hstack([dindex,  np.squeeze(cvi[i]['test_index'])])\n",
    "    \n",
    "    dd = np.vstack([dindex, dinput, dest]).T\n",
    "    ind = np.argsort(dindex)\n",
    "    dd = dd[ind, :]\n",
    "    if len(dd) != (dd[-1,0]-dd[0,0]+1):\n",
    "        print('Warning! error')\n",
    "    \n",
    "    \n",
    "    for i in range(len(df_info)):\n",
    "        indi = np.where(df_basinid['basin_id'].values==i)[0]\n",
    "        ddi = dd[indi, :]\n",
    "        cv_eval_lse[i, 0, cc] = get_rmse(ddi[:,1], ddi[:,2])\n",
    "        cv_eval_lse[i, 1, cc] = get_cc(ddi[:,1], ddi[:,2])"
   ]
  },
  {
   "cell_type": "markdown",
   "id": "df308a07-ad3b-48dd-8ab1-107908a3904e",
   "metadata": {},
   "source": [
    "## SBE"
   ]
  },
  {
   "cell_type": "code",
   "execution_count": 30,
   "id": "09c89ed9-c066-4ac0-a465-c0309cec751f",
   "metadata": {},
   "outputs": [
    {
     "name": "stdout",
     "output_type": "stream",
     "text": [
      "['RF standard', 'RF group', 'MLP standard', 'MLP group']\n",
      "(4, 247491, 4)\n"
     ]
    }
   ],
   "source": [
    "# load data\n",
    "\n",
    "path = '/glade/campaign/cgd/tss/people/guoqiang/CTSM_CAMELS_proj/Calib_HH_MOASMO_bigrange/LargeSampleEmulator_exps_out'\n",
    "\n",
    "methods1 = ['rf', 'mlp']\n",
    "methods2 = ['RF', 'MLP']\n",
    "metprefix = [ ['rf', 'rf_group', ], \n",
    "             ['mlp', 'mlp_group', ]]\n",
    "types = ['standard', 'group']\n",
    "\n",
    "\n",
    "cv_est_sbe = []\n",
    "lab = []\n",
    "for i in range(2):\n",
    "    for j in range(2):\n",
    "        cv_est_ij = np.zeros([0, 4])\n",
    "        lab.append(f'{methods2[i]} {types[j]}')\n",
    "        for c in range(15):\n",
    "            \n",
    "            file = f'{path}/SBE_cluster{c}_{methods2[i]}_normKGE_{types[j]}CV_estimates.pkl'\n",
    "            with open(file, 'rb') as file:\n",
    "                cvc = combine_cv_test(pickle.load(file))\n",
    "                cvc = np.hstack([np.ones([cvc.shape[0], 1]) * c, cvc])\n",
    "                cv_est_ij = np.vstack([cv_est_ij, cvc])\n",
    "        \n",
    "        ind = np.argsort(cv_est_ij[:,1])\n",
    "        cv_est_ij = cv_est_ij[ind, :]\n",
    "        cv_est_sbe.append(cv_est_ij)\n",
    "\n",
    "cv_est_sbe = np.array(cv_est_sbe)\n",
    "print(lab)\n",
    "print(cv_est_sbe.shape)"
   ]
  },
  {
   "cell_type": "code",
   "execution_count": 31,
   "id": "4f7a91dd-64ea-4636-962e-a8668d1740e3",
   "metadata": {},
   "outputs": [
    {
     "name": "stdout",
     "output_type": "stream",
     "text": [
      "basins and clusters match\n"
     ]
    },
    {
     "name": "stderr",
     "output_type": "stream",
     "text": [
      "/glade/derecho/scratch/guoqiang/tmp/ipykernel_26944/3393541547.py:13: UserWarning: Pandas doesn't allow columns to be created via a new attribute name - see https://pandas.pydata.org/pandas-docs/stable/indexing.html#attribute-access\n",
      "  df_cluster2.sel_index = np.arange(len(df_cluster2))\n"
     ]
    }
   ],
   "source": [
    "# load cluster information\n",
    "infile = \"../../camels_cluster/Manuela_Brunner_2020/flood_cluster_memberships_CAMELS.txt\"\n",
    "df_cluster = pd.read_csv(infile)\n",
    "df_cluster = df_cluster.rename(\n",
    "    columns={\"Camels_IDs\": \"hru_id\", \"flood_cluster\": \"clusters\"}\n",
    ")\n",
    "df_cluster2 = pd.DataFrame()\n",
    "\n",
    "for id in df_info[\"hru_id\"].values:\n",
    "    dfi = df_cluster.loc[df_cluster[\"hru_id\"] == id]\n",
    "    df_cluster2 = pd.concat([df_cluster2, dfi])\n",
    "\n",
    "df_cluster2.sel_index = np.arange(len(df_cluster2))\n",
    "df_cluster = df_cluster2\n",
    "del df_cluster2\n",
    "df_cluster[\"clusters\"] = df_cluster[\"clusters\"] - 1  # starting from 0\n",
    "\n",
    "if np.any(df_info[\"hru_id\"].values - df_cluster['hru_id'].values != 0):\n",
    "    print(\"Mistmatch between basins and clusters\")\n",
    "else:\n",
    "    print(\"basins and clusters match\")"
   ]
  },
  {
   "cell_type": "code",
   "execution_count": 32,
   "id": "35157437-2fe0-4861-b56d-9fde40a7a0bd",
   "metadata": {},
   "outputs": [],
   "source": [
    "file = '/glade/campaign/cgd/tss/people/guoqiang/CTSM_CAMELS_proj/Calib_HH_MOASMO_bigrange/LargeSampleEmulator_exps_out/basin_id_forinput.gz'\n",
    "df_basinid = pd.read_csv(file, compression='gzip')\n",
    "\n",
    "clusters = np.nan * np.zeros(len(df_basinid))\n",
    "for i in range(len(df_info)):\n",
    "    indi = df_basinid['basin_id'].values == i\n",
    "    clusters[indi] = df_cluster.iloc[i]['clusters']"
   ]
  },
  {
   "cell_type": "code",
   "execution_count": 33,
   "id": "e2972440-d421-42cd-8976-45762ce2a96d",
   "metadata": {},
   "outputs": [],
   "source": [
    "\n",
    "def get_group_cv_indices(df_basinid, nfold=5, rndseed=1234567890):\n",
    "\n",
    "    random.seed(rndseed)\n",
    "    np.random.seed(rndseed)\n",
    "\n",
    "    # Initialize GroupKFold\n",
    "    group_kfold = GroupKFold(n_splits=nfold)\n",
    "\n",
    "    # Dictionary to store train and test indices\n",
    "    group_cv_indices = {}\n",
    "\n",
    "    # Cross-validation process to save indices\n",
    "    # does not depend on random seeds\n",
    "    for fold, (train_index, test_index) in enumerate(group_kfold.split(df_basinid, groups=df_basinid['basin_num'])):\n",
    "        \n",
    "        train_basin = np.unique(df_basinid.iloc[train_index]['basin_id'].values)\n",
    "        test_basin = np.unique(df_basinid.iloc[test_index]['basin_id'].values)\n",
    "\n",
    "        group_cv_indices[fold] = {'train_index': train_index, 'test_index': test_index, 'train_index_raw': df_basinid.iloc[train_index].index, 'test_index_raw': df_basinid.iloc[test_index].index} \n",
    "    return group_cv_indices\n",
    "\n",
    "# Get the indices\n",
    "nfold = 5\n",
    "group_cv_indices_all = []\n",
    "\n",
    "\n",
    "for usecluster in range(15): # 0-14: 15 clusters\n",
    "    ind2 = clusters == usecluster\n",
    "    df_basinid_c = df_basinid[ind2]\n",
    "    group_cv_indices = get_group_cv_indices(df_basinid_c, nfold)\n",
    "\n",
    "    group_cv_indices_all.append(group_cv_indices)"
   ]
  },
  {
   "cell_type": "code",
   "execution_count": 35,
   "id": "628d1e3a-9968-4850-92db-dd2e4b88be13",
   "metadata": {},
   "outputs": [],
   "source": [
    "\n",
    "cv_est_2 = cv_est_sbe.copy()\n",
    "trueindex = np.nan * np.zeros(cv_est_2.shape[1])\n",
    "for i in range(15):\n",
    "    group_cv_indices = group_cv_indices_all[i]\n",
    "    indi = cv_est_2[0,:,0]==i\n",
    "    falseindex_i = cv_est_2[0,:,1][indi]\n",
    "    trueindex_i = np.nan * np.ones(len(falseindex_i))\n",
    "    for j in range(5):\n",
    "        ind1 = group_cv_indices[j]['test_index']\n",
    "        ind2 = np.array(group_cv_indices[j]['test_index_raw'])\n",
    "        if np.any( np.any(falseindex_i[ind1] - ind1 !=0) ):\n",
    "            print('Error warning!')\n",
    "        trueindex_i[ind1] = ind2\n",
    "    trueindex[indi] = trueindex_i\n",
    "\n",
    "for i in range(cv_est_2.shape[0]):\n",
    "    cv_est_2[i, :, 1] = trueindex"
   ]
  },
  {
   "cell_type": "code",
   "execution_count": 36,
   "id": "451e9c89-f130-432b-b411-037f389bbd69",
   "metadata": {},
   "outputs": [],
   "source": [
    "cv_eval_sbe = np.nan * np.zeros([len(df_info), 2, cv_est_2.shape[0]]) # rmse/cc; ['RF standard', 'RF group', 'MLP standard', 'MLP group']\n",
    "\n",
    "for i in range(len(df_info)):\n",
    "    indi = np.where(df_basinid['basin_id'].values==i)[0]\n",
    "    for j in range(cv_est_2.shape[0]):\n",
    "        ddi = cv_est_2[j, indi, 2]\n",
    "        cv_eval_sbe[i, 0, j] = get_rmse(cv_est_2[j, indi, 2],  cv_est_2[j, indi, 3])\n",
    "        cv_eval_sbe[i, 1, j] = get_cc(cv_est_2[j, indi, 2],  cv_est_2[j, indi, 3])"
   ]
  },
  {
   "cell_type": "markdown",
   "id": "2ade5f46-f2a6-4dd7-9fd4-0afa7b992726",
   "metadata": {},
   "source": [
    "# Box plot of various emulators"
   ]
  },
  {
   "cell_type": "code",
   "execution_count": 105,
   "id": "9b97d296-2f13-4df9-acaf-0da81d9ef155",
   "metadata": {},
   "outputs": [],
   "source": [
    "# rmse and cc from cv\n",
    "\n",
    "# for sse, just gpr\n",
    "df1_1 = pd.DataFrame({\n",
    "    'rmse': cv_eval_sse[:, 0, 1, 0], # numbasin; rmse/cc; train/test; gpr/rf/mlp\n",
    "    'cc': cv_eval_sse[:, 1, 1, 0],\n",
    "    'Emulator': 'SSE: GPR',\n",
    "    'CV': 'Standard CV'\n",
    "})\n",
    "\n",
    "\n",
    "# for sse, combine GPR+RF\n",
    "rmse_sse = np.zeros(cv_eval_sse.shape[0])\n",
    "cc_sse = np.zeros(cv_eval_sse.shape[0])\n",
    "induse_rf = cv_eval_sse[:, 0, 1, 0] > cv_eval_sse[:, 0, 1, 1]\n",
    "rmse_sse[induse_rf] = cv_eval_sse[induse_rf, 0, 1, 1]\n",
    "rmse_sse[~induse_rf] = cv_eval_sse[~induse_rf, 0, 1, 0]\n",
    "cc_sse[induse_rf] = cv_eval_sse[induse_rf, 1, 1, 1]\n",
    "cc_sse[~induse_rf] = cv_eval_sse[~induse_rf, 1, 1, 0]\n",
    "\n",
    "df1_2 = pd.DataFrame({\n",
    "    'rmse': rmse_sse, \n",
    "    'cc': cc_sse,\n",
    "    'Emulator': 'SSE: GPR+RF',\n",
    "    'CV': 'Standard CV'\n",
    "})\n",
    "\n",
    "# cv_eval_lse  # rmse/cc; ['RF standard', 'RF group', 'RF cluster', 'MLP standard', 'MLP group', 'MLP cluster']\n",
    "df2 = pd.DataFrame({\n",
    "    'rmse': cv_eval_lse[:, 0, 0],\n",
    "    'cc': cv_eval_lse[:, 1, 0],\n",
    "    'Emulator': 'LSE',\n",
    "    'CV': 'Standard CV'\n",
    "})\n",
    "\n",
    "df3 = pd.DataFrame({\n",
    "    'rmse': cv_eval_lse[:, 0, 1],\n",
    "    'cc': cv_eval_lse[:, 1, 1],\n",
    "    'Emulator': 'LSE',\n",
    "    'CV': 'Group CV'\n",
    "})\n",
    "\n",
    "df4 = pd.DataFrame({\n",
    "    'rmse': cv_eval_lse[:, 0, 2],\n",
    "    'cc': cv_eval_lse[:, 1, 2],\n",
    "    'Emulator': 'LSE',\n",
    "    'CV': 'Cluster CV'\n",
    "})\n",
    "\n",
    "# cv_eval_sbe # rmse/cc; ['RF standard', 'RF group', 'MLP standard', 'MLP group']\n",
    "df5 = pd.DataFrame({\n",
    "    'rmse': cv_eval_sbe[:, 0, 0],\n",
    "    'cc': cv_eval_sbe[:, 1, 0],\n",
    "    'Emulator': 'SBE',\n",
    "    'CV': 'Standard CV'\n",
    "})\n",
    "\n",
    "df6 = pd.DataFrame({\n",
    "    'rmse': cv_eval_sbe[:, 0, 1],\n",
    "    'cc': cv_eval_sbe[:, 1, 1],\n",
    "    'Emulator': 'SBE',\n",
    "    'CV': 'Group CV'\n",
    "})\n",
    "\n",
    "df_plot = pd.concat([df1_1, df1_2, df2, df3, df4, df5, df6])\n"
   ]
  },
  {
   "cell_type": "code",
   "execution_count": 147,
   "id": "f807b75e-f100-4a31-bb90-89149054e613",
   "metadata": {},
   "outputs": [
    {
     "data": {
      "image/png": "[encoded data removed]",
      "text/plain": [
       "<Figure size 800x700 with 2 Axes>"
      ]
     },
     "metadata": {},
     "output_type": "display_data"
    }
   ],
   "source": [
    "\n",
    "# Create the plot using seaborn\n",
    "sns.set(style=\"whitegrid\")\n",
    "\n",
    "titles = ['(a) RMSE', '(b) CC']\n",
    "ys = ['rmse', 'cc']\n",
    "ylabs = ['RMSE', 'CC']\n",
    "\n",
    "fig = plt.figure(figsize=(8, 7))\n",
    "\n",
    "\n",
    "for i in range(2):\n",
    "    fig.add_subplot(2, 1, i+1)\n",
    "    ax = sns.violinplot(data=df_plot, x=\"CV\", y=ys[i], hue=\"Emulator\", palette=\"Set2\", linewidth=0.4, inner='box', inner_kws={'box_width':4},density_norm='width')\n",
    "    # Set the axis labels and title\n",
    "    ax.set_xlabel(\"\")\n",
    "    ax.set_ylabel(ylabs[i])\n",
    "    ax.set_title(titles[i])\n",
    "    ax.set_xticks([0, 1.2, 2.1])\n",
    "    \n",
    "    # Adjust the legend\n",
    "    if i == 0:\n",
    "        plt.legend(loc='upper left')\n",
    "    else:\n",
    "        ax.legend().set_visible(False)\n",
    "\n",
    "# Show the plot\n",
    "plt.tight_layout()\n",
    "plt.savefig('Allemulator_CV_violinplot.png', dpi=600, bbox_inches='tight', pad_inches=0)\n",
    "plt.show()"
   ]
  },
  {
   "cell_type": "code",
   "execution_count": null,
   "id": "13df49ec-55e9-4776-80ae-7eeaafeca7d0",
   "metadata": {},
   "outputs": [],
   "source": []
  }
 ],
 "metadata": {
  "kernelspec": {
   "display_name": "NPL 2024b",
   "language": "python",
   "name": "npl-2024b"
  },
  "language_info": {
   "codemirror_mode": {
    "name": "ipython",
    "version": 3
   },
   "file_extension": ".py",
   "mimetype": "text/x-python",
   "name": "python",
   "nbconvert_exporter": "python",
   "pygments_lexer": "ipython3",
   "version": "3.11.9"
  }
 },
 "nbformat": 4,
 "nbformat_minor": 5
}
