{
 "cells": [
  {
   "cell_type": "markdown",
   "id": "d69bc3ac-6d00-4f61-9b0e-d0fafb8fa3be",
   "metadata": {},
   "source": [
    "# compare the performance of emulator configurations based on iter-0 samples\n",
    "- SSE: Single-Site Emulator\n",
    "- SBE: Similarity-Based Emulator\n",
    "- LSE: Large-Sample Emulator\n",
    "\n",
    "Methods: \n",
    "- GPR: Gaussian Process Regression\n",
    "- RF: Random Forest\n",
    "- MLP: Multilayer Perceptron Neural Network"
   ]
  },
  {
   "cell_type": "code",
   "execution_count": 1,
   "id": "0ad96659-aeae-49da-a6ac-0d191f2d5633",
   "metadata": {},
   "outputs": [],
   "source": [
    "import sys, os, glob, pickle, toml, json, pickle, random\n",
    "import matplotlib.pyplot as plt\n",
    "import numpy as np\n",
    "import pandas as pd\n",
    "import seaborn as sns\n",
    "import multiprocessing\n",
    "\n",
    "\n",
    "sys.path.append('../../MOASMO_support')\n",
    "from MOASMO_parameter_allbasin_emulator import *"
   ]
  },
  {
   "cell_type": "code",
   "execution_count": 2,
   "id": "6fd09b5b-a13a-43e0-ab22-a191c7131a75",
   "metadata": {},
   "outputs": [],
   "source": [
    "# load data function, taken from ~/CTSM_repos/CTSM_calibration/src/MOASMO_support/MOASMO_parameter_allbasin_emulator.py\n",
    "def load_basin_data():\n",
    "    infile_basin_info = f\"/glade/work/guoqiang/CTSM_CAMELS/data_mesh_surf/HillslopeHydrology/CAMELS_level1_basin_info.csv\"\n",
    "    infile_param_info = '/glade/u/home/guoqiang/CTSM_repos/CTSM_calibration/src/parameter/CTSM_CAMELS_SA_param_240202.csv'\n",
    "    infile_attr_foruse = '/glade/u/home/guoqiang/CTSM_repos/CTSM_calibration/data/camels_attributes_table_TrainModel.csv'\n",
    "    inpath_moasmo = \"/glade/campaign/cgd/tss/people/guoqiang/CTSM_CAMELS_proj/Calib_HH_MOASMO_bigrange\"\n",
    "    path_CTSM_case = f'/glade/work/guoqiang/CTSM_CAMELS/Calib_HH_MOASMO_bigrange'\n",
    "    iterend = 1 # only read data from iter-0\n",
    "\n",
    "    outpath = f\"{inpath_moasmo}/allbasin_emulator\"\n",
    "    os.makedirs(outpath, exist_ok=True)\n",
    "    \n",
    "    # Load data: same for all iterations\n",
    "    df_basin_info = pd.read_csv(infile_basin_info)\n",
    "    df_param_info = pd.read_csv(infile_param_info)\n",
    "    \n",
    "    file_defa_param = f'{outpath}/camels_627basin_ctsm_defa_param.csv'\n",
    "    df_param_defa = read_allbasin_defa_params(path_CTSM_case, infile_param_info, file_defa_param, len(df_basin_info))\n",
    "\n",
    "    file_param_lb = f'{outpath}/camels_627basin_ctsm_all_param_lb.gz'\n",
    "    file_param_ub = f'{outpath}/camels_627basin_ctsm_all_param_ub.gz'\n",
    "    df_param_lb, df_param_ub = load_basin_param_bounds(inpath_moasmo, df_param_defa, file_param_lb, file_param_ub)\n",
    "\n",
    "    file_camels_attribute = f'{outpath}/camels_627basin_attribute.pkl'\n",
    "    df_att = read_camels_attributes(infile_basin_info, file_camels_attribute)\n",
    "    \n",
    "    df_att_foruse = pd.read_csv(infile_attr_foruse)\n",
    "    useattrs = list(df_att_foruse[df_att_foruse['att_Xie2021'].values]['Attribute_text'].values)\n",
    "    print(\"The number of attributes used:\", len(useattrs))\n",
    "    print(useattrs)\n",
    "\n",
    "    # Load data: outputs from each iteration\n",
    "    for iter in range(0, iterend):\n",
    "        file_all_param = f'{outpath}/camels_627basin_ctsm_all_param_iter{iter}.gz'\n",
    "        file_all_metric = f'{outpath}/camels_627basin_ctsm_all_metric_iter{iter}.gz'\n",
    "        file_all_basinid = f'{outpath}/camels_627basin_ctsm_all_basinid_iter{iter}.gz'\n",
    "        \n",
    "        df_param_i, df_metric_i, df_basinid_i = load_all_basin_params_metrics(inpath_moasmo, df_param_defa, df_basin_info, iter, file_all_param, file_all_metric, file_all_basinid)\n",
    "        \n",
    "        df_basinid_i['iter'] = iter\n",
    "        \n",
    "        if iter == 0:\n",
    "            df_param = df_param_i\n",
    "            df_metric = df_metric_i\n",
    "            df_basinid = df_basinid_i\n",
    "        else:\n",
    "            df_param = pd.concat([df_param, df_param_i])\n",
    "            df_metric = pd.concat([df_metric, df_metric_i])\n",
    "            df_basinid = pd.concat([df_basinid, df_basinid_i])\n",
    "    \n",
    "    df_param.index = np.arange(len(df_param))\n",
    "    df_metric.index = np.arange(len(df_metric))\n",
    "    df_basinid.index = np.arange(len(df_basinid))\n",
    "\n",
    "    index = np.isnan(np.sum(df_metric.values, axis=1))\n",
    "    df_param = df_param[~index]\n",
    "    df_metric = df_metric[~index]\n",
    "    df_basinid = df_basinid[~index]\n",
    "    \n",
    "    df_param.index = np.arange(len(df_param))\n",
    "    df_metric.index = np.arange(len(df_metric))\n",
    "    df_basinid.index = np.arange(len(df_basinid))\n",
    "    \n",
    "    print('Number of nan samples:', np.sum(index))\n",
    "    print(\"Number of original parameter sets:\", len(index))\n",
    "    print(\"Number of final parameter sets:\", len(df_param))\n",
    "\n",
    "    return df_basin_info, df_param_info, df_param_defa, df_param_lb, df_param_ub, df_att, df_att_foruse, df_param, df_metric, df_basinid"
   ]
  },
  {
   "cell_type": "code",
   "execution_count": 3,
   "id": "60632706-b916-4fa5-97e3-f235e7f85eff",
   "metadata": {},
   "outputs": [],
   "source": [
    "def evaluate_cv(cv_results):\n",
    "    # evaluation\n",
    "    rmse_test = np.nan * np.zeros(len(cv_results))\n",
    "    rmse_train = np.nan * np.zeros(len(cv_results))\n",
    "    cc_test = np.nan * np.zeros(len(cv_results))\n",
    "    cc_train = np.nan * np.zeros(len(cv_results))\n",
    "    \n",
    "    for fold in range(1, len(cv_results)+1):\n",
    "        y_train, y_test, y_train_pred, y_test_pred = cv_results[fold]['y_train'], cv_results[fold]['y_test'], cv_results[fold]['y_train_pred'], cv_results[fold]['y_test_pred']\n",
    "        \n",
    "        # Evaluate the model using \n",
    "        rmse_test[fold - 1] = get_rmse(y_test, y_test_pred)\n",
    "        rmse_train[fold - 1] = get_rmse(y_train, y_train_pred)\n",
    "        cc_test[fold - 1] = get_cc(y_test, y_test_pred)\n",
    "        cc_train[fold - 1] = get_cc(y_train, y_train_pred)\n",
    "            \n",
    "    return rmse_test, rmse_train, cc_test, cc_train\n",
    "\n",
    "\n",
    "def get_rmse(d1, d2):\n",
    "    return ( np.nanmean( (d1-d2)**2 ) ) ** 0.5\n",
    "\n",
    "def get_cc(d1, d2):\n",
    "    ind = ~np.isnan(d1+d2)\n",
    "    return np.corrcoef(d1[ind], d2[ind])[0,1]\n"
   ]
  },
  {
   "cell_type": "markdown",
   "id": "8d02bbd3-a3bd-4238-a4a5-653faf3e8d98",
   "metadata": {},
   "source": [
    "# Load data and save data for model training and comparison\n",
    "Here I just load the outputs from LSE which has summarized outputs from individual basins"
   ]
  },
  {
   "cell_type": "code",
   "execution_count": 4,
   "id": "68038acc-0101-4def-9fa0-43c2ac0f230c",
   "metadata": {},
   "outputs": [
    {
     "name": "stdout",
     "output_type": "stream",
     "text": [
      "File exists: /glade/campaign/cgd/tss/people/guoqiang/CTSM_CAMELS_proj/Calib_HH_MOASMO_bigrange/allbasin_emulator/camels_627basin_attribute.pkl\n",
      "The number of attributes used: 27\n",
      "['mean_elev', 'mean_slope', 'area_gauges2', 'p_mean', 'pet_mean', 'aridity', 'p_seasonality', 'frac_snow', 'high_prec_freq', 'high_prec_dur', 'low_prec_freq', 'low_prec_dur', 'frac_forest', 'lai_max', 'lai_diff', 'dom_land_cover', 'dom_land_cover_frac', 'soil_depth_pelletier', 'soil_depth_statsgo', 'soil_porosity', 'soil_conductivity', 'max_water_content', 'sand_frac', 'silt_frac', 'clay_frac', 'carbonate_rocks_frac', 'geol_permeability']\n",
      "Number of nan samples: 3309\n",
      "Number of original parameter sets: 250800\n",
      "Number of final parameter sets: 247491\n",
      "Number of basins: 627\n",
      "Number of all parameters: 27\n",
      "Number of all attributes: 62\n"
     ]
    }
   ],
   "source": [
    "# inpath = '/glade/campaign/cgd/tss/people/guoqiang/CTSM_CAMELS_proj/Calib_HH_MOASMO_bigrange/allbasin_emulator'\n",
    "\n",
    "# file_all_param = f'{inpath}/camels_627basin_ctsm_all_param_iter0.gz'\n",
    "# file_all_metric = f'{inpath}/camels_627basin_ctsm_all_meric_iter0.gz'\n",
    "# file_all_basinid = f'{inpath}/camels_627basin_ctsm_all_basinid_iter0.gz'\n",
    "\n",
    "# df_param = pd.read_csv(file_all_param, compression='gzip')\n",
    "# df_metric = pd.read_csv(file_all_metric, compression='gzip')\n",
    "# df_basinid = pd.read_csv(file_all_basinid, compression='gzip')\n",
    "\n",
    "df_basin_info, df_param_info, df_param_defa, df_param_lb, df_param_ub, df_att, df_att_foruse, df_param, df_metric, df_basinid = load_basin_data()\n",
    "print('Number of basins:', len(df_basin_info))\n",
    "print('Number of all parameters:', len(df_param_info))\n",
    "print('Number of all attributes:', len(df_att.columns))"
   ]
  },
  {
   "cell_type": "code",
   "execution_count": 5,
   "id": "a53d8fd5-c165-4d98-a73b-5aa22d59431b",
   "metadata": {},
   "outputs": [],
   "source": [
    "inpath_moasmo = '/glade/campaign/cgd/tss/people/guoqiang/CTSM_CAMELS_proj/Calib_HH_MOASMO_bigrange'\n",
    "outpath_all = f'{inpath_moasmo}/LargeSampleEmulator_exps_out'\n",
    "os.makedirs(outpath_all, exist_ok=True)\n",
    "numbasin = len(df_basin_info)"
   ]
  },
  {
   "cell_type": "code",
   "execution_count": 6,
   "id": "068ed895-907c-4baf-869b-47d61739f771",
   "metadata": {},
   "outputs": [],
   "source": [
    "num_cpus = 1  # Example: Use 4 CPUs"
   ]
  },
  {
   "cell_type": "markdown",
   "id": "3a8a69a7-c7dc-4f39-8070-9160eb31c57a",
   "metadata": {},
   "source": [
    "# SSE train and CV"
   ]
  },
  {
   "cell_type": "markdown",
   "id": "7c69c350-4f2c-4e4e-99ac-49a762017a37",
   "metadata": {},
   "source": [
    "## Train/Evaluate GPR model"
   ]
  },
  {
   "cell_type": "code",
   "execution_count": 7,
   "id": "828d80e3-c40e-4c64-9c66-a380ceaaf563",
   "metadata": {},
   "outputs": [],
   "source": [
    "# serial version\n",
    "\n",
    "# from sklearn.model_selection import KFold\n",
    "# from sklearn.ensemble import RandomForestClassifier, RandomForestRegressor\n",
    "\n",
    "# path_MOASMO = '/glade/u/home/guoqiang/CTSM_repos/ctsm_optz/MO-ASMO/src/'\n",
    "# sys.path.append(path_MOASMO)\n",
    "# import sampling\n",
    "# import gp\n",
    "# import NSGA2\n",
    "\n",
    "# def gpr_emulator_cv(x, y, xlb_mean, xub_mean, rndseed=1234567890):\n",
    "    \n",
    "#     random.seed(rndseed)\n",
    "#     np.random.seed(rndseed)\n",
    "\n",
    "#     n_splits = 5\n",
    "#     alpha = 1e-3\n",
    "#     leng_lb = 1e-3\n",
    "#     leng_ub = 1e3\n",
    "#     nu = 2.5\n",
    "\n",
    "#     cv_results = {}\n",
    "        \n",
    "#     kf = KFold(n_splits=n_splits, shuffle=True) \n",
    "#     kge_scores = np.nan * np.zeros([n_splits, y.shape[1]])\n",
    "    \n",
    "#     for fold_idx, (train_index, test_index) in enumerate(kf.split(x), 1):\n",
    "#         x_train, x_test = x[train_index], x[test_index]\n",
    "#         y_train, y_test = y[train_index], y[test_index]\n",
    "        \n",
    "#         # Initialize and train your GPR model here; adjust parameters as needed\n",
    "#         sm = gp.GPR_Matern(x_train, y_train, x_train.shape[1], y_train.shape[1], x_train.shape[0], xlb_mean, xub_mean, alpha=alpha, leng_sb=[leng_lb, leng_ub], nu=nu)\n",
    "\n",
    "#         # Store results\n",
    "#         cv_results[fold_idx] = {\n",
    "#                 # 'model': bp_model,  # Optional: Comment this out to avoid large serialization\n",
    "#                 'train_index': train_index,\n",
    "#                 'test_index': test_index,\n",
    "#                 'y_train': np.squeeze(y_train),\n",
    "#                 'y_test': np.squeeze(y_test),\n",
    "#                 'y_test_pred': np.squeeze(sm.predict(x_test)),\n",
    "#                 'y_train_pred': np.squeeze(sm.predict(x_train)),\n",
    "#             }\n",
    "\n",
    "#     return cv_results\n",
    "\n",
    "\n",
    "# outfile = f'{outpath_all}/SSE_GPR_normKGE_CV_estimates.pkl'\n",
    "\n",
    "# # if os.path.isfile(outfile):\n",
    "# if False:\n",
    "#     with open(outfile, 'rb') as file:\n",
    "#         gpr_cv_results = pickle.load(file)\n",
    "    \n",
    "# else:\n",
    "#     gpr_cv_results = []\n",
    "#     for i in range(2):\n",
    "#         indi = df_basinid['basin_id'].values == i\n",
    "#         kgei = df_metric[indi]['kge'].values\n",
    "#         kgei = kgei / (2 - kgei)\n",
    "#         parami = df_param[indi].values\n",
    "    \n",
    "#         # only select useful params\n",
    "#         lbi = df_param_lb.iloc[i].values\n",
    "#         ubi = df_param_ub.iloc[i].values\n",
    "#         induse = lbi != ubi\n",
    "#         parami = parami[:, induse]\n",
    "#         lbi = lbi[induse]\n",
    "#         ubi = ubi[induse]\n",
    "    \n",
    "#         metrics_use = kgei[:,np.newaxis]\n",
    "        \n",
    "#         cv_results = gpr_emulator_cv(parami, metrics_use, lbi, ubi)\n",
    "#         gpr_cv_results.append(cv_results)\n",
    "\n",
    "#     with open(outfile, 'wb') as file:\n",
    "#         pickle.dump(gpr_cv_results, file)"
   ]
  },
  {
   "cell_type": "code",
   "execution_count": 8,
   "id": "9ad6973e-be1d-4639-94c5-75a71f57bae2",
   "metadata": {},
   "outputs": [
    {
     "name": "stdout",
     "output_type": "stream",
     "text": [
      "CPU times: user 44.6 ms, sys: 16.3 ms, total: 60.9 ms\n",
      "Wall time: 100 ms\n"
     ]
    }
   ],
   "source": [
    "%%time\n",
    "\n",
    "# Parallel version\n",
    "\n",
    "from sklearn.model_selection import KFold\n",
    "\n",
    "path_MOASMO = '/glade/u/home/guoqiang/CTSM_repos/ctsm_optz/MO-ASMO/src/'\n",
    "sys.path.append(path_MOASMO)\n",
    "import sampling\n",
    "import gp\n",
    "import NSGA2\n",
    "\n",
    "def gpr_emulator_cv(x, y, xlb_mean, xub_mean, rndseed=1234567890):\n",
    "    \n",
    "    random.seed(rndseed)\n",
    "    np.random.seed(rndseed)\n",
    "\n",
    "    n_splits = 5\n",
    "    alpha = 1e-3\n",
    "    leng_lb = 1e-3\n",
    "    leng_ub = 1e3\n",
    "    nu = 2.5\n",
    "\n",
    "    cv_results = {}\n",
    "        \n",
    "    kf = KFold(n_splits=n_splits, shuffle=True) \n",
    "    kge_scores = np.nan * np.zeros([n_splits, y.shape[1]])\n",
    "    \n",
    "    for fold_idx, (train_index, test_index) in enumerate(kf.split(x), 1):\n",
    "        x_train, x_test = x[train_index], x[test_index]\n",
    "        y_train, y_test = y[train_index], y[test_index]\n",
    "        \n",
    "        # Initialize and train your GPR model here; adjust parameters as needed\n",
    "        sm = gp.GPR_Matern(x_train, y_train, x_train.shape[1], y_train.shape[1], x_train.shape[0], xlb_mean, xub_mean, alpha=alpha, leng_sb=[leng_lb, leng_ub], nu=nu)\n",
    "\n",
    "        # Store results\n",
    "        cv_results[fold_idx] = {\n",
    "                'train_index': train_index,\n",
    "                'test_index': test_index,\n",
    "                'y_train': np.squeeze(y_train),\n",
    "                'y_test': np.squeeze(y_test),\n",
    "                'y_test_pred': np.squeeze(sm.predict(x_test)),\n",
    "                'y_train_pred': np.squeeze(sm.predict(x_train)),\n",
    "            }\n",
    "\n",
    "    return cv_results\n",
    "\n",
    "def process_basin(i):\n",
    "    indi = df_basinid['basin_id'].values == i\n",
    "    kgei = df_metric[indi]['kge'].values\n",
    "    kgei = kgei / (2 - kgei)\n",
    "    parami = df_param[indi].values\n",
    "\n",
    "    # only select useful params\n",
    "    lbi = df_param_lb.iloc[i].values\n",
    "    ubi = df_param_ub.iloc[i].values\n",
    "    induse = lbi != ubi\n",
    "    parami = parami[:, induse]\n",
    "    lbi = lbi[induse]\n",
    "    ubi = ubi[induse]\n",
    "\n",
    "    metrics_use = kgei[:, np.newaxis]\n",
    "\n",
    "    cv_results = gpr_emulator_cv(parami, metrics_use, lbi, ubi)\n",
    "    return cv_results\n",
    "\n",
    "outfile = f'{outpath_all}/SSE_GPR_normKGE_CV_estimates.pkl'\n",
    "\n",
    "if os.path.isfile(outfile):\n",
    "    with open(outfile, 'rb') as file:\n",
    "        gpr_cv_results = pickle.load(file)\n",
    "else:\n",
    "\n",
    "    with multiprocessing.Pool(processes=num_cpus) as pool:\n",
    "        gpr_cv_results = pool.map(process_basin, range(numbasin))\n",
    "\n",
    "    with open(outfile, 'wb') as file:\n",
    "        pickle.dump(gpr_cv_results, file)"
   ]
  },
  {
   "cell_type": "code",
   "execution_count": 9,
   "id": "8d04dc8a-e49f-4867-abe0-11749fc08f51",
   "metadata": {},
   "outputs": [
    {
     "name": "stdout",
     "output_type": "stream",
     "text": [
      "CPU times: user 3.43 ms, sys: 0 ns, total: 3.43 ms\n",
      "Wall time: 30.4 ms\n"
     ]
    }
   ],
   "source": [
    "%%time\n",
    "\n",
    "# evaluate GPR CV\n",
    "\n",
    "\n",
    "outfile = f'{outpath_all}/SSE_GPR_normKGE_CV_evaluation.npz'\n",
    "\n",
    "if os.path.isfile(outfile):\n",
    "    dtmp = np.load(outfile)\n",
    "    gpr_rmse_train = dtmp['gpr_rmse_train']\n",
    "    gpr_rmse_test = dtmp['gpr_rmse_test']\n",
    "    gpr_cc_train = dtmp['gpr_cc_train']\n",
    "    gpr_cc_test = dtmp['gpr_cc_test']\n",
    "\n",
    "else:\n",
    "\n",
    "    gpr_rmse_train = np.nan * np.zeros([numbasin, 5])\n",
    "    gpr_rmse_test = np.nan * np.zeros([numbasin, 5])\n",
    "    gpr_cc_train = np.nan * np.zeros([numbasin, 5])\n",
    "    gpr_cc_test = np.nan * np.zeros([numbasin, 5])    \n",
    "    for i in range(len(gpr_cv_results)):\n",
    "        gpr_rmse_test[i, :], gpr_rmse_train[i, :], gpr_cc_test[i, :], gpr_cc_train[i, :] = evaluate_cv(gpr_cv_results[i])\n",
    "\n",
    "    np.savez_compressed(outfile, gpr_rmse_train=gpr_rmse_train, gpr_rmse_test=gpr_rmse_test, gpr_cc_train=gpr_cc_train, gpr_cc_test=gpr_cc_test)"
   ]
  },
  {
   "cell_type": "markdown",
   "id": "19dca7c5-5f69-48b1-b7a8-1f8954a0f8b8",
   "metadata": {},
   "source": [
    "## Train/Evalute RF model"
   ]
  },
  {
   "cell_type": "code",
   "execution_count": 10,
   "id": "cfe7493d-f816-4c3d-8b3a-8bbee1f61c16",
   "metadata": {},
   "outputs": [
    {
     "name": "stdout",
     "output_type": "stream",
     "text": [
      "CPU times: user 47.8 ms, sys: 17.2 ms, total: 65 ms\n",
      "Wall time: 258 ms\n"
     ]
    }
   ],
   "source": [
    "%%time\n",
    "\n",
    "# Parallel version\n",
    "\n",
    "from sklearn.model_selection import KFold\n",
    "\n",
    "\n",
    "def rf_emulator_cv(x, y, xlb_mean, xub_mean):\n",
    "\n",
    "    random.seed(1234567890)\n",
    "    np.random.seed(1234567890)\n",
    "    \n",
    "    n_splits = 5\n",
    "\n",
    "    cv_results = {}\n",
    "    kf = KFold(n_splits=n_splits, shuffle=True) \n",
    "    kge_scores = np.nan * np.zeros([n_splits, y.shape[1]])\n",
    "\n",
    "\n",
    "    # normalize\n",
    "    x = (x - xlb_mean) / (xub_mean - xlb_mean)\n",
    "\n",
    "    \n",
    "    for fold_idx, (train_index, test_index) in enumerate(kf.split(x), 1):\n",
    "        x_train, x_test = x[train_index], x[test_index]\n",
    "        y_train, y_test = y[train_index], y[test_index]\n",
    "        \n",
    "        # Initialize and train your GPR model here; adjust parameters as needed\n",
    "        sm = RandomForestRegressor()\n",
    "        sm.fit(x_train, y_train)\n",
    "        \n",
    "        # Store results\n",
    "        cv_results[fold_idx] = {\n",
    "                'train_index': train_index,\n",
    "                'test_index': test_index,\n",
    "                'y_train': np.squeeze(y_train),\n",
    "                'y_test': np.squeeze(y_test),\n",
    "                'y_test_pred': np.squeeze(sm.predict(x_test)),\n",
    "                'y_train_pred': np.squeeze(sm.predict(x_train)),\n",
    "            }\n",
    "\n",
    "    return cv_results\n",
    "\n",
    "\n",
    "def process_basin(i):\n",
    "    indi = df_basinid['basin_id'].values == i\n",
    "    kgei = df_metric[indi]['kge'].values\n",
    "    kgei = kgei / (2 - kgei)\n",
    "    parami = df_param[indi].values\n",
    "\n",
    "    # only select useful params\n",
    "    lbi = df_param_lb.iloc[i].values\n",
    "    ubi = df_param_ub.iloc[i].values\n",
    "    induse = lbi != ubi\n",
    "    parami = parami[:, induse]\n",
    "    lbi = lbi[induse]\n",
    "    ubi = ubi[induse]\n",
    "\n",
    "    metrics_use = kgei[:, np.newaxis]\n",
    "\n",
    "    cv_results = rf_emulator_cv(parami, metrics_use, lbi, ubi)\n",
    "    return cv_results\n",
    "\n",
    "outfile = f'{outpath_all}/SSE_RF_normKGE_CV_estimates.pkl'\n",
    "\n",
    "if os.path.isfile(outfile):\n",
    "    with open(outfile, 'rb') as file:\n",
    "        rf_cv_results = pickle.load(file)\n",
    "else:\n",
    "\n",
    "    with multiprocessing.Pool(processes=num_cpus) as pool:\n",
    "        rf_cv_results = pool.map(process_basin, range(numbasin))\n",
    "\n",
    "    with open(outfile, 'wb') as file:\n",
    "        pickle.dump(rf_cv_results, file)"
   ]
  },
  {
   "cell_type": "code",
   "execution_count": 11,
   "id": "8998446d-f2b8-41b0-afeb-59fcf2194cf4",
   "metadata": {},
   "outputs": [],
   "source": [
    "# evaluate\n",
    "outfile = f'{outpath_all}/SSE_RF_normKGE_CV_evaluation.npz'\n",
    "\n",
    "if os.path.isfile(outfile):\n",
    "    dtmp = np.load(outfile)\n",
    "    rf_rmse_train = dtmp['rf_rmse_train']\n",
    "    rf_rmse_test = dtmp['rf_rmse_test']\n",
    "    rf_cc_train = dtmp['rf_cc_train']\n",
    "    rf_cc_test = dtmp['rf_cc_test']\n",
    "\n",
    "else:\n",
    "\n",
    "    rf_rmse_train = np.nan * np.zeros([numbasin, 5])\n",
    "    rf_rmse_test = np.nan * np.zeros([numbasin, 5])\n",
    "    rf_cc_train = np.nan * np.zeros([numbasin, 5])\n",
    "    rf_cc_test = np.nan * np.zeros([numbasin, 5])    \n",
    "    for i in range(len(rf_cv_results)):\n",
    "        rf_rmse_test[i, :], rf_rmse_train[i, :], rf_cc_test[i, :], rf_cc_train[i, :] = evaluate_cv(rf_cv_results[i])\n",
    "\n",
    "    np.savez_compressed(outfile, rf_rmse_train=rf_rmse_train, rf_rmse_test=rf_rmse_test, rf_cc_train=rf_cc_train, rf_cc_test=rf_cc_test)"
   ]
  },
  {
   "cell_type": "markdown",
   "id": "80799d92-2123-4bef-aabd-90a5f268b42f",
   "metadata": {},
   "source": [
    "## Train/Evaluate MLP model"
   ]
  },
  {
   "cell_type": "code",
   "execution_count": 14,
   "id": "6e7b2caf-e43b-4044-b18b-c055217a78aa",
   "metadata": {},
   "outputs": [
    {
     "name": "stdout",
     "output_type": "stream",
     "text": [
      "CPU times: user 50.4 ms, sys: 28 ms, total: 78.3 ms\n",
      "Wall time: 111 ms\n"
     ]
    }
   ],
   "source": [
    "%%time\n",
    "\n",
    "# Parallel version\n",
    "from sklearn.neural_network import MLPRegressor\n",
    "from sklearn.preprocessing import StandardScaler\n",
    "from sklearn.pipeline import make_pipeline\n",
    "from sklearn.model_selection import KFold\n",
    "\n",
    "\n",
    "def mlp_emulator_cv(x, y, xlb_mean, xub_mean):\n",
    "\n",
    "    random.seed(1234567890)\n",
    "    np.random.seed(1234567890)\n",
    "    \n",
    "    n_splits = 5\n",
    "\n",
    "    cv_results = {}\n",
    "    kf = KFold(n_splits=n_splits, shuffle=True) \n",
    "    kge_scores = np.nan * np.zeros([n_splits, y.shape[1]])\n",
    "\n",
    "\n",
    "    # normalize\n",
    "    x = (x - xlb_mean) / (xub_mean - xlb_mean)\n",
    "\n",
    "    for fold_idx, (train_index, test_index) in enumerate(kf.split(x), 1):\n",
    "        x_train, x_test = x[train_index], x[test_index]\n",
    "        y_train, y_test = y[train_index], y[test_index]\n",
    "        \n",
    "        # Initialize and train your GPR model here; adjust parameters as needed\n",
    "        # sm = make_pipeline(StandardScaler(), MLPRegressor(hidden_layer_sizes=(2000,)))\n",
    "        sm = make_pipeline(StandardScaler(), MLPRegressor(hidden_layer_sizes=(2000,),  alpha=0.9))\n",
    "        sm.fit(x_train, y_train)\n",
    "\n",
    "        # Store results\n",
    "        cv_results[fold_idx] = {\n",
    "                'train_index': train_index,\n",
    "                'test_index': test_index,\n",
    "                'y_train': np.squeeze(y_train),\n",
    "                'y_test': np.squeeze(y_test),\n",
    "                'y_test_pred': np.squeeze(sm.predict(x_test)),\n",
    "                'y_train_pred': np.squeeze(sm.predict(x_train)),\n",
    "            }\n",
    "\n",
    "    return cv_results\n",
    "\n",
    "\n",
    "def process_basin(i):\n",
    "    indi = df_basinid['basin_id'].values == i\n",
    "    kgei = df_metric[indi]['kge'].values\n",
    "    kgei = kgei / (2 - kgei)\n",
    "    parami = df_param[indi].values\n",
    "\n",
    "    # only select useful params\n",
    "    lbi = df_param_lb.iloc[i].values\n",
    "    ubi = df_param_ub.iloc[i].values\n",
    "    induse = lbi != ubi\n",
    "    parami = parami[:, induse]\n",
    "    lbi = lbi[induse]\n",
    "    ubi = ubi[induse]\n",
    "\n",
    "    metrics_use = kgei[:, np.newaxis]\n",
    "\n",
    "    cv_results = mlp_emulator_cv(parami, metrics_use, lbi, ubi)\n",
    "    return cv_results\n",
    "\n",
    "outfile = f'{outpath_all}/SSE_MLP_normKGE_CV_estimates.pkl'\n",
    "\n",
    "if os.path.isfile(outfile):\n",
    "    with open(outfile, 'rb') as file:\n",
    "        mlp_cv_results = pickle.load(file)\n",
    "else:\n",
    "\n",
    "    with multiprocessing.Pool(processes=num_cpus) as pool:\n",
    "        mlp_cv_results = pool.map(process_basin, range(numbasin))\n",
    "\n",
    "    with open(outfile, 'wb') as file:\n",
    "        pickle.dump(mlp_cv_results, file)"
   ]
  },
  {
   "cell_type": "code",
   "execution_count": 15,
   "id": "24cfdb69-df54-41ce-be8b-87a4dcc4ed75",
   "metadata": {},
   "outputs": [],
   "source": [
    "# evaluate\n",
    "outfile = f'{outpath_all}/SSE_MLP_normKGE_CV_evaluation.npz'\n",
    "\n",
    "if os.path.isfile(outfile):\n",
    "    dtmp = np.load(outfile)\n",
    "    mlp_rmse_train = dtmp['mlp_rmse_train']\n",
    "    mlp_rmse_test = dtmp['mlp_rmse_test']\n",
    "    mlp_cc_train = dtmp['mlp_cc_train']\n",
    "    mlp_cc_test = dtmp['mlp_cc_test']\n",
    "\n",
    "else:\n",
    "\n",
    "    mlp_rmse_train = np.nan * np.zeros([numbasin, 5])\n",
    "    mlp_rmse_test = np.nan * np.zeros([numbasin, 5])\n",
    "    mlp_cc_train = np.nan * np.zeros([numbasin, 5])\n",
    "    mlp_cc_test = np.nan * np.zeros([numbasin, 5])    \n",
    "    for i in range(len(mlp_cv_results)):\n",
    "        mlp_rmse_test[i, :], mlp_rmse_train[i, :], mlp_cc_test[i, :], mlp_cc_train[i, :] = evaluate_cv(mlp_cv_results[i])\n",
    "\n",
    "    np.savez_compressed(outfile, mlp_rmse_train=mlp_rmse_train, mlp_rmse_test=mlp_rmse_test, mlp_cc_train=mlp_cc_train, mlp_cc_test=mlp_cc_test)"
   ]
  },
  {
   "cell_type": "markdown",
   "id": "70665fe7-80ed-481f-be51-040d83282e76",
   "metadata": {},
   "source": [
    "# Statistics"
   ]
  },
  {
   "cell_type": "code",
   "execution_count": 16,
   "id": "a0f28e56-d0ac-4063-81bb-faad869573ee",
   "metadata": {},
   "outputs": [
    {
     "name": "stdout",
     "output_type": "stream",
     "text": [
      "mean rmse train/test 0.01602375177474596 0.07449462442358838\n",
      "mean cc train/test 0.9717979920443841 0.7913423940296098\n"
     ]
    }
   ],
   "source": [
    "print('mean rmse train/test', np.nanmean(gpr_rmse_train), np.nanmean(gpr_rmse_test) )\n",
    "print('mean cc train/test', np.nanmean(gpr_cc_train), np.nanmean(gpr_cc_test) )"
   ]
  },
  {
   "cell_type": "code",
   "execution_count": 17,
   "id": "21ae3d4d-08f2-48d2-904e-9f8f2cd41169",
   "metadata": {},
   "outputs": [
    {
     "name": "stdout",
     "output_type": "stream",
     "text": [
      "mean rmse train/test 0.027107613013837416 0.07219663558870755\n",
      "mean cc train/test 0.9838820472249656 0.8071012348527201\n"
     ]
    }
   ],
   "source": [
    "print('mean rmse train/test', np.nanmean(rf_rmse_train), np.nanmean(rf_rmse_test) )\n",
    "print('mean cc train/test', np.nanmean(rf_cc_train), np.nanmean(rf_cc_test) )"
   ]
  },
  {
   "cell_type": "code",
   "execution_count": 18,
   "id": "4e47edcf-2210-4100-bc8a-2676043aa2b4",
   "metadata": {},
   "outputs": [
    {
     "name": "stdout",
     "output_type": "stream",
     "text": [
      "mean rmse train/test 0.04896116147480786 0.07109251325483687\n",
      "mean cc train/test 0.9175851974621652 0.8092091741775724\n"
     ]
    }
   ],
   "source": [
    "print('mean rmse train/test', np.nanmean(mlp_rmse_train), np.nanmean(mlp_rmse_test) )\n",
    "print('mean cc train/test', np.nanmean(mlp_cc_train), np.nanmean(mlp_cc_test) )"
   ]
  },
  {
   "cell_type": "code",
   "execution_count": 19,
   "id": "a3931ac4-41ba-43e0-9571-c1ce14eacd2e",
   "metadata": {},
   "outputs": [
    {
     "data": {
      "text/plain": [
       "(0.05882821565184366, 0.061725544671725335, 0.06030343379000705)"
      ]
     },
     "execution_count": 19,
     "metadata": {},
     "output_type": "execute_result"
    }
   ],
   "source": [
    "np.nanmedian(gpr_rmse_test), np.nanmedian(rf_rmse_test), np.nanmedian(mlp_rmse_test)"
   ]
  },
  {
   "cell_type": "code",
   "execution_count": 25,
   "id": "b31a7d64-76c8-4312-be8e-d32bc434b794",
   "metadata": {},
   "outputs": [
    {
     "name": "stdout",
     "output_type": "stream",
     "text": [
      "ratio that gpr+rf is better than mlp 0.7400318979266348\n",
      "ratio gpr is better than rf 0.5263157894736842\n",
      "ratio gpr is better than mlp 0.47527910685805425\n",
      "ratio rf is better than mlp 0.4178628389154705\n"
     ]
    },
    {
     "data": {
      "image/png": "[encoded data removed]",
      "text/plain": [
       "<Figure size 640x480 with 1 Axes>"
      ]
     },
     "metadata": {},
     "output_type": "display_data"
    }
   ],
   "source": [
    "# this means combining gpr + rf is always better than ann\n",
    "\n",
    "gpr_rmse_m = np.nanmean(gpr_rmse_test, axis=1)\n",
    "rf_rmse_m = np.nanmean(rf_rmse_test, axis=1)\n",
    "mlp_rmse_m = np.nanmean(mlp_rmse_test, axis=1)\n",
    "\n",
    "ind = (gpr_rmse_m<mlp_rmse_m) | (rf_rmse_m<mlp_rmse_m)\n",
    "print('ratio that gpr+rf is better than mlp', np.sum(ind)/numbasin)\n",
    "print('ratio gpr is better than rf', np.sum(gpr_rmse_m < rf_rmse_m)/numbasin)\n",
    "print('ratio gpr is better than mlp', np.sum(gpr_rmse_m < mlp_rmse_m)/numbasin)\n",
    "print('ratio rf is better than mlp', np.sum(rf_rmse_m < mlp_rmse_m)/numbasin)\n",
    "\n",
    "gpr_rmse_m = np.nanmean(gpr_rmse_test, axis=1)\n",
    "rf_rmse_m = np.nanmean(rf_rmse_test, axis=1)\n",
    "mlp_rmse_m = np.nanmean(mlp_rmse_test, axis=1)\n",
    "\n",
    "plt.hist(gpr_rmse_m, alpha=0.3, label='gpr')\n",
    "plt.hist(rf_rmse_m, alpha=0.3, label='rf')\n",
    "plt.hist(mlp_rmse_m, alpha=0.3, label='mlp')\n",
    "plt.legend()\n",
    "plt.show()"
   ]
  },
  {
   "cell_type": "code",
   "execution_count": null,
   "id": "5a60f31a-6302-4d85-b9df-db3fe627f617",
   "metadata": {},
   "outputs": [],
   "source": []
  },
  {
   "cell_type": "code",
   "execution_count": null,
   "id": "61f18e49-bae2-42ee-a9f7-a39505a9a1d1",
   "metadata": {},
   "outputs": [],
   "source": []
  }
 ],
 "metadata": {
  "kernelspec": {
   "display_name": "Python [conda env:npl-2024a-tgq]",
   "language": "python",
   "name": "conda-env-npl-2024a-tgq-py"
  },
  "language_info": {
   "codemirror_mode": {
    "name": "ipython",
    "version": 3
   },
   "file_extension": ".py",
   "mimetype": "text/x-python",
   "name": "python",
   "nbconvert_exporter": "python",
   "pygments_lexer": "ipython3",
   "version": "3.11.6"
  }
 },
 "nbformat": 4,
 "nbformat_minor": 5
}
