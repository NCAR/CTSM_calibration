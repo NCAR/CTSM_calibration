{
 "cells": [
  {
   "cell_type": "code",
   "execution_count": 1,
   "id": "a8f5dbe2-5b4f-4de9-9fd5-13a9adf5645c",
   "metadata": {},
   "outputs": [],
   "source": [
    "import sys, os, glob, pickle, toml, json\n",
    "import pickle\n",
    "import matplotlib.pyplot as plt\n",
    "import numpy as np\n",
    "import pandas as pd\n",
    "import seaborn as sns\n",
    "\n",
    "import cartopy.crs as ccrs\n",
    "import cartopy.feature as cfeature\n",
    "\n",
    "def set_background(ax):\n",
    "    ax.set_extent([-121, -72, 25, 50])\n",
    "\n",
    "    # Background boundaries\n",
    "    # ax.add_feature(cfeature.LAND)\n",
    "    ax.add_feature(cfeature.COASTLINE)\n",
    "    ax.add_feature(cfeature.BORDERS)\n",
    "    states_provinces = cfeature.NaturalEarthFeature(\n",
    "        category='cultural',\n",
    "        name='admin_1_states_provinces_lines',\n",
    "        scale='50m',\n",
    "        facecolor='none')\n",
    "    ax.add_feature(states_provinces, edgecolor='gray')\n",
    "    \n",
    "    return ax\n",
    "\n",
    "\n",
    "def cal_ratio_within_bins(data, bins):\n",
    "    binsc = np.zeros(len(bins)-1)\n",
    "    ratio = np.zeros(len(bins)-1)\n",
    "    for i in range(len(bins)-1):\n",
    "        indi = (data>bins[i]) & (data<=bins[i+1])\n",
    "        ratio[i] = np.sum(indi)/np.sum(~np.isnan(data))\n",
    "        binsc[i] = (bins[i]+bins[i+1])/2\n",
    "    return binsc, ratio"
   ]
  },
  {
   "cell_type": "code",
   "execution_count": 2,
   "id": "ebcee74f-3861-4704-909f-28a38670fdc5",
   "metadata": {},
   "outputs": [],
   "source": [
    "# load info\n",
    "infile_basin_info = f\"/glade/work/guoqiang/CTSM_CAMELS/data_mesh_surf/HillslopeHydrology/CAMELS_level1_basin_info.csv\"\n",
    "df_info = pd.read_csv(infile_basin_info)"
   ]
  },
  {
   "cell_type": "code",
   "execution_count": 5,
   "id": "29bb7a5e-7e97-4101-89c0-d1966e75251b",
   "metadata": {},
   "outputs": [],
   "source": [
    "# input/out and iteration information\n",
    "iternum = 2\n",
    "inpath_moasmo = '/glade/campaign/cgd/tss/people/guoqiang/CTSM_CAMELS_proj/Calib_HH_MOASMO_bigrange/'"
   ]
  },
  {
   "cell_type": "code",
   "execution_count": 6,
   "id": "895c5197-fe73-4409-9712-c190a4e86f97",
   "metadata": {},
   "outputs": [],
   "source": [
    "# LSE metrics\n",
    "# outfile = f'dtmp.gz'\n",
    "# if os.path.isfile(outfile):\n",
    "if False:\n",
    "    df_lse_metric = pd.read_csv(outfile, compression='gzip')\n",
    "else:\n",
    "    df_lse_metric = []\n",
    "\n",
    "    for tarbasin in range(len(df_info)):\n",
    "        if not tarbasin in np.arange(0, 627, 5):\n",
    "            for i in range(iternum):\n",
    "                infile = f'{inpath_moasmo}/level1_{tarbasin}_MOASMOcalib/ctsm_outputs_LSEtrain/iter{i}_many_metric.csv'    \n",
    "                dfi = pd.read_csv(infile)\n",
    "                dfi['basin'] = tarbasin\n",
    "                dfi['iter'] = i\n",
    "                dfi['trial'] = np.arange(len(dfi))\n",
    "                if len(df_lse_metric) == 0:\n",
    "                    df_lse_metric = dfi\n",
    "                else:\n",
    "                    df_lse_metric = pd.concat([df_lse_metric, dfi])"
   ]
  },
  {
   "cell_type": "code",
   "execution_count": 9,
   "id": "2b502313-d60b-4fa1-a7fb-76bab82357df",
   "metadata": {},
   "outputs": [],
   "source": [
    "metname = 'kge'\n",
    "trainbasin = np.unique(df_lse_metric['basin'].values)\n",
    "met_stats_lse = np.nan * np.zeros([len(trainbasin), iternum, 3]) # best; mean; median\n",
    "for i in range(iternum):\n",
    "    indi = (df_lse_metric['iter']==i)\n",
    "    for j in range(len(trainbasin)):\n",
    "        indij = indi & (df_lse_metric['basin']==trainbasin[j])\n",
    "        dij = df_lse_metric[indij][metname].values\n",
    "\n",
    "        met_stats_lse[j, i, 0] = np.nanmax(dij)\n",
    "        met_stats_lse[j, i, 1] = np.nanmean(dij)\n",
    "        met_stats_lse[j, i, 2] = np.nanmedian(dij)\n",
    "\n"
   ]
  },
  {
   "cell_type": "code",
   "execution_count": 11,
   "id": "76c9a80a-feba-461a-9cf2-8d7a2f25a2da",
   "metadata": {},
   "outputs": [
    {
     "data": {
      "text/plain": [
       "array([0.37585942, 0.42626141])"
      ]
     },
     "execution_count": 11,
     "metadata": {},
     "output_type": "execute_result"
    }
   ],
   "source": [
    "# iter-1 still improves against iter-0\n",
    "np.nanmean(met_stats_lse[:,:,0],axis=0)"
   ]
  },
  {
   "cell_type": "code",
   "execution_count": null,
   "id": "fa674aa9-93b5-486a-b1e5-136fb53718cc",
   "metadata": {},
   "outputs": [],
   "source": []
  }
 ],
 "metadata": {
  "kernelspec": {
   "display_name": "NPL 2024b",
   "language": "python",
   "name": "npl-2024b"
  },
  "language_info": {
   "codemirror_mode": {
    "name": "ipython",
    "version": 3
   },
   "file_extension": ".py",
   "mimetype": "text/x-python",
   "name": "python",
   "nbconvert_exporter": "python",
   "pygments_lexer": "ipython3",
   "version": "3.11.9"
  }
 },
 "nbformat": 4,
 "nbformat_minor": 5
}
