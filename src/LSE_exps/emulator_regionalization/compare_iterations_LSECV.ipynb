{
 "cells": [
  {
   "cell_type": "code",
   "execution_count": 2,
   "id": "96fb3efe-2855-4a8c-90e1-17074bb70d1a",
   "metadata": {},
   "outputs": [],
   "source": [
    "import sys, os, glob, pickle, toml, json\n",
    "import pickle\n",
    "import matplotlib.pyplot as plt\n",
    "import numpy as np\n",
    "import pandas as pd\n",
    "import seaborn as sns\n",
    "import matplotlib.cm as cm\n",
    "import cartopy.crs as ccrs\n",
    "import cartopy.feature as cfeature\n",
    "import xarray as xr"
   ]
  },
  {
   "cell_type": "code",
   "execution_count": 68,
   "id": "80c28b63-11f7-41c3-ab2f-01b5cf4d9856",
   "metadata": {},
   "outputs": [],
   "source": [
    "# load info\n",
    "infile_basin_info = f\"/glade/work/guoqiang/CTSM_CAMELS/data_mesh_surf/HillslopeHydrology/CAMELS_level1_basin_info.csv\"\n",
    "df_info = pd.read_csv(infile_basin_info)\n",
    "\n",
    "# input/out and iteration information\n",
    "iternum = 10\n",
    "inpath_moasmo = '/glade/campaign/cgd/tss/people/guoqiang/CTSM_CAMELS_proj/Calib_HH_emulator/'"
   ]
  },
  {
   "cell_type": "code",
   "execution_count": 17,
   "id": "a3c3f072-0804-486b-9649-c851c0ea8552",
   "metadata": {},
   "outputs": [],
   "source": [
    "test_index = np.arange(0, len(df_info), 5)\n",
    "train_index = np.setdiff1d(np.arange(len(df_info)), test_index)"
   ]
  },
  {
   "cell_type": "markdown",
   "id": "eb215a67-9679-444a-848b-e799e5c9206a",
   "metadata": {},
   "source": [
    "# Iter-0 and LSE training in the testing basins (627 basin training)"
   ]
  },
  {
   "cell_type": "code",
   "execution_count": 7,
   "id": "de698bec-d210-43d0-97f8-d19be77fe4ec",
   "metadata": {},
   "outputs": [],
   "source": [
    "    # LSE metrics\n",
    "\n",
    "    df_lse_metric = []\n",
    "\n",
    "    for tarbasin in test_index:\n",
    "        for i in range(iternum):\n",
    "            infile = f'{inpath_moasmo}/level1_{tarbasin}_calib/ctsm_outputs_LSEnormKGE/iter{i}_many_metrics_mizuroute_s-1.csv'    \n",
    "            dfi = pd.read_csv(infile)\n",
    "            dfi['basin'] = tarbasin\n",
    "            dfi['iter'] = i\n",
    "            dfi['trial'] = np.arange(len(dfi))\n",
    "            if len(df_lse_metric) == 0:\n",
    "                df_lse_metric = dfi\n",
    "            else:\n",
    "                df_lse_metric = pd.concat([df_lse_metric, dfi])"
   ]
  },
  {
   "cell_type": "code",
   "execution_count": 9,
   "id": "efdea9e4-fdcd-4421-8ca4-7fad8a738735",
   "metadata": {},
   "outputs": [
    {
     "name": "stdout",
     "output_type": "stream",
     "text": [
      "median defa: 0.25040086100924586\n",
      "best of each iteration\n",
      "[0.49236911 0.54537293]\n"
     ]
    }
   ],
   "source": [
    "# statistics-1: best metric of each iteration\n",
    "metname = 'kge'\n",
    "met_defa = np.nan * np.zeros(len(test_index))\n",
    "met_stats_lse = np.nan * np.zeros([len(test_index), iternum, 3]) # best; mean; median\n",
    "for i in range(iternum):\n",
    "    indi = (df_lse_metric['iter']==i)\n",
    "    for j in range(len(test_index)):\n",
    "        indij = indi & (df_lse_metric['basin']==test_index[j])\n",
    "        dij = df_lse_metric[indij][metname].values\n",
    "\n",
    "        met_stats_lse[j, i, 0] = np.nanmax(dij)\n",
    "        met_stats_lse[j, i, 1] = np.nanmean(dij)\n",
    "        met_stats_lse[j, i, 2] = np.nanmedian(dij)\n",
    "\n",
    "        if i == 0:\n",
    "            met_defa[j] = dij[0]\n",
    "\n",
    "print('median defa:', np.nanmedian(met_defa))\n",
    "print('best of each iteration')\n",
    "print(np.nanmedian(met_stats_lse[:,:,0], axis=0))"
   ]
  },
  {
   "cell_type": "markdown",
   "id": "141faa3a-b6a1-4fac-a29a-4f56c30ce8b3",
   "metadata": {},
   "source": [
    "# Iter-0 and LSE training in the training basins (80% basin training)"
   ]
  },
  {
   "cell_type": "code",
   "execution_count": 55,
   "id": "d1c54164-7975-4f18-9f0c-204af1a3d2e5",
   "metadata": {},
   "outputs": [],
   "source": [
    "    # LSE metrics\n",
    "\n",
    "    df_lse_metric = []\n",
    "\n",
    "    for tarbasin in train_index:\n",
    "        for i in range(iternum):\n",
    "            infile = f'{inpath_moasmo}/level1_{tarbasin}_calib/ctsm_outputs_LSEnormKGECV0/iter{i}_many_metrics_mizuroute_s-1.csv'    \n",
    "            dfi = pd.read_csv(infile)\n",
    "            dfi['basin'] = tarbasin\n",
    "            dfi['iter'] = i\n",
    "            dfi['trial'] = np.arange(len(dfi))\n",
    "            if len(df_lse_metric) == 0:\n",
    "                df_lse_metric = dfi\n",
    "            else:\n",
    "                df_lse_metric = pd.concat([df_lse_metric, dfi])"
   ]
  },
  {
   "cell_type": "code",
   "execution_count": 56,
   "id": "67b2c037-e59b-415a-a64c-8f2855594210",
   "metadata": {},
   "outputs": [
    {
     "name": "stdout",
     "output_type": "stream",
     "text": [
      "median defa: 0.2977536428467691\n",
      "best of each iteration\n",
      "[0.5092305  0.51526717 0.54888729 0.5930669  0.6047926  0.62022205\n",
      " 0.6233694  0.64096502]\n"
     ]
    }
   ],
   "source": [
    "# statistics-1: best metric of each iteration\n",
    "metname = 'kge'\n",
    "met_defa = np.nan * np.zeros(len(train_index))\n",
    "met_stats_lse = np.nan * np.zeros([len(train_index), iternum, 3]) # best; mean; median\n",
    "for i in range(iternum):\n",
    "    indi = (df_lse_metric['iter']==i)\n",
    "    for j in range(len(train_index)):\n",
    "        indij = indi & (df_lse_metric['basin']==train_index[j])\n",
    "        dij = df_lse_metric[indij][metname].values\n",
    "\n",
    "        met_stats_lse[j, i, 0] = np.nanmax(dij)\n",
    "        met_stats_lse[j, i, 1] = np.nanmean(dij)\n",
    "        met_stats_lse[j, i, 2] = np.nanmedian(dij)\n",
    "\n",
    "        if i == 0:\n",
    "            met_defa[j] = dij[0]\n",
    "\n",
    "print('median defa:', np.nanmedian(met_defa))\n",
    "print('best of each iteration')\n",
    "print(np.nanmedian(met_stats_lse[:,:,0], axis=0))"
   ]
  },
  {
   "cell_type": "markdown",
   "id": "62c6c4bd-c1a3-4e8a-9648-5dd35f7ee482",
   "metadata": {},
   "source": [
    "# LSE CV in the testing basins (80% basin training)"
   ]
  },
  {
   "cell_type": "code",
   "execution_count": 69,
   "id": "eabe1350-6227-41f4-b9ad-15cd4809c4f7",
   "metadata": {
    "scrolled": true
   },
   "outputs": [
    {
     "name": "stdout",
     "output_type": "stream",
     "text": [
      "file does not exist /glade/campaign/cgd/tss/people/guoqiang/CTSM_CAMELS_proj/Calib_HH_emulator//level1_0_calib/ctsm_outputs_LSEnormKGECV0test/iter9_trial0/evaluation_many_metrics_mizuroute_s-1.csv\n",
      "file does not exist /glade/campaign/cgd/tss/people/guoqiang/CTSM_CAMELS_proj/Calib_HH_emulator//level1_5_calib/ctsm_outputs_LSEnormKGECV0test/iter9_trial0/evaluation_many_metrics_mizuroute_s-1.csv\n",
      "file does not exist /glade/campaign/cgd/tss/people/guoqiang/CTSM_CAMELS_proj/Calib_HH_emulator//level1_10_calib/ctsm_outputs_LSEnormKGECV0test/iter9_trial0/evaluation_many_metrics_mizuroute_s-1.csv\n",
      "file does not exist /glade/campaign/cgd/tss/people/guoqiang/CTSM_CAMELS_proj/Calib_HH_emulator//level1_15_calib/ctsm_outputs_LSEnormKGECV0test/iter9_trial0/evaluation_many_metrics_mizuroute_s-1.csv\n",
      "file does not exist /glade/campaign/cgd/tss/people/guoqiang/CTSM_CAMELS_proj/Calib_HH_emulator//level1_20_calib/ctsm_outputs_LSEnormKGECV0test/iter9_trial0/evaluation_many_metrics_mizuroute_s-1.csv\n",
      "file does not exist /glade/campaign/cgd/tss/people/guoqiang/CTSM_CAMELS_proj/Calib_HH_emulator//level1_25_calib/ctsm_outputs_LSEnormKGECV0test/iter9_trial0/evaluation_many_metrics_mizuroute_s-1.csv\n",
      "file does not exist /glade/campaign/cgd/tss/people/guoqiang/CTSM_CAMELS_proj/Calib_HH_emulator//level1_30_calib/ctsm_outputs_LSEnormKGECV0test/iter9_trial0/evaluation_many_metrics_mizuroute_s-1.csv\n",
      "file does not exist /glade/campaign/cgd/tss/people/guoqiang/CTSM_CAMELS_proj/Calib_HH_emulator//level1_35_calib/ctsm_outputs_LSEnormKGECV0test/iter9_trial0/evaluation_many_metrics_mizuroute_s-1.csv\n",
      "file does not exist /glade/campaign/cgd/tss/people/guoqiang/CTSM_CAMELS_proj/Calib_HH_emulator//level1_40_calib/ctsm_outputs_LSEnormKGECV0test/iter3_trial0/evaluation_many_metrics_mizuroute_s-1.csv\n",
      "file does not exist /glade/campaign/cgd/tss/people/guoqiang/CTSM_CAMELS_proj/Calib_HH_emulator//level1_40_calib/ctsm_outputs_LSEnormKGECV0test/iter9_trial0/evaluation_many_metrics_mizuroute_s-1.csv\n",
      "file does not exist /glade/campaign/cgd/tss/people/guoqiang/CTSM_CAMELS_proj/Calib_HH_emulator//level1_45_calib/ctsm_outputs_LSEnormKGECV0test/iter9_trial0/evaluation_many_metrics_mizuroute_s-1.csv\n",
      "file does not exist /glade/campaign/cgd/tss/people/guoqiang/CTSM_CAMELS_proj/Calib_HH_emulator//level1_50_calib/ctsm_outputs_LSEnormKGECV0test/iter9_trial0/evaluation_many_metrics_mizuroute_s-1.csv\n",
      "file does not exist /glade/campaign/cgd/tss/people/guoqiang/CTSM_CAMELS_proj/Calib_HH_emulator//level1_55_calib/ctsm_outputs_LSEnormKGECV0test/iter9_trial0/evaluation_many_metrics_mizuroute_s-1.csv\n",
      "file does not exist /glade/campaign/cgd/tss/people/guoqiang/CTSM_CAMELS_proj/Calib_HH_emulator//level1_60_calib/ctsm_outputs_LSEnormKGECV0test/iter8_trial0/evaluation_many_metrics_mizuroute_s-1.csv\n",
      "file does not exist /glade/campaign/cgd/tss/people/guoqiang/CTSM_CAMELS_proj/Calib_HH_emulator//level1_60_calib/ctsm_outputs_LSEnormKGECV0test/iter9_trial0/evaluation_many_metrics_mizuroute_s-1.csv\n",
      "file does not exist /glade/campaign/cgd/tss/people/guoqiang/CTSM_CAMELS_proj/Calib_HH_emulator//level1_65_calib/ctsm_outputs_LSEnormKGECV0test/iter9_trial0/evaluation_many_metrics_mizuroute_s-1.csv\n",
      "file does not exist /glade/campaign/cgd/tss/people/guoqiang/CTSM_CAMELS_proj/Calib_HH_emulator//level1_70_calib/ctsm_outputs_LSEnormKGECV0test/iter9_trial0/evaluation_many_metrics_mizuroute_s-1.csv\n",
      "file does not exist /glade/campaign/cgd/tss/people/guoqiang/CTSM_CAMELS_proj/Calib_HH_emulator//level1_75_calib/ctsm_outputs_LSEnormKGECV0test/iter9_trial0/evaluation_many_metrics_mizuroute_s-1.csv\n",
      "file does not exist /glade/campaign/cgd/tss/people/guoqiang/CTSM_CAMELS_proj/Calib_HH_emulator//level1_80_calib/ctsm_outputs_LSEnormKGECV0test/iter7_trial0/evaluation_many_metrics_mizuroute_s-1.csv\n",
      "file does not exist /glade/campaign/cgd/tss/people/guoqiang/CTSM_CAMELS_proj/Calib_HH_emulator//level1_80_calib/ctsm_outputs_LSEnormKGECV0test/iter9_trial0/evaluation_many_metrics_mizuroute_s-1.csv\n",
      "file does not exist /glade/campaign/cgd/tss/people/guoqiang/CTSM_CAMELS_proj/Calib_HH_emulator//level1_85_calib/ctsm_outputs_LSEnormKGECV0test/iter9_trial0/evaluation_many_metrics_mizuroute_s-1.csv\n",
      "file does not exist /glade/campaign/cgd/tss/people/guoqiang/CTSM_CAMELS_proj/Calib_HH_emulator//level1_90_calib/ctsm_outputs_LSEnormKGECV0test/iter1_trial0/evaluation_many_metrics_mizuroute_s-1.csv\n",
      "file does not exist /glade/campaign/cgd/tss/people/guoqiang/CTSM_CAMELS_proj/Calib_HH_emulator//level1_90_calib/ctsm_outputs_LSEnormKGECV0test/iter9_trial0/evaluation_many_metrics_mizuroute_s-1.csv\n",
      "file does not exist /glade/campaign/cgd/tss/people/guoqiang/CTSM_CAMELS_proj/Calib_HH_emulator//level1_95_calib/ctsm_outputs_LSEnormKGECV0test/iter9_trial0/evaluation_many_metrics_mizuroute_s-1.csv\n",
      "file does not exist /glade/campaign/cgd/tss/people/guoqiang/CTSM_CAMELS_proj/Calib_HH_emulator//level1_100_calib/ctsm_outputs_LSEnormKGECV0test/iter9_trial0/evaluation_many_metrics_mizuroute_s-1.csv\n",
      "file does not exist /glade/campaign/cgd/tss/people/guoqiang/CTSM_CAMELS_proj/Calib_HH_emulator//level1_105_calib/ctsm_outputs_LSEnormKGECV0test/iter9_trial0/evaluation_many_metrics_mizuroute_s-1.csv\n",
      "file does not exist /glade/campaign/cgd/tss/people/guoqiang/CTSM_CAMELS_proj/Calib_HH_emulator//level1_110_calib/ctsm_outputs_LSEnormKGECV0test/iter9_trial0/evaluation_many_metrics_mizuroute_s-1.csv\n",
      "file does not exist /glade/campaign/cgd/tss/people/guoqiang/CTSM_CAMELS_proj/Calib_HH_emulator//level1_115_calib/ctsm_outputs_LSEnormKGECV0test/iter9_trial0/evaluation_many_metrics_mizuroute_s-1.csv\n",
      "file does not exist /glade/campaign/cgd/tss/people/guoqiang/CTSM_CAMELS_proj/Calib_HH_emulator//level1_120_calib/ctsm_outputs_LSEnormKGECV0test/iter9_trial0/evaluation_many_metrics_mizuroute_s-1.csv\n",
      "file does not exist /glade/campaign/cgd/tss/people/guoqiang/CTSM_CAMELS_proj/Calib_HH_emulator//level1_125_calib/ctsm_outputs_LSEnormKGECV0test/iter9_trial0/evaluation_many_metrics_mizuroute_s-1.csv\n",
      "file does not exist /glade/campaign/cgd/tss/people/guoqiang/CTSM_CAMELS_proj/Calib_HH_emulator//level1_130_calib/ctsm_outputs_LSEnormKGECV0test/iter9_trial0/evaluation_many_metrics_mizuroute_s-1.csv\n",
      "file does not exist /glade/campaign/cgd/tss/people/guoqiang/CTSM_CAMELS_proj/Calib_HH_emulator//level1_135_calib/ctsm_outputs_LSEnormKGECV0test/iter9_trial0/evaluation_many_metrics_mizuroute_s-1.csv\n",
      "file does not exist /glade/campaign/cgd/tss/people/guoqiang/CTSM_CAMELS_proj/Calib_HH_emulator//level1_140_calib/ctsm_outputs_LSEnormKGECV0test/iter5_trial0/evaluation_many_metrics_mizuroute_s-1.csv\n",
      "file does not exist /glade/campaign/cgd/tss/people/guoqiang/CTSM_CAMELS_proj/Calib_HH_emulator//level1_140_calib/ctsm_outputs_LSEnormKGECV0test/iter9_trial0/evaluation_many_metrics_mizuroute_s-1.csv\n",
      "file does not exist /glade/campaign/cgd/tss/people/guoqiang/CTSM_CAMELS_proj/Calib_HH_emulator//level1_145_calib/ctsm_outputs_LSEnormKGECV0test/iter9_trial0/evaluation_many_metrics_mizuroute_s-1.csv\n",
      "file does not exist /glade/campaign/cgd/tss/people/guoqiang/CTSM_CAMELS_proj/Calib_HH_emulator//level1_150_calib/ctsm_outputs_LSEnormKGECV0test/iter9_trial0/evaluation_many_metrics_mizuroute_s-1.csv\n",
      "file does not exist /glade/campaign/cgd/tss/people/guoqiang/CTSM_CAMELS_proj/Calib_HH_emulator//level1_155_calib/ctsm_outputs_LSEnormKGECV0test/iter9_trial0/evaluation_many_metrics_mizuroute_s-1.csv\n",
      "file does not exist /glade/campaign/cgd/tss/people/guoqiang/CTSM_CAMELS_proj/Calib_HH_emulator//level1_160_calib/ctsm_outputs_LSEnormKGECV0test/iter9_trial0/evaluation_many_metrics_mizuroute_s-1.csv\n",
      "file does not exist /glade/campaign/cgd/tss/people/guoqiang/CTSM_CAMELS_proj/Calib_HH_emulator//level1_165_calib/ctsm_outputs_LSEnormKGECV0test/iter9_trial0/evaluation_many_metrics_mizuroute_s-1.csv\n",
      "file does not exist /glade/campaign/cgd/tss/people/guoqiang/CTSM_CAMELS_proj/Calib_HH_emulator//level1_170_calib/ctsm_outputs_LSEnormKGECV0test/iter8_trial0/evaluation_many_metrics_mizuroute_s-1.csv\n",
      "file does not exist /glade/campaign/cgd/tss/people/guoqiang/CTSM_CAMELS_proj/Calib_HH_emulator//level1_170_calib/ctsm_outputs_LSEnormKGECV0test/iter9_trial0/evaluation_many_metrics_mizuroute_s-1.csv\n",
      "file does not exist /glade/campaign/cgd/tss/people/guoqiang/CTSM_CAMELS_proj/Calib_HH_emulator//level1_175_calib/ctsm_outputs_LSEnormKGECV0test/iter4_trial0/evaluation_many_metrics_mizuroute_s-1.csv\n",
      "file does not exist /glade/campaign/cgd/tss/people/guoqiang/CTSM_CAMELS_proj/Calib_HH_emulator//level1_175_calib/ctsm_outputs_LSEnormKGECV0test/iter5_trial0/evaluation_many_metrics_mizuroute_s-1.csv\n",
      "file does not exist /glade/campaign/cgd/tss/people/guoqiang/CTSM_CAMELS_proj/Calib_HH_emulator//level1_175_calib/ctsm_outputs_LSEnormKGECV0test/iter9_trial0/evaluation_many_metrics_mizuroute_s-1.csv\n",
      "file does not exist /glade/campaign/cgd/tss/people/guoqiang/CTSM_CAMELS_proj/Calib_HH_emulator//level1_180_calib/ctsm_outputs_LSEnormKGECV0test/iter9_trial0/evaluation_many_metrics_mizuroute_s-1.csv\n",
      "file does not exist /glade/campaign/cgd/tss/people/guoqiang/CTSM_CAMELS_proj/Calib_HH_emulator//level1_190_calib/ctsm_outputs_LSEnormKGECV0test/iter9_trial0/evaluation_many_metrics_mizuroute_s-1.csv\n",
      "file does not exist /glade/campaign/cgd/tss/people/guoqiang/CTSM_CAMELS_proj/Calib_HH_emulator//level1_195_calib/ctsm_outputs_LSEnormKGECV0test/iter9_trial0/evaluation_many_metrics_mizuroute_s-1.csv\n",
      "file does not exist /glade/campaign/cgd/tss/people/guoqiang/CTSM_CAMELS_proj/Calib_HH_emulator//level1_200_calib/ctsm_outputs_LSEnormKGECV0test/iter9_trial0/evaluation_many_metrics_mizuroute_s-1.csv\n",
      "file does not exist /glade/campaign/cgd/tss/people/guoqiang/CTSM_CAMELS_proj/Calib_HH_emulator//level1_205_calib/ctsm_outputs_LSEnormKGECV0test/iter9_trial0/evaluation_many_metrics_mizuroute_s-1.csv\n",
      "file does not exist /glade/campaign/cgd/tss/people/guoqiang/CTSM_CAMELS_proj/Calib_HH_emulator//level1_210_calib/ctsm_outputs_LSEnormKGECV0test/iter9_trial0/evaluation_many_metrics_mizuroute_s-1.csv\n",
      "file does not exist /glade/campaign/cgd/tss/people/guoqiang/CTSM_CAMELS_proj/Calib_HH_emulator//level1_215_calib/ctsm_outputs_LSEnormKGECV0test/iter9_trial0/evaluation_many_metrics_mizuroute_s-1.csv\n",
      "file does not exist /glade/campaign/cgd/tss/people/guoqiang/CTSM_CAMELS_proj/Calib_HH_emulator//level1_220_calib/ctsm_outputs_LSEnormKGECV0test/iter9_trial0/evaluation_many_metrics_mizuroute_s-1.csv\n",
      "file does not exist /glade/campaign/cgd/tss/people/guoqiang/CTSM_CAMELS_proj/Calib_HH_emulator//level1_225_calib/ctsm_outputs_LSEnormKGECV0test/iter9_trial0/evaluation_many_metrics_mizuroute_s-1.csv\n",
      "file does not exist /glade/campaign/cgd/tss/people/guoqiang/CTSM_CAMELS_proj/Calib_HH_emulator//level1_230_calib/ctsm_outputs_LSEnormKGECV0test/iter9_trial0/evaluation_many_metrics_mizuroute_s-1.csv\n",
      "file does not exist /glade/campaign/cgd/tss/people/guoqiang/CTSM_CAMELS_proj/Calib_HH_emulator//level1_235_calib/ctsm_outputs_LSEnormKGECV0test/iter9_trial0/evaluation_many_metrics_mizuroute_s-1.csv\n",
      "file does not exist /glade/campaign/cgd/tss/people/guoqiang/CTSM_CAMELS_proj/Calib_HH_emulator//level1_240_calib/ctsm_outputs_LSEnormKGECV0test/iter2_trial0/evaluation_many_metrics_mizuroute_s-1.csv\n",
      "file does not exist /glade/campaign/cgd/tss/people/guoqiang/CTSM_CAMELS_proj/Calib_HH_emulator//level1_240_calib/ctsm_outputs_LSEnormKGECV0test/iter9_trial0/evaluation_many_metrics_mizuroute_s-1.csv\n",
      "file does not exist /glade/campaign/cgd/tss/people/guoqiang/CTSM_CAMELS_proj/Calib_HH_emulator//level1_245_calib/ctsm_outputs_LSEnormKGECV0test/iter9_trial0/evaluation_many_metrics_mizuroute_s-1.csv\n",
      "file does not exist /glade/campaign/cgd/tss/people/guoqiang/CTSM_CAMELS_proj/Calib_HH_emulator//level1_250_calib/ctsm_outputs_LSEnormKGECV0test/iter9_trial0/evaluation_many_metrics_mizuroute_s-1.csv\n",
      "file does not exist /glade/campaign/cgd/tss/people/guoqiang/CTSM_CAMELS_proj/Calib_HH_emulator//level1_255_calib/ctsm_outputs_LSEnormKGECV0test/iter9_trial0/evaluation_many_metrics_mizuroute_s-1.csv\n",
      "file does not exist /glade/campaign/cgd/tss/people/guoqiang/CTSM_CAMELS_proj/Calib_HH_emulator//level1_265_calib/ctsm_outputs_LSEnormKGECV0test/iter9_trial0/evaluation_many_metrics_mizuroute_s-1.csv\n",
      "file does not exist /glade/campaign/cgd/tss/people/guoqiang/CTSM_CAMELS_proj/Calib_HH_emulator//level1_270_calib/ctsm_outputs_LSEnormKGECV0test/iter9_trial0/evaluation_many_metrics_mizuroute_s-1.csv\n",
      "file does not exist /glade/campaign/cgd/tss/people/guoqiang/CTSM_CAMELS_proj/Calib_HH_emulator//level1_275_calib/ctsm_outputs_LSEnormKGECV0test/iter9_trial0/evaluation_many_metrics_mizuroute_s-1.csv\n",
      "file does not exist /glade/campaign/cgd/tss/people/guoqiang/CTSM_CAMELS_proj/Calib_HH_emulator//level1_290_calib/ctsm_outputs_LSEnormKGECV0test/iter9_trial0/evaluation_many_metrics_mizuroute_s-1.csv\n",
      "file does not exist /glade/campaign/cgd/tss/people/guoqiang/CTSM_CAMELS_proj/Calib_HH_emulator//level1_295_calib/ctsm_outputs_LSEnormKGECV0test/iter6_trial0/evaluation_many_metrics_mizuroute_s-1.csv\n",
      "file does not exist /glade/campaign/cgd/tss/people/guoqiang/CTSM_CAMELS_proj/Calib_HH_emulator//level1_295_calib/ctsm_outputs_LSEnormKGECV0test/iter9_trial0/evaluation_many_metrics_mizuroute_s-1.csv\n",
      "file does not exist /glade/campaign/cgd/tss/people/guoqiang/CTSM_CAMELS_proj/Calib_HH_emulator//level1_300_calib/ctsm_outputs_LSEnormKGECV0test/iter9_trial0/evaluation_many_metrics_mizuroute_s-1.csv\n",
      "file does not exist /glade/campaign/cgd/tss/people/guoqiang/CTSM_CAMELS_proj/Calib_HH_emulator//level1_305_calib/ctsm_outputs_LSEnormKGECV0test/iter9_trial0/evaluation_many_metrics_mizuroute_s-1.csv\n",
      "file does not exist /glade/campaign/cgd/tss/people/guoqiang/CTSM_CAMELS_proj/Calib_HH_emulator//level1_310_calib/ctsm_outputs_LSEnormKGECV0test/iter9_trial0/evaluation_many_metrics_mizuroute_s-1.csv\n",
      "file does not exist /glade/campaign/cgd/tss/people/guoqiang/CTSM_CAMELS_proj/Calib_HH_emulator//level1_315_calib/ctsm_outputs_LSEnormKGECV0test/iter9_trial0/evaluation_many_metrics_mizuroute_s-1.csv\n",
      "file does not exist /glade/campaign/cgd/tss/people/guoqiang/CTSM_CAMELS_proj/Calib_HH_emulator//level1_320_calib/ctsm_outputs_LSEnormKGECV0test/iter9_trial0/evaluation_many_metrics_mizuroute_s-1.csv\n",
      "file does not exist /glade/campaign/cgd/tss/people/guoqiang/CTSM_CAMELS_proj/Calib_HH_emulator//level1_325_calib/ctsm_outputs_LSEnormKGECV0test/iter9_trial0/evaluation_many_metrics_mizuroute_s-1.csv\n",
      "file does not exist /glade/campaign/cgd/tss/people/guoqiang/CTSM_CAMELS_proj/Calib_HH_emulator//level1_330_calib/ctsm_outputs_LSEnormKGECV0test/iter9_trial0/evaluation_many_metrics_mizuroute_s-1.csv\n",
      "file does not exist /glade/campaign/cgd/tss/people/guoqiang/CTSM_CAMELS_proj/Calib_HH_emulator//level1_335_calib/ctsm_outputs_LSEnormKGECV0test/iter9_trial0/evaluation_many_metrics_mizuroute_s-1.csv\n",
      "file does not exist /glade/campaign/cgd/tss/people/guoqiang/CTSM_CAMELS_proj/Calib_HH_emulator//level1_345_calib/ctsm_outputs_LSEnormKGECV0test/iter9_trial0/evaluation_many_metrics_mizuroute_s-1.csv\n",
      "file does not exist /glade/campaign/cgd/tss/people/guoqiang/CTSM_CAMELS_proj/Calib_HH_emulator//level1_350_calib/ctsm_outputs_LSEnormKGECV0test/iter9_trial0/evaluation_many_metrics_mizuroute_s-1.csv\n",
      "file does not exist /glade/campaign/cgd/tss/people/guoqiang/CTSM_CAMELS_proj/Calib_HH_emulator//level1_355_calib/ctsm_outputs_LSEnormKGECV0test/iter9_trial0/evaluation_many_metrics_mizuroute_s-1.csv\n",
      "file does not exist /glade/campaign/cgd/tss/people/guoqiang/CTSM_CAMELS_proj/Calib_HH_emulator//level1_360_calib/ctsm_outputs_LSEnormKGECV0test/iter5_trial0/evaluation_many_metrics_mizuroute_s-1.csv\n",
      "file does not exist /glade/campaign/cgd/tss/people/guoqiang/CTSM_CAMELS_proj/Calib_HH_emulator//level1_360_calib/ctsm_outputs_LSEnormKGECV0test/iter9_trial0/evaluation_many_metrics_mizuroute_s-1.csv\n",
      "file does not exist /glade/campaign/cgd/tss/people/guoqiang/CTSM_CAMELS_proj/Calib_HH_emulator//level1_365_calib/ctsm_outputs_LSEnormKGECV0test/iter9_trial0/evaluation_many_metrics_mizuroute_s-1.csv\n",
      "file does not exist /glade/campaign/cgd/tss/people/guoqiang/CTSM_CAMELS_proj/Calib_HH_emulator//level1_370_calib/ctsm_outputs_LSEnormKGECV0test/iter9_trial0/evaluation_many_metrics_mizuroute_s-1.csv\n",
      "file does not exist /glade/campaign/cgd/tss/people/guoqiang/CTSM_CAMELS_proj/Calib_HH_emulator//level1_375_calib/ctsm_outputs_LSEnormKGECV0test/iter9_trial0/evaluation_many_metrics_mizuroute_s-1.csv\n",
      "file does not exist /glade/campaign/cgd/tss/people/guoqiang/CTSM_CAMELS_proj/Calib_HH_emulator//level1_380_calib/ctsm_outputs_LSEnormKGECV0test/iter5_trial0/evaluation_many_metrics_mizuroute_s-1.csv\n",
      "file does not exist /glade/campaign/cgd/tss/people/guoqiang/CTSM_CAMELS_proj/Calib_HH_emulator//level1_380_calib/ctsm_outputs_LSEnormKGECV0test/iter9_trial0/evaluation_many_metrics_mizuroute_s-1.csv\n",
      "file does not exist /glade/campaign/cgd/tss/people/guoqiang/CTSM_CAMELS_proj/Calib_HH_emulator//level1_385_calib/ctsm_outputs_LSEnormKGECV0test/iter9_trial0/evaluation_many_metrics_mizuroute_s-1.csv\n",
      "file does not exist /glade/campaign/cgd/tss/people/guoqiang/CTSM_CAMELS_proj/Calib_HH_emulator//level1_390_calib/ctsm_outputs_LSEnormKGECV0test/iter8_trial0/evaluation_many_metrics_mizuroute_s-1.csv\n",
      "file does not exist /glade/campaign/cgd/tss/people/guoqiang/CTSM_CAMELS_proj/Calib_HH_emulator//level1_390_calib/ctsm_outputs_LSEnormKGECV0test/iter9_trial0/evaluation_many_metrics_mizuroute_s-1.csv\n",
      "file does not exist /glade/campaign/cgd/tss/people/guoqiang/CTSM_CAMELS_proj/Calib_HH_emulator//level1_395_calib/ctsm_outputs_LSEnormKGECV0test/iter9_trial0/evaluation_many_metrics_mizuroute_s-1.csv\n",
      "file does not exist /glade/campaign/cgd/tss/people/guoqiang/CTSM_CAMELS_proj/Calib_HH_emulator//level1_400_calib/ctsm_outputs_LSEnormKGECV0test/iter9_trial0/evaluation_many_metrics_mizuroute_s-1.csv\n",
      "file does not exist /glade/campaign/cgd/tss/people/guoqiang/CTSM_CAMELS_proj/Calib_HH_emulator//level1_405_calib/ctsm_outputs_LSEnormKGECV0test/iter8_trial0/evaluation_many_metrics_mizuroute_s-1.csv\n",
      "file does not exist /glade/campaign/cgd/tss/people/guoqiang/CTSM_CAMELS_proj/Calib_HH_emulator//level1_405_calib/ctsm_outputs_LSEnormKGECV0test/iter9_trial0/evaluation_many_metrics_mizuroute_s-1.csv\n",
      "file does not exist /glade/campaign/cgd/tss/people/guoqiang/CTSM_CAMELS_proj/Calib_HH_emulator//level1_410_calib/ctsm_outputs_LSEnormKGECV0test/iter9_trial0/evaluation_many_metrics_mizuroute_s-1.csv\n",
      "file does not exist /glade/campaign/cgd/tss/people/guoqiang/CTSM_CAMELS_proj/Calib_HH_emulator//level1_415_calib/ctsm_outputs_LSEnormKGECV0test/iter9_trial0/evaluation_many_metrics_mizuroute_s-1.csv\n",
      "file does not exist /glade/campaign/cgd/tss/people/guoqiang/CTSM_CAMELS_proj/Calib_HH_emulator//level1_425_calib/ctsm_outputs_LSEnormKGECV0test/iter9_trial0/evaluation_many_metrics_mizuroute_s-1.csv\n",
      "file does not exist /glade/campaign/cgd/tss/people/guoqiang/CTSM_CAMELS_proj/Calib_HH_emulator//level1_430_calib/ctsm_outputs_LSEnormKGECV0test/iter9_trial0/evaluation_many_metrics_mizuroute_s-1.csv\n",
      "file does not exist /glade/campaign/cgd/tss/people/guoqiang/CTSM_CAMELS_proj/Calib_HH_emulator//level1_435_calib/ctsm_outputs_LSEnormKGECV0test/iter9_trial0/evaluation_many_metrics_mizuroute_s-1.csv\n",
      "file does not exist /glade/campaign/cgd/tss/people/guoqiang/CTSM_CAMELS_proj/Calib_HH_emulator//level1_440_calib/ctsm_outputs_LSEnormKGECV0test/iter9_trial0/evaluation_many_metrics_mizuroute_s-1.csv\n",
      "file does not exist /glade/campaign/cgd/tss/people/guoqiang/CTSM_CAMELS_proj/Calib_HH_emulator//level1_445_calib/ctsm_outputs_LSEnormKGECV0test/iter9_trial0/evaluation_many_metrics_mizuroute_s-1.csv\n",
      "file does not exist /glade/campaign/cgd/tss/people/guoqiang/CTSM_CAMELS_proj/Calib_HH_emulator//level1_450_calib/ctsm_outputs_LSEnormKGECV0test/iter9_trial0/evaluation_many_metrics_mizuroute_s-1.csv\n",
      "file does not exist /glade/campaign/cgd/tss/people/guoqiang/CTSM_CAMELS_proj/Calib_HH_emulator//level1_455_calib/ctsm_outputs_LSEnormKGECV0test/iter9_trial0/evaluation_many_metrics_mizuroute_s-1.csv\n",
      "file does not exist /glade/campaign/cgd/tss/people/guoqiang/CTSM_CAMELS_proj/Calib_HH_emulator//level1_460_calib/ctsm_outputs_LSEnormKGECV0test/iter9_trial0/evaluation_many_metrics_mizuroute_s-1.csv\n",
      "file does not exist /glade/campaign/cgd/tss/people/guoqiang/CTSM_CAMELS_proj/Calib_HH_emulator//level1_465_calib/ctsm_outputs_LSEnormKGECV0test/iter9_trial0/evaluation_many_metrics_mizuroute_s-1.csv\n",
      "file does not exist /glade/campaign/cgd/tss/people/guoqiang/CTSM_CAMELS_proj/Calib_HH_emulator//level1_475_calib/ctsm_outputs_LSEnormKGECV0test/iter9_trial0/evaluation_many_metrics_mizuroute_s-1.csv\n",
      "file does not exist /glade/campaign/cgd/tss/people/guoqiang/CTSM_CAMELS_proj/Calib_HH_emulator//level1_480_calib/ctsm_outputs_LSEnormKGECV0test/iter9_trial0/evaluation_many_metrics_mizuroute_s-1.csv\n",
      "file does not exist /glade/campaign/cgd/tss/people/guoqiang/CTSM_CAMELS_proj/Calib_HH_emulator//level1_490_calib/ctsm_outputs_LSEnormKGECV0test/iter9_trial0/evaluation_many_metrics_mizuroute_s-1.csv\n",
      "file does not exist /glade/campaign/cgd/tss/people/guoqiang/CTSM_CAMELS_proj/Calib_HH_emulator//level1_495_calib/ctsm_outputs_LSEnormKGECV0test/iter9_trial0/evaluation_many_metrics_mizuroute_s-1.csv\n",
      "file does not exist /glade/campaign/cgd/tss/people/guoqiang/CTSM_CAMELS_proj/Calib_HH_emulator//level1_505_calib/ctsm_outputs_LSEnormKGECV0test/iter9_trial0/evaluation_many_metrics_mizuroute_s-1.csv\n",
      "file does not exist /glade/campaign/cgd/tss/people/guoqiang/CTSM_CAMELS_proj/Calib_HH_emulator//level1_510_calib/ctsm_outputs_LSEnormKGECV0test/iter9_trial0/evaluation_many_metrics_mizuroute_s-1.csv\n",
      "file does not exist /glade/campaign/cgd/tss/people/guoqiang/CTSM_CAMELS_proj/Calib_HH_emulator//level1_515_calib/ctsm_outputs_LSEnormKGECV0test/iter9_trial0/evaluation_many_metrics_mizuroute_s-1.csv\n",
      "file does not exist /glade/campaign/cgd/tss/people/guoqiang/CTSM_CAMELS_proj/Calib_HH_emulator//level1_520_calib/ctsm_outputs_LSEnormKGECV0test/iter9_trial0/evaluation_many_metrics_mizuroute_s-1.csv\n",
      "file does not exist /glade/campaign/cgd/tss/people/guoqiang/CTSM_CAMELS_proj/Calib_HH_emulator//level1_525_calib/ctsm_outputs_LSEnormKGECV0test/iter9_trial0/evaluation_many_metrics_mizuroute_s-1.csv\n",
      "file does not exist /glade/campaign/cgd/tss/people/guoqiang/CTSM_CAMELS_proj/Calib_HH_emulator//level1_530_calib/ctsm_outputs_LSEnormKGECV0test/iter9_trial0/evaluation_many_metrics_mizuroute_s-1.csv\n",
      "file does not exist /glade/campaign/cgd/tss/people/guoqiang/CTSM_CAMELS_proj/Calib_HH_emulator//level1_535_calib/ctsm_outputs_LSEnormKGECV0test/iter9_trial0/evaluation_many_metrics_mizuroute_s-1.csv\n",
      "file does not exist /glade/campaign/cgd/tss/people/guoqiang/CTSM_CAMELS_proj/Calib_HH_emulator//level1_540_calib/ctsm_outputs_LSEnormKGECV0test/iter9_trial0/evaluation_many_metrics_mizuroute_s-1.csv\n",
      "file does not exist /glade/campaign/cgd/tss/people/guoqiang/CTSM_CAMELS_proj/Calib_HH_emulator//level1_545_calib/ctsm_outputs_LSEnormKGECV0test/iter9_trial0/evaluation_many_metrics_mizuroute_s-1.csv\n",
      "file does not exist /glade/campaign/cgd/tss/people/guoqiang/CTSM_CAMELS_proj/Calib_HH_emulator//level1_550_calib/ctsm_outputs_LSEnormKGECV0test/iter9_trial0/evaluation_many_metrics_mizuroute_s-1.csv\n",
      "file does not exist /glade/campaign/cgd/tss/people/guoqiang/CTSM_CAMELS_proj/Calib_HH_emulator//level1_555_calib/ctsm_outputs_LSEnormKGECV0test/iter5_trial0/evaluation_many_metrics_mizuroute_s-1.csv\n",
      "file does not exist /glade/campaign/cgd/tss/people/guoqiang/CTSM_CAMELS_proj/Calib_HH_emulator//level1_555_calib/ctsm_outputs_LSEnormKGECV0test/iter9_trial0/evaluation_many_metrics_mizuroute_s-1.csv\n",
      "file does not exist /glade/campaign/cgd/tss/people/guoqiang/CTSM_CAMELS_proj/Calib_HH_emulator//level1_560_calib/ctsm_outputs_LSEnormKGECV0test/iter9_trial0/evaluation_many_metrics_mizuroute_s-1.csv\n",
      "file does not exist /glade/campaign/cgd/tss/people/guoqiang/CTSM_CAMELS_proj/Calib_HH_emulator//level1_570_calib/ctsm_outputs_LSEnormKGECV0test/iter4_trial0/evaluation_many_metrics_mizuroute_s-1.csv\n",
      "file does not exist /glade/campaign/cgd/tss/people/guoqiang/CTSM_CAMELS_proj/Calib_HH_emulator//level1_570_calib/ctsm_outputs_LSEnormKGECV0test/iter9_trial0/evaluation_many_metrics_mizuroute_s-1.csv\n",
      "file does not exist /glade/campaign/cgd/tss/people/guoqiang/CTSM_CAMELS_proj/Calib_HH_emulator//level1_575_calib/ctsm_outputs_LSEnormKGECV0test/iter9_trial0/evaluation_many_metrics_mizuroute_s-1.csv\n",
      "file does not exist /glade/campaign/cgd/tss/people/guoqiang/CTSM_CAMELS_proj/Calib_HH_emulator//level1_580_calib/ctsm_outputs_LSEnormKGECV0test/iter5_trial0/evaluation_many_metrics_mizuroute_s-1.csv\n",
      "file does not exist /glade/campaign/cgd/tss/people/guoqiang/CTSM_CAMELS_proj/Calib_HH_emulator//level1_580_calib/ctsm_outputs_LSEnormKGECV0test/iter6_trial0/evaluation_many_metrics_mizuroute_s-1.csv\n",
      "file does not exist /glade/campaign/cgd/tss/people/guoqiang/CTSM_CAMELS_proj/Calib_HH_emulator//level1_580_calib/ctsm_outputs_LSEnormKGECV0test/iter9_trial0/evaluation_many_metrics_mizuroute_s-1.csv\n",
      "file does not exist /glade/campaign/cgd/tss/people/guoqiang/CTSM_CAMELS_proj/Calib_HH_emulator//level1_585_calib/ctsm_outputs_LSEnormKGECV0test/iter3_trial0/evaluation_many_metrics_mizuroute_s-1.csv\n",
      "file does not exist /glade/campaign/cgd/tss/people/guoqiang/CTSM_CAMELS_proj/Calib_HH_emulator//level1_585_calib/ctsm_outputs_LSEnormKGECV0test/iter4_trial0/evaluation_many_metrics_mizuroute_s-1.csv\n",
      "file does not exist /glade/campaign/cgd/tss/people/guoqiang/CTSM_CAMELS_proj/Calib_HH_emulator//level1_585_calib/ctsm_outputs_LSEnormKGECV0test/iter5_trial0/evaluation_many_metrics_mizuroute_s-1.csv\n",
      "file does not exist /glade/campaign/cgd/tss/people/guoqiang/CTSM_CAMELS_proj/Calib_HH_emulator//level1_585_calib/ctsm_outputs_LSEnormKGECV0test/iter7_trial0/evaluation_many_metrics_mizuroute_s-1.csv\n",
      "file does not exist /glade/campaign/cgd/tss/people/guoqiang/CTSM_CAMELS_proj/Calib_HH_emulator//level1_585_calib/ctsm_outputs_LSEnormKGECV0test/iter9_trial0/evaluation_many_metrics_mizuroute_s-1.csv\n",
      "file does not exist /glade/campaign/cgd/tss/people/guoqiang/CTSM_CAMELS_proj/Calib_HH_emulator//level1_590_calib/ctsm_outputs_LSEnormKGECV0test/iter9_trial0/evaluation_many_metrics_mizuroute_s-1.csv\n",
      "file does not exist /glade/campaign/cgd/tss/people/guoqiang/CTSM_CAMELS_proj/Calib_HH_emulator//level1_595_calib/ctsm_outputs_LSEnormKGECV0test/iter9_trial0/evaluation_many_metrics_mizuroute_s-1.csv\n",
      "file does not exist /glade/campaign/cgd/tss/people/guoqiang/CTSM_CAMELS_proj/Calib_HH_emulator//level1_600_calib/ctsm_outputs_LSEnormKGECV0test/iter6_trial0/evaluation_many_metrics_mizuroute_s-1.csv\n",
      "file does not exist /glade/campaign/cgd/tss/people/guoqiang/CTSM_CAMELS_proj/Calib_HH_emulator//level1_600_calib/ctsm_outputs_LSEnormKGECV0test/iter9_trial0/evaluation_many_metrics_mizuroute_s-1.csv\n",
      "file does not exist /glade/campaign/cgd/tss/people/guoqiang/CTSM_CAMELS_proj/Calib_HH_emulator//level1_605_calib/ctsm_outputs_LSEnormKGECV0test/iter9_trial0/evaluation_many_metrics_mizuroute_s-1.csv\n",
      "file does not exist /glade/campaign/cgd/tss/people/guoqiang/CTSM_CAMELS_proj/Calib_HH_emulator//level1_610_calib/ctsm_outputs_LSEnormKGECV0test/iter9_trial0/evaluation_many_metrics_mizuroute_s-1.csv\n",
      "file does not exist /glade/campaign/cgd/tss/people/guoqiang/CTSM_CAMELS_proj/Calib_HH_emulator//level1_615_calib/ctsm_outputs_LSEnormKGECV0test/iter9_trial0/evaluation_many_metrics_mizuroute_s-1.csv\n",
      "file does not exist /glade/campaign/cgd/tss/people/guoqiang/CTSM_CAMELS_proj/Calib_HH_emulator//level1_620_calib/ctsm_outputs_LSEnormKGECV0test/iter9_trial0/evaluation_many_metrics_mizuroute_s-1.csv\n",
      "file does not exist /glade/campaign/cgd/tss/people/guoqiang/CTSM_CAMELS_proj/Calib_HH_emulator//level1_625_calib/ctsm_outputs_LSEnormKGECV0test/iter9_trial0/evaluation_many_metrics_mizuroute_s-1.csv\n"
     ]
    }
   ],
   "source": [
    "    # LSE metrics\n",
    "\n",
    "    df_lsecv_metric = []\n",
    "\n",
    "    for tarbasin in test_index:\n",
    "        for i in range(1, iternum):\n",
    "            infile = f'{inpath_moasmo}/level1_{tarbasin}_calib/ctsm_outputs_LSEnormKGECV0test/iter{i}_trial0/evaluation_many_metrics_mizuroute_s-1.csv'    \n",
    "            if not os.path.isfile(infile):\n",
    "                print('file does not exist', infile)\n",
    "            else:  \n",
    "                dfi = pd.read_csv(infile)\n",
    "                dfi['basin'] = tarbasin\n",
    "                dfi['iter'] = i\n",
    "                dfi['trial'] = np.arange(len(dfi))\n",
    "                if len(df_lsecv_metric) == 0:\n",
    "                    df_lsecv_metric = dfi\n",
    "                else:\n",
    "                    df_lsecv_metric = pd.concat([df_lsecv_metric, dfi])"
   ]
  },
  {
   "cell_type": "code",
   "execution_count": 66,
   "id": "b7c6a202-4a32-416d-9139-9313758f0b0b",
   "metadata": {},
   "outputs": [
    {
     "name": "stdout",
     "output_type": "stream",
     "text": [
      "0.2956390506667323\n",
      "0.3151840167606052\n",
      "0.3604315148749162\n",
      "0.3984709445183466\n",
      "0.4141417373148615\n",
      "0.4390827144248037\n",
      "0.3969689989660876\n",
      "0.40654761378546034\n",
      "nan\n"
     ]
    },
    {
     "name": "stderr",
     "output_type": "stream",
     "text": [
      "/glade/u/apps/opt/conda/envs/npl-2024a/lib/python3.11/site-packages/numpy/lib/nanfunctions.py:1215: RuntimeWarning: Mean of empty slice\n",
      "  return np.nanmean(a, axis, out=out, keepdims=keepdims)\n"
     ]
    }
   ],
   "source": [
    "for i in range(1, iternum):\n",
    "    dfi = df_lsecv_metric[df_lsecv_metric['iter']==i]\n",
    "    print(np.nanmedian(dfi['kge'].values))"
   ]
  },
  {
   "cell_type": "code",
   "execution_count": 62,
   "id": "d8c2e699-dc17-4515-849e-d272dd735eea",
   "metadata": {},
   "outputs": [
    {
     "data": {
      "text/plain": [
       "9"
      ]
     },
     "execution_count": 62,
     "metadata": {},
     "output_type": "execute_result"
    }
   ],
   "source": [
    "iternum"
   ]
  },
  {
   "cell_type": "code",
   "execution_count": null,
   "id": "efb9d819-4cf0-4609-bcc4-0247139b6313",
   "metadata": {},
   "outputs": [],
   "source": []
  }
 ],
 "metadata": {
  "kernelspec": {
   "display_name": "NPL 2024a",
   "language": "python",
   "name": "npl-2024a"
  },
  "language_info": {
   "codemirror_mode": {
    "name": "ipython",
    "version": 3
   },
   "file_extension": ".py",
   "mimetype": "text/x-python",
   "name": "python",
   "nbconvert_exporter": "python",
   "pygments_lexer": "ipython3",
   "version": "3.11.6"
  }
 },
 "nbformat": 4,
 "nbformat_minor": 5
}
