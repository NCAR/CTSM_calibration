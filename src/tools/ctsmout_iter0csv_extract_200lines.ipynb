{
 "cells": [
  {
   "cell_type": "code",
   "execution_count": 13,
   "id": "95a093ed-7750-4b58-b89d-75ad9274d29b",
   "metadata": {},
   "outputs": [
    {
     "name": "stdout",
     "output_type": "stream",
     "text": [
      "All files processed successfully.\n"
     ]
    }
   ],
   "source": [
    "import os\n",
    "import glob\n",
    "import pandas as pd\n",
    "\n",
    "file_pattern = '/glade/campaign/cgd/tss/people/guoqiang/CTSM_CAMELS_proj/Calib_HH_MOASMO_bigrange/level1_*_MOASMOcalib/ctsm_outputs/iter0_all_meanparam.csv'\n",
    "# file_pattern = '/glade/campaign/cgd/tss/people/guoqiang/CTSM_CAMELS_proj/Calib_HH_MOASMO_bigrange/level1_*_MOASMOcalib/ctsm_outputs/iter0_all_metric.csv'\n",
    "# file_pattern = '/glade/campaign/cgd/tss/people/guoqiang/CTSM_CAMELS_proj/Calib_HH_MOASMO_bigrange/level1_*_MOASMOcalib/ctsm_outputs/iter0_many_metric.csv'\n",
    "\n",
    "files = glob.glob(file_pattern)\n",
    "\n",
    "for file in files:\n",
    "    df = pd.read_csv(file)\n",
    "    \n",
    "    df_first_200 = df.head(50)\n",
    "    \n",
    "    new_file_path = file.replace('ctsm_outputs', 'ctsm_outputs_emutest_200iter0')\n",
    "    # if os.path.isfile(new_file_path):\n",
    "    #     print('file exists')\n",
    "    #     continue\n",
    "\n",
    "    df_first_200.to_csv(new_file_path, index=False)\n",
    "\n",
    "print(\"All files processed successfully.\")\n"
   ]
  },
  {
   "cell_type": "code",
   "execution_count": null,
   "id": "dfe8dfaa-0af9-4213-b186-d3a8895d583f",
   "metadata": {},
   "outputs": [],
   "source": []
  },
  {
   "cell_type": "code",
   "execution_count": null,
   "id": "24353ca6-04c6-4ded-aba5-7dfd94b8cf68",
   "metadata": {},
   "outputs": [],
   "source": []
  }
 ],
 "metadata": {
  "kernelspec": {
   "display_name": "NPL 2024b",
   "language": "python",
   "name": "npl-2024b"
  },
  "language_info": {
   "codemirror_mode": {
    "name": "ipython",
    "version": 3
   },
   "file_extension": ".py",
   "mimetype": "text/x-python",
   "name": "python",
   "nbconvert_exporter": "python",
   "pygments_lexer": "ipython3",
   "version": "3.11.9"
  }
 },
 "nbformat": 4,
 "nbformat_minor": 5
}
