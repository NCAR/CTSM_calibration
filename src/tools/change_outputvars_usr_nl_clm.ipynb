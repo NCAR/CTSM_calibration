{
 "cells": [
  {
   "cell_type": "code",
   "execution_count": 1,
   "id": "0aa2fb75-d5ac-4db5-b0bb-e5463ef97adf",
   "metadata": {},
   "outputs": [],
   "source": [
    "import glob, os, sys"
   ]
  },
  {
   "cell_type": "code",
   "execution_count": 4,
   "id": "df272ef3-7c67-4178-a6c6-f7e05499fba6",
   "metadata": {},
   "outputs": [
    {
     "name": "stdout",
     "output_type": "stream",
     "text": [
      "hist_fincl2 = 'QRUNOFF','QDRAI','QOVER','QINFL','QFLX_SNOW_DRAIN','H2OSNO','QVEGE','QSOIL','QVEGT','EFLX_LH_TOT','SOILWATER_10CM','TOTSOILLIQ','ZWT','TWS','RAIN','SNOW','TBOT'\n"
     ]
    }
   ],
   "source": [
    "dailyoutputvars = ['QRUNOFF', # total runoff\n",
    "                   'QDRAI', # sub-surface drainage\n",
    "                   'QOVER', # total surface runoff (includes QH2OSFC)\n",
    "                   'QINFL', # infiltration\n",
    "                   \n",
    "                   'QFLX_SNOW_DRAIN', # drainage from snow pack\n",
    "                   'H2OSNO', # snow depth (liquid water)\n",
    "                   \n",
    "                   'QVEGE', 'QSOIL', 'QVEGT', # get total ET (mm/s) by summing QVEGE (canopy evaporation), QSOIL (ground/soil evaporation), and QVEGT (transpiration)\n",
    "                   'EFLX_LH_TOT', # total latent heat flux [+ to atm]\n",
    "                   \n",
    "                   'SOILWATER_10CM', # soil liquid water + ice in top 10cm of soil (veg landunits only)\n",
    "                   'TOTSOILLIQ', # vertically summed soil liquid water (veg landunits only)\n",
    "                   'ZWT', # water table depth (natural vegetated and crop landunits only)\n",
    "                   'TWS', # total water storage; comparable to TOTSOILLIQ\n",
    "                   # 'H2OSOI', # volumetric soil water (natural vegetated and crop landunits only); multiple layers\n",
    "                   # 'SOILLIQ', # soil liquid water (natural vegetated and crop landunits only); multiple layers\n",
    "                   \n",
    "                   'RAIN', # rainfall\n",
    "                   'SNOW', # atmospheric snow, after rain/snow repartitioning based on temperature\n",
    "                   'TBOT', # air temperature\n",
    "                  ]\n",
    "outformat = \"hist_fincl2 = \"\n",
    "for v in dailyoutputvars:\n",
    "    outformat = f\"{outformat}'{v}',\"\n",
    "outformat = outformat[:-1]\n",
    "print(outformat)"
   ]
  },
  {
   "cell_type": "code",
   "execution_count": 7,
   "id": "de11a47e-e9d1-4901-8e9f-518ba15d4a42",
   "metadata": {},
   "outputs": [
    {
     "name": "stdout",
     "output_type": "stream",
     "text": [
      "file number: 671\n"
     ]
    }
   ],
   "source": [
    "files = glob.glob('/glade/work/guoqiang/CTSM_CAMELS/Calib_HH_MOASMO/level*/user_nl_clm')\n",
    "files.sort()\n",
    "print('file number:', len(files))"
   ]
  },
  {
   "cell_type": "code",
   "execution_count": 10,
   "id": "817845e9-d7eb-4243-9f2b-2e2208691b52",
   "metadata": {},
   "outputs": [
    {
     "name": "stdout",
     "output_type": "stream",
     "text": [
      "/glade/work/guoqiang/CTSM_CAMELS/Calib_HH_MOASMO/level1_0/user_nl_clm\n"
     ]
    }
   ],
   "source": [
    "for i in range(len(files)):\n",
    "    filei = files[i]\n",
    "    print(filei)\n",
    "    with open(filei, 'a') as f:\n",
    "        _ = f.write(outformat+'\\n')\n",
    "    break"
   ]
  },
  {
   "cell_type": "code",
   "execution_count": null,
   "id": "c4ea368f-6a45-4b52-afd0-d30d932f290e",
   "metadata": {},
   "outputs": [],
   "source": []
  }
 ],
 "metadata": {
  "kernelspec": {
   "display_name": "NPL 2024a",
   "language": "python",
   "name": "npl-2024a"
  },
  "language_info": {
   "codemirror_mode": {
    "name": "ipython",
    "version": 3
   },
   "file_extension": ".py",
   "mimetype": "text/x-python",
   "name": "python",
   "nbconvert_exporter": "python",
   "pygments_lexer": "ipython3",
   "version": "3.11.6"
  }
 },
 "nbformat": 4,
 "nbformat_minor": 5
}
