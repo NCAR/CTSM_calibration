{
 "cells": [
  {
   "cell_type": "code",
   "execution_count": 1,
   "id": "612542a2-0989-43e8-997e-6e6ada557d3e",
   "metadata": {},
   "outputs": [],
   "source": [
    "# sometimes, the forcing data and files need some changes after the case is created"
   ]
  },
  {
   "cell_type": "code",
   "execution_count": 1,
   "id": "cfcf1b40-7255-4ac1-8abd-dfaf5a1e076b",
   "metadata": {},
   "outputs": [],
   "source": [
    "import xarray as xr\n",
    "import numpy as np\n",
    "import glob, os"
   ]
  },
  {
   "cell_type": "code",
   "execution_count": 8,
   "id": "00a208f8-1fd2-4336-9778-0dff84f7f3ec",
   "metadata": {},
   "outputs": [],
   "source": [
    "for i in range(31, 37):\n",
    "\n",
    "\n",
    "    # modify netcdf file\n",
    "    inpath = f'/glade/work/guoqiang/CTSM_cases/CAMELS_Calib/Calib_all_HH_MOASMO/level1_{i}_SubsetForcing'\n",
    "    ncformat = 'NETCDF3_CLASSIC'\n",
    "\n",
    "    for s in ['Precip', 'Solar', 'TPQWL']:\n",
    "        infile = glob.glob(f'{inpath}/{s}/*1950-1954.nc')\n",
    "        if len(infile) != 1:\n",
    "            print('Wrong in[ut file')\n",
    "        else:\n",
    "            infile = infile[0]\n",
    "            with xr.open_dataset(infile) as ds:\n",
    "                ds = ds.sel(time=slice('1951','1955'))\n",
    "                ds.to_netcdf(infile+'tmp', format=ncformat)\n",
    "            os.system(f'mv {infile} {infile}-with1950')\n",
    "            os.system(f'mv {infile}tmp {infile}')\n",
    "\n",
    "\n",
    "    # add lines to user datm stream file\n",
    "\n",
    "    addlines = ['CLMGSWP3v1.Solar:year_first=1951\\n',\n",
    "     'CLMGSWP3v1.Solar:year_last=2019\\n',\n",
    "     'CLMGSWP3v1.Solar:year_align=1951\\n',\n",
    "     '\\n',\n",
    "     'CLMGSWP3v1.Precip:year_first=1951\\n',\n",
    "     'CLMGSWP3v1.Precip:year_last=2019\\n',\n",
    "     'CLMGSWP3v1.Precip:year_align=1951\\n',\n",
    "     '\\n',\n",
    "     'CLMGSWP3v1.TPQW:year_first=1951\\n',\n",
    "     'CLMGSWP3v1.TPQW:year_last=2019\\n',\n",
    "     'CLMGSWP3v1.TPQW:year_align=1951\\n',\n",
    "     '\\n']\n",
    "\n",
    "    infile = f'/glade/work/guoqiang/CTSM_cases/CAMELS_Calib/Calib_all_HH_MOASMO/level1_{i}/user_nl_datm_streams'\n",
    "    with open(infile, 'r') as f:\n",
    "        lines = f.readlines()\n",
    "\n",
    "\n",
    "    lines = addlines + lines\n",
    "\n",
    "    with open(infile, 'w') as f:\n",
    "        for l in lines:\n",
    "            f.write(l)"
   ]
  },
  {
   "cell_type": "code",
   "execution_count": null,
   "id": "83d0f657-bc85-4b68-bbf9-f772ad219dc9",
   "metadata": {},
   "outputs": [],
   "source": []
  }
 ],
 "metadata": {
  "kernelspec": {
   "display_name": "NPL 2023b",
   "language": "python",
   "name": "npl-2023b"
  },
  "language_info": {
   "codemirror_mode": {
    "name": "ipython",
    "version": 3
   },
   "file_extension": ".py",
   "mimetype": "text/x-python",
   "name": "python",
   "nbconvert_exporter": "python",
   "pygments_lexer": "ipython3",
   "version": "3.10.12"
  }
 },
 "nbformat": 4,
 "nbformat_minor": 5
}
