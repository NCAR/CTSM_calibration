{
 "cells": [
  {
   "cell_type": "code",
   "execution_count": 1,
   "id": "5d2c4919-d6ee-409f-98b6-9c111e4c2f18",
   "metadata": {},
   "outputs": [],
   "source": [
    "# some time steps in the forcing may be problematic\n",
    "# this step replaces those files\n",
    "\n",
    "import xarray as xr\n",
    "import numpy as np\n",
    "import glob, os\n",
    "import cftime\n",
    "import pandas as pd"
   ]
  },
  {
   "cell_type": "code",
   "execution_count": 21,
   "id": "c2582eb8-8605-417f-9375-bfdd67f42199",
   "metadata": {},
   "outputs": [],
   "source": [
    "month = slice('1982-02-01', '1982-02-09')"
   ]
  },
  {
   "cell_type": "code",
   "execution_count": 22,
   "id": "7377345f-f3d8-4416-87f7-8239d6399d55",
   "metadata": {},
   "outputs": [],
   "source": [
    "# tarfiles = ['/glade/work/guoqiang/CTSM_CAMELS/Calib_HH_MOASMO/level1_502_SubsetForcing/Solar/subset_clmforc.E5LEME.c2023.010x010.Solar.1981-1985.nc', \n",
    "#            ]\n",
    "tarfiles = ['/glade/work/guoqiang/CTSM_CAMELS/Calib_HH_MOASMO/level1_502_SubsetForcing/Solar/subset_clmforc.E5LEME.c2023.010x010.Solar.1981-1985.nc', \n",
    "            '/glade/work/guoqiang/CTSM_CAMELS/Calib_HH_MOASMO/level1_502_SubsetForcing/Precip/subset_clmforc.E5LEME.c2023.010x010.Precip.1981-1985.nc', \n",
    "            '/glade/work/guoqiang/CTSM_CAMELS/Calib_HH_MOASMO/level1_502_SubsetForcing/TPQWL/subset_clmforc.E5LEME.c2023.010x010.TPQWL.1981-1985.nc', \n",
    "           ]\n"
   ]
  },
  {
   "cell_type": "code",
   "execution_count": 23,
   "id": "eb2804c4-e51f-4f1e-906b-31966f76cba0",
   "metadata": {},
   "outputs": [],
   "source": [
    "# backup\n",
    "tarfiles2 = []\n",
    "for f in tarfiles:\n",
    "    f2 = f+'-original'\n",
    "    tarfiles2.append(f2)\n",
    "    if not os.path.isfile(f2):\n",
    "        os.system(f'cp {f} {f2}')\n",
    "        "
   ]
  },
  {
   "cell_type": "code",
   "execution_count": 24,
   "id": "e5134972-66a2-43ea-be2c-c77b370385f3",
   "metadata": {},
   "outputs": [
    {
     "name": "stdout",
     "output_type": "stream",
     "text": [
      "Processing: /glade/work/guoqiang/CTSM_CAMELS/Calib_HH_MOASMO/level1_502_SubsetForcing/Solar/subset_clmforc.E5LEME.c2023.010x010.Solar.1981-1985.nc-original\n",
      "FSDS\n",
      "0\n",
      "154.1836\n",
      "157.26727\n",
      "Saving to: /glade/work/guoqiang/CTSM_CAMELS/Calib_HH_MOASMO/level1_502_SubsetForcing/Solar/subset_clmforc.E5LEME.c2023.010x010.Solar.1981-1985.nc\n",
      "Processing: /glade/work/guoqiang/CTSM_CAMELS/Calib_HH_MOASMO/level1_502_SubsetForcing/Precip/subset_clmforc.E5LEME.c2023.010x010.Precip.1981-1985.nc-original\n",
      "PRECTmms\n",
      "0\n",
      "3.1880265e-06\n",
      "3.2517876e-06\n",
      "Saving to: /glade/work/guoqiang/CTSM_CAMELS/Calib_HH_MOASMO/level1_502_SubsetForcing/Precip/subset_clmforc.E5LEME.c2023.010x010.Precip.1981-1985.nc\n",
      "Processing: /glade/work/guoqiang/CTSM_CAMELS/Calib_HH_MOASMO/level1_502_SubsetForcing/TPQWL/subset_clmforc.E5LEME.c2023.010x010.TPQWL.1981-1985.nc-original\n",
      "FLDS\n",
      "0\n",
      "224.15765\n",
      "228.64081\n",
      "PSRF\n",
      "0\n",
      "80053.555\n",
      "81654.63\n",
      "QBOT\n",
      "0\n",
      "0.0028047261\n",
      "0.0028608204\n",
      "TBOT\n",
      "0\n",
      "270.67493\n",
      "276.08844\n",
      "WIND\n",
      "0\n",
      "1.6208357\n",
      "1.6532522\n",
      "Saving to: /glade/work/guoqiang/CTSM_CAMELS/Calib_HH_MOASMO/level1_502_SubsetForcing/TPQWL/subset_clmforc.E5LEME.c2023.010x010.TPQWL.1981-1985.nc\n"
     ]
    }
   ],
   "source": [
    "# Process each target file\n",
    "for tarfile,outfile in zip(tarfiles2,tarfiles):\n",
    "    print('Processing:', tarfile)\n",
    "    if os.path.isfile(tarfile):\n",
    "        with xr.open_dataset(tarfile) as ds:\n",
    "\n",
    "            for v in ds.data_vars:\n",
    "                if 'time' in ds[v].dims:\n",
    "                    print(v)\n",
    "                    print(np.sum(np.isnan(ds[v].values)))\n",
    "                    selected_data = ds[v].sel(time=month)\n",
    "                    print(np.mean(ds[v].sel(time=month).values))\n",
    "                    ds[v].loc[dict(time=month)] = selected_data * 1.02\n",
    "                    print(np.mean(ds[v].sel(time=month).values))\n",
    "            \n",
    "            # Save the modified file\n",
    "            print('Saving to:',outfile)\n",
    "            ds.to_netcdf(outfile, format='NETCDF3_CLASSIC')\n",
    "    else:\n",
    "        print(f'File not found: {tarfile}')\n"
   ]
  },
  {
   "cell_type": "code",
   "execution_count": null,
   "id": "7d63714e-c1dc-4ec7-bcd3-5ef13881d89c",
   "metadata": {},
   "outputs": [],
   "source": []
  },
  {
   "cell_type": "code",
   "execution_count": null,
   "id": "3e649cb8-4120-4807-b082-f89ca384700c",
   "metadata": {},
   "outputs": [],
   "source": []
  }
 ],
 "metadata": {
  "kernelspec": {
   "display_name": "NPL 2023b",
   "language": "python",
   "name": "npl-2023b"
  },
  "language_info": {
   "codemirror_mode": {
    "name": "ipython",
    "version": 3
   },
   "file_extension": ".py",
   "mimetype": "text/x-python",
   "name": "python",
   "nbconvert_exporter": "python",
   "pygments_lexer": "ipython3",
   "version": "3.10.12"
  }
 },
 "nbformat": 4,
 "nbformat_minor": 5
}
