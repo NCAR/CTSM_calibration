{
 "cells": [
  {
   "cell_type": "code",
   "execution_count": 1,
   "id": "1aabc45b-008d-47ce-a43f-1761d1f2d464",
   "metadata": {},
   "outputs": [],
   "source": [
    "# read a CAMELS basin from the shapefile and convert it to SCRIP netcdf format\n",
    "\n",
    "import xarray as xr\n",
    "import numpy as np\n",
    "import geopandas as gpd\n",
    "import matplotlib.pyplot as plt\n",
    "import os"
   ]
  },
  {
   "cell_type": "code",
   "execution_count": 2,
   "id": "fea901a2-0553-43c0-bce2-c53959672fc1",
   "metadata": {},
   "outputs": [
    {
     "data": {
      "text/html": [
       "<div>\n",
       "<style scoped>\n",
       "    .dataframe tbody tr th:only-of-type {\n",
       "        vertical-align: middle;\n",
       "    }\n",
       "\n",
       "    .dataframe tbody tr th {\n",
       "        vertical-align: top;\n",
       "    }\n",
       "\n",
       "    .dataframe thead th {\n",
       "        text-align: right;\n",
       "    }\n",
       "</style>\n",
       "<table border=\"1\" class=\"dataframe\">\n",
       "  <thead>\n",
       "    <tr style=\"text-align: right;\">\n",
       "      <th></th>\n",
       "      <th>hru_id</th>\n",
       "      <th>ann_P</th>\n",
       "      <th>lon_cen</th>\n",
       "      <th>lat_cen</th>\n",
       "      <th>AREA</th>\n",
       "      <th>elev_mean</th>\n",
       "      <th>ave_T</th>\n",
       "      <th>july_T</th>\n",
       "      <th>Perimeter</th>\n",
       "      <th>geometry</th>\n",
       "    </tr>\n",
       "  </thead>\n",
       "  <tbody>\n",
       "    <tr>\n",
       "      <th>0</th>\n",
       "      <td>1013500</td>\n",
       "      <td>0.0</td>\n",
       "      <td>-68.56551</td>\n",
       "      <td>47.01169</td>\n",
       "      <td>2.303988e+09</td>\n",
       "      <td>277.493490</td>\n",
       "      <td>None</td>\n",
       "      <td>None</td>\n",
       "      <td>647993</td>\n",
       "      <td>MULTIPOLYGON (((-68.47770 47.17825, -68.47758 ...</td>\n",
       "    </tr>\n",
       "    <tr>\n",
       "      <th>1</th>\n",
       "      <td>1022500</td>\n",
       "      <td>0.0</td>\n",
       "      <td>-68.07313</td>\n",
       "      <td>44.79691</td>\n",
       "      <td>6.203873e+08</td>\n",
       "      <td>103.604200</td>\n",
       "      <td>None</td>\n",
       "      <td>None</td>\n",
       "      <td>312624</td>\n",
       "      <td>MULTIPOLYGON (((-67.97836 44.61310, -67.97873 ...</td>\n",
       "    </tr>\n",
       "    <tr>\n",
       "      <th>2</th>\n",
       "      <td>1030500</td>\n",
       "      <td>0.0</td>\n",
       "      <td>-68.14985</td>\n",
       "      <td>45.80527</td>\n",
       "      <td>3.676155e+09</td>\n",
       "      <td>174.433896</td>\n",
       "      <td>None</td>\n",
       "      <td>None</td>\n",
       "      <td>662248</td>\n",
       "      <td>MULTIPOLYGON (((-68.35800 45.67903, -68.35838 ...</td>\n",
       "    </tr>\n",
       "    <tr>\n",
       "      <th>3</th>\n",
       "      <td>1031500</td>\n",
       "      <td>0.0</td>\n",
       "      <td>-69.58119</td>\n",
       "      <td>45.23568</td>\n",
       "      <td>7.665447e+08</td>\n",
       "      <td>304.743490</td>\n",
       "      <td>None</td>\n",
       "      <td>None</td>\n",
       "      <td>309614</td>\n",
       "      <td>MULTIPOLYGON (((-69.67647 45.14558, -69.67636 ...</td>\n",
       "    </tr>\n",
       "    <tr>\n",
       "      <th>4</th>\n",
       "      <td>1047000</td>\n",
       "      <td>0.0</td>\n",
       "      <td>-70.16213</td>\n",
       "      <td>44.98744</td>\n",
       "      <td>9.049562e+08</td>\n",
       "      <td>379.779978</td>\n",
       "      <td>None</td>\n",
       "      <td>None</td>\n",
       "      <td>310157</td>\n",
       "      <td>MULTIPOLYGON (((-70.10847 45.21669, -70.10858 ...</td>\n",
       "    </tr>\n",
       "    <tr>\n",
       "      <th>...</th>\n",
       "      <td>...</td>\n",
       "      <td>...</td>\n",
       "      <td>...</td>\n",
       "      <td>...</td>\n",
       "      <td>...</td>\n",
       "      <td>...</td>\n",
       "      <td>...</td>\n",
       "      <td>...</td>\n",
       "      <td>...</td>\n",
       "      <td>...</td>\n",
       "    </tr>\n",
       "    <tr>\n",
       "      <th>666</th>\n",
       "      <td>14309500</td>\n",
       "      <td>0.0</td>\n",
       "      <td>-123.74216</td>\n",
       "      <td>42.83017</td>\n",
       "      <td>2.263143e+08</td>\n",
       "      <td>737.623894</td>\n",
       "      <td>None</td>\n",
       "      <td>None</td>\n",
       "      <td>117484</td>\n",
       "      <td>MULTIPOLYGON (((-123.81322 42.89103, -123.8131...</td>\n",
       "    </tr>\n",
       "    <tr>\n",
       "      <th>667</th>\n",
       "      <td>14316700</td>\n",
       "      <td>0.0</td>\n",
       "      <td>-122.64677</td>\n",
       "      <td>43.45290</td>\n",
       "      <td>5.880250e+08</td>\n",
       "      <td>947.553082</td>\n",
       "      <td>None</td>\n",
       "      <td>None</td>\n",
       "      <td>176861</td>\n",
       "      <td>MULTIPOLYGON (((-122.49936 43.47688, -122.4990...</td>\n",
       "    </tr>\n",
       "    <tr>\n",
       "      <th>668</th>\n",
       "      <td>14325000</td>\n",
       "      <td>0.0</td>\n",
       "      <td>-124.02763</td>\n",
       "      <td>42.79249</td>\n",
       "      <td>4.449257e+08</td>\n",
       "      <td>649.241611</td>\n",
       "      <td>None</td>\n",
       "      <td>None</td>\n",
       "      <td>166110</td>\n",
       "      <td>MULTIPOLYGON (((-124.07751 42.89822, -124.0771...</td>\n",
       "    </tr>\n",
       "    <tr>\n",
       "      <th>669</th>\n",
       "      <td>14362250</td>\n",
       "      <td>0.0</td>\n",
       "      <td>-123.12535</td>\n",
       "      <td>42.16583</td>\n",
       "      <td>4.387790e+07</td>\n",
       "      <td>939.577778</td>\n",
       "      <td>None</td>\n",
       "      <td>None</td>\n",
       "      <td>44972</td>\n",
       "      <td>MULTIPOLYGON (((-123.15128 42.19624, -123.1511...</td>\n",
       "    </tr>\n",
       "    <tr>\n",
       "      <th>670</th>\n",
       "      <td>14400000</td>\n",
       "      <td>0.0</td>\n",
       "      <td>-124.00527</td>\n",
       "      <td>42.23303</td>\n",
       "      <td>7.033865e+08</td>\n",
       "      <td>668.427350</td>\n",
       "      <td>None</td>\n",
       "      <td>None</td>\n",
       "      <td>206584</td>\n",
       "      <td>MULTIPOLYGON (((-124.02084 42.36178, -124.0207...</td>\n",
       "    </tr>\n",
       "  </tbody>\n",
       "</table>\n",
       "<p>671 rows × 10 columns</p>\n",
       "</div>"
      ],
      "text/plain": [
       "       hru_id  ann_P    lon_cen   lat_cen          AREA   elev_mean ave_T  \\\n",
       "0     1013500    0.0  -68.56551  47.01169  2.303988e+09  277.493490  None   \n",
       "1     1022500    0.0  -68.07313  44.79691  6.203873e+08  103.604200  None   \n",
       "2     1030500    0.0  -68.14985  45.80527  3.676155e+09  174.433896  None   \n",
       "3     1031500    0.0  -69.58119  45.23568  7.665447e+08  304.743490  None   \n",
       "4     1047000    0.0  -70.16213  44.98744  9.049562e+08  379.779978  None   \n",
       "..        ...    ...        ...       ...           ...         ...   ...   \n",
       "666  14309500    0.0 -123.74216  42.83017  2.263143e+08  737.623894  None   \n",
       "667  14316700    0.0 -122.64677  43.45290  5.880250e+08  947.553082  None   \n",
       "668  14325000    0.0 -124.02763  42.79249  4.449257e+08  649.241611  None   \n",
       "669  14362250    0.0 -123.12535  42.16583  4.387790e+07  939.577778  None   \n",
       "670  14400000    0.0 -124.00527  42.23303  7.033865e+08  668.427350  None   \n",
       "\n",
       "    july_T  Perimeter                                           geometry  \n",
       "0     None     647993  MULTIPOLYGON (((-68.47770 47.17825, -68.47758 ...  \n",
       "1     None     312624  MULTIPOLYGON (((-67.97836 44.61310, -67.97873 ...  \n",
       "2     None     662248  MULTIPOLYGON (((-68.35800 45.67903, -68.35838 ...  \n",
       "3     None     309614  MULTIPOLYGON (((-69.67647 45.14558, -69.67636 ...  \n",
       "4     None     310157  MULTIPOLYGON (((-70.10847 45.21669, -70.10858 ...  \n",
       "..     ...        ...                                                ...  \n",
       "666   None     117484  MULTIPOLYGON (((-123.81322 42.89103, -123.8131...  \n",
       "667   None     176861  MULTIPOLYGON (((-122.49936 43.47688, -122.4990...  \n",
       "668   None     166110  MULTIPOLYGON (((-124.07751 42.89822, -124.0771...  \n",
       "669   None      44972  MULTIPOLYGON (((-123.15128 42.19624, -123.1511...  \n",
       "670   None     206584  MULTIPOLYGON (((-124.02084 42.36178, -124.0207...  \n",
       "\n",
       "[671 rows x 10 columns]"
      ]
     },
     "execution_count": 2,
     "metadata": {},
     "output_type": "execute_result"
    }
   ],
   "source": [
    "# read a CAMELS basin\n",
    "file = '/glade/p/ral/hap/common_data/camels/shapefile/HCDN_nhru_final_671.buff_fix_holes.gpkg'\n",
    "shp = gpd.read_file(file)\n",
    "shp"
   ]
  },
  {
   "cell_type": "code",
   "execution_count": 3,
   "id": "a1f4ec5e-3fe7-42ea-aebd-e1961f7f1cf9",
   "metadata": {},
   "outputs": [
    {
     "name": "stdout",
     "output_type": "stream",
     "text": [
      "(3286, 2)\n"
     ]
    }
   ],
   "source": [
    "# select one basin and convert its largest geometry to points\n",
    "target = 80\n",
    "shpi = shp.loc[[target]]\n",
    "\n",
    "polygon = shpi.iloc[0]['geometry']\n",
    "\n",
    "if polygon.geom_type == 'Polygon':\n",
    "    max_area = polygon.area\n",
    "    largest_polygon = polygon\n",
    "elif polygon.geom_type == 'MultiPolygon':\n",
    "    max_area = -1\n",
    "    for part in polygon.geoms:\n",
    "        area = part.area\n",
    "        if area > max_area:\n",
    "            largest_polygon = part\n",
    "            max_area = area\n",
    "            \n",
    "coords = np.array((largest_polygon.exterior.coords))\n",
    "print(coords.shape)"
   ]
  },
  {
   "cell_type": "code",
   "execution_count": 4,
   "id": "cf35c384-f5b0-48b1-9ef0-0c8d95bc584a",
   "metadata": {},
   "outputs": [
    {
     "data": {
      "text/plain": [
       "[<matplotlib.lines.Line2D at 0x7f4ba3eb3310>]"
      ]
     },
     "execution_count": 4,
     "metadata": {},
     "output_type": "execute_result"
    },
    {
     "data": {
      "image/png": "[encoded data removed]",
      "text/plain": [
       "<Figure size 432x288 with 1 Axes>"
      ]
     },
     "metadata": {
      "needs_background": "light"
     },
     "output_type": "display_data"
    }
   ],
   "source": [
    "fig, ax = plt.subplots()\n",
    "shpi.plot(ax=ax)\n",
    "ax.plot(coords[:,0], coords[:,1], 'r')"
   ]
  },
  {
   "cell_type": "code",
   "execution_count": 5,
   "id": "594dd860-e906-4e1f-9328-00688acfb16b",
   "metadata": {},
   "outputs": [
    {
     "data": {
      "text/plain": [
       "[<matplotlib.lines.Line2D at 0x7f4ba3d778b0>]"
      ]
     },
     "execution_count": 5,
     "metadata": {},
     "output_type": "execute_result"
    },
    {
     "data": {
      "image/png": "[encoded data removed]",
      "text/plain": [
       "<Figure size 432x288 with 1 Axes>"
      ]
     },
     "metadata": {
      "needs_background": "light"
     },
     "output_type": "display_data"
    }
   ],
   "source": [
    "coords[:,0] = 360 + coords[:,0]\n",
    "plt.plot(coords[:,0], coords[:,1], 'r')"
   ]
  },
  {
   "cell_type": "code",
   "execution_count": 6,
   "id": "f250d80f-8d52-4717-9f5b-c4d9e20c88f5",
   "metadata": {},
   "outputs": [
    {
     "name": "stdout",
     "output_type": "stream",
     "text": [
      "(33, 2)\n"
     ]
    }
   ],
   "source": [
    "def sort_xy(x, y):\n",
    "\n",
    "    x0 = np.mean(x)\n",
    "    y0 = np.mean(y)\n",
    "\n",
    "    r = np.sqrt((x-x0)**2 + (y-y0)**2)\n",
    "\n",
    "    angles = np.where((y-y0) > 0, np.arccos((x-x0)/r), 2*np.pi-np.arccos((x-x0)/r))\n",
    "\n",
    "    mask = np.argsort(angles)\n",
    "\n",
    "    x_sorted = x[mask]\n",
    "    y_sorted = y[mask]\n",
    "\n",
    "    return x_sorted, y_sorted\n",
    "\n",
    "coords2 = coords[::100,:]\n",
    "print(coords2.shape)\n",
    "lon_corner, lat_corner = sort_xy(coords2[:,0], coords2[:,1])"
   ]
  },
  {
   "cell_type": "code",
   "execution_count": 7,
   "id": "0edcf37f-2c3a-44f1-9206-c6cbf82ba006",
   "metadata": {},
   "outputs": [
    {
     "data": {
      "image/png": "[encoded data removed]",
      "text/plain": [
       "<Figure size 288x288 with 1 Axes>"
      ]
     },
     "metadata": {
      "needs_background": "light"
     },
     "output_type": "display_data"
    }
   ],
   "source": [
    "\n",
    "import matplotlib.cm as cm\n",
    "\n",
    "num_colors = len(lon_corner)\n",
    "cmap = cm.get_cmap('rainbow')  # sequential colormap from light to dark red\n",
    "\n",
    "colors = [cmap(i/num_colors) for i in range(num_colors)]\n",
    "\n",
    "fig, ax = plt.subplots(figsize=[4,4])\n",
    "for i in range(len(lon_corner)):\n",
    "    ax.plot(lon_corner[i], lat_corner[i], '.', color='w')\n",
    "    if np.mod(i, 3) == 0:\n",
    "        ax.text(lon_corner[i], lat_corner[i], i, color=colors[i])"
   ]
  },
  {
   "cell_type": "code",
   "execution_count": 8,
   "id": "d6265219-334c-4bd1-9350-774735205afd",
   "metadata": {},
   "outputs": [],
   "source": [
    "# convert to SCRIP unstructured grid\n",
    "# https://earthsystemmodeling.org/docs/release/ESMF_8_0_1/ESMF_refdoc/node3.html#SECTION03028100000000000000\n",
    "# Here is a sample header from a SCRIP unstructured grid file:\n",
    "\n",
    "# netcdf ne4np4-pentagons {\n",
    "# dimensions:\n",
    "#       grid_size = 866 ;\n",
    "#       grid_corners = 5 ;\n",
    "#       grid_rank = 1 ;\n",
    "# variables:\n",
    "#       int grid_dims(grid_rank) ;\n",
    "#       double grid_center_lat(grid_size) ;\n",
    "#          grid_center_lat:units = \"degrees\" ;\n",
    "#       double grid_center_lon(grid_size) ;\n",
    "#          grid_center_lon:units = \"degrees\" ;\n",
    "#       double grid_corner_lon(grid_size, grid_corners) ;\n",
    "#          grid_corner_lon:units = \"degrees\";\n",
    "#          grid_corner_lon:_FillValue = -9999. ;\n",
    "#       double grid_corner_lat(grid_size, grid_corners) ;\n",
    "#          grid_corner_lat:units = \"degrees\" ;\n",
    "#          grid_corner_lat:_FillValue = -9999. ;\n",
    "#       int grid_imask(grid_size) ;\n",
    "#          grid_imask:_FillValue = -9999. ;\n",
    "#       double grid_area(grid_size) ;\n",
    "#          grid_area:units = \"radians^2\" ;\n",
    "#          grid_area:long_name = \"area weights\" ;\n",
    "# }\n",
    "# The variables are the same as described above, however, here grid_rank = 1. In this format there is no notion of which cells are next to which, so to construct the unstructured mesh the connection between cells is defined by searching for cells with the same corner coordinates. (e.g. the same grid_corner_lat and grid_corner_lon values).\n",
    "\n",
    "\n",
    "lat_cen = [np.nanmean(lon_corner)]\n",
    "lon_cen = [np.nanmean(lat_corner)]\n",
    "grid_imask = np.array([1], dtype=np.int64)\n",
    "grid_area = [max_area]\n",
    "\n",
    "lat_corner = lat_corner[np.newaxis, :]\n",
    "lon_corner = lon_corner[np.newaxis, :]\n",
    "\n",
    "ds = xr.Dataset()\n",
    "# grid_rank = 1\n",
    "# grid_size = 2\n",
    "# grid_corners = 5\n",
    "\n",
    "ds['grid_dims'] = xr.DataArray(np.array([1], dtype=np.int64), dims=('grid_rank'))\n",
    "\n",
    "ds['grid_center_lat'] = xr.DataArray(lat_cen, dims=('grid_size'))\n",
    "ds['grid_center_lat'].attrs['units'] = \"degrees\"\n",
    "\n",
    "ds['grid_center_lon'] = xr.DataArray(lon_cen, dims=('grid_size'))\n",
    "ds['grid_center_lon'].attrs['units'] = \"degrees\"\n",
    "\n",
    "ds['grid_corner_lat'] = xr.DataArray(lat_corner, dims=('grid_size', 'grid_corners'))\n",
    "ds['grid_corner_lat'].attrs['units'] = \"degrees\"\n",
    "ds['grid_corner_lat'].attrs['_FillValue'] = -9999.\n",
    "\n",
    "ds['grid_corner_lon'] = xr.DataArray(lon_corner, dims=('grid_size', 'grid_corners'))\n",
    "ds['grid_corner_lon'].attrs['units'] = \"degrees\"\n",
    "ds['grid_corner_lon'].attrs['_FillValue'] = -9999.\n",
    "\n",
    "ds['grid_imask'] = xr.DataArray(grid_imask, dims=('grid_size'))\n",
    "ds['grid_imask'].attrs['_FillValue'] = -9999.\n",
    "\n",
    "ds['grid_area'] = xr.DataArray(grid_area, dims=('grid_size'))\n",
    "ds['grid_area'].attrs['units'] = \"radians^2\"\n",
    "ds['grid_area'].attrs['long_name'] = \"area weights\"\n",
    "\n",
    "ds.to_netcdf(f'CAMELS_{target}.nc', format='NETCDF3_CLASSIC')"
   ]
  },
  {
   "cell_type": "code",
   "execution_count": 12,
   "id": "ac996b06-4a24-4596-8807-8d6d5594b75e",
   "metadata": {},
   "outputs": [
    {
     "data": {
      "text/plain": [
       "[<matplotlib.lines.Line2D at 0x7f4b9accb5b0>]"
      ]
     },
     "execution_count": 12,
     "metadata": {},
     "output_type": "execute_result"
    },
    {
     "data": {
      "image/png": "[encoded data removed]",
      "text/plain": [
       "<Figure size 288x288 with 1 Axes>"
      ]
     },
     "metadata": {
      "needs_background": "light"
     },
     "output_type": "display_data"
    }
   ],
   "source": [
    "# a comparison to Sean's grids\n",
    "# CAMELS 80 VS Sean's 10\n",
    "\n",
    "file1 = '/glade/u/home/guoqiang/test_mesh/basin/CAMELS_80_ESMFmesh.nc'\n",
    "file2 = '/glade/u/home/guoqiang/CTSM_cases/CAMELS_Calib/Lump_basin_divide_split_nest/ESMFmesh_ctsm_HCDN_nhru_final_671.buff_fix_holes_polygons_simplified_5e-4_split_nested_basin10.nc'\n",
    "ds1 = xr.load_dataset(file1)\n",
    "ds2 = xr.load_dataset(file2)\n",
    "\n",
    "coord1 = ds1.nodeCoords\n",
    "coord2 = ds2.nodeCoords\n",
    "\n",
    "fig, ax = plt.subplots(figsize=[4,4])\n",
    "\n",
    "ax.plot(coord1[:,0], coord1[:,1], 'r')\n",
    "ax.plot(coord2[:,0], coord2[:,1], 'k')"
   ]
  },
  {
   "cell_type": "code",
   "execution_count": null,
   "id": "3d2788fb-4d50-4c48-8c6b-5b07d7e59ff2",
   "metadata": {},
   "outputs": [],
   "source": []
  }
 ],
 "metadata": {
  "kernelspec": {
   "display_name": "Python [conda env:npl-2022b-tgq]",
   "language": "python",
   "name": "conda-env-npl-2022b-tgq-py"
  },
  "language_info": {
   "codemirror_mode": {
    "name": "ipython",
    "version": 3
   },
   "file_extension": ".py",
   "mimetype": "text/x-python",
   "name": "python",
   "nbconvert_exporter": "python",
   "pygments_lexer": "ipython3",
   "version": "3.8.13"
  }
 },
 "nbformat": 4,
 "nbformat_minor": 5
}
