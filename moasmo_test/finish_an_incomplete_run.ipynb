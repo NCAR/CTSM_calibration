{
 "cells": [
  {
   "cell_type": "code",
   "execution_count": 1,
   "id": "05409f7b-f42f-4de5-a2c6-46558c6fb0b4",
   "metadata": {},
   "outputs": [],
   "source": [
    "\n",
    "# temporary codes for CESM presentation\n",
    "\n",
    "import os, sys, subprocess, time\n",
    "import toml\n",
    "from MOASMO_parameters import generate_initial_parameter_sets, surrogate_model_train_and_pareto_points\n",
    "import run_multiple_paramsets\n"
   ]
  },
  {
   "cell_type": "code",
   "execution_count": 2,
   "id": "8be36ec7-4e01-4dac-8c41-cca4615595b6",
   "metadata": {},
   "outputs": [],
   "source": [
    "bnum = 50\n",
    "\n",
    "\n",
    "########################################################################################################################\n",
    "# load configurations\n",
    "# config_file = 'config.toml'\n",
    "# config = toml.load(config_file)\n",
    "\n",
    "ostrich_file = f'/glade/work/guoqiang/CTSM_cases/CAMELS_Calib/Lump_calib_split_nest_LMWG/CAMELS_{bnum}_OstCalib/run/CTSM_run_trial.sh'\n",
    "with open(ostrich_file, 'r') as f:\n",
    "    ostlines = f.readlines()\n",
    "\n",
    "# inputs\n",
    "file_parameter_list = '/glade/u/home/guoqiang/CTSM_repos/moasmo_test/param_ASG_20221206_moasmo_2param.csv'\n",
    "path_CTSM_base = f'/glade/work/guoqiang/CTSM_cases/CAMELS_Calib/Lump_calib_split_nest_LMWG/CAMELS_{bnum}'\n",
    "script_singlerun = '/glade/u/home/guoqiang/CTSM_repos/moasmo_test/run_one_paramset.py'\n",
    "script_clone = '/glade/u/home/guoqiang/CTSM_repos/CTSM/cime/scripts/create_clone'\n",
    "ref_streamflow = f'/glade/work/guoqiang/CTSM_cases/CAMELS_Calib/Lump_calib_split_nest_LMWG/CAMELS_{bnum}_OstCalib/refdata/streamflow_data.csv'\n",
    "\n",
    "for l in ostlines:\n",
    "    if l.startswith('add_flow_file'):\n",
    "        add_flow_file = l.strip().split('#')[0].strip().split('=')[1].replace('\"', '')\n",
    "        break\n",
    "\n",
    "# outputs\n",
    "path_paramset = f'/glade/work/guoqiang/CTSM_cases/MOASMO_CESM_2param/CAMELS{bnum}/param_sets'\n",
    "path_submit = f'/glade/work/guoqiang/CTSM_cases/MOASMO_CESM_2param/CAMELS{bnum}/run_model'\n",
    "path_archive = f'/glade/work/guoqiang/CTSM_cases/MOASMO_CESM_2param/CAMELS{bnum}/ctsm_outputs'\n",
    "\n",
    "# evaluation period\n",
    "for l in ostlines:\n",
    "    if l.startswith('DateEvalStart'):\n",
    "        date_start = l.strip().split('#')[0].strip().split('=')[1]\n",
    "        break\n",
    "\n",
    "for l in ostlines:\n",
    "    if l.startswith('DateEvalEnd'):\n",
    "        date_end = l.strip().split('#')[0].strip().split('=')[1]\n",
    "        break\n",
    "\n",
    "# MO-ASMO parameters\n",
    "sampling_method = 'glp'\n",
    "num_init = 216 # initial number of samples\n",
    "num_per_iter = 36 # number of selected pareto parameter sets for each iteration\n",
    "num_iter = 4 # including the initial iteration"
   ]
  },
  {
   "cell_type": "code",
   "execution_count": 3,
   "id": "93e972f5-f29d-4f9e-9c70-a33f88d29dd8",
   "metadata": {},
   "outputs": [
    {
     "name": "stdout",
     "output_type": "stream",
     "text": [
      "##################################################\n",
      "Start iterattion 0. Total iteration number: 4\n",
      "Generating initial parameters\n",
      "All runs dones: the number of /glade/work/guoqiang/CTSM_cases/MOASMO_CESM_2param/CAMELS50/ctsm_outputs/*iter0_*/ folders equal to 216\n",
      "Write all metrics for 216 trials in iteration 0 to /glade/work/guoqiang/CTSM_cases/MOASMO_CESM_2param/CAMELS50/ctsm_outputs/iter0_all_metric.csv\n",
      "Write all parameters (mean value) for 216 trials in iteration 0 to /glade/work/guoqiang/CTSM_cases/MOASMO_CESM_2param/CAMELS50/ctsm_outputs/iter0_all_meanparam.csv\n",
      "Generating parameter file: /glade/work/guoqiang/CTSM_cases/MOASMO_CESM_2param/CAMELS50/param_sets/paramset_iter1_trial0.csv\n",
      "Generating parameter file: /glade/work/guoqiang/CTSM_cases/MOASMO_CESM_2param/CAMELS50/param_sets/paramset_iter1_trial1.csv\n",
      "Generating parameter file: /glade/work/guoqiang/CTSM_cases/MOASMO_CESM_2param/CAMELS50/param_sets/paramset_iter1_trial2.csv\n",
      "Generating parameter file: /glade/work/guoqiang/CTSM_cases/MOASMO_CESM_2param/CAMELS50/param_sets/paramset_iter1_trial3.csv\n",
      "Generating parameter file: /glade/work/guoqiang/CTSM_cases/MOASMO_CESM_2param/CAMELS50/param_sets/paramset_iter1_trial4.csv\n",
      "Generating parameter file: /glade/work/guoqiang/CTSM_cases/MOASMO_CESM_2param/CAMELS50/param_sets/paramset_iter1_trial5.csv\n",
      "Generating parameter file: /glade/work/guoqiang/CTSM_cases/MOASMO_CESM_2param/CAMELS50/param_sets/paramset_iter1_trial6.csv\n",
      "Generating parameter file: /glade/work/guoqiang/CTSM_cases/MOASMO_CESM_2param/CAMELS50/param_sets/paramset_iter1_trial7.csv\n",
      "Generating parameter file: /glade/work/guoqiang/CTSM_cases/MOASMO_CESM_2param/CAMELS50/param_sets/paramset_iter1_trial8.csv\n",
      "Generating parameter file: /glade/work/guoqiang/CTSM_cases/MOASMO_CESM_2param/CAMELS50/param_sets/paramset_iter1_trial9.csv\n",
      "Generating parameter file: /glade/work/guoqiang/CTSM_cases/MOASMO_CESM_2param/CAMELS50/param_sets/paramset_iter1_trial10.csv\n",
      "Generating parameter file: /glade/work/guoqiang/CTSM_cases/MOASMO_CESM_2param/CAMELS50/param_sets/paramset_iter1_trial11.csv\n",
      "Generating parameter file: /glade/work/guoqiang/CTSM_cases/MOASMO_CESM_2param/CAMELS50/param_sets/paramset_iter1_trial12.csv\n",
      "Generating parameter file: /glade/work/guoqiang/CTSM_cases/MOASMO_CESM_2param/CAMELS50/param_sets/paramset_iter1_trial13.csv\n",
      "Generating parameter file: /glade/work/guoqiang/CTSM_cases/MOASMO_CESM_2param/CAMELS50/param_sets/paramset_iter1_trial14.csv\n",
      "Generating parameter file: /glade/work/guoqiang/CTSM_cases/MOASMO_CESM_2param/CAMELS50/param_sets/paramset_iter1_trial15.csv\n",
      "Generating parameter file: /glade/work/guoqiang/CTSM_cases/MOASMO_CESM_2param/CAMELS50/param_sets/paramset_iter1_trial16.csv\n",
      "Generating parameter file: /glade/work/guoqiang/CTSM_cases/MOASMO_CESM_2param/CAMELS50/param_sets/paramset_iter1_trial17.csv\n",
      "Generating parameter file: /glade/work/guoqiang/CTSM_cases/MOASMO_CESM_2param/CAMELS50/param_sets/paramset_iter1_trial18.csv\n",
      "Generating parameter file: /glade/work/guoqiang/CTSM_cases/MOASMO_CESM_2param/CAMELS50/param_sets/paramset_iter1_trial19.csv\n",
      "Generating parameter file: /glade/work/guoqiang/CTSM_cases/MOASMO_CESM_2param/CAMELS50/param_sets/paramset_iter1_trial20.csv\n",
      "Generating parameter file: /glade/work/guoqiang/CTSM_cases/MOASMO_CESM_2param/CAMELS50/param_sets/paramset_iter1_trial21.csv\n",
      "Generating parameter file: /glade/work/guoqiang/CTSM_cases/MOASMO_CESM_2param/CAMELS50/param_sets/paramset_iter1_trial22.csv\n",
      "Generating parameter file: /glade/work/guoqiang/CTSM_cases/MOASMO_CESM_2param/CAMELS50/param_sets/paramset_iter1_trial23.csv\n",
      "Generating parameter file: /glade/work/guoqiang/CTSM_cases/MOASMO_CESM_2param/CAMELS50/param_sets/paramset_iter1_trial24.csv\n",
      "Generating parameter file: /glade/work/guoqiang/CTSM_cases/MOASMO_CESM_2param/CAMELS50/param_sets/paramset_iter1_trial25.csv\n",
      "Generating parameter file: /glade/work/guoqiang/CTSM_cases/MOASMO_CESM_2param/CAMELS50/param_sets/paramset_iter1_trial26.csv\n",
      "Generating parameter file: /glade/work/guoqiang/CTSM_cases/MOASMO_CESM_2param/CAMELS50/param_sets/paramset_iter1_trial27.csv\n",
      "Generating parameter file: /glade/work/guoqiang/CTSM_cases/MOASMO_CESM_2param/CAMELS50/param_sets/paramset_iter1_trial28.csv\n",
      "Generating parameter file: /glade/work/guoqiang/CTSM_cases/MOASMO_CESM_2param/CAMELS50/param_sets/paramset_iter1_trial29.csv\n",
      "Generating parameter file: /glade/work/guoqiang/CTSM_cases/MOASMO_CESM_2param/CAMELS50/param_sets/paramset_iter1_trial30.csv\n",
      "Generating parameter file: /glade/work/guoqiang/CTSM_cases/MOASMO_CESM_2param/CAMELS50/param_sets/paramset_iter1_trial31.csv\n",
      "Generating parameter file: /glade/work/guoqiang/CTSM_cases/MOASMO_CESM_2param/CAMELS50/param_sets/paramset_iter1_trial32.csv\n",
      "Generating parameter file: /glade/work/guoqiang/CTSM_cases/MOASMO_CESM_2param/CAMELS50/param_sets/paramset_iter1_trial33.csv\n",
      "Generating parameter file: /glade/work/guoqiang/CTSM_cases/MOASMO_CESM_2param/CAMELS50/param_sets/paramset_iter1_trial34.csv\n",
      "Generating parameter file: /glade/work/guoqiang/CTSM_cases/MOASMO_CESM_2param/CAMELS50/param_sets/paramset_iter1_trial35.csv\n",
      "Iteration 0 is complete. Time cost (s) is 51.50510787963867\n"
     ]
    }
   ],
   "source": [
    "# finish iter-0\n",
    "\n",
    "\n",
    "file_metric_all = []\n",
    "file_param_all = []\n",
    "\n",
    "for it in range(1):\n",
    "    print('#'*50)\n",
    "    print(f'Start iterattion {it}. Total iteration number: {num_iter}')\n",
    "    t1 = time.time()\n",
    "\n",
    "    iterflag = it\n",
    "\n",
    "    if it == 0:\n",
    "        # Initial sampling which generates many parameter sets\n",
    "        print('Generating initial parameters')\n",
    "        # init_param_filelist = generate_initial_parameter_sets(file_parameter_list, sampling_method, path_paramset, path_CTSM_base, num_init)\n",
    "        sample_num = num_init\n",
    "    else:\n",
    "        sample_num = num_per_iter\n",
    "\n",
    "    # # Run models based on all parameter samples for this iteration. Individual jobs will be submitted\n",
    "    # run_multiple_paramsets.generate_and_submit_multi_CTSM_runs(iterflag, path_submit, path_paramset, path_CTSM_base,\n",
    "    #                                                            path_archive, script_singlerun, script_clone,\n",
    "    #                                                            date_start, date_end, ref_streamflow, add_flow_file)\n",
    "\n",
    "    # Don't continue until all runs are finished\n",
    "    file_metric_iter, file_param_iter = run_multiple_paramsets.check_if_all_runs_are_finsihed(path_archive, iterflag, sample_num)\n",
    "    file_metric_all.append(file_metric_iter)\n",
    "    file_param_all.append(file_param_iter)\n",
    "\n",
    "    # train a surrogate model and select pareto parameter sets\n",
    "    surrogate_model_train_and_pareto_points(file_parameter_list, file_param_all, file_metric_all, path_paramset, iterflag, num_per_iter, path_CTSM_base)\n",
    "\n",
    "    t2 = time.time()\n",
    "    print(f'Iteration {it} is complete. Time cost (s) is {t2 - t1}')"
   ]
  },
  {
   "cell_type": "code",
   "execution_count": 5,
   "id": "2a207018-e8d3-4f7c-80cb-8dd9c35edf5b",
   "metadata": {},
   "outputs": [
    {
     "name": "stdout",
     "output_type": "stream",
     "text": [
      "##################################################\n",
      "Start iterattion 2. Total iteration number: 4\n"
     ]
    },
    {
     "name": "stderr",
     "output_type": "stream",
     "text": [
      "shell-init: error retrieving current directory: getcwd: cannot access parent directories: No such file or directory\n"
     ]
    },
    {
     "name": "stdout",
     "output_type": "stream",
     "text": [
      "1434548.chadmin1.ib0.cheyenne.ucar.edu\n"
     ]
    },
    {
     "ename": "KeyboardInterrupt",
     "evalue": "",
     "output_type": "error",
     "traceback": [
      "\u001b[0;31m---------------------------------------------------------------------------\u001b[0m",
      "\u001b[0;31mKeyboardInterrupt\u001b[0m                         Traceback (most recent call last)",
      "Input \u001b[0;32mIn [5]\u001b[0m, in \u001b[0;36m<cell line: 1>\u001b[0;34m()\u001b[0m\n\u001b[1;32m     17\u001b[0m run_multiple_paramsets\u001b[38;5;241m.\u001b[39mgenerate_and_submit_multi_CTSM_runs(iterflag, path_submit, path_paramset, path_CTSM_base,\n\u001b[1;32m     18\u001b[0m                                                            path_archive, script_singlerun, script_clone,\n\u001b[1;32m     19\u001b[0m                                                            date_start, date_end, ref_streamflow, add_flow_file)\n\u001b[1;32m     21\u001b[0m \u001b[38;5;66;03m# Don't continue until all runs are finished\u001b[39;00m\n\u001b[0;32m---> 22\u001b[0m file_metric_iter, file_param_iter \u001b[38;5;241m=\u001b[39m \u001b[43mrun_multiple_paramsets\u001b[49m\u001b[38;5;241;43m.\u001b[39;49m\u001b[43mcheck_if_all_runs_are_finsihed\u001b[49m\u001b[43m(\u001b[49m\u001b[43mpath_archive\u001b[49m\u001b[43m,\u001b[49m\u001b[43m \u001b[49m\u001b[43miterflag\u001b[49m\u001b[43m,\u001b[49m\u001b[43m \u001b[49m\u001b[43msample_num\u001b[49m\u001b[43m)\u001b[49m\n\u001b[1;32m     23\u001b[0m file_metric_all\u001b[38;5;241m.\u001b[39mappend(file_metric_iter)\n\u001b[1;32m     24\u001b[0m file_param_all\u001b[38;5;241m.\u001b[39mappend(file_param_iter)\n",
      "File \u001b[0;32m~/CTSM_repos/moasmo_test/run_multiple_paramsets.py:79\u001b[0m, in \u001b[0;36mcheck_if_all_runs_are_finsihed\u001b[0;34m(path_archive, iterflag, tarnum, sleep)\u001b[0m\n\u001b[1;32m     77\u001b[0m     \u001b[38;5;28;01melse\u001b[39;00m:\n\u001b[1;32m     78\u001b[0m         flag \u001b[38;5;241m=\u001b[39m \u001b[38;5;28;01mTrue\u001b[39;00m\n\u001b[0;32m---> 79\u001b[0m         \u001b[43mtime\u001b[49m\u001b[38;5;241;43m.\u001b[39;49m\u001b[43msleep\u001b[49m\u001b[43m(\u001b[49m\u001b[43msleep\u001b[49m\u001b[43m)\u001b[49m\n\u001b[1;32m     81\u001b[0m \u001b[38;5;28;01mreturn\u001b[39;00m outfile_metric, outfile_param\n",
      "\u001b[0;31mKeyboardInterrupt\u001b[0m: "
     ]
    }
   ],
   "source": [
    "for it in range(2, num_iter):\n",
    "    print('#'*50)\n",
    "    print(f'Start iterattion {it}. Total iteration number: {num_iter}')\n",
    "    t1 = time.time()\n",
    "\n",
    "    iterflag = it\n",
    "\n",
    "    if it == 0:\n",
    "        # Initial sampling which generates many parameter sets\n",
    "        print('Generating initial parameters')\n",
    "        init_param_filelist = generate_initial_parameter_sets(file_parameter_list, sampling_method, path_paramset, path_CTSM_base, num_init)\n",
    "        sample_num = num_init\n",
    "    else:\n",
    "        sample_num = num_per_iter\n",
    "\n",
    "    # Run models based on all parameter samples for this iteration. Individual jobs will be submitted\n",
    "    run_multiple_paramsets.generate_and_submit_multi_CTSM_runs(iterflag, path_submit, path_paramset, path_CTSM_base,\n",
    "                                                               path_archive, script_singlerun, script_clone,\n",
    "                                                               date_start, date_end, ref_streamflow, add_flow_file)\n",
    "\n",
    "    # Don't continue until all runs are finished\n",
    "    file_metric_iter, file_param_iter = run_multiple_paramsets.check_if_all_runs_are_finsihed(path_archive, iterflag, sample_num)\n",
    "    file_metric_all.append(file_metric_iter)\n",
    "    file_param_all.append(file_param_iter)\n",
    "\n",
    "    # train a surrogate model and select pareto parameter sets\n",
    "    surrogate_model_train_and_pareto_points(file_parameter_list, file_param_all, file_metric_all, path_paramset, iterflag, num_per_iter, path_CTSM_base)\n",
    "\n",
    "    t2 = time.time()\n",
    "    print(f'Iteration {it} is complete. Time cost (s) is {t2 - t1}')"
   ]
  },
  {
   "cell_type": "code",
   "execution_count": null,
   "id": "04d2a87a-d6d3-4ca2-8efe-f3f53f8c5f4b",
   "metadata": {},
   "outputs": [],
   "source": []
  }
 ],
 "metadata": {
  "kernelspec": {
   "display_name": "Python [conda env:npl-2022b-tgq]",
   "language": "python",
   "name": "conda-env-npl-2022b-tgq-py"
  },
  "language_info": {
   "codemirror_mode": {
    "name": "ipython",
    "version": 3
   },
   "file_extension": ".py",
   "mimetype": "text/x-python",
   "name": "python",
   "nbconvert_exporter": "python",
   "pygments_lexer": "ipython3",
   "version": "3.8.13"
  }
 },
 "nbformat": 4,
 "nbformat_minor": 5
}
