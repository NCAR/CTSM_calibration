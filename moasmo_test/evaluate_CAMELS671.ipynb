{
 "cells": [
  {
   "cell_type": "markdown",
   "id": "e78819e3-afdb-49da-9632-385e1eb71d33",
   "metadata": {},
   "source": [
    "# evauate CAMELS simulations with similar settings to Hongxiang Yan et al 2023\n",
    "1980-2004 for spin up, and 2005-2014 for evaluation  \n",
    "Yan et al. median/mean daily KGE is 0.119/-0.495 based on default parameters. \n"
   ]
  },
  {
   "cell_type": "code",
   "execution_count": 1,
   "id": "79cef0ed-010b-4efe-9fd2-82c8a600118e",
   "metadata": {},
   "outputs": [],
   "source": [
    "import os, sys, glob, subprocess, pathlib\n",
    "import numpy as np\n",
    "import pandas as pd\n",
    "import xarray as xr\n",
    "\n",
    "import matplotlib.pyplot as plt\n",
    "\n",
    "\n",
    "# turn off all warnings (not always necessary)\n",
    "import warnings\n",
    "warnings.filterwarnings(\"ignore\")\n",
    "\n",
    "########################################################################################################################\n",
    "# define functions for calculating metrics\n",
    "\n",
    "def ismember(a, b):\n",
    "    bind = {}\n",
    "    for i, elt in enumerate(b):\n",
    "        if elt not in bind:\n",
    "            bind[elt] = i\n",
    "    ind = np.array([bind.get(itm, np.nan) for itm in a])\n",
    "    ind1 = np.where(~np.isnan(ind))[0]\n",
    "    ind2 = ind[ind1]\n",
    "    return ind1.astype(int), ind2.astype(int) # None can be replaced by any other \"not in b\" value\n",
    "\n",
    "def get_modified_KGE(obs,sim):\n",
    "    ind = (~np.isnan(obs)) & (~np.isnan(sim))\n",
    "    obs = obs[ind]\n",
    "    sim = sim[ind]\n",
    "\n",
    "    try:\n",
    "        sd_sim=np.std(sim, ddof=1)\n",
    "        sd_obs=np.std(obs, ddof=1)\n",
    "        m_sim=np.mean(sim)\n",
    "        m_obs=np.mean(obs)\n",
    "        r=(np.corrcoef(sim,obs))[0,1]\n",
    "        relvar=(float(sd_sim)/float(m_sim))/(float(sd_obs)/float(m_obs))\n",
    "        bias=float(m_sim)/float(m_obs)\n",
    "        kge=1.0-np.sqrt((r-1)**2 +(relvar-1)**2 + (bias-1)**2)\n",
    "    except:\n",
    "        kge = np.nan\n",
    "\n",
    "    return kge\n",
    "\n",
    "def kge(simulations, evaluation):\n",
    "    \"\"\"Original Kling-Gupta Efficiency (KGE) and its three components\n",
    "    (r, α, β) as per `Gupta et al., 2009\n",
    "    <https://doi.org/10.1016/j.jhydrol.2009.08.003>`_.\n",
    "\n",
    "    Note, all four values KGE, r, α, β are returned, in this order.\n",
    "\n",
    "    :Calculation Details:\n",
    "        .. math::\n",
    "           E_{\\\\text{KGE}} = 1 - \\\\sqrt{[r - 1]^2 + [\\\\alpha - 1]^2\n",
    "           + [\\\\beta - 1]^2}\n",
    "        .. math::\n",
    "           r = \\\\frac{\\\\text{cov}(e, s)}{\\\\sigma({e}) \\\\cdot \\\\sigma(s)}\n",
    "        .. math::\n",
    "           \\\\alpha = \\\\frac{\\\\sigma(s)}{\\\\sigma(e)}\n",
    "        .. math::\n",
    "           \\\\beta = \\\\frac{\\\\mu(s)}{\\\\mu(e)}\n",
    "\n",
    "        where *e* is the *evaluation* series, *s* is (one of) the\n",
    "        *simulations* series, *cov* is the covariance, *σ* is the\n",
    "        standard deviation, and *μ* is the arithmetic mean.\n",
    "\n",
    "    \"\"\"\n",
    "    # calculate error in timing and dynamics r\n",
    "    # (Pearson's correlation coefficient)\n",
    "    simulations[simulations<0]=np.nan\n",
    "    evaluation[evaluation<0]=np.nan\n",
    "    ind = (~np.isnan(simulations)) & (~np.isnan(evaluation))\n",
    "    evaluation = evaluation[ind]\n",
    "    simulations = simulations[ind]\n",
    "    \n",
    "    sim_mean = np.mean(simulations, axis=0, dtype=np.float64)\n",
    "    obs_mean = np.mean(evaluation, dtype=np.float64)\n",
    "\n",
    "    r_num = np.sum((simulations - sim_mean) * (evaluation - obs_mean),\n",
    "                   axis=0, dtype=np.float64)\n",
    "    r_den = np.sqrt(np.sum((simulations - sim_mean) ** 2,\n",
    "                           axis=0, dtype=np.float64)\n",
    "                    * np.sum((evaluation - obs_mean) ** 2,\n",
    "                             dtype=np.float64))\n",
    "    r = r_num / r_den\n",
    "    # calculate error in spread of flow alpha\n",
    "    alpha = np.std(simulations, axis=0) / np.std(evaluation, dtype=np.float64)\n",
    "    # calculate error in volume beta (bias of mean discharge)\n",
    "    beta = (np.sum(simulations, axis=0, dtype=np.float64)\n",
    "            / np.sum(evaluation, dtype=np.float64))\n",
    "    # calculate the Kling-Gupta Efficiency KGE\n",
    "    kge_ = 1 - np.sqrt((r - 1) ** 2 + (alpha - 1) ** 2 + (beta - 1) ** 2)\n",
    "\n",
    "    return np.vstack((kge_, r, alpha, beta))\n",
    "\n",
    "\n",
    "def get_RMSE(obs,sim):\n",
    "    rmse = np.sqrt(np.nanmean(np.power((sim - obs),2)))\n",
    "    return rmse\n",
    "\n",
    "def get_mean_error(obs, sim):\n",
    "    bias_err = np.nanmean(sim - obs)\n",
    "    abs_err = np.nanmean(np.absolute(sim - obs))\n",
    "    return bias_err, abs_err\n",
    "\n",
    "def get_max_abs_error(d1, d2):\n",
    "    return np.nanmax(np.abs(d1-d2))\n",
    "\n",
    "########################################################################################################################\n",
    "# define functions for reading CTSM outputs\n",
    "\n",
    "def main_read_CTSM_streamflow(fsurdat, CTSMfilelist, date_start, date_end, clm_q_name):\n",
    "    ########################################################################################################################\n",
    "    # read files\n",
    "    ds_simu = xr.open_mfdataset(CTSMfilelist)\n",
    "    \n",
    "    # ds_simu['QRUNOFF'] = ds_simu['QOVER'] + ds_simu['QDRAI']\n",
    "    \n",
    "    ds_simu = ds_simu[[clm_q_name]]\n",
    "\n",
    "    if date_start == 'default' or date_end == 'default':\n",
    "        print(\n",
    "            'Either date_start or date_end is default. Evaluation period will be the overlapped period of referene data and simulations')\n",
    "    else:\n",
    "        ds_simu = ds_simu.sel(time=slice(date_start, date_end))\n",
    "\n",
    "    ds_simu = ds_simu.load()\n",
    "\n",
    "    # change time format\n",
    "    ds_simu['time'] = ds_simu.indexes['time'].to_datetimeindex()\n",
    "\n",
    "    ########################################################################################################################\n",
    "    # get the area of a basin to convert the unit of QRUNOFF from mm/s to m3/s\n",
    "\n",
    "    with xr.open_dataset(fsurdat) as ds_surdat:\n",
    "        area = ds_surdat.AREA.values\n",
    "\n",
    "    # calculate streamflow: although mean is used, for Sean's setting, only one basin should be allowed effective in the calibration\n",
    "    # streamflow? Use mean for this test\n",
    "    ds_simu[clm_q_name].values = (ds_simu[clm_q_name].values / 1000) * (area * 1e6)  # raw q: mm/s; raw area km2; target: m3/s\n",
    "\n",
    "    return ds_simu\n",
    "\n",
    "\n",
    "########################################################################################################################\n",
    "# define functions for reading CAMELS data\n",
    "\n",
    "def read_CAMELS_Q(file_Qobs):\n",
    "    df_q_in = pd.read_csv(file_Qobs, delim_whitespace=True, header=None)\n",
    "    years = df_q_in[1].values\n",
    "    months = df_q_in[2].values\n",
    "    days = df_q_in[3].values\n",
    "    dates = [f'{years[i]}-{months[i]:02}-{days[i]:02}' for i in range(len(years))]\n",
    "    q_obs = df_q_in[4].values * 0.028316847  # cfs to cms\n",
    "    q_obs[q_obs < 0] = -9999.0\n",
    "    df_q_out = pd.DataFrame({'Date': dates, 'Runoff_cms': q_obs})\n",
    "    return df_q_out\n",
    "\n",
    "def read_CAMELS_Q_and_to_xarray(ref_streamflow, ref_q_date, ref_q_name):\n",
    "    ########################################################################################################################\n",
    "    # load observation streamflow\n",
    "    print('Use streamflow reference file:', ref_streamflow)\n",
    "    df_q_obs = pd.read_csv(ref_streamflow)\n",
    "    ds_q_obs = xr.Dataset()\n",
    "    ds_q_obs.coords['time'] = pd.to_datetime(df_q_obs[ref_q_date].values)\n",
    "    ds_q_obs[ref_q_name] = xr.DataArray(df_q_obs[ref_q_name].values, dims=['time']) # flexible time\n",
    "    for i in range(10000):\n",
    "        coli = ref_q_name + str(i)\n",
    "        if coli in df_q_obs.columns:\n",
    "            ds_q_obs[coli] = xr.DataArray(df_q_obs[coli].values, dims=['time'])  # flexible time\n",
    "        else:\n",
    "            break\n",
    "    return ds_q_obs\n",
    "\n",
    "\n",
    "def add_upstream_flow(add_flow_file, ds_simu, ref_q_date, ref_q_name, clm_q_name):\n",
    "    ########################################################################################################################\n",
    "    # add upstream flows to simulated streamflow\n",
    "\n",
    "    add_flow_file = [f for f in add_flow_file.split(',') if len(f)>0]\n",
    "    if len(add_flow_file) > 0:\n",
    "        add_flow_file2 = []\n",
    "        for f in add_flow_file:\n",
    "            if not os.path.isfile(f):\n",
    "                print('File does not exist:', f)\n",
    "                print('Remove it from add flow file list')\n",
    "            else:\n",
    "                add_flow_file2.append(f)\n",
    "        add_flow_file = add_flow_file2\n",
    "\n",
    "    if len(add_flow_file) > 0:\n",
    "        print('Flow files will be added to the incremental downstream basin:', add_flow_file)\n",
    "        q_dd = np.zeros(len(ds_simu.time))\n",
    "        num = np.zeros(len(ds_simu.time))\n",
    "        time0 = ds_simu.time.values\n",
    "        for i in range(len(add_flow_file)):\n",
    "            df_addi = read_CAMELS_Q(add_flow_file[i])\n",
    "            # df_addi = pd.read_csv(add_flow_file[i])\n",
    "            timei = pd.to_datetime(df_addi[ref_q_date].values)\n",
    "            ind1, ind2 = ismember(np.array(timei), time0)\n",
    "            q_dd[ind2] = q_dd[ind2] + df_addi[ref_q_name].values[ind1]\n",
    "            num[ind2] = num[ind2] + 1\n",
    "        q_dd[num==0] = np.nan\n",
    "\n",
    "        ds_simu[clm_q_name].values = ds_simu[clm_q_name].values + q_dd\n",
    "        ratio = np.sum(~np.isnan(ds_simu[clm_q_name].values)) / len(ds_simu[clm_q_name].values)\n",
    "        if ratio < 0.5:\n",
    "            print('Warning!!!')\n",
    "        print(f'The valid ratio of simulated streamflow is {ratio} after add upstream flow')\n",
    "\n",
    "    return ds_simu\n",
    "\n"
   ]
  },
  {
   "cell_type": "markdown",
   "id": "f5823185-76e4-4872-8949-ee5bc6a7906c",
   "metadata": {},
   "source": [
    "# Yan et al results"
   ]
  },
  {
   "cell_type": "code",
   "execution_count": 2,
   "id": "0202b28e-aed7-4e70-94bb-ff953b8ec39b",
   "metadata": {},
   "outputs": [
    {
     "name": "stdout",
     "output_type": "stream",
     "text": [
      "median daily kge 0.119\n",
      "mean daily kge -0.4951120689655173\n"
     ]
    },
    {
     "data": {
      "text/plain": [
       "(array([ 4.,  7.,  5.,  5.,  7.,  4., 12., 12., 20., 22., 61., 48., 55.,\n",
       "        44., 47., 26., 18.,  3.,  0.]),\n",
       " array([-1.00000000e+00, -9.00000000e-01, -8.00000000e-01, -7.00000000e-01,\n",
       "        -6.00000000e-01, -5.00000000e-01, -4.00000000e-01, -3.00000000e-01,\n",
       "        -2.00000000e-01, -1.00000000e-01, -2.22044605e-16,  1.00000000e-01,\n",
       "         2.00000000e-01,  3.00000000e-01,  4.00000000e-01,  5.00000000e-01,\n",
       "         6.00000000e-01,  7.00000000e-01,  8.00000000e-01,  9.00000000e-01]),\n",
       " <BarContainer object of 19 artists>)"
      ]
     },
     "execution_count": 2,
     "metadata": {},
     "output_type": "execute_result"
    },
    {
     "data": {
      "image/png": "[encoded data removed]",
      "text/plain": [
       "<Figure size 432x288 with 1 Axes>"
      ]
     },
     "metadata": {
      "needs_background": "light"
     },
     "output_type": "display_data"
    }
   ],
   "source": [
    "# load Yan's data\n",
    "df_met_YH = pd.read_csv('/glade/scratch/guoqiang/CLM5_CAMELS_HY/NLDAS2_forcing/Flow_ET_metrics/CLM5_default_parameter_28_metrics.csv')\n",
    "df_met_YH\n",
    "print('median daily kge', np.nanmedian(df_met_YH['Daily_KGE']))\n",
    "print('mean daily kge', np.nanmean(df_met_YH['Daily_KGE']))\n",
    "\n",
    "plt.hist(df_met_YH['Daily_KGE'], np.arange(-1, 1, 0.1))"
   ]
  },
  {
   "cell_type": "code",
   "execution_count": 3,
   "id": "6b16cf31-af56-4f9f-80df-f930ca57db39",
   "metadata": {},
   "outputs": [
    {
     "name": "stdout",
     "output_type": "stream",
     "text": [
      "Yan metric table daily KGE: [0.069]\n",
      "Calculated using my functions\n",
      "kge_, r, alpha, beta\n",
      "[[0.06925164]\n",
      " [0.42561595]\n",
      " [1.6942271 ]\n",
      " [1.23328998]]\n"
     ]
    },
    {
     "data": {
      "image/png": "[encoded data removed]",
      "text/plain": [
       "<Figure size 432x288 with 1 Axes>"
      ]
     },
     "metadata": {
      "needs_background": "light"
     },
     "output_type": "display_data"
    }
   ],
   "source": [
    "# check one basin\n",
    "# checkbasin = 1031500\n",
    "checkbasin = 1047000\n",
    "print('Yan metric table daily KGE:', df_met_YH.loc[df_met_YH['Basin_ID']==checkbasin]['Daily_KGE'].values)\n",
    "\n",
    "df_flow_YH = pd.read_csv(f'/glade/scratch/guoqiang/CLM5_CAMELS_HY/NLDAS2_forcing/Flow_series_default_parameter/{checkbasin:08}_daily.csv')\n",
    "sim = df_flow_YH['sim_flow_m3/s'].values\n",
    "obs = df_flow_YH[' obs_flow_m3/s'].values\n",
    "obs = np.array([float(i) for i in obs])\n",
    "\n",
    "print('Calculated using my functions')\n",
    "print('kge_, r, alpha, beta')\n",
    "print(kge(sim, obs))\n",
    "\n",
    "plt.plot(obs, label='obs')\n",
    "plt.plot(sim, label='sim')\n",
    "plt.legend()\n",
    "plt.title(checkbasin)\n",
    "plt.show()"
   ]
  },
  {
   "cell_type": "markdown",
   "id": "b1661abd-68ef-41f5-a670-23bf076ad98b",
   "metadata": {},
   "source": [
    "# My sim"
   ]
  },
  {
   "cell_type": "code",
   "execution_count": 4,
   "id": "e2c51e94-fd8d-4ad7-8089-e5882882c9c0",
   "metadata": {},
   "outputs": [],
   "source": [
    "CTSMfilelist = glob.glob('/glade/scratch/guoqiang/CTSM_outputs/CAMELS_Calib/Distr_Calib_split_nest/CAMELS_test/archive/CAMELS_test_80to14/lnd/hist/*.clm2.h1.*.nc')\n",
    "CTSMfilelist.sort()\n",
    "fsurdat = '/glade/work/guoqiang/CTSM_cases/CAMELS_Calib/shared_data_Sean/surfdata_CAMELS_split_nested_hist_78pfts_CMIP6_simyr2000_c230105.nc'\n",
    "date_start = '2005-01-01'\n",
    "date_end = '2014-12-31'"
   ]
  },
  {
   "cell_type": "code",
   "execution_count": 5,
   "id": "80a09686-4d63-4c48-b04c-5de9e9ccbec3",
   "metadata": {},
   "outputs": [
    {
     "name": "stdout",
     "output_type": "stream",
     "text": [
      "Evaluation result: kge_q_median=-0.6629103381414541\n",
      "Evaluation result: kge_q_mean=-13.580480343914692\n"
     ]
    }
   ],
   "source": [
    "ref_streamflow = '/glade/work/guoqiang/CTSM_cases/CAMELS_Calib/CAMLES_q_split_nest/All_CAMELS_Q_postprocess.csv'\n",
    "\n",
    "######## default variable names\n",
    "clm_q_name = 'QRUNOFF'  # default runoff variable name\n",
    "clm_q_sdim = 'lndgrid'  # spatial dim name\n",
    "ref_q_name = 'Runoff_cms'\n",
    "ref_q_date = 'Date'\n",
    "\n",
    "########################################################################################################################\n",
    "# load CTSM streamflow (m3/s)\n",
    "ds_simu = main_read_CTSM_streamflow(fsurdat, CTSMfilelist, date_start, date_end, clm_q_name)\n",
    "ds_simu = ds_simu.transpose('time', clm_q_sdim)\n",
    "\n",
    "########################################################################################################################\n",
    "# load CAMELS observation streamflow (m3/s)\n",
    "df_q_obs = pd.read_csv(ref_streamflow)\n",
    "ds_q_obs = xr.Dataset()\n",
    "ds_q_obs.coords['time'] = pd.to_datetime(df_q_obs[ref_q_date].values)\n",
    "ds_q_obs[ref_q_name] = xr.DataArray(df_q_obs.values[:, 1:], dims=['time', clm_q_sdim]) # flexible time\n",
    "\n",
    "########################################################################################################################\n",
    "# evaluation\n",
    "\n",
    "ds_q_obs = ds_q_obs.sel(time=ds_q_obs.time.isin(ds_simu.time))\n",
    "ds_simu = ds_simu.sel(time=ds_simu.time.isin(ds_q_obs.time))\n",
    "\n",
    "d1 = ds_q_obs[ref_q_name].values\n",
    "d2 = ds_simu[clm_q_name].values\n",
    "d1[d1 < 0] = np.nan\n",
    "d2[d2 < 0] = np.nan\n",
    "ds_q_obs[ref_q_name].values = d1\n",
    "ds_simu[clm_q_name].values = d2\n",
    "\n",
    "kge_q_all = []\n",
    "kge_q_all_com = np.zeros([d1.shape[1], 4])\n",
    "for i in range(d1.shape[1]):\n",
    "    # kge_q = get_modified_KGE(obs=d1[:,i].astype(np.float64), sim=d2[:,i])\n",
    "    kge_q = kge(d2[:,i], d1[:,i].astype(np.float64))\n",
    "    kge_q_all.append(kge_q[0])\n",
    "    kge_q_all_com[i] = np.squeeze(kge_q)\n",
    "    \n",
    "kge_q_median = np.nanmedian(kge_q_all)\n",
    "kge_q_mean = np.nanmean(kge_q_all)\n",
    "print(f'Evaluation result: kge_q_median={kge_q_median}')\n",
    "print(f'Evaluation result: kge_q_mean={kge_q_mean}')\n",
    "\n",
    "# d1 = ds_q_obs[ref_q_name].groupby('time.month').mean().values\n",
    "# d2 = ds_simu[clm_q_name].groupby('time.month').mean().values\n",
    "# maxabserror_q_all = []\n",
    "# for i in range(d1.shape[1]):\n",
    "#     maxabserror_q = get_max_abs_error(d1[:, i].astype(np.float64), d2[:, i])\n",
    "#     maxabserror_q_all.append(maxabserror_q)\n",
    "\n",
    "# maxabserror_q_median = np.nanmedian(maxabserror_q_all)\n",
    "# print(f'Evaluation result: kge_q_median={kge_q_median}, maxabserror_q_median={maxabserror_q_median}')\n",
    "\n",
    "########################################################################################################################\n",
    "# write objective functions to file.\n",
    "# metrics will be minimized during optimization\n",
    "# dfout = pd.DataFrame([[1 - kge_q_median, maxabserror_q_median]], columns=['metric1', 'metric2'])"
   ]
  },
  {
   "cell_type": "code",
   "execution_count": 6,
   "id": "3aafc8da-e4d8-478e-be02-f33df6a87c1d",
   "metadata": {},
   "outputs": [
    {
     "data": {
      "image/png": "[encoded data removed]",
      "text/plain": [
       "<Figure size 576x576 with 4 Axes>"
      ]
     },
     "metadata": {
      "needs_background": "light"
     },
     "output_type": "display_data"
    }
   ],
   "source": [
    "fig, axs = plt.subplots(2, 2, figsize=[8, 8])\n",
    "\n",
    "ax = axs[0, 0]\n",
    "ax.hist(kge_q_all_com[:,0], np.arange(-1, 1, 0.1))\n",
    "ax.set_title('KGE')\n",
    "\n",
    "ax = axs[0, 1]\n",
    "ax.hist(kge_q_all_com[:,1], np.arange(-1, 1, 0.1))\n",
    "ax.set_title('r')\n",
    "\n",
    "ax = axs[1, 0]\n",
    "ax.hist(kge_q_all_com[:,1], np.arange(0, 2, 0.1))\n",
    "ax.set_title('alpha')\n",
    "\n",
    "ax = axs[1, 1]\n",
    "ax.hist(kge_q_all_com[:,1], np.arange(0, 2, 0.1))\n",
    "ax.set_title('beta')\n",
    "\n",
    "plt.tight_layout()\n",
    "plt.show()"
   ]
  },
  {
   "cell_type": "code",
   "execution_count": 7,
   "id": "d5f2a39d-63e9-4099-8b62-d2c84e14e6b9",
   "metadata": {},
   "outputs": [
    {
     "name": "stdout",
     "output_type": "stream",
     "text": [
      "Evaluation result: kge_q_median=-0.6629103381414541\n",
      "Evaluation result: kge_q_mean=-13.580480343914692\n"
     ]
    }
   ],
   "source": [
    "kge_q_median = np.nanmedian(kge_q_all)\n",
    "kge_q_mean = np.nanmean(kge_q_all)\n",
    "print(f'Evaluation result: kge_q_median={kge_q_median}')\n",
    "print(f'Evaluation result: kge_q_mean={kge_q_mean}')"
   ]
  },
  {
   "cell_type": "code",
   "execution_count": 10,
   "id": "fbe24d02-4083-46f3-90a4-a6ff2cdd6c86",
   "metadata": {},
   "outputs": [
    {
     "name": "stdout",
     "output_type": "stream",
     "text": [
      "kge: [-0.64782091]\n",
      "kge all: [-0.64782091  0.04265418  0.05746119  0.04583894]\n"
     ]
    }
   ],
   "source": [
    "# results for the checked basin\n",
    "index = np.where(df_q_obs.columns[1:] == str(checkbasin))[0][0]\n",
    "print('kge:', kge_q_all[index])\n",
    "print('kge all:', kge_q_all_com[index])"
   ]
  },
  {
   "cell_type": "code",
   "execution_count": 9,
   "id": "8b505426-c124-402d-bf48-ec20ccaad30b",
   "metadata": {},
   "outputs": [
    {
     "data": {
      "image/png": "[encoded data removed]",
      "text/plain": [
       "<Figure size 720x360 with 2 Axes>"
      ]
     },
     "metadata": {
      "needs_background": "light"
     },
     "output_type": "display_data"
    }
   ],
   "source": [
    "# compare to my own observed streamflow to make sure they are the same\n",
    "\n",
    "file = f'/glade/p/ral/hap/common_data/camels/obs_flow_met/basin_dataset_public_v1p2/usgs_streamflow/all/{checkbasin:08}_streamflow_qc.txt'\n",
    "df_raw = pd.read_csv(file, delim_whitespace=True, header=None)\n",
    "df_raw[4] = df_raw[4]*0.0283168\n",
    "df_raw = df_raw.loc[df_raw[1]>=2005]\n",
    "\n",
    "\n",
    "ref_streamflow = '/glade/work/guoqiang/CTSM_cases/CAMELS_Calib/CAMLES_q_split_nest/All_CAMELS_Q_postprocess.csv'\n",
    "df_q_obs = pd.read_csv(ref_streamflow)\n",
    "\n",
    "v1 = df_flow_YH[' obs_flow_m3/s'].values\n",
    "v1 = np.array([float(i) for i in v1])\n",
    "\n",
    "ind = (df_raw[2].values==2) & (df_raw[3].values==29)\n",
    "v2 = df_raw.loc[df_raw[1]>=2005][4].values\n",
    "v3 = df_q_obs.loc[df_q_obs['Date']>='2005-01-01'][str(checkbasin)].values\n",
    "v2 = v2[~ind]\n",
    "v3 = v3[~ind]\n",
    "v2[v2<0]=np.nan\n",
    "v3[v3<0]=np.nan\n",
    "\n",
    "fig, axs = plt.subplots(1, 2, figsize=[10, 5])\n",
    "\n",
    "axi = axs[0]\n",
    "axi.hist(v1-v3)\n",
    "axi.set_title(f'GT VS YH observed Q for {checkbasin}')\n",
    "axi.set_xlabel('difference')\n",
    "\n",
    "d2 = ds_simu[clm_q_name].values\n",
    "d1[d1 < 0] = np.nan\n",
    "d2[d2 < 0] = np.nan\n",
    "\n",
    "\n",
    "\n",
    "# plot simu\n",
    "ind = np.where(df_q_obs.columns[1:]==str(checkbasin))[0][0]\n",
    "v4 = ds_simu[clm_q_name].values[:, ind]\n",
    "\n",
    "axi = axs[1]\n",
    "axi.plot(v3, label='obs')\n",
    "axi.plot(v4, label='sim')\n",
    "plt.legend()\n",
    "\n",
    "plt.show()"
   ]
  },
  {
   "cell_type": "markdown",
   "id": "711e6a31-99aa-4ead-93b8-cafaaa38190a",
   "metadata": {},
   "source": [
    "# CTSM streamflow variables"
   ]
  },
  {
   "cell_type": "code",
   "execution_count": 11,
   "id": "ce969139-6538-4add-8558-de57cff7d8cb",
   "metadata": {},
   "outputs": [],
   "source": [
    "# load CTSM streamflow (m3/s)\n",
    "ds_simu_all = xr.open_mfdataset(CTSMfilelist)"
   ]
  },
  {
   "cell_type": "code",
   "execution_count": 28,
   "id": "d2baa665-7e8b-4fb0-b9c3-246c7670a1c2",
   "metadata": {},
   "outputs": [
    {
     "data": {
      "image/png": "[encoded data removed]",
      "text/plain": [
       "<Figure size 432x288 with 1 Axes>"
      ]
     },
     "metadata": {
      "needs_background": "light"
     },
     "output_type": "display_data"
    }
   ],
   "source": [
    "d1 = ds_simu_all.QRUNOFF.values\n",
    "d2 = ds_simu_all.QOVER.values\n",
    "d3 = ds_simu_all.QDRAI.values\n",
    "bias = ( d1 - (d2+d3) ) / d1\n",
    "bias[d1==0]=np.nan\n",
    "\n",
    "plt.hist(ratio[~np.isnan(ratio)], np.arange(-0.1, 0.1, 0.01))\n",
    "plt.show()"
   ]
  }
 ],
 "metadata": {
  "kernelspec": {
   "display_name": "Python [conda env:npl-2022b-tgq]",
   "language": "python",
   "name": "conda-env-npl-2022b-tgq-py"
  },
  "language_info": {
   "codemirror_mode": {
    "name": "ipython",
    "version": 3
   },
   "file_extension": ".py",
   "mimetype": "text/x-python",
   "name": "python",
   "nbconvert_exporter": "python",
   "pygments_lexer": "ipython3",
   "version": "3.8.13"
  }
 },
 "nbformat": 4,
 "nbformat_minor": 5
}
