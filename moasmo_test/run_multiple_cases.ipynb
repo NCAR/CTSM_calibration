{
 "cells": [
  {
   "cell_type": "code",
   "execution_count": 8,
   "id": "8a6c0240-2725-4946-9b1f-67c5a26b9a56",
   "metadata": {},
   "outputs": [],
   "source": [
    "\n",
    "import os, sys, glob\n",
    "\n",
    "iternum = 0\n",
    "path_runmodel0 = '/glade/scratch/guoqiang/moasmo_test/run_model'\n",
    "path_runmodel = f'/glade/scratch/guoqiang/moasmo_test/run_model/iter{iternum}'\n",
    "os.makedirs(path_runmodel, exist_ok=True)\n",
    "\n",
    "param_path = '/glade/scratch/guoqiang/moasmo_test/param_sets'\n",
    "\n",
    "# param_filelist = ['p1.csv', 'p2.csv', 'p3.csv']\n",
    "param_filelist = glob.glob(f'{param_path}/*iter{iternum}_trial*.csv')\n",
    "param_filelist.sort()\n",
    "\n",
    "script_singlerun = '/glade/u/home/guoqiang/CTSM_repos/moasmo_test/run_one_paramset.py'\n",
    "script_clone = '/glade/u/home/guoqiang/CTSM_repos/CTSM/cime/scripts/create_clone'\n",
    "path_CTSM_base = '/glade/work/guoqiang/CTSM_cases/CAMELS_Calib/Lump_calib_split_nest_LMWG/CAMELS_100'\n",
    "path_archive = '/glade/scratch/guoqiang/moasmo_test/ctsm_outputs'\n",
    "date_start = '1994-10-01'\n",
    "date_end = '1998-09-30'\n",
    "ref_streamflow = '/glade/work/guoqiang/CTSM_cases/CAMELS_Calib/Lump_calib_split_nest_LMWG/CAMELS_100_OstCalib/refdata/streamflow_data.csv'\n",
    "add_flow_file = 'nofile'"
   ]
  },
  {
   "cell_type": "code",
   "execution_count": 13,
   "id": "136f1b51-1c0b-4002-a528-be1e66495e8b",
   "metadata": {},
   "outputs": [],
   "source": [
    "\n",
    "# create command file\n",
    "commands_run_model = f'{path_runmodel}/commands_run_iter{iternum}.txt'\n",
    "with open(commands_run_model, 'w') as f:\n",
    "    for i in range(len(param_filelist)):\n",
    "        caseflag = f'iter{iternum}_trial{i}'\n",
    "        file_parameter_set = f'{param_path}/paramset_iter{iternum}_trial{i}.csv'\n",
    "        commandi = f\"python {script_singlerun} {script_clone} {path_CTSM_base} {file_parameter_set} {path_archive} {caseflag} {date_start} {date_end} {ref_streamflow} {add_flow_file}\"\n",
    "        f.write(f'{commandi}\\n')\n"
   ]
  },
  {
   "cell_type": "code",
   "execution_count": 11,
   "id": "79c0e1ba-7f34-4d8e-a00d-25488ae4bf51",
   "metadata": {},
   "outputs": [
    {
     "data": {
      "text/plain": [
       "0"
      ]
     },
     "execution_count": 11,
     "metadata": {},
     "output_type": "execute_result"
    }
   ],
   "source": [
    "\n",
    "# create submission file\n",
    "script_submission = f'{path_runmodel}/submit_iter{iternum}.sh'\n",
    "cpus = 36 # note that Cheyenne charges for the entire node even this value is smaller than 36\n",
    "\n",
    "lines = ['#PBS -N moasmo', '#PBS -q regular',\n",
    "         '#PBS -l walltime=6:00:00', '#PBS -A P08010000',\n",
    "         f'#PBS -l select=1:ncpus={cpus}',\n",
    "         '\\n',\n",
    "         'module load conda/latest parallel cdo', 'conda activate npl-2022b',\n",
    "         '\\n',\n",
    "         'export MPI_DSM_DISTRIBUTE=0',\n",
    "         '\\n'\n",
    "         f\"echo 'Running {commands_run_model}'\",\n",
    "         f'parallel --jobs {cpus} --joblog joblog.txt < {commands_run_model}']\n",
    "\n",
    "with open(script_submission, 'w') as f:\n",
    "    for li in lines:\n",
    "        _ = f.write(li + '\\n')\n",
    "\n",
    "os.system(f'chmod +x {script_submission}')"
   ]
  },
  {
   "cell_type": "code",
   "execution_count": null,
   "id": "4d5aa62d-167d-4b02-b7f8-dd6cb632f90b",
   "metadata": {},
   "outputs": [],
   "source": []
  }
 ],
 "metadata": {
  "kernelspec": {
   "display_name": "Python [conda env:npl-2022b-tgq]",
   "language": "python",
   "name": "conda-env-npl-2022b-tgq-py"
  },
  "language_info": {
   "codemirror_mode": {
    "name": "ipython",
    "version": 3
   },
   "file_extension": ".py",
   "mimetype": "text/x-python",
   "name": "python",
   "nbconvert_exporter": "python",
   "pygments_lexer": "ipython3",
   "version": "3.8.13"
  }
 },
 "nbformat": 4,
 "nbformat_minor": 5
}
