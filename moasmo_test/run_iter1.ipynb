{
 "cells": [
  {
   "cell_type": "code",
   "execution_count": 1,
   "id": "18fcfd0e-8c7a-477c-8287-7bb835cd652e",
   "metadata": {},
   "outputs": [],
   "source": [
    "\n",
    "import os, sys, subprocess\n",
    "import numpy as np\n",
    "import pandas as pd\n",
    "import xarray as xr\n",
    "import toml, glob\n",
    "\n",
    "from MOASMO_parameters import generate_initial_parameter_sets, surrogate_model_train_and_pareto_points\n",
    "import run_multiple_paramsets\n",
    "\n",
    "\n",
    "import os, sys, glob, subprocess, pathlib\n",
    "import numpy as np\n",
    "import pandas as pd\n",
    "import xarray as xr\n",
    "from mo_evaluation import mo_evaluate\n",
    "from MOASMO_parameters import get_parameter_from_Namelist_or_lndin\n"
   ]
  },
  {
   "cell_type": "code",
   "execution_count": 2,
   "id": "bcb0da51-2360-4682-83f6-d0e4bbb29901",
   "metadata": {},
   "outputs": [],
   "source": [
    "iternum = 1\n",
    "path_runmodel0 = '/glade/scratch/guoqiang/moasmo_test/run_model'\n",
    "path_runmodel = f'/glade/scratch/guoqiang/moasmo_test/run_model/iter{iternum}'\n",
    "os.makedirs(path_runmodel, exist_ok=True)\n",
    "\n",
    "path_paramset = '/glade/scratch/guoqiang/moasmo_test/param_sets'\n",
    "\n",
    "param_filelist = glob.glob(f'{path_paramset}/*iter{iternum}_trial*.csv')\n",
    "param_filelist.sort()\n",
    "\n",
    "script_singlerun = '/glade/u/home/guoqiang/CTSM_repos/moasmo_test/run_one_paramset.py'\n",
    "script_clone = '/glade/u/home/guoqiang/CTSM_repos/CTSM/cime/scripts/create_clone'\n",
    "path_CTSM_base = '/glade/work/guoqiang/CTSM_cases/CAMELS_Calib/Lump_calib_split_nest_LMWG/CAMELS_100'\n",
    "path_archive = '/glade/scratch/guoqiang/moasmo_test/ctsm_outputs'\n",
    "date_start = '1994-10-01'\n",
    "date_end = '1998-09-30'\n",
    "ref_streamflow = '/glade/work/guoqiang/CTSM_cases/CAMELS_Calib/Lump_calib_split_nest_LMWG/CAMELS_100_OstCalib/refdata/streamflow_data.csv'\n",
    "add_flow_file = 'nofile'"
   ]
  },
  {
   "cell_type": "code",
   "execution_count": 3,
   "id": "4449a3aa-0395-4cbe-9098-564ca033870e",
   "metadata": {},
   "outputs": [],
   "source": [
    "file_param_all = ['/glade/scratch/guoqiang/moasmo_test/ctsm_outputs/iter0_all_meanparam.csv']\n",
    "file_metric_all = ['/glade/scratch/guoqiang/moasmo_test/ctsm_outputs/iter0_all_metric.csv']"
   ]
  },
  {
   "cell_type": "code",
   "execution_count": 4,
   "id": "c7195d21-aaee-40b6-8c03-cd66c50f44e5",
   "metadata": {},
   "outputs": [
    {
     "name": "stdout",
     "output_type": "stream",
     "text": [
      "Generating parameter file: /glade/scratch/guoqiang/moasmo_test/param_sets/paramset_iter1_trial0.csv\n",
      "Generating parameter file: /glade/scratch/guoqiang/moasmo_test/param_sets/paramset_iter1_trial1.csv\n",
      "Generating parameter file: /glade/scratch/guoqiang/moasmo_test/param_sets/paramset_iter1_trial2.csv\n",
      "Generating parameter file: /glade/scratch/guoqiang/moasmo_test/param_sets/paramset_iter1_trial3.csv\n",
      "Generating parameter file: /glade/scratch/guoqiang/moasmo_test/param_sets/paramset_iter1_trial4.csv\n",
      "Generating parameter file: /glade/scratch/guoqiang/moasmo_test/param_sets/paramset_iter1_trial5.csv\n",
      "Generating parameter file: /glade/scratch/guoqiang/moasmo_test/param_sets/paramset_iter1_trial6.csv\n",
      "Generating parameter file: /glade/scratch/guoqiang/moasmo_test/param_sets/paramset_iter1_trial7.csv\n",
      "Generating parameter file: /glade/scratch/guoqiang/moasmo_test/param_sets/paramset_iter1_trial8.csv\n",
      "Generating parameter file: /glade/scratch/guoqiang/moasmo_test/param_sets/paramset_iter1_trial9.csv\n",
      "Generating parameter file: /glade/scratch/guoqiang/moasmo_test/param_sets/paramset_iter1_trial10.csv\n",
      "Generating parameter file: /glade/scratch/guoqiang/moasmo_test/param_sets/paramset_iter1_trial11.csv\n",
      "Generating parameter file: /glade/scratch/guoqiang/moasmo_test/param_sets/paramset_iter1_trial12.csv\n",
      "Generating parameter file: /glade/scratch/guoqiang/moasmo_test/param_sets/paramset_iter1_trial13.csv\n",
      "Generating parameter file: /glade/scratch/guoqiang/moasmo_test/param_sets/paramset_iter1_trial14.csv\n",
      "Generating parameter file: /glade/scratch/guoqiang/moasmo_test/param_sets/paramset_iter1_trial15.csv\n",
      "Generating parameter file: /glade/scratch/guoqiang/moasmo_test/param_sets/paramset_iter1_trial16.csv\n",
      "Generating parameter file: /glade/scratch/guoqiang/moasmo_test/param_sets/paramset_iter1_trial17.csv\n",
      "Generating parameter file: /glade/scratch/guoqiang/moasmo_test/param_sets/paramset_iter1_trial18.csv\n",
      "Generating parameter file: /glade/scratch/guoqiang/moasmo_test/param_sets/paramset_iter1_trial19.csv\n"
     ]
    }
   ],
   "source": [
    "iterflag = 1\n",
    "file_parameter_list = '/glade/u/home/guoqiang/CTSM_repos/moasmo_test/param_ASG_20221206_moasmo.csv'\n",
    "surrogate_model_train_and_pareto_points(file_parameter_list, file_param_all, file_metric_all, path_paramset, iterflag, path_CTSM_base)\n"
   ]
  },
  {
   "cell_type": "code",
   "execution_count": null,
   "id": "5e251ba4-2b24-4c92-a7aa-ebe9b1a38af8",
   "metadata": {},
   "outputs": [],
   "source": []
  },
  {
   "cell_type": "code",
   "execution_count": 11,
   "id": "46d93f37-3ea1-4c70-a84e-df1f91f7d169",
   "metadata": {},
   "outputs": [
    {
     "name": "stdout",
     "output_type": "stream",
     "text": [
      "684878.chadmin1.ib0.cheyenne.ucar.edu\n"
     ]
    }
   ],
   "source": [
    "path_allruns = '/glade/scratch/guoqiang/moasmo_test/run_model'\n",
    "run_multiple_paramsets.generate_and_submit_multi_CTSM_runs(iterflag, path_allruns, path_paramset, path_CTSM_base, path_archive, script_singlerun, script_clone, date_start, date_end, ref_streamflow, add_flow_file)\n"
   ]
  },
  {
   "cell_type": "code",
   "execution_count": null,
   "id": "25ece420-2d54-4004-8f28-33e4b63a574b",
   "metadata": {},
   "outputs": [],
   "source": [
    "file_metric_iter, file_param_iter = run_multiple_paramsets.check_if_all_runs_are_finsihed(path_archive, iterflag, 20) # this function will not stop until all runs are finished\n",
    "file_metric_all.append(file_metric_iter)\n",
    "file_param_all.append(file_param_iter)\n"
   ]
  },
  {
   "cell_type": "code",
   "execution_count": 10,
   "id": "e2a82cca-4d6d-4015-910d-bb8c1d8e9ff9",
   "metadata": {},
   "outputs": [
    {
     "data": {
      "text/plain": [
       "'nofile'"
      ]
     },
     "execution_count": 10,
     "metadata": {},
     "output_type": "execute_result"
    }
   ],
   "source": [
    "add_flow_file"
   ]
  },
  {
   "cell_type": "code",
   "execution_count": null,
   "id": "e8aee208-5381-4c63-b4d6-b49e7408bdc6",
   "metadata": {},
   "outputs": [],
   "source": []
  }
 ],
 "metadata": {
  "kernelspec": {
   "display_name": "Python [conda env:npl-2022b-tgq]",
   "language": "python",
   "name": "conda-env-npl-2022b-tgq-py"
  },
  "language_info": {
   "codemirror_mode": {
    "name": "ipython",
    "version": 3
   },
   "file_extension": ".py",
   "mimetype": "text/x-python",
   "name": "python",
   "nbconvert_exporter": "python",
   "pygments_lexer": "ipython3",
   "version": "3.8.13"
  }
 },
 "nbformat": 4,
 "nbformat_minor": 5
}
