{
 "cells": [
  {
   "cell_type": "code",
   "execution_count": 1,
   "id": "ed07a015-2b74-4552-a963-1d6f0180fd90",
   "metadata": {},
   "outputs": [],
   "source": [
    "\n",
    "import os, sys, subprocess, time\n",
    "import toml\n",
    "from MOASMO_parameters import generate_initial_parameter_sets, surrogate_model_train_and_pareto_points\n",
    "import run_multiple_paramsets"
   ]
  },
  {
   "cell_type": "code",
   "execution_count": 2,
   "id": "dadbdb16-c942-4443-9bf6-c7b1478367c9",
   "metadata": {},
   "outputs": [],
   "source": [
    "bnum  = 30\n",
    "\n",
    "########################################################################################################################\n",
    "# load configurations\n",
    "# config_file = 'config.toml'\n",
    "# config = toml.load(config_file)\n",
    "\n",
    "ostrich_file = f'/glade/work/guoqiang/CTSM_cases/CAMELS_Calib/Lump_calib_split_nest_LMWG/CAMELS_{bnum}_OstCalib/run/CTSM_run_trial.sh'\n",
    "with open(ostrich_file, 'r') as f:\n",
    "    ostlines = f.readlines()\n",
    "\n",
    "# inputs\n",
    "file_parameter_list = '/glade/u/home/guoqiang/CTSM_repos/moasmo_test/param_ASG_20221206_moasmo.csv'\n",
    "path_CTSM_base = f'/glade/work/guoqiang/CTSM_cases/CAMELS_Calib/Lump_calib_split_nest_LMWG/CAMELS_{bnum}'\n",
    "script_singlerun = '/glade/u/home/guoqiang/CTSM_repos/moasmo_test/run_one_paramset.py'\n",
    "script_clone = '/glade/u/home/guoqiang/CTSM_repos/CTSM/cime/scripts/create_clone'\n",
    "ref_streamflow = f'/glade/work/guoqiang/CTSM_cases/CAMELS_Calib/Lump_calib_split_nest_LMWG/CAMELS_{bnum}_OstCalib/refdata/streamflow_data.csv'\n",
    "\n",
    "for l in ostlines:\n",
    "    if l.startswith('add_flow_file'):\n",
    "        add_flow_file = l.strip().split('#')[0].strip().split('=')[1].replace('\"', '')\n",
    "        break\n",
    "\n",
    "# outputs\n",
    "path_paramset = f'/glade/work/guoqiang/CTSM_cases/MOASMO_CESM/CAMELS{bnum}/param_sets'\n",
    "path_submit = f'/glade/work/guoqiang/CTSM_cases/MOASMO_CESM/CAMELS{bnum}/run_model'\n",
    "path_archive = f'/glade/work/guoqiang/CTSM_cases/MOASMO_CESM/CAMELS{bnum}/ctsm_outputs'\n",
    "\n",
    "# evaluation period\n",
    "for l in ostlines:\n",
    "    if l.startswith('DateEvalStart'):\n",
    "        date_start = l.strip().split('#')[0].strip().split('=')[1]\n",
    "        break\n",
    "\n",
    "for l in ostlines:\n",
    "    if l.startswith('DateEvalEnd'):\n",
    "        date_end = l.strip().split('#')[0].strip().split('=')[1]\n",
    "        break\n",
    "\n",
    "# MO-ASMO parameters\n",
    "sampling_method = 'glp'\n",
    "num_init = 36 # initial number of samples\n",
    "num_per_iter = 20 # number of selected pareto parameter sets for each iteration\n",
    "num_iter = 4 # including the initial iteration\n",
    "\n",
    "########################################################################################################################\n",
    "# MO-ASMO main\n",
    "\n",
    "file_metric_all = []\n",
    "file_param_all = []"
   ]
  },
  {
   "cell_type": "code",
   "execution_count": 5,
   "id": "c03265c4-90d7-4e89-8a61-eabd42d80d64",
   "metadata": {},
   "outputs": [
    {
     "name": "stdout",
     "output_type": "stream",
     "text": [
      "Generating initial parameters\n"
     ]
    }
   ],
   "source": [
    "    it = 0\n",
    "\n",
    "    iterflag = it\n",
    "    \n",
    "    if it == 0:\n",
    "        # Initial sampling which generates many parameter sets\n",
    "        print('Generating initial parameters')\n",
    "        # init_param_filelist = generate_initial_parameter_sets(file_parameter_list, sampling_method, path_paramset, path_CTSM_base, num_init)\n",
    "        sample_num = num_init\n",
    "    else:\n",
    "        sample_num = num_per_iter\n",
    "\n",
    "    file_param_all = [f'/glade/work/guoqiang/CTSM_cases/MOASMO_CESM/CAMELS{bnum}/ctsm_outputs/iter0_all_meanparam.csv', \n",
    "                     f'/glade/work/guoqiang/CTSM_cases/MOASMO_CESM/CAMELS{bnum}/ctsm_outputs/iter1_all_meanparam.csv', ]\n",
    "    \n",
    "    \n",
    "    file_metric_all = [f'/glade/work/guoqiang/CTSM_cases/MOASMO_CESM/CAMELS{bnum}/ctsm_outputs/iter0_all_metric.csv',\n",
    "                      f'/glade/work/guoqiang/CTSM_cases/MOASMO_CESM/CAMELS{bnum}/ctsm_outputs/iter1_all_metric.csv',]\n",
    "    \n",
    "    "
   ]
  },
  {
   "cell_type": "code",
   "execution_count": 6,
   "id": "32d9082d-fe54-4734-a2b3-8ae87312c09a",
   "metadata": {},
   "outputs": [
    {
     "name": "stdout",
     "output_type": "stream",
     "text": [
      "Generating parameter file: /glade/work/guoqiang/CTSM_cases/MOASMO_CESM/CAMELS30/param_sets/paramset_iter1_trial0.csv\n",
      "Generating parameter file: /glade/work/guoqiang/CTSM_cases/MOASMO_CESM/CAMELS30/param_sets/paramset_iter1_trial1.csv\n",
      "Generating parameter file: /glade/work/guoqiang/CTSM_cases/MOASMO_CESM/CAMELS30/param_sets/paramset_iter1_trial2.csv\n",
      "Generating parameter file: /glade/work/guoqiang/CTSM_cases/MOASMO_CESM/CAMELS30/param_sets/paramset_iter1_trial3.csv\n",
      "Generating parameter file: /glade/work/guoqiang/CTSM_cases/MOASMO_CESM/CAMELS30/param_sets/paramset_iter1_trial4.csv\n",
      "Generating parameter file: /glade/work/guoqiang/CTSM_cases/MOASMO_CESM/CAMELS30/param_sets/paramset_iter1_trial5.csv\n",
      "Generating parameter file: /glade/work/guoqiang/CTSM_cases/MOASMO_CESM/CAMELS30/param_sets/paramset_iter1_trial6.csv\n",
      "Generating parameter file: /glade/work/guoqiang/CTSM_cases/MOASMO_CESM/CAMELS30/param_sets/paramset_iter1_trial7.csv\n",
      "Generating parameter file: /glade/work/guoqiang/CTSM_cases/MOASMO_CESM/CAMELS30/param_sets/paramset_iter1_trial8.csv\n",
      "Generating parameter file: /glade/work/guoqiang/CTSM_cases/MOASMO_CESM/CAMELS30/param_sets/paramset_iter1_trial9.csv\n",
      "Generating parameter file: /glade/work/guoqiang/CTSM_cases/MOASMO_CESM/CAMELS30/param_sets/paramset_iter1_trial10.csv\n",
      "Generating parameter file: /glade/work/guoqiang/CTSM_cases/MOASMO_CESM/CAMELS30/param_sets/paramset_iter1_trial11.csv\n",
      "Generating parameter file: /glade/work/guoqiang/CTSM_cases/MOASMO_CESM/CAMELS30/param_sets/paramset_iter1_trial12.csv\n",
      "Generating parameter file: /glade/work/guoqiang/CTSM_cases/MOASMO_CESM/CAMELS30/param_sets/paramset_iter1_trial13.csv\n",
      "Generating parameter file: /glade/work/guoqiang/CTSM_cases/MOASMO_CESM/CAMELS30/param_sets/paramset_iter1_trial14.csv\n",
      "Generating parameter file: /glade/work/guoqiang/CTSM_cases/MOASMO_CESM/CAMELS30/param_sets/paramset_iter1_trial15.csv\n",
      "Generating parameter file: /glade/work/guoqiang/CTSM_cases/MOASMO_CESM/CAMELS30/param_sets/paramset_iter1_trial16.csv\n",
      "Generating parameter file: /glade/work/guoqiang/CTSM_cases/MOASMO_CESM/CAMELS30/param_sets/paramset_iter1_trial17.csv\n",
      "Generating parameter file: /glade/work/guoqiang/CTSM_cases/MOASMO_CESM/CAMELS30/param_sets/paramset_iter1_trial18.csv\n",
      "Generating parameter file: /glade/work/guoqiang/CTSM_cases/MOASMO_CESM/CAMELS30/param_sets/paramset_iter1_trial19.csv\n"
     ]
    }
   ],
   "source": [
    "    surrogate_model_train_and_pareto_points(file_parameter_list, file_param_all, file_metric_all, path_paramset, iterflag, num_per_iter, path_CTSM_base)\n"
   ]
  },
  {
   "cell_type": "code",
   "execution_count": null,
   "id": "9812bb60-95db-42b3-8c66-16d4c2377786",
   "metadata": {},
   "outputs": [],
   "source": []
  },
  {
   "cell_type": "code",
   "execution_count": null,
   "id": "d83d12e2-b36a-4c9a-853f-78dea4d082e9",
   "metadata": {},
   "outputs": [],
   "source": []
  },
  {
   "cell_type": "code",
   "execution_count": 7,
   "id": "8c03f0c8-380d-463b-892d-088bad65c571",
   "metadata": {},
   "outputs": [],
   "source": [
    "# functions for generating and saving MO-ASMO parameter sets, including initial and non-dominant parameters\n",
    "import os, sys, subprocess, pickle\n",
    "import numpy as np\n",
    "import pandas as pd\n",
    "import xarray as xr\n",
    "import pickle\n",
    "\n",
    "# import MO-ASMO functions\n",
    "# path_MOASMO = '/glade/u/home/guoqiang/model_sources/MO-ASMO/src'\n",
    "path_MOASMO = '/glade/u/home/guoqiang/CTSM_repos/ctsm_optz/MO-ASMO/src/'\n",
    "sys.path.append(path_MOASMO)\n",
    "import sampling\n",
    "import gp\n",
    "import NSGA2\n",
    "\n",
    "def get_parameter_from_Namelist_or_lndin(name, file_user_nl_clm, file_lndin, type='number'):\n",
    "    # check Namelist file first, and then check\n",
    "    with open(file_user_nl_clm, 'r') as f:\n",
    "        for l in f:\n",
    "            l = l.strip()\n",
    "            if l.startswith(name):\n",
    "                if type == 'number':\n",
    "                    value = np.array(float(l.split('=')[-1].strip().replace('\\'', '')))\n",
    "                elif type == 'str':\n",
    "                    value = l.split('=')[-1].strip().replace('\\'', '')\n",
    "                flag = True\n",
    "                break\n",
    "    if not flag:\n",
    "        with open(file_lndin, 'r') as f:\n",
    "            for l in f:\n",
    "                l = l.strip()\n",
    "                if l.startswith(name):\n",
    "                    value = np.array(float(l.split('=')[-1].strip().replace('\\'', '')))\n",
    "                elif type == 'str':\n",
    "                    value = l.split('=')[-1].strip().replace('\\'', '')\n",
    "                    break\n",
    "    return value\n",
    "\n",
    "\n",
    "def get_parameter_value_from_CTSM_case(param_name, param_source, path_CTSM_case):\n",
    "    # get the parameter values of an existing CTSM case\n",
    "\n",
    "    file_user_nl_clm = f'{path_CTSM_case}/user_nl_clm'\n",
    "    file_lndin = f'{path_CTSM_case}/Buildconf/clmconf/lnd_in'\n",
    "\n",
    "    if param_source == 'Namelist':\n",
    "        param_value = get_parameter_from_Namelist_or_lndin(param_name, file_user_nl_clm, file_lndin, 'number')\n",
    "    elif param_source == 'Param':\n",
    "        paramfile = get_parameter_from_Namelist_or_lndin('paramfile', file_user_nl_clm, file_lndin, 'str')\n",
    "        with xr.open_dataset(paramfile) as ds:\n",
    "            param_value = ds[param_name].values\n",
    "    elif param_source == 'Surfdata':\n",
    "        fsurdat = get_parameter_from_Namelist_or_lndin('fsurdat', file_user_nl_clm, file_lndin, 'str')\n",
    "        with xr.open_dataset(fsurdat) as ds:\n",
    "            param_value = ds[param_name].values\n",
    "    else:\n",
    "        sys.exit(f'Unknown param_source: {param_source}')\n",
    "\n",
    "    return param_value\n",
    "\n",
    "\n",
    "def check_and_generate_binded_parameters(df_param, path_CTSM_case):\n",
    "    # check if there is any binded variable\n",
    "    # if there is, add binded variables to df_calibparam\n",
    "    # it is assumed that binded variables have the same parameter range so we can scale them equally\n",
    "    if 'Binding' in df_param.columns:\n",
    "        df_bind = pd.DataFrame()\n",
    "        for i in range(len(df_param)):\n",
    "            rawvari_value = get_parameter_value_from_CTSM_case(df_param.iloc[i]['Parameter'], df_param.iloc[i]['Source'], path_CTSM_case)\n",
    "            bindvari = df_param.iloc[i]['Binding']\n",
    "            if bindvari != 'None':\n",
    "                bindvari = bindvari.split(',')\n",
    "                for bv in bindvari:\n",
    "                    dftmp = df_param.iloc[[i]].copy()\n",
    "                    dftmp['Parameter'] = bv\n",
    "                    # mask other cols\n",
    "                    for col in ['Default', 'Lower', 'Upper', 'Binding', 'Parameter_Ost']:\n",
    "                        if col in dftmp.columns:\n",
    "                            dftmp[col] = 'None'\n",
    "                    # generate parameter values\n",
    "                    bind_var_value0 = get_parameter_value_from_CTSM_case(bv, dftmp['Source'].values[0], path_CTSM_case)\n",
    "                    dftmp['Value'] = bind_var_value0 + (df_param.iloc[i]['Value'] - rawvari_value)\n",
    "                    df_bind = pd.concat([df_bind, dftmp])\n",
    "\n",
    "        df_param = pd.concat([df_param, df_bind])\n",
    "\n",
    "    return df_param\n",
    "\n",
    "\n",
    "########################################################################################################################\n",
    "# Initial sampling:\n",
    "# Generate a TXN matrix X using the Good Lattice Points method with RGS de-correlation,\n",
    "# where T is the number of sample points. Run the dynamic model for T times and obtain the multiobjective results Y\n",
    "# Y=f(X)\n",
    "# where Y is a TXM matrix containing the objective functions\n",
    "\n",
    "\n",
    "def read_parameter_csv(file_parameter_list):\n",
    "    df_calibparam = pd.read_csv(file_parameter_list)\n",
    "    for c in ['Upper', 'Lower', 'Factor', 'Value']:\n",
    "        if c in df_calibparam.columns:\n",
    "            if isinstance(df_calibparam.iloc[0][c], str):\n",
    "                arr = []\n",
    "                for i in range(len(df_calibparam)):\n",
    "                    vi = df_calibparam.iloc[i][c]\n",
    "                    if ',' in vi:\n",
    "                        arr.append(np.array(vi.split(',')).astype(np.float64))\n",
    "                    elif '[' in vi:\n",
    "                        arr.append(np.array(vi.strip('[]').replace('\\n', '').split(), dtype=np.float64))\n",
    "                    else:\n",
    "                        try:\n",
    "                            arr.append(np.array([np.float64(vi)]))\n",
    "                        except:\n",
    "                            arr.append(np.array([-99999]))\n",
    "                df_calibparam[c] = arr\n",
    "    return df_calibparam\n",
    "\n",
    "\n",
    "def generate_initial_parameter_sets(file_parameter_list, sampling_method, outpath, path_CTSM_case='', num_init=-1):\n",
    "    # example parameters\n",
    "    # sampling_method = 'lh'  # lh: LatinHypercubeDesign, slh: SymmetricLatinHypercubeDesign, glp: GoodLatticePointsDesign\n",
    "    # param_upper_bound = {'param1': np.array(15), 'param2': np.array([1, 2, 3])}\n",
    "    # param_lower_bound = {'param1': np.array(3), 'param2': np.array([0.2, 1.5, 2.2])}\n",
    "    # path_CTSM_case must be provided if there are any binded parameters for calibration\n",
    "\n",
    "    os.makedirs(outpath, exist_ok=True)\n",
    "\n",
    "    df_calibparam = read_parameter_csv(file_parameter_list)\n",
    "    param_upper_bound = df_calibparam['Upper'].values\n",
    "    param_lower_bound = df_calibparam['Lower'].values\n",
    "\n",
    "    # dimension sizes\n",
    "    num_param = len(param_lower_bound) # number of parameters to be calibrated\n",
    "    if not num_init > 0:\n",
    "        num_init = num_param * 20 # number of initial samples (i.e., initial model runs). A proper initial sample size should be 15–20 times the number of parameters (Gong et al., 2015)\n",
    "\n",
    "    # get initial factors between 0 and 1 which will be used to scale real parameters\n",
    "    # init_factors: [num_init, num_param]\n",
    "    if sampling_method == 'lh':\n",
    "        init_factors = sampling.lh(num_init, num_param)\n",
    "    elif sampling_method == 'slh':\n",
    "        init_factors = sampling.slh(num_init, num_param)\n",
    "    elif sampling_method == 'glp': # glp is used by Gong et al., 2015\n",
    "        init_factors = sampling.glp(num_init, num_param)\n",
    "    else:\n",
    "        sys.exit('Unknown sampling method!')\n",
    "\n",
    "    # save factors\n",
    "    df_factor = pd.DataFrame(init_factors, columns=df_calibparam['Parameter'].values)\n",
    "    df_factor.to_csv(f'{outpath}/paramset_iter0_scalefactors.csv', index=False)\n",
    "\n",
    "    # generate a dataframe for every set of parameters and deal with binding parameters\n",
    "    outfiles_all = []\n",
    "    for i in range(num_init):\n",
    "        outfile = f'{outpath}/paramset_iter0_trial{i}.csv'\n",
    "        print('Generating parameter file:', outfile)\n",
    "        dfi = df_calibparam.copy()\n",
    "        dfi['Factor'] = init_factors[i, :]\n",
    "        dfi['Value'] = init_factors[i, :] * (param_upper_bound - param_lower_bound) + param_lower_bound\n",
    "\n",
    "        # process binded parameters\n",
    "        dfi = check_and_generate_binded_parameters(dfi, path_CTSM_case)\n",
    "\n",
    "        dfi.to_csv(outfile, index=False)\n",
    "        outfiles_all.append(outfiles_all)\n",
    "\n",
    "\n",
    "\n",
    "########################################################################################################################\n",
    "# Pareto optimal points:\n",
    "\n",
    "def surrogate_model_train_and_pareto_points(param_infofile, param_filelist, metric_filelist, outpath, iterflag, num_per_iter, path_CTSM_case=''):\n",
    "    # path_CTSM_case must be provided if there are any binded parameters for calibration\n",
    "\n",
    "    # define hyper parameters\n",
    "    pop = 100\n",
    "    gen = 100\n",
    "    crossover_rate = 0.9\n",
    "    mu = 20\n",
    "    mum = 20\n",
    "\n",
    "    # define hyperparameter\n",
    "    alpha = 1e-3\n",
    "    leng_lb = 1e-3\n",
    "    leng_ub = 1e3\n",
    "    nu = 2.5\n",
    "\n",
    "    n_sample = num_per_iter # number of selected optimal points\n",
    "\n",
    "    # input data x (parameter sets) and output data y (objective function values)\n",
    "    df_param = pd.concat(map(pd.read_csv, param_filelist))\n",
    "    df_metric = pd.concat(map(pd.read_csv, metric_filelist))\n",
    "    df_info = read_parameter_csv(param_infofile)\n",
    "\n",
    "    param_names = df_info['Parameter'].values # exclude binded parameters\n",
    "    df_param = df_param[param_names]\n",
    "\n",
    "    xlb_mean = np.array([np.nanmean(v) for v in df_info['Lower']])\n",
    "    xub_mean = np.array([np.nanmean(v) for v in df_info['Upper']])\n",
    "\n",
    "    x = df_param.to_numpy()\n",
    "    y = df_metric.to_numpy()\n",
    "\n",
    "    nInput = x.shape[1]\n",
    "    nOutput = y.shape[1]\n",
    "\n",
    "    # train the surrogate model\n",
    "    # https://github.com/NCAR/ctsm_optz/blob/89e3689e73180574c62d1f5aa555a57e886a7cec/workflow/scripts/MOASMO_onestep.pe_basin.py#LL311C1-L315C41\n",
    "    # sm = gp.GPR_Matern(x, y, nInput, nOutput, x.shape[0], xlb_mean, xub_mean, alpha=alpha, leng_sb=[leng_lb, leng_ub], nu=nu)\n",
    "    # os.makedirs(outpath, exist_ok=True)\n",
    "    # sm_filename = f'{outpath}/surrogate_model_for_iter{iterflag}'\n",
    "    # pickle.dump(sm, open(sm_filename, 'wb'))\n",
    "\n",
    "    from sklearn.ensemble import RandomForestClassifier, RandomForestRegressor\n",
    "    sm = RandomForestRegressor()\n",
    "    sm.fit(x, y)\n",
    "    os.makedirs(outpath, exist_ok=True)\n",
    "    sm_filename = f'{outpath}/surrogate_model_for_iter{iterflag}'\n",
    "    pickle.dump(sm, open(sm_filename, 'wb'))\n",
    "\n",
    "\n",
    "    # perform optimization using the surrogate model\n",
    "    bestx_sm, besty_sm, x_sm, y_sm = NSGA2.optimization(sm, nInput, nOutput, xlb_mean, xub_mean, pop, gen, crossover_rate, mu, mum)\n",
    "    D = NSGA2.crowding_distance(besty_sm)\n",
    "    idxr = D.argsort()[::-1][:n_sample]\n",
    "    x_resample = bestx_sm[idxr, :]\n",
    "    y_resample = besty_sm[idxr, :]\n",
    "    # y_resample = sm.predict(x_resample)\n",
    "\n",
    "    # # plot\n",
    "    # import matplotlib.pyplot as plt\n",
    "    # plt.scatter(y[:, 0], y[:, 1])\n",
    "    # plt.scatter(besty_sm[:, 0], besty_sm[:, 1])\n",
    "    # plt.scatter(besty_sm[idxr, 0], besty_sm[idxr, 1])\n",
    "\n",
    "    param_upper_bound = df_info['Upper'].values\n",
    "    param_lower_bound = df_info['Lower'].values\n",
    "\n",
    "    # generate a parameter dataframe for next trial\n",
    "    for i in range(x_resample.shape[0]):\n",
    "        outfile = f'{outpath}/paramset_iter{iterflag+1}_trial{i}.csv'\n",
    "        print('Generating parameter file:', outfile)\n",
    "\n",
    "        dfi = df_info.copy()\n",
    "        factors = (x_resample[i, :] - xlb_mean) / (xub_mean - xlb_mean)\n",
    "        factors[factors<0] = 0.01\n",
    "        factors[factors>1] = 0.99\n",
    "        dfi['Factor'] = factors\n",
    "        dfi['Value'] = factors * (param_upper_bound - param_lower_bound) + param_lower_bound\n",
    "\n",
    "        # process binded parameters\n",
    "        dfi = check_and_generate_binded_parameters(dfi, path_CTSM_case)\n",
    "\n",
    "        # write\n",
    "        dfi.to_csv(outfile, index=False)\n",
    "\n"
   ]
  },
  {
   "cell_type": "code",
   "execution_count": 8,
   "id": "a1efad94-8a17-4f90-9379-32450bb2b7be",
   "metadata": {},
   "outputs": [],
   "source": [
    "param_infofile, param_filelist, metric_filelist, outpath, iterflag, num_per_iter, path_CTSM_case = file_parameter_list, file_param_all, file_metric_all, path_paramset, iterflag, num_per_iter, path_CTSM_base"
   ]
  },
  {
   "cell_type": "code",
   "execution_count": 9,
   "id": "d06cdefe-ca4f-4b9d-a1be-6c2b2cd24d14",
   "metadata": {},
   "outputs": [],
   "source": [
    "    # define hyper parameters\n",
    "    pop = 100\n",
    "    gen = 100\n",
    "    crossover_rate = 0.9\n",
    "    mu = 20\n",
    "    mum = 20\n",
    "\n",
    "    # define hyperparameter\n",
    "    alpha = 1e-3\n",
    "    leng_lb = 1e-3\n",
    "    leng_ub = 1e3\n",
    "    nu = 2.5\n",
    "\n",
    "    n_sample = num_per_iter # number of selected optimal points\n",
    "\n",
    "    # input data x (parameter sets) and output data y (objective function values)\n",
    "    df_param = pd.concat(map(pd.read_csv, param_filelist))\n",
    "    df_metric = pd.concat(map(pd.read_csv, metric_filelist))\n",
    "    df_info = read_parameter_csv(param_infofile)\n",
    "\n",
    "    param_names = df_info['Parameter'].values # exclude binded parameters\n",
    "    df_param = df_param[param_names]\n",
    "\n",
    "    xlb_mean = np.array([np.nanmean(v) for v in df_info['Lower']])\n",
    "    xub_mean = np.array([np.nanmean(v) for v in df_info['Upper']])\n",
    "\n",
    "    x = df_param.to_numpy()\n",
    "    y = df_metric.to_numpy()\n",
    "\n",
    "    nInput = x.shape[1]\n",
    "    nOutput = y.shape[1]\n",
    "\n",
    "    # train the surrogate model\n",
    "    # https://github.com/NCAR/ctsm_optz/blob/89e3689e73180574c62d1f5aa555a57e886a7cec/workflow/scripts/MOASMO_onestep.pe_basin.py#LL311C1-L315C41\n",
    "    # sm = gp.GPR_Matern(x, y, nInput, nOutput, x.shape[0], xlb_mean, xub_mean, alpha=alpha, leng_sb=[leng_lb, leng_ub], nu=nu)\n",
    "    # os.makedirs(outpath, exist_ok=True)\n",
    "    # sm_filename = f'{outpath}/surrogate_model_for_iter{iterflag}'\n",
    "    # pickle.dump(sm, open(sm_filename, 'wb'))\n",
    "    \n",
    "    from sklearn.ensemble import RandomForestClassifier, RandomForestRegressor\n",
    "    sm = RandomForestRegressor()\n",
    "    sm.fit(x, y)\n",
    "    os.makedirs(outpath, exist_ok=True)\n",
    "    sm_filename = f'{outpath}/surrogate_model_for_iter{iterflag}'\n",
    "    pickle.dump(sm, open(sm_filename, 'wb'))\n",
    "\n",
    "\n",
    "    # perform optimization using the surrogate model\n",
    "    bestx_sm, besty_sm, x_sm, y_sm = NSGA2.optimization(sm, nInput, nOutput, xlb_mean, xub_mean, pop, gen, crossover_rate, mu, mum)\n",
    "    D = NSGA2.crowding_distance(besty_sm)\n",
    "    idxr = D.argsort()[::-1][:n_sample]\n",
    "    x_resample = bestx_sm[idxr, :]\n",
    "    y_resample = besty_sm[idxr, :]"
   ]
  },
  {
   "cell_type": "code",
   "execution_count": 20,
   "id": "551c627d-61d8-46e1-8695-e5bcbaad48f9",
   "metadata": {},
   "outputs": [
    {
     "data": {
      "text/plain": [
       "array([ 2.00000000e+04,  2.50000000e-01, -1.00000000e+01,  1.00000000e-02,\n",
       "        1.00000000e+00,  2.50000000e-02,  5.00000000e-04,  2.00000000e-01,\n",
       "        9.00000000e-01,  5.82658228e-11,  5.00000000e+00,  2.50000000e-01,\n",
       "        5.00000000e-02])"
      ]
     },
     "execution_count": 20,
     "metadata": {},
     "output_type": "execute_result"
    }
   ],
   "source": [
    "xlb_mean"
   ]
  },
  {
   "cell_type": "code",
   "execution_count": 17,
   "id": "bb18e1b3-b84e-4c11-8204-b5a8f238aaf0",
   "metadata": {},
   "outputs": [
    {
     "data": {
      "text/plain": [
       "<matplotlib.collections.PathCollection at 0x7f87187d0d00>"
      ]
     },
     "execution_count": 17,
     "metadata": {},
     "output_type": "execute_result"
    },
    {
     "data": {
      "image/png": "[encoded data removed]",
      "text/plain": [
       "<Figure size 432x288 with 1 Axes>"
      ]
     },
     "metadata": {
      "needs_background": "light"
     },
     "output_type": "display_data"
    }
   ],
   "source": [
    "import matplotlib.pyplot as plt\n",
    "plt.scatter(y[:200,0], y[:200,1])\n",
    "# plt.scatter(besty_sm[:,0], besty_sm[:,1])"
   ]
  },
  {
   "cell_type": "code",
   "execution_count": 11,
   "id": "7488c138-b64a-47ff-b14d-3e2d759e2a42",
   "metadata": {},
   "outputs": [
    {
     "data": {
      "text/plain": [
       "<matplotlib.collections.PathCollection at 0x7f87065ce8e0>"
      ]
     },
     "execution_count": 11,
     "metadata": {},
     "output_type": "execute_result"
    },
    {
     "data": {
      "image/png": "[encoded data removed]",
      "text/plain": [
       "<Figure size 432x288 with 1 Axes>"
      ]
     },
     "metadata": {
      "needs_background": "light"
     },
     "output_type": "display_data"
    }
   ],
   "source": [
    "y2 = sm.predict(x)\n",
    "plt.scatter(y[:,0], y2[:,0])"
   ]
  },
  {
   "cell_type": "code",
   "execution_count": null,
   "id": "bbe32151-8a31-4464-beff-ac6e90489fbf",
   "metadata": {},
   "outputs": [],
   "source": []
  },
  {
   "cell_type": "code",
   "execution_count": 73,
   "id": "0d1836b2-8cdb-4f84-b732-39ef4e2fb5c6",
   "metadata": {},
   "outputs": [
    {
     "data": {
      "text/plain": [
       "(array([ 2.00000000e+04,  2.50000000e-01, -1.00000000e+01,  1.00000000e-02,\n",
       "         1.00000000e+00,  2.50000000e-02,  5.00000000e-04,  2.00000000e-01,\n",
       "         9.00000000e-01,  5.82658228e-11,  5.00000000e+00,  2.50000000e-01,\n",
       "         5.00000000e-02]),\n",
       " array([ 2.5000000e+05,  2.0000000e+00, -5.0000000e-01,  1.0000000e+01,\n",
       "         8.0000000e+00,  4.0000000e+00,  1.0000000e-01,  8.0000000e-01,\n",
       "         9.0000000e+00,  6.8964557e-09,  1.0000000e+02,  2.0000000e+00,\n",
       "         1.5000000e-01]),\n",
       " 0.001,\n",
       " [0.001, 1000.0],\n",
       " 2.5)"
      ]
     },
     "execution_count": 73,
     "metadata": {},
     "output_type": "execute_result"
    }
   ],
   "source": [
    "xlb_mean, xub_mean,alpha, [leng_lb, leng_ub], nu"
   ]
  },
  {
   "cell_type": "code",
   "execution_count": 79,
   "id": "5d9f1551-16e8-41bc-b1d5-21c0be8c65e6",
   "metadata": {},
   "outputs": [],
   "source": [
    "from sklearn import preprocessing\n",
    "param_train_df = df_param.copy()\n",
    "d = preprocessing.normalize(param_train_df,axis=0,return_norm=True)\n",
    "normalization_scalar = d[1]"
   ]
  },
  {
   "cell_type": "code",
   "execution_count": 80,
   "id": "017d06a1-0422-456a-a2d2-73bb641671ee",
   "metadata": {},
   "outputs": [
    {
     "data": {
      "text/html": [
       "<div>\n",
       "<style scoped>\n",
       "    .dataframe tbody tr th:only-of-type {\n",
       "        vertical-align: middle;\n",
       "    }\n",
       "\n",
       "    .dataframe tbody tr th {\n",
       "        vertical-align: top;\n",
       "    }\n",
       "\n",
       "    .dataframe thead th {\n",
       "        text-align: right;\n",
       "    }\n",
       "</style>\n",
       "<table border=\"1\" class=\"dataframe\">\n",
       "  <thead>\n",
       "    <tr style=\"text-align: right;\">\n",
       "      <th></th>\n",
       "      <th>vcmaxha</th>\n",
       "      <th>om_frac_sf</th>\n",
       "      <th>slopebeta</th>\n",
       "      <th>fff</th>\n",
       "      <th>e_ice</th>\n",
       "      <th>liq_canopy_storage_scalar</th>\n",
       "      <th>baseflow_scalar</th>\n",
       "      <th>FMAX</th>\n",
       "      <th>hksat_sf</th>\n",
       "      <th>krmax</th>\n",
       "      <th>d_max</th>\n",
       "      <th>frac_sat_soil_dsl_init</th>\n",
       "      <th>a_coef</th>\n",
       "    </tr>\n",
       "  </thead>\n",
       "  <tbody>\n",
       "    <tr>\n",
       "      <th>211</th>\n",
       "      <td>0.110901</td>\n",
       "      <td>0.018934</td>\n",
       "      <td>-0.085823</td>\n",
       "      <td>0.113162</td>\n",
       "      <td>0.042626</td>\n",
       "      <td>0.033435</td>\n",
       "      <td>0.062050</td>\n",
       "      <td>0.067329</td>\n",
       "      <td>0.021673</td>\n",
       "      <td>0.041125</td>\n",
       "      <td>0.024185</td>\n",
       "      <td>0.109677</td>\n",
       "      <td>0.073392</td>\n",
       "    </tr>\n",
       "    <tr>\n",
       "      <th>212</th>\n",
       "      <td>0.111382</td>\n",
       "      <td>0.037261</td>\n",
       "      <td>-0.113611</td>\n",
       "      <td>0.066855</td>\n",
       "      <td>0.036814</td>\n",
       "      <td>0.097214</td>\n",
       "      <td>0.096708</td>\n",
       "      <td>0.074473</td>\n",
       "      <td>0.100441</td>\n",
       "      <td>0.033045</td>\n",
       "      <td>0.042373</td>\n",
       "      <td>0.090456</td>\n",
       "      <td>0.065221</td>\n",
       "    </tr>\n",
       "    <tr>\n",
       "      <th>213</th>\n",
       "      <td>0.111864</td>\n",
       "      <td>0.055589</td>\n",
       "      <td>-0.031763</td>\n",
       "      <td>0.020547</td>\n",
       "      <td>0.031003</td>\n",
       "      <td>0.043704</td>\n",
       "      <td>0.013855</td>\n",
       "      <td>0.081617</td>\n",
       "      <td>0.078069</td>\n",
       "      <td>0.024964</td>\n",
       "      <td>0.060562</td>\n",
       "      <td>0.071234</td>\n",
       "      <td>0.057049</td>\n",
       "    </tr>\n",
       "    <tr>\n",
       "      <th>214</th>\n",
       "      <td>0.112346</td>\n",
       "      <td>0.073916</td>\n",
       "      <td>-0.059551</td>\n",
       "      <td>0.092460</td>\n",
       "      <td>0.025192</td>\n",
       "      <td>0.107483</td>\n",
       "      <td>0.048512</td>\n",
       "      <td>0.088760</td>\n",
       "      <td>0.055697</td>\n",
       "      <td>0.016883</td>\n",
       "      <td>0.078750</td>\n",
       "      <td>0.052013</td>\n",
       "      <td>0.048878</td>\n",
       "    </tr>\n",
       "    <tr>\n",
       "      <th>215</th>\n",
       "      <td>0.112827</td>\n",
       "      <td>0.092244</td>\n",
       "      <td>-0.087339</td>\n",
       "      <td>0.046153</td>\n",
       "      <td>0.019381</td>\n",
       "      <td>0.053974</td>\n",
       "      <td>0.083170</td>\n",
       "      <td>0.095904</td>\n",
       "      <td>0.033325</td>\n",
       "      <td>0.008803</td>\n",
       "      <td>0.096939</td>\n",
       "      <td>0.032791</td>\n",
       "      <td>0.040706</td>\n",
       "    </tr>\n",
       "  </tbody>\n",
       "</table>\n",
       "</div>"
      ],
      "text/plain": [
       "      vcmaxha  om_frac_sf  slopebeta       fff     e_ice  \\\n",
       "211  0.110901    0.018934  -0.085823  0.113162  0.042626   \n",
       "212  0.111382    0.037261  -0.113611  0.066855  0.036814   \n",
       "213  0.111864    0.055589  -0.031763  0.020547  0.031003   \n",
       "214  0.112346    0.073916  -0.059551  0.092460  0.025192   \n",
       "215  0.112827    0.092244  -0.087339  0.046153  0.019381   \n",
       "\n",
       "     liq_canopy_storage_scalar  baseflow_scalar      FMAX  hksat_sf     krmax  \\\n",
       "211                   0.033435         0.062050  0.067329  0.021673  0.041125   \n",
       "212                   0.097214         0.096708  0.074473  0.100441  0.033045   \n",
       "213                   0.043704         0.013855  0.081617  0.078069  0.024964   \n",
       "214                   0.107483         0.048512  0.088760  0.055697  0.016883   \n",
       "215                   0.053974         0.083170  0.095904  0.033325  0.008803   \n",
       "\n",
       "        d_max  frac_sat_soil_dsl_init    a_coef  \n",
       "211  0.024185                0.109677  0.073392  \n",
       "212  0.042373                0.090456  0.065221  \n",
       "213  0.060562                0.071234  0.057049  \n",
       "214  0.078750                0.052013  0.048878  \n",
       "215  0.096939                0.032791  0.040706  "
      ]
     },
     "execution_count": 80,
     "metadata": {},
     "output_type": "execute_result"
    }
   ],
   "source": [
    "scaled_df = param_train_df/normalization_scalar\n",
    "scaled_df.tail()"
   ]
  },
  {
   "cell_type": "code",
   "execution_count": 81,
   "id": "219039f7-3cfd-40f3-8fbd-39cb4191d1a6",
   "metadata": {},
   "outputs": [],
   "source": [
    "xlb_single_value_scaled = xlb_mean/normalization_scalar\n",
    "xub_single_value_scaled = xub_mean/normalization_scalar"
   ]
  },
  {
   "cell_type": "code",
   "execution_count": 82,
   "id": "e2273b8e-b538-4588-bdff-df676b1ec675",
   "metadata": {},
   "outputs": [],
   "source": [
    "# start training the surrogate models\n",
    "x = scaled_df.values #param_df.values #.shape[0]\n",
    "y = df_metric.values #norm_metric_mean.T.values\n"
   ]
  },
  {
   "cell_type": "code",
   "execution_count": 120,
   "id": "80922ee2-3403-41b0-8d06-47da945a29bf",
   "metadata": {},
   "outputs": [],
   "source": [
    "alpha = 1e-3\n",
    "lb = 1e-3\n",
    "ub = 1e3\n",
    "nu = 10\n",
    "\n",
    "# sm = gp.GPR_Matern(x, y, nInput, nOutput, x.shape[0], xlb_single_value_scaled, xub_single_value_scaled,alpha=alpha, leng_sb=[lb,ub], nu=nu)\n",
    "sm = gp.GPR_Matern(x, y, 13, nOutput, 216, xlb_single_value_scaled, xub_single_value_scaled,alpha=alpha, leng_sb=[lb,ub], nu=nu)\n"
   ]
  },
  {
   "cell_type": "code",
   "execution_count": 134,
   "id": "1d5c3173-b9bb-4a66-8975-5fa602bb008b",
   "metadata": {},
   "outputs": [],
   "source": [
    "np.savez_compressed('/glade/u/home/guoqiang/CTSM_repos/moasmo_test/test.npz', x=x, y=y, nOutput=nOutput, xlb_single_value_scaled=xlb_single_value_scaled, xub_single_value_scaled=xub_single_value_scaled, alpha=alpha, lb=lb, ub=ub, nu=nu) "
   ]
  },
  {
   "cell_type": "code",
   "execution_count": 121,
   "id": "feed925e-f8cc-4977-902f-2448ca684e93",
   "metadata": {},
   "outputs": [
    {
     "data": {
      "text/plain": [
       "<matplotlib.collections.PathCollection at 0x7f18f5d01850>"
      ]
     },
     "execution_count": 122,
     "metadata": {},
     "output_type": "execute_result"
    },
    {
     "data": {
      "image/png": "[encoded data removed]",
      "text/plain": [
       "<Figure size 432x288 with 1 Axes>"
      ]
     },
     "metadata": {
      "needs_background": "light"
     },
     "output_type": "display_data"
    }
   ],
   "source": [
    "y2 = sm.predict(x)\n",
    "plt.scatter(y[:,0], y2[:,0])"
   ]
  },
  {
   "cell_type": "code",
   "execution_count": null,
   "id": "c7ac0e9b-613f-448f-8418-c37d3a49b04b",
   "metadata": {},
   "outputs": [],
   "source": []
  },
  {
   "cell_type": "code",
   "execution_count": null,
   "id": "33443327-c15a-4fad-aa48-f9bc49e2af8e",
   "metadata": {},
   "outputs": [],
   "source": []
  },
  {
   "cell_type": "code",
   "execution_count": 99,
   "id": "cd87ce58-21c5-4962-b8d4-bd661f1961b5",
   "metadata": {},
   "outputs": [
    {
     "ename": "ValueError",
     "evalue": "cannot reshape array of size 13 into shape (1,216)",
     "output_type": "error",
     "traceback": [
      "\u001b[0;31m---------------------------------------------------------------------------\u001b[0m",
      "\u001b[0;31mValueError\u001b[0m                                Traceback (most recent call last)",
      "Input \u001b[0;32mIn [99]\u001b[0m, in \u001b[0;36m<cell line: 2>\u001b[0;34m()\u001b[0m\n\u001b[1;32m      1\u001b[0m \u001b[38;5;66;03m# perform optimization using the surrogate model\u001b[39;00m\n\u001b[0;32m----> 2\u001b[0m bestx_sm, besty_sm, x_sm, y_sm \u001b[38;5;241m=\u001b[39m \u001b[43mNSGA2\u001b[49m\u001b[38;5;241;43m.\u001b[39;49m\u001b[43moptimization\u001b[49m\u001b[43m(\u001b[49m\u001b[43msm\u001b[49m\u001b[43m,\u001b[49m\u001b[43m \u001b[49m\u001b[43mnInput\u001b[49m\u001b[43m,\u001b[49m\u001b[43m \u001b[49m\u001b[43mnOutput\u001b[49m\u001b[43m,\u001b[49m\u001b[43m \u001b[49m\u001b[43mxlb_single_value_scaled\u001b[49m\u001b[43m,\u001b[49m\u001b[43m \u001b[49m\u001b[43mxub_single_value_scaled\u001b[49m\u001b[43m,\u001b[49m\u001b[43m \u001b[49m\u001b[43mpop\u001b[49m\u001b[43m,\u001b[49m\u001b[43m \u001b[49m\u001b[43mgen\u001b[49m\u001b[43m,\u001b[49m\u001b[43m \u001b[49m\u001b[43mcrossover_rate\u001b[49m\u001b[43m,\u001b[49m\u001b[43m \u001b[49m\u001b[43mmu\u001b[49m\u001b[43m,\u001b[49m\u001b[43m \u001b[49m\u001b[43mmum\u001b[49m\u001b[43m)\u001b[49m\n\u001b[1;32m      3\u001b[0m D \u001b[38;5;241m=\u001b[39m NSGA2\u001b[38;5;241m.\u001b[39mcrowding_distance(besty_sm)\n\u001b[1;32m      4\u001b[0m idxr \u001b[38;5;241m=\u001b[39m D\u001b[38;5;241m.\u001b[39margsort()[::\u001b[38;5;241m-\u001b[39m\u001b[38;5;241m1\u001b[39m][:n_sample]\n",
      "File \u001b[0;32m~/CTSM_repos/ctsm_optz/MO-ASMO/src/NSGA2.py:29\u001b[0m, in \u001b[0;36moptimization\u001b[0;34m(model, nInput, nOutput, xlb, xub, pop, gen, crossover_rate, mu, mum)\u001b[0m\n\u001b[1;32m     27\u001b[0m y \u001b[38;5;241m=\u001b[39m np\u001b[38;5;241m.\u001b[39mzeros((pop, nOutput))\n\u001b[1;32m     28\u001b[0m \u001b[38;5;28;01mfor\u001b[39;00m i \u001b[38;5;129;01min\u001b[39;00m \u001b[38;5;28mrange\u001b[39m(pop):\n\u001b[0;32m---> 29\u001b[0m     y[i,:] \u001b[38;5;241m=\u001b[39m \u001b[43mmodel\u001b[49m\u001b[38;5;241;43m.\u001b[39;49m\u001b[43mevaluate\u001b[49m\u001b[43m(\u001b[49m\u001b[43mx\u001b[49m\u001b[43m[\u001b[49m\u001b[43mi\u001b[49m\u001b[43m,\u001b[49m\u001b[43m:\u001b[49m\u001b[43m]\u001b[49m\u001b[43m)\u001b[49m\n\u001b[1;32m     30\u001b[0m icall \u001b[38;5;241m=\u001b[39m pop\n\u001b[1;32m     32\u001b[0m x, y, rank, crowd \u001b[38;5;241m=\u001b[39m sortMO(x, y, nInput, nOutput)\n",
      "File \u001b[0;32m~/CTSM_repos/ctsm_optz/MO-ASMO/src/gp.py:51\u001b[0m, in \u001b[0;36mGPR_Matern.evaluate\u001b[0;34m(self, x)\u001b[0m\n\u001b[1;32m     50\u001b[0m \u001b[38;5;28;01mdef\u001b[39;00m \u001b[38;5;21mevaluate\u001b[39m(\u001b[38;5;28mself\u001b[39m,x):\n\u001b[0;32m---> 51\u001b[0m     \u001b[38;5;28;01mreturn\u001b[39;00m \u001b[38;5;28;43mself\u001b[39;49m\u001b[38;5;241;43m.\u001b[39;49m\u001b[43mpredict\u001b[49m\u001b[43m(\u001b[49m\u001b[43mx\u001b[49m\u001b[43m)\u001b[49m\n",
      "File \u001b[0;32m~/CTSM_repos/ctsm_optz/MO-ASMO/src/gp.py:35\u001b[0m, in \u001b[0;36mGPR_Matern.predict\u001b[0;34m(self, xin, return_std)\u001b[0m\n\u001b[1;32m     33\u001b[0m \u001b[38;5;28;01mdef\u001b[39;00m \u001b[38;5;21mpredict\u001b[39m(\u001b[38;5;28mself\u001b[39m,xin,return_std\u001b[38;5;241m=\u001b[39m\u001b[38;5;28;01mFalse\u001b[39;00m):\n\u001b[1;32m     34\u001b[0m     x \u001b[38;5;241m=\u001b[39m copy\u001b[38;5;241m.\u001b[39mdeepcopy(xin)\n\u001b[0;32m---> 35\u001b[0m     \u001b[38;5;28;01mif\u001b[39;00m \u001b[38;5;28mlen\u001b[39m(x\u001b[38;5;241m.\u001b[39mshape) \u001b[38;5;241m==\u001b[39m \u001b[38;5;241m1\u001b[39m: x \u001b[38;5;241m=\u001b[39m \u001b[43mx\u001b[49m\u001b[38;5;241;43m.\u001b[39;49m\u001b[43mreshape\u001b[49m\u001b[43m(\u001b[49m\u001b[43m(\u001b[49m\u001b[38;5;241;43m1\u001b[39;49m\u001b[43m,\u001b[49m\u001b[38;5;28;43mself\u001b[39;49m\u001b[38;5;241;43m.\u001b[39;49m\u001b[43mnInput\u001b[49m\u001b[43m)\u001b[49m\u001b[43m)\u001b[49m\n\u001b[1;32m     36\u001b[0m     N \u001b[38;5;241m=\u001b[39m x\u001b[38;5;241m.\u001b[39mshape[\u001b[38;5;241m0\u001b[39m]\n\u001b[1;32m     37\u001b[0m     y \u001b[38;5;241m=\u001b[39m np\u001b[38;5;241m.\u001b[39mzeros((N,\u001b[38;5;28mself\u001b[39m\u001b[38;5;241m.\u001b[39mnOutput))\n",
      "\u001b[0;31mValueError\u001b[0m: cannot reshape array of size 13 into shape (1,216)"
     ]
    }
   ],
   "source": [
    "    # perform optimization using the surrogate model\n",
    "    bestx_sm, besty_sm, x_sm, y_sm = NSGA2.optimization(sm, nInput, nOutput, xlb_single_value_scaled, xub_single_value_scaled, pop, gen, crossover_rate, mu, mum)\n",
    "    D = NSGA2.crowding_distance(besty_sm)\n",
    "    idxr = D.argsort()[::-1][:n_sample]\n",
    "    x_resample = bestx_sm[idxr, :]\n",
    "    y_resample = besty_sm[idxr, :]"
   ]
  },
  {
   "cell_type": "code",
   "execution_count": 101,
   "id": "83c44c51-485a-4ade-bad6-5d0710210a02",
   "metadata": {},
   "outputs": [
    {
     "data": {
      "text/plain": [
       "(216, 13)"
      ]
     },
     "execution_count": 101,
     "metadata": {},
     "output_type": "execute_result"
    }
   ],
   "source": []
  },
  {
   "cell_type": "code",
   "execution_count": null,
   "id": "0b08b7e0-0be9-47a9-8591-91758d027f77",
   "metadata": {},
   "outputs": [],
   "source": []
  },
  {
   "cell_type": "code",
   "execution_count": null,
   "id": "b6d4a0ff-47e7-441f-a3e2-66645c3f5556",
   "metadata": {},
   "outputs": [],
   "source": []
  },
  {
   "cell_type": "code",
   "execution_count": 60,
   "id": "0f97fee2-648d-4a03-98ea-7920e2da2891",
   "metadata": {},
   "outputs": [
    {
     "name": "stderr",
     "output_type": "stream",
     "text": [
      "/glade/work/guoqiang/conda-envs/npl-2022b-tgq/lib/python3.8/site-packages/sklearn/gaussian_process/kernels.py:420: ConvergenceWarning: The optimal value found for dimension 0 of parameter k1__sigma_0 is close to the specified lower bound 1e-05. Decreasing the bound and calling fit again may find a better value.\n",
      "  warnings.warn(\n",
      "/glade/work/guoqiang/conda-envs/npl-2022b-tgq/lib/python3.8/site-packages/sklearn/gaussian_process/kernels.py:430: ConvergenceWarning: The optimal value found for dimension 0 of parameter k2__noise_level is close to the specified upper bound 100000.0. Increasing the bound and calling fit again may find a better value.\n",
      "  warnings.warn(\n"
     ]
    },
    {
     "data": {
      "text/plain": [
       "(array([653.08792288, 592.16905327]), array([316.68016218, 316.65121679]))"
      ]
     },
     "execution_count": 60,
     "metadata": {},
     "output_type": "execute_result"
    }
   ],
   "source": [
    "from sklearn.datasets import make_friedman2\n",
    "from sklearn.gaussian_process import GaussianProcessRegressor\n",
    "from sklearn.gaussian_process.kernels import DotProduct, WhiteKernel\n",
    "X, y = make_friedman2(n_samples=500, noise=0, random_state=0)\n",
    "kernel = DotProduct() + WhiteKernel()\n",
    "gpr = GaussianProcessRegressor(kernel=kernel,\n",
    "        random_state=0).fit(X, y)\n",
    "gpr.score(X, y)\n",
    "\n",
    "gpr.predict(X[:2,:], return_std=True)"
   ]
  },
  {
   "cell_type": "code",
   "execution_count": 62,
   "id": "80f57f3e-1f8e-4fe4-9ad8-ad30952250fe",
   "metadata": {},
   "outputs": [
    {
     "name": "stderr",
     "output_type": "stream",
     "text": [
      "/glade/work/guoqiang/conda-envs/npl-2022b-tgq/lib/python3.8/site-packages/sklearn/gaussian_process/_gpr.py:616: ConvergenceWarning: lbfgs failed to converge (status=2):\n",
      "ABNORMAL_TERMINATION_IN_LNSRCH.\n",
      "\n",
      "Increase the number of iterations (max_iter) or scale the data as shown in:\n",
      "    https://scikit-learn.org/stable/modules/preprocessing.html\n",
      "  _check_optimize_result(\"lbfgs\", opt_res)\n"
     ]
    }
   ],
   "source": [
    "    # define hyper parameters\n",
    "    pop = 100\n",
    "    gen = 100\n",
    "    crossover_rate = 0.9\n",
    "    mu = 20\n",
    "    mum = 20\n",
    "\n",
    "    # define hyperparameter\n",
    "    alpha = 1e-3\n",
    "    leng_lb = 1e-3\n",
    "    leng_ub = 1e3\n",
    "    nu = 2.5\n",
    "\n",
    "    n_sample = num_per_iter # number of selected optimal points\n",
    "\n",
    "    # input data x (parameter sets) and output data y (objective function values)\n",
    "    df_param = pd.concat(map(pd.read_csv, param_filelist))\n",
    "    df_metric = pd.concat(map(pd.read_csv, metric_filelist))\n",
    "    df_info = read_parameter_csv(param_infofile)\n",
    "\n",
    "    param_names = df_info['Parameter'].values # exclude binded parameters\n",
    "    df_param = df_param[param_names]\n",
    "\n",
    "    xlb_mean = np.array([np.nanmean(v) for v in df_info['Lower']])\n",
    "    xub_mean = np.array([np.nanmean(v) for v in df_info['Upper']])\n",
    "\n",
    "    x = df_param.to_numpy()\n",
    "    y = df_metric.to_numpy()\n",
    "    \n",
    "    \n",
    "    gpr = GaussianProcessRegressor(kernel=kernel,\n",
    "            random_state=0).fit(x, y)\n",
    "    "
   ]
  },
  {
   "cell_type": "code",
   "execution_count": 69,
   "id": "3f93a04d-f3d8-483d-8cab-604e7dc6f195",
   "metadata": {},
   "outputs": [],
   "source": [
    "sm=gpr"
   ]
  },
  {
   "cell_type": "code",
   "execution_count": 68,
   "id": "6fba1f4e-3481-4908-b151-956e17b26707",
   "metadata": {},
   "outputs": [
    {
     "data": {
      "text/plain": [
       "<matplotlib.collections.PathCollection at 0x7f18f6ac5640>"
      ]
     },
     "execution_count": 68,
     "metadata": {},
     "output_type": "execute_result"
    },
    {
     "data": {
      "image/png": "[encoded data removed]",
      "text/plain": [
       "<Figure size 432x288 with 1 Axes>"
      ]
     },
     "metadata": {
      "needs_background": "light"
     },
     "output_type": "display_data"
    }
   ],
   "source": [
    "y2=gpr.predict(x)\n",
    "plt.scatter(y[:,0], y2[:,0])"
   ]
  },
  {
   "cell_type": "code",
   "execution_count": 70,
   "id": "42787295-cfdb-499b-a461-6f2492457bcc",
   "metadata": {},
   "outputs": [
    {
     "ename": "AttributeError",
     "evalue": "'GaussianProcessRegressor' object has no attribute 'evaluate'",
     "output_type": "error",
     "traceback": [
      "\u001b[0;31m---------------------------------------------------------------------------\u001b[0m",
      "\u001b[0;31mAttributeError\u001b[0m                            Traceback (most recent call last)",
      "Input \u001b[0;32mIn [70]\u001b[0m, in \u001b[0;36m<cell line: 6>\u001b[0;34m()\u001b[0m\n\u001b[1;32m      3\u001b[0m pickle\u001b[38;5;241m.\u001b[39mdump(sm, \u001b[38;5;28mopen\u001b[39m(sm_filename, \u001b[38;5;124m'\u001b[39m\u001b[38;5;124mwb\u001b[39m\u001b[38;5;124m'\u001b[39m))\n\u001b[1;32m      5\u001b[0m \u001b[38;5;66;03m# perform optimization using the surrogate model\u001b[39;00m\n\u001b[0;32m----> 6\u001b[0m bestx_sm, besty_sm, x_sm, y_sm \u001b[38;5;241m=\u001b[39m \u001b[43mNSGA2\u001b[49m\u001b[38;5;241;43m.\u001b[39;49m\u001b[43moptimization\u001b[49m\u001b[43m(\u001b[49m\u001b[43msm\u001b[49m\u001b[43m,\u001b[49m\u001b[43m \u001b[49m\u001b[43mnInput\u001b[49m\u001b[43m,\u001b[49m\u001b[43m \u001b[49m\u001b[43mnOutput\u001b[49m\u001b[43m,\u001b[49m\u001b[43m \u001b[49m\u001b[43mxlb_mean\u001b[49m\u001b[43m,\u001b[49m\u001b[43m \u001b[49m\u001b[43mxub_mean\u001b[49m\u001b[43m,\u001b[49m\u001b[43m \u001b[49m\u001b[43mpop\u001b[49m\u001b[43m,\u001b[49m\u001b[43m \u001b[49m\u001b[43mgen\u001b[49m\u001b[43m,\u001b[49m\u001b[43m \u001b[49m\u001b[43mcrossover_rate\u001b[49m\u001b[43m,\u001b[49m\u001b[43m \u001b[49m\u001b[43mmu\u001b[49m\u001b[43m,\u001b[49m\u001b[43m \u001b[49m\u001b[43mmum\u001b[49m\u001b[43m)\u001b[49m\n\u001b[1;32m      7\u001b[0m D \u001b[38;5;241m=\u001b[39m NSGA2\u001b[38;5;241m.\u001b[39mcrowding_distance(besty_sm)\n\u001b[1;32m      8\u001b[0m idxr \u001b[38;5;241m=\u001b[39m D\u001b[38;5;241m.\u001b[39margsort()[::\u001b[38;5;241m-\u001b[39m\u001b[38;5;241m1\u001b[39m][:n_sample]\n",
      "File \u001b[0;32m~/CTSM_repos/ctsm_optz/MO-ASMO/src/NSGA2.py:29\u001b[0m, in \u001b[0;36moptimization\u001b[0;34m(model, nInput, nOutput, xlb, xub, pop, gen, crossover_rate, mu, mum)\u001b[0m\n\u001b[1;32m     27\u001b[0m y \u001b[38;5;241m=\u001b[39m np\u001b[38;5;241m.\u001b[39mzeros((pop, nOutput))\n\u001b[1;32m     28\u001b[0m \u001b[38;5;28;01mfor\u001b[39;00m i \u001b[38;5;129;01min\u001b[39;00m \u001b[38;5;28mrange\u001b[39m(pop):\n\u001b[0;32m---> 29\u001b[0m     y[i,:] \u001b[38;5;241m=\u001b[39m \u001b[43mmodel\u001b[49m\u001b[38;5;241;43m.\u001b[39;49m\u001b[43mevaluate\u001b[49m(x[i,:])\n\u001b[1;32m     30\u001b[0m icall \u001b[38;5;241m=\u001b[39m pop\n\u001b[1;32m     32\u001b[0m x, y, rank, crowd \u001b[38;5;241m=\u001b[39m sortMO(x, y, nInput, nOutput)\n",
      "\u001b[0;31mAttributeError\u001b[0m: 'GaussianProcessRegressor' object has no attribute 'evaluate'"
     ]
    }
   ],
   "source": [
    "    os.makedirs(outpath, exist_ok=True)\n",
    "    sm_filename = f'{outpath}/surrogate_model_for_iter{iterflag}'\n",
    "    pickle.dump(sm, open(sm_filename, 'wb'))\n",
    "\n",
    "    # perform optimization using the surrogate model\n",
    "    bestx_sm, besty_sm, x_sm, y_sm = NSGA2.optimization(sm, nInput, nOutput, xlb_mean, xub_mean, pop, gen, crossover_rate, mu, mum)\n",
    "    D = NSGA2.crowding_distance(besty_sm)\n",
    "    idxr = D.argsort()[::-1][:n_sample]\n",
    "    x_resample = bestx_sm[idxr, :]\n",
    "    y_resample = besty_sm[idxr, :]"
   ]
  },
  {
   "cell_type": "code",
   "execution_count": null,
   "id": "1c7b55be-3750-4933-bb56-7c06552ea6c5",
   "metadata": {},
   "outputs": [],
   "source": [
    "import sampling\n",
    "import numpy as np\n",
    "import copy\n",
    "\n",
    "def optimization(model, nInput, nOutput, xlb, xub, pop, gen, \\\n",
    "                 crossover_rate = 0.9, mu = 20, mum = 20):\n",
    "    ''' Nondominated Sorting Genetic Algorithm II, An multi-objective algorithm\n",
    "        model: the evaluated model function\n",
    "        nInput: number of model input\n",
    "        nOutput: number of output objectives\n",
    "        xlb: lower bound of input\n",
    "        xub: upper bound of input\n",
    "        pop: number of population\n",
    "        gen: number of generation\n",
    "        crossover_rate: ratio of crossover in each generation\n",
    "        mu: distribution index for crossover\n",
    "        mum: distribution index for mutation\n",
    "    '''\n",
    "    poolsize = int(round(pop/2.)); # size of mating pool;\n",
    "    toursize = 2;                  # tournament size;\n",
    "\n",
    "    x = sampling.lh(pop, nInput)\n",
    "    x = x * (xub - xlb) + xlb\n",
    "    y = np.zeros((pop, nOutput))\n",
    "    for i in range(pop):\n",
    "        y[i,:] = model.predict(x[i,:])\n",
    "    icall = pop\n",
    "\n",
    "    x, y, rank, crowd = sortMO(x, y, nInput, nOutput)\n",
    "    population_para = x.copy()\n",
    "    population_obj  = y.copy()\n",
    "\n",
    "    for i in range(gen):\n",
    "        pool = selection(population_para, population_obj, nInput, pop, poolsize, toursize)\n",
    "        count = 0\n",
    "        while (count < pop - 1):\n",
    "            if (np.random.rand() < 0.9):\n",
    "                parentidx = np.random.choice(poolsize, 2, replace = False)\n",
    "                parent1   = pool[parentidx[0],:]\n",
    "                parent2   = pool[parentidx[1],:]\n",
    "                child1, child2 = crossover(parent1, parent2, mu, xlb, xub)\n",
    "                y1 = model.evaluate(child1)\n",
    "                y2 = model.evaluate(child2)\n",
    "                x  = np.vstack((x,child1,child2))\n",
    "                y  = np.vstack((y,y1,y2))\n",
    "                population_para = np.vstack((population_para,child1,child2))\n",
    "                population_obj  = np.vstack((population_obj,y1,y2))\n",
    "                count += 2\n",
    "                icall += 2\n",
    "            else:\n",
    "                parentidx = np.random.randint(poolsize)\n",
    "                parent    = pool[parentidx,:]\n",
    "                child     = mutation(parent, mum, xlb, xub)\n",
    "                y1 = model.evaluate(child)\n",
    "                x  = np.vstack((x,child))\n",
    "                y  = np.vstack((y,y1))\n",
    "                population_para = np.vstack((population_para,child))\n",
    "                population_obj  = np.vstack((population_obj,y1))\n",
    "                count += 1\n",
    "                icall += 1\n",
    "        population_para, population_obj = \\\n",
    "            remove_worst(population_para, population_obj, pop, nInput, nOutput)\n",
    "        bestx = population_para.copy()\n",
    "        besty = population_obj.copy()\n",
    "    return bestx, besty, x, y\n",
    "\n",
    "def sortMO(x, y, nInput, nOutput):\n",
    "    ''' Non domination sorting for multi-objective optimization\n",
    "        x: input parameter matrix\n",
    "        y: output objectives matrix\n",
    "        nInput: number of input\n",
    "        nOutput: number of output\n",
    "    '''\n",
    "    rank, dom = fast_non_dominated_sort(y)\n",
    "    idxr = rank.argsort()\n",
    "    rank = rank[idxr]\n",
    "    x = x[idxr,:]\n",
    "    y = y[idxr,:]\n",
    "    T = x.shape[0]\n",
    "\n",
    "    crowd = np.zeros(T)\n",
    "    rmax = int(rank.max())\n",
    "    idxt = np.zeros(T, dtype = np.int)\n",
    "    c = 0\n",
    "    for k in range(rmax):\n",
    "        rankidx = (rank == k)\n",
    "        D = crowding_distance(y[rankidx,:])\n",
    "        idxd = D.argsort()[::-1]\n",
    "        crowd[rankidx] = D[idxd]\n",
    "        idxtt = np.array(range(len(rank)))[rankidx]\n",
    "        idxt[c:(c+len(idxtt))] = idxtt[idxd]\n",
    "        c += len(idxtt)\n",
    "    x = x[idxt,:]\n",
    "    y = y[idxt,:]\n",
    "    rank = rank[idxt]\n",
    "\n",
    "    return x, y, rank, crowd\n",
    "\n",
    "def fast_non_dominated_sort(Y):\n",
    "    ''' a fast non-dominated sorting method\n",
    "        Y: output objective matrix\n",
    "    '''\n",
    "    N, d = Y.shape\n",
    "    Q = [] # temp array of Pareto front index\n",
    "    Sp = [] # temp array of points dominated by p\n",
    "    S = [] # temp array of Sp\n",
    "    rank = np.zeros(N) # Pareto rank\n",
    "    n = np.zeros(N)  # domination counter of p\n",
    "    dom = np.zeros((N, N))  # the dominate matrix, 1: i doms j, 2: j doms i\n",
    "\n",
    "    # compute the dominate relationship online, much faster\n",
    "    for i in range(N):\n",
    "        for j in range(N):\n",
    "            if i != j:\n",
    "                if dominates(Y[i,:], Y[j,:]):\n",
    "                    dom[i,j] = 1\n",
    "                    Sp.append(j)\n",
    "                elif dominates(Y[j,:], Y[i,:]):\n",
    "                    dom[i,j] = 2\n",
    "                    n[i] += 1\n",
    "        if n[i] == 0:\n",
    "            rank[i] = 0\n",
    "            Q.append(i)\n",
    "        S.append(copy.deepcopy(Sp))\n",
    "        Sp = []\n",
    "\n",
    "    F = []\n",
    "    F.append(copy.deepcopy(Q))\n",
    "    k = 0\n",
    "    while len(F[k]) > 0:\n",
    "        Q = []\n",
    "        for i in range(len(F[k])):\n",
    "            p = F[k][i]\n",
    "            for j in range(len(S[p])):\n",
    "                q = S[p][j]\n",
    "                n[q] -= 1\n",
    "                if n[q] == 0:\n",
    "                    rank[q]  = k + 1\n",
    "                    Q.append(q)\n",
    "        k += 1\n",
    "        F.append(copy.deepcopy(Q))\n",
    "\n",
    "    return rank, dom\n",
    "\n",
    "def dominates(p,q):\n",
    "    ''' comparison for multi-objective optimization\n",
    "        d = True, if p dominates q\n",
    "        d = False, if p not dominates q\n",
    "        p and q are 1*nOutput array\n",
    "    '''\n",
    "    if sum(p > q) == 0:\n",
    "        d = True\n",
    "    else:\n",
    "        d = False\n",
    "    return d\n",
    "\n",
    "def crowding_distance(Y):\n",
    "    ''' compute crowding distance in NSGA-II\n",
    "        Y is the output data matrix\n",
    "        [n,d] = size(Y)\n",
    "        n: number of points\n",
    "        d: number of dimentions\n",
    "    '''\n",
    "    n,d = Y.shape\n",
    "    lb = np.min(Y, axis = 0)\n",
    "    ub = np.max(Y, axis = 0)\n",
    "\n",
    "    if n == 1 or np.min(ub-lb) == 0.0:\n",
    "        D = np.array([1.])\n",
    "    else:\n",
    "        U = (Y - lb) / (ub - lb)\n",
    "\n",
    "        D = np.zeros(n)\n",
    "        DS = np.zeros((n,d))\n",
    "\n",
    "        idx = U.argsort(axis = 0)\n",
    "        US = np.zeros((n,d))\n",
    "        for i in range(d):\n",
    "            US[:,i] = U[idx[:,i],i]\n",
    "\n",
    "        DS[0,:] = 1.\n",
    "        DS[n-1,:] = 1.\n",
    "\n",
    "        for i in range(1,n-1):\n",
    "            for j in range(d):\n",
    "                DS[i,j] = US[i+1,j] - US[i-1,j]\n",
    "\n",
    "        for i in range(n):\n",
    "            for j in range(d):\n",
    "                D[idx[i,j]] += DS[i,j]\n",
    "        D[np.isnan(D)] = 0.0\n",
    "\n",
    "    return D\n",
    "\n",
    "def mutation(parent, mum, xlb, xub):\n",
    "    ''' Polynomial Mutation in Genetic Algorithm\n",
    "        For more information about PMut refer the NSGA-II paper.\n",
    "        mum: distribution index for mutation, default = 20\n",
    "            This determine how well spread the child will be from its parent.\n",
    "        parent: sample point before mutation\n",
    "\t'''\n",
    "    n     = len(parent)\n",
    "    delta = np.ndarray(n)\n",
    "    child = np.ndarray(n)\n",
    "    u     = np.random.rand(n)\n",
    "    for i in range(n):\n",
    "        if (u[i] < 0.5):\n",
    "            delta[i] = (2.0*u[i])**(1.0/(mum+1)) - 1.0\n",
    "        else:\n",
    "            delta[i] = 1.0 - (2.0*(1.0 - u[i]))**(1.0/(mum+1))\n",
    "        child[i] = parent[i] + (xub[i] - xlb[i]) * delta[i]\n",
    "    child = np.clip(child, xlb, xub)\n",
    "    return child\n",
    "\n",
    "def crossover(parent1, parent2, mu, xlb, xub):\n",
    "    ''' SBX (Simulated Binary Crossover) in Genetic Algorithm\n",
    "        For more information about SBX refer the NSGA-II paper.\n",
    "        mu: distribution index for crossover, default = 20\n",
    "        This determine how well spread the children will be from their parents.\n",
    "    '''\n",
    "    n      = len(parent1)\n",
    "    beta   = np.ndarray(n)\n",
    "    child1 = np.ndarray(n)\n",
    "    child2 = np.ndarray(n)\n",
    "    u = np.random.rand(n)\n",
    "    for i in range(n):\n",
    "        if (u[i] <= 0.5):\n",
    "            beta[i] = (2.0*u[i])**(1.0/(mu+1))\n",
    "        else:\n",
    "            beta[i] = (1.0/(2.0*(1.0 - u[i])))**(1.0/(mu+1))\n",
    "        child1[i] = 0.5*((1-beta[i])*parent1[i] + (1+beta[i])*parent2[i])\n",
    "        child2[i] = 0.5*((1+beta[i])*parent1[i] + (1-beta[i])*parent2[i])\n",
    "    child1 = np.clip(child1, xlb, xub)\n",
    "    child2 = np.clip(child2, xlb, xub)\n",
    "    return child1, child2\n",
    "\n",
    "def selection(population_para, population_obj, nInput, pop, poolsize, toursize):\n",
    "    ''' tournament selecting the best individuals into the mating pool'''\n",
    "    pool    = np.zeros([poolsize,nInput])\n",
    "    poolidx = np.zeros(poolsize)\n",
    "    count   = 0\n",
    "    while (count < poolsize-1):\n",
    "        candidate = np.random.choice(pop, toursize, replace = False)\n",
    "        idx = candidate.min()\n",
    "        if not(idx in poolidx):\n",
    "            poolidx[count] = idx\n",
    "            pool[count,:]  = population_para[idx,:]\n",
    "            count += 1\n",
    "    return pool\n",
    "\n",
    "def remove_worst(population_para, population_obj, pop, nInput, nOutput):\n",
    "    ''' remove the worst individuals in the population '''\n",
    "    population_para, population_obj, rank, crowd = \\\n",
    "        sortMO(population_para, population_obj, nInput, nOutput)\n",
    "    return population_para[0:pop,:], population_obj[0:pop,:]"
   ]
  },
  {
   "cell_type": "code",
   "execution_count": null,
   "id": "843baeeb-1c6a-45bc-8fb6-be3edbfbaf0b",
   "metadata": {},
   "outputs": [],
   "source": []
  },
  {
   "cell_type": "code",
   "execution_count": 138,
   "id": "7acea957-4ba0-42c9-b099-63668014ec8a",
   "metadata": {},
   "outputs": [],
   "source": [
    "\n",
    "df = pd.read_csv(f'/glade/work/guoqiang/CTSM_cases/MOASMO_CESM/CAMELS20/ctsm_outputs/iter0_all_metric.csv')"
   ]
  },
  {
   "cell_type": "code",
   "execution_count": 137,
   "id": "c44bc879-3e44-429c-851e-066132ad6907",
   "metadata": {},
   "outputs": [
    {
     "data": {
      "text/plain": [
       "<matplotlib.collections.PathCollection at 0x7f18f6631880>"
      ]
     },
     "execution_count": 137,
     "metadata": {},
     "output_type": "execute_result"
    },
    {
     "data": {
      "image/png": "[encoded data removed]",
      "text/plain": [
       "<Figure size 432x288 with 1 Axes>"
      ]
     },
     "metadata": {
      "needs_background": "light"
     },
     "output_type": "display_data"
    }
   ],
   "source": [
    "plt.scatter(df['metric1'], df['metric2'])"
   ]
  },
  {
   "cell_type": "code",
   "execution_count": null,
   "id": "ec299ebc-ec7d-400d-be2b-f99b8fe48aa9",
   "metadata": {},
   "outputs": [],
   "source": []
  }
 ],
 "metadata": {
  "kernelspec": {
   "display_name": "Python [conda env:npl-2022b-tgq]",
   "language": "python",
   "name": "conda-env-npl-2022b-tgq-py"
  },
  "language_info": {
   "codemirror_mode": {
    "name": "ipython",
    "version": 3
   },
   "file_extension": ".py",
   "mimetype": "text/x-python",
   "name": "python",
   "nbconvert_exporter": "python",
   "pygments_lexer": "ipython3",
   "version": "3.8.13"
  }
 },
 "nbformat": 4,
 "nbformat_minor": 5
}
