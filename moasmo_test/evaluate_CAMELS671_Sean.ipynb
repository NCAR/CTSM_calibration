{
 "cells": [
  {
   "cell_type": "markdown",
   "id": "e78819e3-afdb-49da-9632-385e1eb71d33",
   "metadata": {},
   "source": [
    "# evauate CAMELS simulations with similar settings to Hongxiang Yan et al 2023\n",
    "1980-2004 for spin up, and 2005-2014 for evaluation  \n",
    "Yan et al. median/mean daily KGE is 0.119/-0.495 based on default parameters. \n",
    "Sean's old CAMELS mesh and surface data files are used. \n"
   ]
  },
  {
   "cell_type": "code",
   "execution_count": 1,
   "id": "79cef0ed-010b-4efe-9fd2-82c8a600118e",
   "metadata": {},
   "outputs": [],
   "source": [
    "import os, sys, glob, subprocess, pathlib\n",
    "import numpy as np\n",
    "import pandas as pd\n",
    "import xarray as xr\n",
    "import geopandas as gpd\n",
    "\n",
    "import matplotlib.pyplot as plt\n",
    "\n",
    "\n",
    "# turn off all warnings (not always necessary)\n",
    "import warnings\n",
    "warnings.filterwarnings(\"ignore\")\n",
    "\n",
    "########################################################################################################################\n",
    "# define functions for calculating metrics\n",
    "\n",
    "def ismember(a, b):\n",
    "    bind = {}\n",
    "    for i, elt in enumerate(b):\n",
    "        if elt not in bind:\n",
    "            bind[elt] = i\n",
    "    ind = np.array([bind.get(itm, np.nan) for itm in a])\n",
    "    ind1 = np.where(~np.isnan(ind))[0]\n",
    "    ind2 = ind[ind1]\n",
    "    return ind1.astype(int), ind2.astype(int) # None can be replaced by any other \"not in b\" value\n",
    "\n",
    "def get_modified_KGE(obs,sim):\n",
    "    ind = (~np.isnan(obs)) & (~np.isnan(sim))\n",
    "    obs = obs[ind]\n",
    "    sim = sim[ind]\n",
    "\n",
    "    try:\n",
    "        sd_sim=np.std(sim, ddof=1)\n",
    "        sd_obs=np.std(obs, ddof=1)\n",
    "        m_sim=np.mean(sim)\n",
    "        m_obs=np.mean(obs)\n",
    "        r=(np.corrcoef(sim,obs))[0,1]\n",
    "        relvar=(float(sd_sim)/float(m_sim))/(float(sd_obs)/float(m_obs))\n",
    "        bias=float(m_sim)/float(m_obs)\n",
    "        kge=1.0-np.sqrt((r-1)**2 +(relvar-1)**2 + (bias-1)**2)\n",
    "    except:\n",
    "        kge = np.nan\n",
    "\n",
    "    return kge\n",
    "\n",
    "def kge(simulations, evaluation):\n",
    "    \"\"\"Original Kling-Gupta Efficiency (KGE) and its three components\n",
    "    (r, α, β) as per `Gupta et al., 2009\n",
    "    <https://doi.org/10.1016/j.jhydrol.2009.08.003>`_.\n",
    "\n",
    "    Note, all four values KGE, r, α, β are returned, in this order.\n",
    "\n",
    "    :Calculation Details:\n",
    "        .. math::\n",
    "           E_{\\\\text{KGE}} = 1 - \\\\sqrt{[r - 1]^2 + [\\\\alpha - 1]^2\n",
    "           + [\\\\beta - 1]^2}\n",
    "        .. math::\n",
    "           r = \\\\frac{\\\\text{cov}(e, s)}{\\\\sigma({e}) \\\\cdot \\\\sigma(s)}\n",
    "        .. math::\n",
    "           \\\\alpha = \\\\frac{\\\\sigma(s)}{\\\\sigma(e)}\n",
    "        .. math::\n",
    "           \\\\beta = \\\\frac{\\\\mu(s)}{\\\\mu(e)}\n",
    "\n",
    "        where *e* is the *evaluation* series, *s* is (one of) the\n",
    "        *simulations* series, *cov* is the covariance, *σ* is the\n",
    "        standard deviation, and *μ* is the arithmetic mean.\n",
    "\n",
    "    \"\"\"\n",
    "    # calculate error in timing and dynamics r\n",
    "    # (Pearson's correlation coefficient)\n",
    "    simulations[simulations<0]=np.nan\n",
    "    evaluation[evaluation<0]=np.nan\n",
    "    ind = (~np.isnan(simulations)) & (~np.isnan(evaluation))\n",
    "    evaluation = evaluation[ind]\n",
    "    simulations = simulations[ind]\n",
    "    \n",
    "    sim_mean = np.mean(simulations, axis=0, dtype=np.float64)\n",
    "    obs_mean = np.mean(evaluation, dtype=np.float64)\n",
    "\n",
    "    r_num = np.sum((simulations - sim_mean) * (evaluation - obs_mean),\n",
    "                   axis=0, dtype=np.float64)\n",
    "    r_den = np.sqrt(np.sum((simulations - sim_mean) ** 2,\n",
    "                           axis=0, dtype=np.float64)\n",
    "                    * np.sum((evaluation - obs_mean) ** 2,\n",
    "                             dtype=np.float64))\n",
    "    r = r_num / r_den\n",
    "    # calculate error in spread of flow alpha\n",
    "    alpha = np.std(simulations, axis=0) / np.std(evaluation, dtype=np.float64)\n",
    "    # calculate error in volume beta (bias of mean discharge)\n",
    "    beta = (np.sum(simulations, axis=0, dtype=np.float64)\n",
    "            / np.sum(evaluation, dtype=np.float64))\n",
    "    # calculate the Kling-Gupta Efficiency KGE\n",
    "    kge_ = 1 - np.sqrt((r - 1) ** 2 + (alpha - 1) ** 2 + (beta - 1) ** 2)\n",
    "\n",
    "    return np.vstack((kge_, r, alpha, beta))\n",
    "\n",
    "\n",
    "def get_RMSE(obs,sim):\n",
    "    rmse = np.sqrt(np.nanmean(np.power((sim - obs),2)))\n",
    "    return rmse\n",
    "\n",
    "def get_mean_error(obs, sim):\n",
    "    bias_err = np.nanmean(sim - obs)\n",
    "    abs_err = np.nanmean(np.absolute(sim - obs))\n",
    "    return bias_err, abs_err\n",
    "\n",
    "def get_max_abs_error(d1, d2):\n",
    "    return np.nanmax(np.abs(d1-d2))\n",
    "\n",
    "########################################################################################################################\n",
    "# define functions for reading CTSM outputs\n",
    "\n",
    "def main_read_CTSM_streamflow(fsurdat, CTSMfilelist, date_start, date_end, clm_q_name):\n",
    "    ########################################################################################################################\n",
    "    # read files\n",
    "    ds_simu_hs = xr.open_mfdataset(CTSMfilelist)\n",
    "    \n",
    "    # ds_simu_hs['QRUNOFF'] = ds_simu_hs['QOVER'] + ds_simu_hs['QDRAI']\n",
    "    \n",
    "    ds_simu_hs = ds_simu_hs[[clm_q_name]]\n",
    "\n",
    "    if date_start == 'default' or date_end == 'default':\n",
    "        print(\n",
    "            'Either date_start or date_end is default. Evaluation period will be the overlapped period of referene data and simulations')\n",
    "    else:\n",
    "        ds_simu_hs = ds_simu_hs.sel(time=slice(date_start, date_end))\n",
    "\n",
    "    ds_simu_hs = ds_simu_hs.load()\n",
    "\n",
    "    # change time format\n",
    "    ds_simu_hs['time'] = ds_simu_hs.indexes['time'].to_datetimeindex()\n",
    "\n",
    "    ########################################################################################################################\n",
    "    # get the area of a basin to convert the unit of QRUNOFF from mm/s to m3/s\n",
    "\n",
    "    with xr.open_dataset(fsurdat) as ds_surdat:\n",
    "        area = ds_surdat.AREA.values\n",
    "\n",
    "    # calculate streamflow: although mean is used, for Sean's setting, only one basin should be allowed effective in the calibration\n",
    "    # streamflow? Use mean for this test\n",
    "    ds_simu_hs[clm_q_name].values = (ds_simu_hs[clm_q_name].values / 1000) * (area * 1e6)  # raw q: mm/s; raw area km2; target: m3/s\n",
    "\n",
    "    return ds_simu_hs\n",
    "\n",
    "\n",
    "########################################################################################################################\n",
    "# define functions for reading CAMELS data\n",
    "\n",
    "def read_CAMELS_Q(file_Qobs):\n",
    "    df_q_in = pd.read_csv(file_Qobs, delim_whitespace=True, header=None)\n",
    "    years = df_q_in[1].values\n",
    "    months = df_q_in[2].values\n",
    "    days = df_q_in[3].values\n",
    "    dates = [f'{years[i]}-{months[i]:02}-{days[i]:02}' for i in range(len(years))]\n",
    "    q_obs = df_q_in[4].values * 0.028316847  # cfs to cms\n",
    "    q_obs[q_obs < 0] = -9999.0\n",
    "    df_q_out = pd.DataFrame({'Date': dates, 'Runoff_cms': q_obs})\n",
    "    return df_q_out\n",
    "\n",
    "def read_CAMELS_Q_and_to_xarray(ref_streamflow, ref_q_date, ref_q_name):\n",
    "    ########################################################################################################################\n",
    "    # load observation streamflow\n",
    "    print('Use streamflow reference file:', ref_streamflow)\n",
    "    df_q_obs = pd.read_csv(ref_streamflow)\n",
    "    ds_q_obs = xr.Dataset()\n",
    "    ds_q_obs.coords['time'] = pd.to_datetime(df_q_obs[ref_q_date].values)\n",
    "    ds_q_obs[ref_q_name] = xr.DataArray(df_q_obs[ref_q_name].values, dims=['time']) # flexible time\n",
    "    for i in range(10000):\n",
    "        coli = ref_q_name + str(i)\n",
    "        if coli in df_q_obs.columns:\n",
    "            ds_q_obs[coli] = xr.DataArray(df_q_obs[coli].values, dims=['time'])  # flexible time\n",
    "        else:\n",
    "            break\n",
    "    return ds_q_obs\n",
    "\n",
    "\n",
    "def add_upstream_flow(add_flow_file, ds_simu_hs, ref_q_date, ref_q_name, clm_q_name):\n",
    "    ########################################################################################################################\n",
    "    # add upstream flows to simulated streamflow\n",
    "\n",
    "    add_flow_file = [f for f in add_flow_file.split(',') if len(f)>0]\n",
    "    if len(add_flow_file) > 0:\n",
    "        add_flow_file2 = []\n",
    "        for f in add_flow_file:\n",
    "            if not os.path.isfile(f):\n",
    "                print('File does not exist:', f)\n",
    "                print('Remove it from add flow file list')\n",
    "            else:\n",
    "                add_flow_file2.append(f)\n",
    "        add_flow_file = add_flow_file2\n",
    "\n",
    "    if len(add_flow_file) > 0:\n",
    "        print('Flow files will be added to the incremental downstream basin:', add_flow_file)\n",
    "        q_dd = np.zeros(len(ds_simu_hs.time))\n",
    "        num = np.zeros(len(ds_simu_hs.time))\n",
    "        time0 = ds_simu_hs.time.values\n",
    "        for i in range(len(add_flow_file)):\n",
    "            df_addi = read_CAMELS_Q(add_flow_file[i])\n",
    "            # df_addi = pd.read_csv(add_flow_file[i])\n",
    "            timei = pd.to_datetime(df_addi[ref_q_date].values)\n",
    "            ind1, ind2 = ismember(np.array(timei), time0)\n",
    "            q_dd[ind2] = q_dd[ind2] + df_addi[ref_q_name].values[ind1]\n",
    "            num[ind2] = num[ind2] + 1\n",
    "        q_dd[num==0] = np.nan\n",
    "\n",
    "        ds_simu_hs[clm_q_name].values = ds_simu_hs[clm_q_name].values + q_dd\n",
    "        ratio = np.sum(~np.isnan(ds_simu_hs[clm_q_name].values)) / len(ds_simu_hs[clm_q_name].values)\n",
    "        if ratio < 0.5:\n",
    "            print('Warning!!!')\n",
    "        print(f'The valid ratio of simulated streamflow is {ratio} after add upstream flow')\n",
    "\n",
    "    return ds_simu_hs\n",
    "\n"
   ]
  },
  {
   "cell_type": "markdown",
   "id": "f5823185-76e4-4872-8949-ee5bc6a7906c",
   "metadata": {},
   "source": [
    "# Yan et al results"
   ]
  },
  {
   "cell_type": "code",
   "execution_count": 3,
   "id": "0202b28e-aed7-4e70-94bb-ff953b8ec39b",
   "metadata": {},
   "outputs": [
    {
     "name": "stdout",
     "output_type": "stream",
     "text": [
      "median daily kge of 464 basins 0.119\n",
      "mean daily kge of 464 basins -0.4951120689655173\n"
     ]
    }
   ],
   "source": [
    "\n",
    "df_met_YH = pd.read_csv('/glade/scratch/guoqiang/CLM5_CAMELS_HY/NLDAS2_forcing/Flow_ET_metrics/CLM5_default_parameter_28_metrics.csv')\n",
    "df_met_YH\n",
    "print('median daily kge of 464 basins', np.nanmedian(df_met_YH['Daily_KGE']))\n",
    "print('mean daily kge of 464 basins', np.nanmean(df_met_YH['Daily_KGE']))"
   ]
  },
  {
   "cell_type": "code",
   "execution_count": 4,
   "id": "9d2a97b5-5f0b-4fac-961c-4636f4561a50",
   "metadata": {},
   "outputs": [
    {
     "data": {
      "image/png": "[encoded data removed]",
      "text/plain": [
       "<Figure size 576x576 with 4 Axes>"
      ]
     },
     "metadata": {
      "needs_background": "light"
     },
     "output_type": "display_data"
    }
   ],
   "source": [
    "# KGE components of all basins\n",
    "\n",
    "kge_YH_all_com = np.zeros([len(df_met_YH), 4])\n",
    "\n",
    "for i in range(len(df_met_YH)):\n",
    "    bi = df_met_YH.iloc[i]['Basin_ID']\n",
    "    df_flow_YH = pd.read_csv(f'/glade/scratch/guoqiang/CLM5_CAMELS_HY/NLDAS2_forcing/Flow_series_default_parameter/{bi:08}_daily.csv')\n",
    "    sim = df_flow_YH['sim_flow_m3/s'].values\n",
    "    obs = df_flow_YH[' obs_flow_m3/s'].values\n",
    "    obs = np.array([float(i) for i in obs])\n",
    "\n",
    "    kge_YH_all_com[i, :] = np.squeeze(kge(sim, obs))\n",
    "\n",
    "\n",
    "fig, axs = plt.subplots(2, 2, figsize=[8, 8])\n",
    "\n",
    "ax = axs[0, 0]\n",
    "ax.hist(kge_YH_all_com[:,0], np.arange(-1, 1, 0.1))\n",
    "ax.set_title('KGE')\n",
    "\n",
    "ax = axs[0, 1]\n",
    "ax.hist(kge_YH_all_com[:,1], np.arange(-1, 1, 0.1))\n",
    "ax.set_title('r')\n",
    "\n",
    "ax = axs[1, 0]\n",
    "ax.hist(kge_YH_all_com[:,1], np.arange(0, 2, 0.1))\n",
    "ax.set_title('alpha')\n",
    "\n",
    "ax = axs[1, 1]\n",
    "ax.hist(kge_YH_all_com[:,1], np.arange(0, 2, 0.1))\n",
    "ax.set_title('beta')\n",
    "\n",
    "plt.tight_layout()\n",
    "plt.show()"
   ]
  },
  {
   "cell_type": "code",
   "execution_count": 5,
   "id": "6b16cf31-af56-4f9f-80df-f930ca57db39",
   "metadata": {},
   "outputs": [
    {
     "name": "stdout",
     "output_type": "stream",
     "text": [
      "Yan metric table daily KGE: [0.069]\n",
      "Calculated using my functions\n",
      "kge_, r, alpha, beta\n",
      "[0.06925164 0.42561595 1.6942271  1.23328998]\n"
     ]
    },
    {
     "data": {
      "image/png": "[encoded data removed]",
      "text/plain": [
       "<Figure size 432x288 with 1 Axes>"
      ]
     },
     "metadata": {
      "needs_background": "light"
     },
     "output_type": "display_data"
    }
   ],
   "source": [
    "# check one basin\n",
    "\n",
    "# checkbasin = 1031500\n",
    "checkbasin = 1047000\n",
    "print('Yan metric table daily KGE:', df_met_YH.loc[df_met_YH['Basin_ID']==checkbasin]['Daily_KGE'].values)\n",
    "\n",
    "df_flow_YH = pd.read_csv(f'/glade/scratch/guoqiang/CLM5_CAMELS_HY/NLDAS2_forcing/Flow_series_default_parameter/{checkbasin:08}_daily.csv')\n",
    "sim = df_flow_YH['sim_flow_m3/s'].values\n",
    "obs = df_flow_YH[' obs_flow_m3/s'].values\n",
    "obs = np.array([float(i) for i in obs])\n",
    "\n",
    "print('Calculated using my functions')\n",
    "print('kge_, r, alpha, beta')\n",
    "print(np.squeeze(kge(sim, obs)))\n",
    "\n",
    "plt.plot(obs, label='obs')\n",
    "plt.plot(sim, label='sim')\n",
    "plt.legend()\n",
    "plt.title(checkbasin)\n",
    "plt.show()"
   ]
  },
  {
   "cell_type": "markdown",
   "id": "6d14679c-4d1f-43e6-ab57-f8db05721dc0",
   "metadata": {},
   "source": [
    "# Simulation using Sean's old setting of CTSM-Hillslope hydrology + CAMELS"
   ]
  },
  {
   "cell_type": "markdown",
   "id": "7415933a-a336-41eb-9c31-4fe7d3244d9a",
   "metadata": {},
   "source": [
    "## link Sean's mesh grids to CAMELS IDs\n",
    "Sean's mesh files have a different basin number. A simple but strict criteria is used"
   ]
  },
  {
   "cell_type": "code",
   "execution_count": 6,
   "id": "06f65af7-5646-43d5-9c77-c69d584ecc35",
   "metadata": {},
   "outputs": [],
   "source": [
    "file_mesh = '/glade/work/swensosc/polygons/esmf_mesh_files/ESMFmesh_ctsm_HCDN_nhru_final_671_v0_8e-3.nc'\n",
    "file_surfdata = '/glade/work/swensosc/polygons/sfcdata/surfdata_CAMELS_8e-3_hist_78pfts_CMIP6_simyr2000_HAND_hillslope_geo_params_section_quad_20Chunk.nc'\n",
    "\n",
    "ds_mesh = xr.open_dataset(file_mesh)\n",
    "ds_surf = xr.open_dataset(file_surfdata)\n",
    "\n",
    "mesh_latcen = ds_mesh.centerCoords.values[:,1]\n",
    "mesh_loncen = ds_mesh.centerCoords.values[:,0] - 360\n",
    "mesh_area = ds_mesh.elementArea.values\n",
    "surf_area = ds_surf.AREA.values\n"
   ]
  },
  {
   "cell_type": "code",
   "execution_count": 7,
   "id": "9db27b9b-4121-4ecf-b99d-156192076991",
   "metadata": {},
   "outputs": [],
   "source": [
    "file_shp = '/glade/p/ral/hap/common_data/camels/shapefile/HCDN_nhru_final_671.shp'\n",
    "file_binfo = '/glade/p/ral/hap/common_data/camels/obs_flow_met/basin_dataset_public_v1p2/basin_metadata/basin_physical_characteristics.txt'\n",
    "\n",
    "camels_shp = gpd.read_file(file_shp)\n",
    "camels_info = pd.read_csv(file_binfo, delim_whitespace=True)\n",
    "\n",
    "shp_lat= camels_shp.centroid.y.values\n",
    "shp_lon= camels_shp.centroid.x.values"
   ]
  },
  {
   "cell_type": "code",
   "execution_count": 10,
   "id": "a8037b53-267b-47a8-b1c9-9b3653b4764b",
   "metadata": {},
   "outputs": [
    {
     "name": "stdout",
     "output_type": "stream",
     "text": [
      "Raw mesh baisn number: 587\n",
      "After-match mesh baisn number: 557\n"
     ]
    }
   ],
   "source": [
    "mesh_to_camels_id = np.nan * np.ones(len(mesh_latcen))\n",
    "mesh_to_camels_shp = [ [] ] * len(mesh_latcen)\n",
    "mesh_to_camels_area1 = np.nan * np.ones(len(mesh_latcen))\n",
    "mesh_to_camels_area2 = np.nan * np.ones(len(mesh_latcen))\n",
    "\n",
    "for i in range(len(mesh_latcen)):\n",
    "    disti = ( (mesh_latcen[i] - shp_lat)**2 + (mesh_loncen[i] - shp_lon)**2 ) ** 0.5\n",
    "    indi = np.argmin(disti)\n",
    "    if disti[indi]<0.01:\n",
    "        mesh_to_camels_id[i] = camels_shp.iloc[indi]['hru_id']\n",
    "        mesh_to_camels_shp[i] = camels_shp[indi:indi+1]      \n",
    "        mesh_to_camels_area1[i] = camels_shp.iloc[indi]['AREA']\n",
    "        mesh_to_camels_area2[i] = camels_info.loc[camels_info['BASIN_ID']==mesh_to_camels_id[i]]['Size(km2)'].values[0]\n",
    "\n",
    "print('Raw mesh baisn number:', len(mesh_latcen))\n",
    "print('After-match mesh baisn number:', np.sum(~np.isnan(mesh_to_camels_id)))"
   ]
  },
  {
   "cell_type": "code",
   "execution_count": 11,
   "id": "aace652d-ca0d-4bad-bfb8-2471cc58b303",
   "metadata": {},
   "outputs": [
    {
     "data": {
      "image/png": "[encoded data removed]",
      "text/plain": [
       "<Figure size 432x288 with 1 Axes>"
      ]
     },
     "metadata": {
      "needs_background": "light"
     },
     "output_type": "display_data"
    }
   ],
   "source": [
    "# compare surface data area and basin information provided by CAMELS\n",
    "plt.hist(surf_area / mesh_to_camels_area2, np.arange(0.5, 1.5, 0.02))\n",
    "plt.show()"
   ]
  },
  {
   "cell_type": "markdown",
   "id": "2316b467-81a2-42f7-9848-ebf5bc06eba2",
   "metadata": {},
   "source": [
    "## evaluate"
   ]
  },
  {
   "cell_type": "code",
   "execution_count": 13,
   "id": "e2c51e94-fd8d-4ad7-8089-e5882882c9c0",
   "metadata": {},
   "outputs": [],
   "source": [
    "CTSMfilelist = glob.glob('/glade/scratch/guoqiang/CTSM_outputs/CAMELS_Calib/Distr_Calib_split_nest/CAMELS_test_HS_MOSART/archive/CAMELS_test_HS_MOSART_NewSurf/lnd/hist/*.clm2.h1.*.nc')\n",
    "CTSMfilelist.sort()\n",
    "fsurdat = '/glade/work/swensosc/polygons/sfcdata/surfdata_CAMELS_8e-3_hist_78pfts_CMIP6_simyr2000_HAND_hillslope_geo_params_section_quad_20Chunk.nc'\n",
    "\n",
    "\n",
    "ref_streamflow = '/glade/work/guoqiang/CTSM_cases/CAMELS_Calib/CAMLES_q_split_nest/All_CAMELS_Q_postprocess.csv'\n",
    "\n",
    "clm_q_name = 'QRUNOFF'  # default runoff variable name\n",
    "clm_q_sdim = 'lndgrid'  # spatial dim name\n",
    "ref_q_name = 'Runoff_cms'\n",
    "ref_q_date = 'Date'\n",
    "\n",
    "\n",
    "date_start = '2005-01-01'\n",
    "date_end = '2014-12-31'"
   ]
  },
  {
   "cell_type": "code",
   "execution_count": 15,
   "id": "80a09686-4d63-4c48-b04c-5de9e9ccbec3",
   "metadata": {},
   "outputs": [
    {
     "name": "stdout",
     "output_type": "stream",
     "text": [
      "Evaluation result: kge_q_median=0.14321683081795156\n",
      "Evaluation result: kge_q_mean=-1.7992512051408653\n"
     ]
    }
   ],
   "source": [
    "\n",
    "########################################################################################################################\n",
    "# load CTSM streamflow (m3/s)\n",
    "ds_simu_hs = main_read_CTSM_streamflow(fsurdat, CTSMfilelist, date_start, date_end, clm_q_name)\n",
    "ds_simu_hs = ds_simu_hs.transpose('time', clm_q_sdim)\n",
    "\n",
    "########################################################################################################################\n",
    "# load CAMELS observation streamflow (m3/s)\n",
    "df_q_obs = pd.read_csv(ref_streamflow)\n",
    "\n",
    "\n",
    "df_q_obs2 = df_q_obs[['Date']]\n",
    "\n",
    "idfill = df_q_obs.columns[1]\n",
    "dffill = df_q_obs[ [idfill] ].copy()\n",
    "dffill.loc[:] = np.nan\n",
    "\n",
    "\n",
    "for i in mesh_to_camels_id:\n",
    "    \n",
    "    if ~np.isnan(i) and i>0:\n",
    "        idi = str(int(i))\n",
    "        dfi = df_q_obs[ [idi] ]\n",
    "        \n",
    "    else:\n",
    "        dfi = dffill.rename({idfill: idi})\n",
    "        \n",
    "    df_q_obs2 = pd.concat([df_q_obs2, dfi], axis=1)\n",
    "\n",
    "df_q_obs = df_q_obs2\n",
    "\n",
    "ds_q_obs = xr.Dataset()\n",
    "ds_q_obs.coords['time'] = pd.to_datetime(df_q_obs[ref_q_date].values)\n",
    "ds_q_obs[ref_q_name] = xr.DataArray(df_q_obs.values[:, 1:], dims=['time', clm_q_sdim]) # flexible time\n",
    "\n",
    "########################################################################################################################\n",
    "# evaluation\n",
    "\n",
    "ds_q_obs = ds_q_obs.sel(time=ds_q_obs.time.isin(ds_simu_hs.time))\n",
    "ds_simu_hs = ds_simu_hs.sel(time=ds_simu_hs.time.isin(ds_q_obs.time))\n",
    "\n",
    "d1 = ds_q_obs[ref_q_name].values\n",
    "d2 = ds_simu_hs[clm_q_name].values\n",
    "d1[d1 < 0] = np.nan\n",
    "d2[d2 < 0] = np.nan\n",
    "ds_q_obs[ref_q_name].values = d1\n",
    "ds_simu_hs[clm_q_name].values = d2\n",
    "\n",
    "kge_hs_all = np.zeros([d1.shape[1], 4])\n",
    "for i in range(d1.shape[1]):\n",
    "    \n",
    "    simui = d2[:,i]\n",
    "    obsi = ds_q_obs\n",
    "    \n",
    "    kge_q = kge(d2[:,i], d1[:,i].astype(np.float64))\n",
    "    kge_hs_all[i] = np.squeeze(kge_q)\n",
    "    \n",
    "kge_hs_median = np.nanmedian(kge_hs_all[:,0])\n",
    "kge_hs_mean = np.nanmean(kge_hs_all[:,0])\n",
    "print(f'Evaluation result: kge_q_median={kge_hs_median}')\n",
    "print(f'Evaluation result: kge_q_mean={kge_hs_mean}')"
   ]
  },
  {
   "cell_type": "code",
   "execution_count": 16,
   "id": "3aafc8da-e4d8-478e-be02-f33df6a87c1d",
   "metadata": {},
   "outputs": [
    {
     "data": {
      "image/png": "[encoded data removed]",
      "text/plain": [
       "<Figure size 576x576 with 4 Axes>"
      ]
     },
     "metadata": {
      "needs_background": "light"
     },
     "output_type": "display_data"
    }
   ],
   "source": [
    "fig, axs = plt.subplots(2, 2, figsize=[8, 8])\n",
    "\n",
    "ax = axs[0, 0]\n",
    "ax.hist(kge_hs_all[:,0], np.arange(-1, 1, 0.1))\n",
    "ax.set_title('KGE')\n",
    "\n",
    "ax = axs[0, 1]\n",
    "ax.hist(kge_hs_all[:,1], np.arange(-1, 1, 0.1))\n",
    "ax.set_title('r')\n",
    "\n",
    "ax = axs[1, 0]\n",
    "ax.hist(kge_hs_all[:,1], np.arange(0, 2, 0.1))\n",
    "ax.set_title('alpha')\n",
    "\n",
    "ax = axs[1, 1]\n",
    "ax.hist(kge_hs_all[:,1], np.arange(0, 2, 0.1))\n",
    "ax.set_title('beta')\n",
    "\n",
    "plt.tight_layout()\n",
    "plt.show()"
   ]
  },
  {
   "cell_type": "markdown",
   "id": "7d20052f-adff-408b-922b-a32480cad920",
   "metadata": {},
   "source": [
    "## results for the checked basin"
   ]
  },
  {
   "cell_type": "code",
   "execution_count": 17,
   "id": "fbe24d02-4083-46f3-90a4-a6ff2cdd6c86",
   "metadata": {},
   "outputs": [
    {
     "name": "stdout",
     "output_type": "stream",
     "text": [
      "kge: [0.42097239]\n",
      "kge all: [0.42097239 0.59681216 1.4107784  0.93696317]\n"
     ]
    }
   ],
   "source": [
    "index = np.where(df_q_obs.columns[1:] == str(checkbasin))[0][0]\n",
    "print('kge:', kge_q_all[index])\n",
    "print('kge all:', kge_hs_all[index])"
   ]
  },
  {
   "cell_type": "code",
   "execution_count": 18,
   "id": "8b505426-c124-402d-bf48-ec20ccaad30b",
   "metadata": {},
   "outputs": [
    {
     "data": {
      "image/png": "[encoded data removed]",
      "text/plain": [
       "<Figure size 720x360 with 2 Axes>"
      ]
     },
     "metadata": {
      "needs_background": "light"
     },
     "output_type": "display_data"
    }
   ],
   "source": [
    "# compare to my own observed streamflow to make sure they are the same\n",
    "\n",
    "file = f'/glade/p/ral/hap/common_data/camels/obs_flow_met/basin_dataset_public_v1p2/usgs_streamflow/all/{checkbasin:08}_streamflow_qc.txt'\n",
    "df_raw = pd.read_csv(file, delim_whitespace=True, header=None)\n",
    "df_raw[4] = df_raw[4]*0.0283168\n",
    "df_raw = df_raw.loc[df_raw[1]>=2005]\n",
    "\n",
    "\n",
    "ref_streamflow = '/glade/work/guoqiang/CTSM_cases/CAMELS_Calib/CAMLES_q_split_nest/All_CAMELS_Q_postprocess.csv'\n",
    "df_q_obs = pd.read_csv(ref_streamflow)\n",
    "\n",
    "v1 = df_flow_YH[' obs_flow_m3/s'].values\n",
    "v1 = np.array([float(i) for i in v1])\n",
    "\n",
    "ind = (df_raw[2].values==2) & (df_raw[3].values==29)\n",
    "v2 = df_raw.loc[df_raw[1]>=2005][4].values\n",
    "v3 = df_q_obs.loc[df_q_obs['Date']>='2005-01-01'][str(checkbasin)].values\n",
    "v2 = v2[~ind]\n",
    "v3 = v3[~ind]\n",
    "v2[v2<0]=np.nan\n",
    "v3[v3<0]=np.nan\n",
    "\n",
    "fig, axs = plt.subplots(1, 2, figsize=[10, 5])\n",
    "\n",
    "axi = axs[0]\n",
    "axi.hist(v1-v3)\n",
    "axi.set_title(f'GT VS YH observed Q for {checkbasin}')\n",
    "axi.set_xlabel('difference')\n",
    "\n",
    "d2 = ds_simu_hs[clm_q_name].values\n",
    "d1[d1 < 0] = np.nan\n",
    "d2[d2 < 0] = np.nan\n",
    "\n",
    "\n",
    "\n",
    "# plot simu\n",
    "ind = np.where(df_q_obs.columns[1:]==str(checkbasin))[0][0]\n",
    "v4 = ds_simu_hs[clm_q_name].values[:, ind]\n",
    "\n",
    "axi = axs[1]\n",
    "axi.plot(v3, label='obs')\n",
    "axi.plot(v4, label='sim')\n",
    "plt.legend()\n",
    "\n",
    "plt.show()"
   ]
  },
  {
   "cell_type": "markdown",
   "id": "3faba850-f28e-45f1-bf32-193b290c31a3",
   "metadata": {},
   "source": [
    "# Compare results for the same basins\n",
    "Different simulations may use different basins"
   ]
  },
  {
   "cell_type": "code",
   "execution_count": 19,
   "id": "4da6a4c0-6ac8-4af8-b9ff-4feade815b40",
   "metadata": {},
   "outputs": [],
   "source": [
    "kge_compare_my = []\n",
    "kge_compare_yh = []\n",
    "\n",
    "for i in range(len(mesh_to_camels_id)):\n",
    "    idi = mesh_to_camels_id[i]\n",
    "    if idi>0:\n",
    "        idi = int(idi)\n",
    "        if idi in df_met_YH['Basin_ID'].values:\n",
    "            kge_compare_my.append(kge_hs_all[i, :])\n",
    "            indi = np.where(df_met_YH['Basin_ID'].values == idi)[0][0]\n",
    "            kge_compare_yh.append(kge_YH_all_com[indi, :])\n"
   ]
  },
  {
   "cell_type": "code",
   "execution_count": 22,
   "id": "44c49c43-4a92-44ed-81f0-c4e49054492f",
   "metadata": {},
   "outputs": [
    {
     "name": "stdout",
     "output_type": "stream",
     "text": [
      "##########\n",
      "YH median KGE and its three components: [0.13694777 0.43260489 1.25549488 1.11640591]\n",
      "GT median KGE and its three components: [0.15644852 0.34548015 1.28996938 1.07446324]\n",
      "##########\n",
      "YH mean KGE and its three components: [-0.44037956  0.41969675  1.54598254  1.5840581 ]\n",
      "GT mean KGE and its three components: [-0.57898824  0.34355371  1.56488255  1.74028299]\n"
     ]
    }
   ],
   "source": [
    "kge_compare_my = np.array(kge_compare_my)\n",
    "kge_compare_yh = np.array(kge_compare_yh)\n",
    "print('##########')\n",
    "print('YH median KGE and its three components:', np.nanmedian(kge_compare_yh, axis=0))\n",
    "print('GT median KGE and its three components:', np.nanmedian(kge_compare_my, axis=0))\n",
    "print('##########')\n",
    "print('YH mean KGE and its three components:', np.nanmean(kge_compare_yh, axis=0))\n",
    "print('GT mean KGE and its three components:', np.nanmean(kge_compare_my, axis=0))"
   ]
  },
  {
   "cell_type": "markdown",
   "id": "df8152ed-b460-48dd-b6cf-b650041fdc95",
   "metadata": {},
   "source": [
    "# Simulation using standard CTSM without hillslope hydrology"
   ]
  },
  {
   "cell_type": "code",
   "execution_count": 23,
   "id": "72f549f1-da1b-46c1-a811-6d00dcac0922",
   "metadata": {},
   "outputs": [],
   "source": [
    "CTSMfilelist = glob.glob('/glade/scratch/guoqiang/CTSM_outputs/CAMELS_Calib/Distr_Calib_split_nest/CAMELS_test/archive/CAMELS_test_80to14/lnd/hist/*.clm2.h1.*.nc')\n",
    "CTSMfilelist.sort()\n",
    "fsurdat = '/glade/work/guoqiang/CTSM_cases/CAMELS_Calib/shared_data_Sean/surfdata_CAMELS_split_nested_hist_78pfts_CMIP6_simyr2000_c230105.nc'\n",
    "date_start = '2005-01-01'\n",
    "date_end = '2014-12-31'"
   ]
  },
  {
   "cell_type": "code",
   "execution_count": 24,
   "id": "73614ddd-f5a3-431e-8076-b4a08be6e5f0",
   "metadata": {},
   "outputs": [
    {
     "name": "stdout",
     "output_type": "stream",
     "text": [
      "Evaluation result: kge_q_median=-0.6629103381414541\n",
      "Evaluation result: kge_q_mean=-13.580480343914692\n"
     ]
    }
   ],
   "source": [
    "ref_streamflow = '/glade/work/guoqiang/CTSM_cases/CAMELS_Calib/CAMLES_q_split_nest/All_CAMELS_Q_postprocess.csv'\n",
    "\n",
    "######## default variable names\n",
    "clm_q_name = 'QRUNOFF'  # default runoff variable name\n",
    "clm_q_sdim = 'lndgrid'  # spatial dim name\n",
    "ref_q_name = 'Runoff_cms'\n",
    "ref_q_date = 'Date'\n",
    "\n",
    "########################################################################################################################\n",
    "# load CTSM streamflow (m3/s)\n",
    "ds_simu = main_read_CTSM_streamflow(fsurdat, CTSMfilelist, date_start, date_end, clm_q_name)\n",
    "ds_simu = ds_simu.transpose('time', clm_q_sdim)\n",
    "\n",
    "########################################################################################################################\n",
    "# load CAMELS observation streamflow (m3/s)\n",
    "df_q_obs = pd.read_csv(ref_streamflow)\n",
    "ds_q_obs = xr.Dataset()\n",
    "ds_q_obs.coords['time'] = pd.to_datetime(df_q_obs[ref_q_date].values)\n",
    "ds_q_obs[ref_q_name] = xr.DataArray(df_q_obs.values[:, 1:], dims=['time', clm_q_sdim]) # flexible time\n",
    "\n",
    "########################################################################################################################\n",
    "# evaluation\n",
    "\n",
    "ds_q_obs = ds_q_obs.sel(time=ds_q_obs.time.isin(ds_simu.time))\n",
    "ds_simu = ds_simu.sel(time=ds_simu.time.isin(ds_q_obs.time))\n",
    "\n",
    "d1 = ds_q_obs[ref_q_name].values\n",
    "d2 = ds_simu[clm_q_name].values\n",
    "d1[d1 < 0] = np.nan\n",
    "d2[d2 < 0] = np.nan\n",
    "ds_q_obs[ref_q_name].values = d1\n",
    "ds_simu[clm_q_name].values = d2\n",
    "\n",
    "kge_nhs_all = np.zeros([d1.shape[1], 4])\n",
    "for i in range(d1.shape[1]):\n",
    "    # kge_q = get_modified_KGE(obs=d1[:,i].astype(np.float64), sim=d2[:,i])\n",
    "    kge_q = kge(d2[:,i], d1[:,i].astype(np.float64))\n",
    "    kge_nhs_all[i] = np.squeeze(kge_q)\n",
    "    \n",
    "kge_nhs_median = np.nanmedian(kge_nhs_all[:,0])\n",
    "kge_nhs_mean = np.nanmean(kge_nhs_all[:,0])\n",
    "print(f'Evaluation result: kge_q_median={kge_nhs_median}')\n",
    "print(f'Evaluation result: kge_q_mean={kge_nhs_mean}')\n"
   ]
  },
  {
   "cell_type": "code",
   "execution_count": 25,
   "id": "879f6bd6-373d-49a1-8ea0-559dae0a4b3e",
   "metadata": {},
   "outputs": [
    {
     "data": {
      "image/png": "[encoded data removed]",
      "text/plain": [
       "<Figure size 576x576 with 4 Axes>"
      ]
     },
     "metadata": {
      "needs_background": "light"
     },
     "output_type": "display_data"
    }
   ],
   "source": [
    "fig, axs = plt.subplots(2, 2, figsize=[8, 8])\n",
    "\n",
    "ax = axs[0, 0]\n",
    "ax.hist(kge_q_all_com[:,0], np.arange(-1, 1, 0.1))\n",
    "ax.set_title('KGE')\n",
    "\n",
    "ax = axs[0, 1]\n",
    "ax.hist(kge_q_all_com[:,1], np.arange(-1, 1, 0.1))\n",
    "ax.set_title('r')\n",
    "\n",
    "ax = axs[1, 0]\n",
    "ax.hist(kge_q_all_com[:,1], np.arange(0, 2, 0.1))\n",
    "ax.set_title('alpha')\n",
    "\n",
    "ax = axs[1, 1]\n",
    "ax.hist(kge_q_all_com[:,1], np.arange(0, 2, 0.1))\n",
    "ax.set_title('beta')\n",
    "\n",
    "plt.tight_layout()\n",
    "plt.show()"
   ]
  },
  {
   "cell_type": "markdown",
   "id": "e9989bd5-6ae1-4485-b8ac-5a8cf6ef1dad",
   "metadata": {},
   "source": [
    "# Compare results for the same basins\n",
    "Different simulations may use different basins"
   ]
  },
  {
   "cell_type": "code",
   "execution_count": 33,
   "id": "976c434a-b102-4528-9680-8bbd00ede941",
   "metadata": {},
   "outputs": [],
   "source": [
    "kge_compare_hs = []\n",
    "kge_compare_nhs = []\n",
    "kge_compare_yh = []\n",
    "\n",
    "for i in range(len(mesh_to_camels_id)):\n",
    "    idi = mesh_to_camels_id[i]\n",
    "    if idi>0:\n",
    "        idi = int(idi)\n",
    "        if idi in df_met_YH['Basin_ID'].values:\n",
    "            kge_compare_hs.append(kge_hs_all[i, :])\n",
    "            indi = np.where(df_met_YH['Basin_ID'].values == idi)[0][0]\n",
    "            kge_compare_yh.append(kge_YH_all_com[indi, :])\n",
    "        \n",
    "        indi = np.where(df_q_obs.columns[1:] == str(idi))[0][0]\n",
    "        kge_compare_nhs.append(kge_nhs_all[indi, :])\n",
    "        \n",
    "\n",
    "kge_compare_hs = np.array(kge_compare_hs)\n",
    "kge_compare_yh = np.array(kge_compare_yh)\n",
    "kge_compare_nhs = np.array(kge_compare_nhs)\n"
   ]
  },
  {
   "cell_type": "code",
   "execution_count": 34,
   "id": "6437571d-d5d2-4531-b1fa-39badd88a34d",
   "metadata": {},
   "outputs": [
    {
     "name": "stdout",
     "output_type": "stream",
     "text": [
      "##########\n",
      "YH median KGE and its three components: [0.13694777 0.43260489 1.25549488 1.11640591]\n",
      "Hillslope median KGE and its three components: [0.14321683 0.33636739 1.31696091 1.08773753]\n",
      "Non-hillslope median KGE and its three components: [-0.66291034  0.03144897  1.01661792  1.32984395]\n",
      "##########\n",
      "YH mean KGE and its three components: [-0.44037956  0.41969675  1.54598254  1.5840581 ]\n",
      "Hillslope mean KGE and its three components: [-1.79925121  0.33445419  2.30806742  2.69959163]\n",
      "Non-hillslope mean KGE and its three components: [-13.58048034   0.05611101   8.14047302  11.44015699]\n"
     ]
    }
   ],
   "source": [
    "# \n",
    "print('##########')\n",
    "print('YH median KGE and its three components:', np.nanmedian(kge_compare_yh, axis=0))\n",
    "print('Hillslope median KGE and its three components:', np.nanmedian(kge_hs_all, axis=0))\n",
    "print('Non-hillslope median KGE and its three components:', np.nanmedian(kge_nhs_all, axis=0))\n",
    "print('##########')\n",
    "print('YH mean KGE and its three components:', np.nanmean(kge_compare_yh, axis=0))\n",
    "print('Hillslope mean KGE and its three components:', np.nanmean(kge_hs_all, axis=0))\n",
    "print('Non-hillslope mean KGE and its three components:', np.nanmean(kge_nhs_all, axis=0))"
   ]
  }
 ],
 "metadata": {
  "kernelspec": {
   "display_name": "Python [conda env:npl-2022b-tgq]",
   "language": "python",
   "name": "conda-env-npl-2022b-tgq-py"
  },
  "language_info": {
   "codemirror_mode": {
    "name": "ipython",
    "version": 3
   },
   "file_extension": ".py",
   "mimetype": "text/x-python",
   "name": "python",
   "nbconvert_exporter": "python",
   "pygments_lexer": "ipython3",
   "version": "3.8.13"
  }
 },
 "nbformat": 4,
 "nbformat_minor": 5
}
