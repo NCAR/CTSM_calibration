{
 "cells": [
  {
   "cell_type": "code",
   "execution_count": 1,
   "id": "c3fd80db-3774-48e6-bedd-9728d9250330",
   "metadata": {},
   "outputs": [],
   "source": [
    "import xarray as xr\n",
    "import numpy as np\n",
    "import glob, os, sys, toml\n",
    "import pandas as pd"
   ]
  },
  {
   "cell_type": "code",
   "execution_count": 2,
   "id": "c10e613a-842f-467a-b7aa-d1d7fac14a3d",
   "metadata": {},
   "outputs": [],
   "source": [
    "filesinfo = ['/glade/work/guoqiang/CTSM_cases/CAMELS_Calib/data_mesh_surf/HillslopeHydrology/CAMELS_level1_basin_info.csv', \n",
    "             '/glade/work/guoqiang/CTSM_cases/CAMELS_Calib/data_mesh_surf/HillslopeHydrology/CAMELS_level2_basin_info.csv',\n",
    "             '/glade/work/guoqiang/CTSM_cases/CAMELS_Calib/data_mesh_surf/HillslopeHydrology/CAMELS_level3_basin_info.csv']\n",
    "\n",
    "basins = []\n",
    "for i in range(627):\n",
    "    basins.append(f'level1_{i}')\n",
    "    \n",
    "for i in range(40):\n",
    "    basins.append(f'level2_{i}')\n",
    "    \n",
    "for i in range(4):\n",
    "    basins.append(f'level3_{i}')\n",
    "    \n",
    "\n",
    "levelnum = np.array([int(i[5]) for i in basins])\n",
    "basinnum = np.array([int(i.split('_')[1]) for i in basins])\n",
    "    \n",
    "cols = ['hru_id', 'lon_cen', 'lat_cen', 'elev_mean', 'latoutlet', 'lonoutlet', 'areaUSGS']\n",
    "basininfo = np.nan * np.zeros([len(levelnum), len(cols)]) # lat, lon, areaUSGS\n",
    "flag = 0\n",
    "for i in range(3):\n",
    "    dfi = pd.read_csv(filesinfo[i])\n",
    "    basinnumi = basinnum[levelnum==i+1]\n",
    "    for j in range(len(basinnumi)):\n",
    "        basininfo[flag, :] = dfi.loc[basinnumi[j], cols].values\n",
    "        flag = flag + 1"
   ]
  },
  {
   "cell_type": "code",
   "execution_count": 3,
   "id": "e92c38db-da32-4ed2-a6c3-2cdd1c06d860",
   "metadata": {},
   "outputs": [
    {
     "name": "stdout",
     "output_type": "stream",
     "text": [
      "0\n",
      "50\n",
      "100\n",
      "150\n",
      "200\n",
      "250\n",
      "300\n",
      "350\n",
      "400\n",
      "450\n",
      "500\n",
      "550\n",
      "600\n",
      "650\n"
     ]
    }
   ],
   "source": [
    "dsall = []\n",
    "\n",
    "# Loop over each basin\n",
    "for i in range(len(basins)):\n",
    "    \n",
    "    if np.mod(i,50)==0:\n",
    "        print(i)\n",
    "    \n",
    "    b = basins[i]\n",
    "    file = f'/glade/campaign/cgd/tss/people/guoqiang/CTSMcases/CAMELS_Calib/Calib_all_HH_Ostrich/{b}_Ostrich/archive_stats/Bestsimu1_QPT.nc'\n",
    "    \n",
    "    # Open the dataset\n",
    "    dsb = xr.open_dataset(file)\n",
    "    \n",
    "    # Add a new coordinate 'hru' to the dataset\n",
    "    dsb = dsb.assign_coords(hru=basininfo[i, 0])\n",
    "    \n",
    "    # Append the modified dataset to the list\n",
    "    dsall.append(dsb)\n",
    "\n",
    "# Concatenate all datasets along the new 'hru' dimension\n",
    "dsall = xr.concat(dsall, dim='hru')"
   ]
  },
  {
   "cell_type": "code",
   "execution_count": 4,
   "id": "6293985c-50fe-4426-b950-117d018510b5",
   "metadata": {},
   "outputs": [],
   "source": [
    "# Load calibration periods\n",
    "\n",
    "t1 = []\n",
    "t2 = []\n",
    "\n",
    "for i in range(len(basins)):\n",
    "    \n",
    "    b = basins[i]\n",
    "    b = b.replace('_', '-')\n",
    "    file = f'/glade/work/guoqiang/CTSM_cases/CAMELS_Calib/Calib_all_HH_Ostrich/configuration/_{b}_config_Ostrich.toml'\n",
    "    \n",
    "    config = toml.load(file)\n",
    "    RUN_STARTDATE = config['RUN_STARTDATE']\n",
    "    STOP_N = config['STOP_N']\n",
    "    # RUN_ENDDATE = pd\n",
    "    calibstart = pd.Timestamp(RUN_STARTDATE)\n",
    "    calibend = calibstart + pd.tseries.offsets.DateOffset(months=STOP_N)\n",
    "    t1.append(calibstart)\n",
    "    t2.append(calibend)\n",
    "    \n",
    "dsall['calibstart'] = xr.DataArray(t1, dims=('hru'))\n",
    "dsall['calibend'] = xr.DataArray(t2, dims=('hru'))"
   ]
  },
  {
   "cell_type": "code",
   "execution_count": 5,
   "id": "6d716fea-d767-4552-a783-7de9b0b4c8d3",
   "metadata": {},
   "outputs": [],
   "source": [
    "dsall = dsall.sortby('hru')\n",
    "outpath = '/glade/campaign/cgd/tss/people/guoqiang/CTSMcases/CAMELS_Calib/Calib_all_HH_Ostrich/analysis'\n",
    "os.makedirs(outpath, exist_ok=True)\n",
    "dsall.to_netcdf(f'{outpath}/CAMELS_Bestsimu1_QPT.nc')"
   ]
  },
  {
   "cell_type": "code",
   "execution_count": null,
   "id": "dca5995a-4e54-48cc-a6d8-a8b6792856f5",
   "metadata": {},
   "outputs": [],
   "source": []
  }
 ],
 "metadata": {
  "kernelspec": {
   "display_name": "NPL 2023b",
   "language": "python",
   "name": "npl-2023b"
  },
  "language_info": {
   "codemirror_mode": {
    "name": "ipython",
    "version": 3
   },
   "file_extension": ".py",
   "mimetype": "text/x-python",
   "name": "python",
   "nbconvert_exporter": "python",
   "pygments_lexer": "ipython3",
   "version": "3.10.12"
  }
 },
 "nbformat": 4,
 "nbformat_minor": 5
}
