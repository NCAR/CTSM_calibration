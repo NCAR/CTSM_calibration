{
 "cells": [
  {
   "cell_type": "code",
   "execution_count": 1,
   "id": "308dd7e1-0bb9-45ef-aafd-d4ab9f575c0b",
   "metadata": {},
   "outputs": [],
   "source": [
    "# chech parameter similarity for optimized parameters\n",
    "# Both LSE and DDS calibration"
   ]
  },
  {
   "cell_type": "code",
   "execution_count": 1,
   "id": "5f5efa8f-f524-4913-88a1-8e0fb26fb7cc",
   "metadata": {},
   "outputs": [
    {
     "name": "stderr",
     "output_type": "stream",
     "text": [
      "\n",
      "KeyboardInterrupt\n",
      "\n"
     ]
    }
   ],
   "source": [
    "import pandas as pd\n",
    "import numpy as np\n",
    "import matplotlib.pyplot as plt\n",
    "import os, sys, glob"
   ]
  },
  {
   "cell_type": "code",
   "execution_count": null,
   "id": "e6ebaf21-d9c5-4bda-8beb-7d57da435ce0",
   "metadata": {},
   "outputs": [],
   "source": [
    "ranks = [1, 3, 5, 10, 20]"
   ]
  },
  {
   "cell_type": "code",
   "execution_count": null,
   "id": "b5ecc645-7227-41ad-a345-794efcd419aa",
   "metadata": {},
   "outputs": [],
   "source": [
    "# DDS results\n",
    "\n",
    "tarbasin = 10\n",
    "\n",
    "infile_OstModel = f'/glade/campaign/cgd/tss/people/guoqiang/CTSM_CAMELS_proj/Calib_HH_Ostrich_kge/level1_{tarbasin}_OSTRICHcalib/archive/PreserveBestModel/OstModel0.txt'\n",
    "df_OstModel = pd.read_csv(infile_OstModel, delim_whitespace=True)\n",
    "df_OstModel['obj.function'] = - df_OstModel['obj.function'].values.astype(float) # some times there is NaN string\n",
    "\n",
    "\n",
    "indsort = np.argsort(-df_OstModel['obj.function'].values)\n",
    "df_sel = df_OstModel.iloc[indsort[ranks]]\n",
    "print('ObjFunc', df_sel['obj.function'].values)\n",
    "paramvalue_dds = df_sel.values[:,2:]\n",
    "paramname_dds = df_sel.columns[2:]"
   ]
  },
  {
   "cell_type": "code",
   "execution_count": null,
   "id": "9eca3d0a-1fe7-4aac-b1a4-02f1f791fb6b",
   "metadata": {},
   "outputs": [],
   "source": [
    "# LSE results\n",
    "# not finsihed yet\n",
    "\n",
    "tarbasin = 10\n",
    "\n",
    "# find a parameter set to run the model\n",
    "path0 = '/glade/campaign/cgd/tss/people/guoqiang/CTSM_CAMELS_proj/Calib_HH_MOASMO_bigrange'\n",
    "dfall = pd.DataFrame()\n",
    "for iter in range(0, 4):\n",
    "    filei = f'{path0}/level1_{tarbasin}_MOASMOcalib/ctsm_outputs_emutest/iter{iter}_many_metric.csv'\n",
    "    dfi = pd.read_csv(filei)\n",
    "    dfi['iter'] = iter\n",
    "    dfi['trial'] = np.arange(len(dfi))\n",
    "    dfall = pd.concat([dfall, dfi])\n",
    "\n",
    "# indi = np.nanargmax(dfall['kge'].values)\n",
    "tarmet = -dfall['kge'].values.copy()\n",
    "tarmet[np.isnan(tarmet)] = np.inf\n",
    "indsort = np.argsort(tarmet)\n",
    "\n",
    "df_sel = dfall.iloc[indsort[ranks]]\n",
    "print('ObjFunc', df_sel['kge'].values)"
   ]
  },
  {
   "cell_type": "code",
   "execution_count": null,
   "id": "b4c7178c-5e4a-4bde-a56e-3df2d671724e",
   "metadata": {},
   "outputs": [],
   "source": [
    "\n",
    "\n",
    "fig = plt.figure(figsize=[12, 10])\n",
    "for i in range(paramvalue.shape[1]):\n",
    "    fig.add_subplot(4, 5, i+1)\n",
    "    plt.plot(paramvalue[:,i], 'o-')\n",
    "    plt.xticks(np.arange(len(ranks)), ranks)\n",
    "    plt.xlabel('parameter rank')\n",
    "    plt.title(paramname[i])\n",
    "    \n",
    "plt.tight_layout()\n",
    "plt.show()"
   ]
  }
 ],
 "metadata": {
  "kernelspec": {
   "display_name": "NPL 2024b",
   "language": "python",
   "name": "npl-2024b"
  },
  "language_info": {
   "codemirror_mode": {
    "name": "ipython",
    "version": 3
   },
   "file_extension": ".py",
   "mimetype": "text/x-python",
   "name": "python",
   "nbconvert_exporter": "python",
   "pygments_lexer": "ipython3",
   "version": "3.11.9"
  }
 },
 "nbformat": 4,
 "nbformat_minor": 5
}
