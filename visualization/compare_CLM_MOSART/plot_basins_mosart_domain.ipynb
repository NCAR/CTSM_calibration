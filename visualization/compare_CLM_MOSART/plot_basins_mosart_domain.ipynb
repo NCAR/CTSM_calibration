{
 "cells": [
  {
   "cell_type": "code",
   "execution_count": 1,
   "id": "019d8c95-9dcb-4483-a18b-feb6ade1e55b",
   "metadata": {},
   "outputs": [],
   "source": [
    "# for each basin, plot basin bounds on the mosart domain subset"
   ]
  },
  {
   "cell_type": "code",
   "execution_count": 29,
   "id": "d7517dd6-3f30-4bef-ae09-12c03d974490",
   "metadata": {},
   "outputs": [],
   "source": [
    "import pandas as pd\n",
    "import numpy as np\n",
    "import os, sys, glob\n",
    "import matplotlib.pyplot as plt\n",
    "import xarray as xr\n",
    "from matplotlib.backends.backend_pdf import PdfPages\n",
    "from matplotlib.colors import LogNorm"
   ]
  },
  {
   "cell_type": "code",
   "execution_count": 4,
   "id": "90d99fd5-88e6-4264-b62b-1f6d42a9b2b3",
   "metadata": {},
   "outputs": [],
   "source": [
    "file = '/glade/work/guoqiang/CTSM_CAMELS/data_mesh_surf/HillslopeHydrology/CAMELS_level1_basin_info.csv'\n",
    "df_info = pd.read_csv(file)"
   ]
  },
  {
   "cell_type": "code",
   "execution_count": 25,
   "id": "2207326a-8588-4bb1-9d98-f4b03b0f4ee2",
   "metadata": {},
   "outputs": [],
   "source": [
    "# # plot basin location\n",
    "\n",
    "# for basin in range(len(df_info)):\n",
    "#     file = f'/glade/work/guoqiang/CTSM_CAMELS/data_mosart/CAMELS_level1_{basin}_MOSART_routing_0.125nldas2.nc'\n",
    "#     ds_mosart = xr.open_dataset(file)\n",
    "\n",
    "#     # plot\n",
    "\n",
    "#     # plot mosart total area\n",
    "#     ds_mosart['lon'] = ds_mosart.longxy.values[0,:]\n",
    "#     ds_mosart['areaTotal'] = ds_mosart['areaTotal'].where(ds_mosart['dnID'].values >= 0, np.nan)\n",
    "\n",
    "#     # plot basin\n",
    "#     latb = df_info.iloc[basin]['latoutlet']\n",
    "#     lonb = df_info.iloc[basin]['lonoutlet']\n",
    "    \n",
    "#     file_mesh = f'/glade/work/guoqiang/CTSM_CAMELS/data_mesh_surf/HillslopeHydrology/disaggregation/corrected_HCDN_nhru_final_671_buff_fix_holes.CAMELSandTDX_areabias_fix.simp0.001.level1_polygons_neighbor_group_esmf_mesh_{basin}.nc'\n",
    "#     ds_basin = xr.load_dataset(file_mesh)\n",
    "#     nodeCoords = ds_basin.nodeCoords.values\n",
    "    \n",
    "#     ds_mosart.areaTotal.plot()\n",
    "#     plt.scatter(nodeCoords[:,0]-360, nodeCoords[:,1], 10, color='pink')\n",
    "#     plt.scatter(lonb, latb, 50, color='r')\n",
    "#     plt.show()\n",
    "\n",
    "#     break"
   ]
  },
  {
   "cell_type": "code",
   "execution_count": 40,
   "id": "75a8a38d-4cd6-46d7-8ed0-14a2beaa023d",
   "metadata": {},
   "outputs": [],
   "source": [
    "pdf_filename = \"CAMELS_level1_MOSARTdomain.pdf\"\n",
    "with PdfPages(pdf_filename) as pdf:\n",
    "    for basin in range(len(df_info)):\n",
    "        file = f'/glade/work/guoqiang/CTSM_CAMELS/data_mosart/CAMELS_level1_{basin}_MOSART_routing_0.125nldas2.nc'\n",
    "        ds_mosart = xr.open_dataset(file)\n",
    "\n",
    "        # Plot MOSART total area\n",
    "        ds_mosart['lon'] = ds_mosart.longxy.values[0, :]\n",
    "        ds_mosart['areaTotal'] = ds_mosart['areaTotal'].where(ds_mosart['dnID'].values >= 0, np.nan)\n",
    "\n",
    "        # Get basin coordinates\n",
    "        latb = df_info.iloc[basin]['latoutlet']\n",
    "        lonb = df_info.iloc[basin]['lonoutlet']\n",
    "        \n",
    "        # Load basin mesh data\n",
    "        file_mesh = f'/glade/work/guoqiang/CTSM_CAMELS/data_mesh_surf/HillslopeHydrology/disaggregation/corrected_HCDN_nhru_final_671_buff_fix_holes.CAMELSandTDX_areabias_fix.simp0.001.level1_polygons_neighbor_group_esmf_mesh_{basin}.nc'\n",
    "        ds_basin = xr.load_dataset(file_mesh)\n",
    "        nodeCoords = ds_basin.nodeCoords.values\n",
    "        \n",
    "        # Plotting\n",
    "        plt.figure()\n",
    "        da = ds_mosart.areaTotal/1e6 # m2 to km2\n",
    "        usgsarea = df_info.iloc[basin]['areaUSGS']\n",
    "        da.plot(vmin=0, vmax=usgsarea*1.5, cmap='jet')\n",
    "        plt.scatter(nodeCoords[:, 0] - 360, nodeCoords[:, 1], 10, color='pink')\n",
    "        plt.scatter(lonb, latb, 50, color='k')\n",
    "        plt.title(f\"Basin {basin} - Area Total - USGSarea {usgsarea}\")\n",
    "        \n",
    "        # Save the current figure to the PDF\n",
    "        pdf.savefig()  # saves the current figure into a pdf page\n",
    "        plt.close()  # close the current figure"
   ]
  },
  {
   "cell_type": "code",
   "execution_count": null,
   "id": "ca774fce-b084-43af-a0dd-38165187add4",
   "metadata": {},
   "outputs": [],
   "source": []
  }
 ],
 "metadata": {
  "kernelspec": {
   "display_name": "NPL 2024b",
   "language": "python",
   "name": "npl-2024b"
  },
  "language_info": {
   "codemirror_mode": {
    "name": "ipython",
    "version": 3
   },
   "file_extension": ".py",
   "mimetype": "text/x-python",
   "name": "python",
   "nbconvert_exporter": "python",
   "pygments_lexer": "ipython3",
   "version": "3.11.9"
  }
 },
 "nbformat": 4,
 "nbformat_minor": 5
}
