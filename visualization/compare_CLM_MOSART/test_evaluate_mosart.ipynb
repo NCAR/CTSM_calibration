{
 "cells": [
  {
   "cell_type": "code",
   "execution_count": 1,
   "id": "dd89cb55-04eb-41f0-868a-5c5bf685e050",
   "metadata": {},
   "outputs": [],
   "source": [
    "import pandas as pd\n",
    "import numpy as np\n",
    "import os, sys, glob\n",
    "import matplotlib.pyplot as plt\n",
    "import xarray as xr\n",
    "\n",
    "sys.path.append('../../src/MOASMO_support')\n",
    "from mo_evaluation import mo_evaluate_return_many_metrics_mosart"
   ]
  },
  {
   "cell_type": "code",
   "execution_count": 2,
   "id": "3a642be8-a395-4c97-ad7b-b8a05d4252ee",
   "metadata": {},
   "outputs": [
    {
     "name": "stdout",
     "output_type": "stream",
     "text": [
      "Use streamflow reference file: /glade/work/guoqiang/CTSM_CAMELS/CAMLES_Qobs/01013500_streamflow_qc.txt\n"
     ]
    }
   ],
   "source": [
    "\n",
    "date_start = '2009-10-01'\n",
    "date_end = '2014-09-30'\n",
    "ref_streamflow = '/glade/work/guoqiang/CTSM_CAMELS/CAMLES_Qobs/01013500_streamflow_qc.txt'\n",
    "outfile_metric = 'test3.csv'\n",
    "CTSMfilelist = glob.glob('/glade/derecho/scratch/guoqiang/CTSM_outputs/CAMELS_Calib/Calib_HH_emulator/level1_0/level1_0/run/level1_0.mosart.h1.*.nc')\n",
    "CTSMfilelist.sort()\n",
    "mo_evaluate_return_many_metrics_mosart(outfile_metric, CTSMfilelist, date_start, date_end, ref_streamflow)"
   ]
  },
  {
   "cell_type": "code",
   "execution_count": null,
   "id": "7e971bfe-32d4-4646-9a00-f7c15e8b4a88",
   "metadata": {},
   "outputs": [],
   "source": []
  }
 ],
 "metadata": {
  "kernelspec": {
   "display_name": "NPL 2024b",
   "language": "python",
   "name": "npl-2024b"
  },
  "language_info": {
   "codemirror_mode": {
    "name": "ipython",
    "version": 3
   },
   "file_extension": ".py",
   "mimetype": "text/x-python",
   "name": "python",
   "nbconvert_exporter": "python",
   "pygments_lexer": "ipython3",
   "version": "3.11.9"
  }
 },
 "nbformat": 4,
 "nbformat_minor": 5
}
